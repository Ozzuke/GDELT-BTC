{
 "nbformat": 4,
 "nbformat_minor": 0,
 "metadata": {
  "colab": {
   "provenance": [],
   "include_colab_link": true
  },
  "kernelspec": {
   "name": "python3",
   "display_name": "Python 3 (ipykernel)",
   "language": "python"
  },
  "language_info": {
   "name": "python"
  }
 },
 "cells": [
  {
   "cell_type": "markdown",
   "metadata": {
    "id": "view-in-github",
    "colab_type": "text"
   },
   "source": [
    "<a href=\"https://colab.research.google.com/github/Ozzuke/GDELT-BTC/blob/main/analysis.ipynb\" target=\"_parent\"><img src=\"https://colab.research.google.com/assets/colab-badge.svg\" alt=\"Open In Colab\"/></a>"
   ]
  },
  {
   "cell_type": "markdown",
   "source": [
    "# Correlating significant world events to changes in Bitcoin price\n",
    "Osvald Nigola & Leo-Martin Pala, 2024"
   ],
   "metadata": {
    "id": "fUaFHgdUCwtp"
   }
  },
  {
   "metadata": {},
   "cell_type": "markdown",
   "source": [
    "## Abstract\n",
    "\n",
    "This project explores the relationship between global events and cryptocurrency markets by analyzing GDELT Events 2.0 data and Bitcoin price movements from 2019 to 2023. Using data science techniques and statistical analysis, we investigate whether significant world events can predict or correlate with Bitcoin price fluctuations. Our research contributes to understanding the external factors influencing cryptocurrency markets and their relationship with global events."
   ]
  },
  {
   "metadata": {},
   "cell_type": "markdown",
   "source": [
    "## Table of contents\n",
    "\n",
    "1. Introduction\n",
    "2. Data Sources and Preprocessing\n",
    "   - GDELT dataset\n",
    "   - Bitcoin price data\n",
    "3. Exploratory Data Analysis\n",
    "4. Methodology\n",
    "5. Analysis and Results\n",
    "6. Discussion\n",
    "7. Conclusion\n",
    "8. References"
   ]
  },
  {
   "metadata": {},
   "cell_type": "markdown",
   "source": [
    "# 1. Introduction\n",
    "The cryptocurrency market is known for its high volatility, with Bitcoin prices capable of dramatic shifts within hours or even minutes. This inherent volatility suggests that the market might be particularly responsive to external stimuli, including significant world events. While various factors such as market sentiment, technological developments, and regulatory changes are known to influence cryptocurrency prices, the relationship between global events and Bitcoin price movements remains less thoroughly explored. This project, conducted as part of the \"Introduction to Data Science\" course at the University of Tartu in the autumn semester of 2024, aims to investigate whether and how major world events captured in the GDELT Events 2.0 database correlate with Bitcoin price fluctuations during the period of 2019-2023."
   ]
  },
  {
   "metadata": {},
   "cell_type": "markdown",
   "source": [
    "# 2. Data Sources and Preprocessing\n",
    "The analysis in this project is based on two primary datasets: the GDELT Events 2.0 dataset and Bitcoin price data. The GDELT dataset provides information on significant world events, including the actors involved, event types, locations, and other relevant details. The Bitcoin price data captures the minute-by-minute price movements of Bitcoin over the same period. In this section, we describe the data sources, their preprocessing steps, and the resulting datasets used for the analysis."
   ]
  },
  {
   "metadata": {},
   "cell_type": "markdown",
   "source": "## Data Sources"
  },
  {
   "cell_type": "markdown",
   "source": [
    "### GDELT dataset\n",
    "The GDELT dataset is huge and processing it as a whole would not be possible in the scope of this project. The reduced size GDELT data was obtained from Google BigQuery using the following query:\n",
    "```sql\n",
    "SELECT\n",
    "  SQLDATE,\n",
    "  Actor1CountryCode,\n",
    "  Actor1Type1Code,\n",
    "  Actor2CountryCode,\n",
    "  Actor2Type1Code,\n",
    "  IsRootEvent,\n",
    "  EventCode,\n",
    "  QuadClass,\n",
    "  GoldsteinScale,\n",
    "  NumMentions,\n",
    "  NumSources,\n",
    "  NumArticles,\n",
    "  AvgTone,\n",
    "  Actor1Geo_CountryCode,\n",
    "  Actor2Geo_CountryCode,\n",
    "  ActionGeo_ADM1Code\n",
    "FROM `gdelt-bq.gdeltv2.events`\n",
    "WHERE\n",
    "  SQLDATE BETWEEN 20190101 AND 20231231\n",
    "  AND NumArticles > 10  -- Basic significance filter\n",
    "  AND NumMentions > 5  -- Basic mention filter\n",
    "```\n",
    "It includes world events from 2019-2023 and is less than 600MB in size. Not all columns were used in the analysis. The query cost in BigQuery was about 70GB and the data was exported to GitHub LFS for easier access."
   ],
   "metadata": {
    "id": "qlEz3MGwC7H8"
   }
  },
  {
   "metadata": {},
   "cell_type": "markdown",
   "source": [
    "#### GDELT data description post-processed\n",
    "Columns which were not used in the analysis are not listed here. The column names and dtypes may differ from the original dataset due to post-processing. This is the final form of the dataset used in the analysis.\n",
    "- **date** (*datetime*) : The date of the event in YYYYMMDD format.  \n",
    "- **Actor1CountryCode** (*string*) : The 3-character CAMEO code for the country affiliation of Actor1. May be blank if the system was unable to identify an Actor1 or determine its country affiliation (such as “UNIDENTIFIED GUNMEN”).  \n",
    "- **Actor1Type1Code** (*string*) : The 3-character CAMEO code of the CAMEO “type” or “role” of Actor1, if specified. This can be a specific role such as Police Forces, Government, Military, Political Opposition, Rebels, etc, a broad role class such as Education, Elites, Media, Refugees, or organizational classes like Non-Governmental Movement. Special codes such as Moderate and Radical may refer to the operational strategy of a group.  \n",
    "- **Actor1Geo_CountryCode** (*string*) : This is the 2-character FIPS10-4 country code for the location.  \n",
    "- **Actor2CountryCode** (*string*) : ... for Actor2.  \n",
    "- **Actor2Type1Code** (*string*) : ... for Actor2.  \n",
    "- **Actor2Geo_CountryCode** (*string*) : ... for Actor2.  \n",
    "- **Actor1Geo_ADM1Code** (*string*) : This is the 2-character FIPS10-4 country code followed by the 2-character FIPS10-4 administrative division 1 (ADM1) code for the administrative division housing the landmark. In the case of the United States, this is the 2-character shortform of the state’s name (such as “TX” for Texas).  \n",
    "- **IsRootEvent** (*int*) : The system codes every event found in an entire document, using an array of techniques to deference and link information together. A number of previous projects such as the ICEWS initiative have found that events occurring in the lead paragraph of adocument tend to be the most “important.” This flag can therefore be used as a proxy for the rough importance of an event to create subsets of the event stream.\n",
    "- **EventCode** (*string*) : This is the raw CAMEO action code describing the action that Actor1 performed upon Actor2. This is the most detailed coding of the action that is possible.  \n",
    "- **QuadClass** (*int*) : The QuadClass field is a CAMEO code field that identifies the general category of the type of action that Actor1 performed upon Actor2. (1=Verbal Cooperation, 2=Material Cooperation, 3=Verbal Conflict, 4=Material Conflict)  \n",
    "- **GoldsteinScale** (*float*) : Each CAMEO event code is assigned a numeric score from -10 to +10, capturing the theoretical potential impact that type of event will have on the stability of a country. This is known as the Goldstein Scale. This field specifies the Goldstein score for each event type.  \n",
    "- **NumMentions** (*int*) : This is the total number of mentions of this event across all source documents during the 15 minute update in which it was first seen. Multiple references to an event within a single document also contribute to this count. This can be used as a method of assessing the “importance” of an event: the more discussion of that event, the more likely it is to be significant. The total universe of source documents and the density of events within them vary over time, so it is recommended that this field be normalized by the average or other measure of the universe of events during the time period of interest. This field is actually a composite score of the total number of raw mentions and the number of mentions extracted from reprocessed versions of each article (see the discussion for the Mentions table).  \n",
    "- **NumSources** (*int*) : This is the total number of information sources containing one or more mentions of this event during the 15 minute update in which it was first seen. This can be used as a method of assessing the “importance” of an event: the more discussion of that event, the more likely it is to be significant. The total universe of sources varies over time, so it is recommended that this field be normalized by the average or other measure of the universe of events during the time period of interest.  \n",
    "- **NumArticles** (*int*) : This is the total number of source documents containing one or more mentions of this event during the 15 minute update in which it was first seen. This can be used as a method of assessing the “importance” of an event: the more discussion of that event, the more likely it is to be significant. The total universe of source documents varies over time, so it is recommended that this field be normalized by the average or other measure of the universe of events during the time period of interest.  \n",
    "- **AvgTone** (*numeric*) : This is the average “tone” of all documents containing one or more mentions of this event during the 15 minute update in which it was first seen. The score ranges from -100 (extremely negative) to +100 (extremely positive). Common values range between -10 and +10, with 0 indicating neutral. This can be used as a method of filtering the “context” of events as a subtle measure of the importance of an event and as a proxy for the “impact” of that event. For example, a riot event with a slightly negative average tone is likely to have been a minor occurrence, whereas if it had an extremely negative average tone, it suggests a far more serious occurrence. A riot with a positive score likely suggests a very minor  occurrence described in the context of a more positive narrative (such as a report of an attack occurring in a discussion of improving conditions on the ground in a country and how the number of attacks per day has been greatly reduced).  \n",
    "\n",
    "Reference: [GDELT Event Codebook V2.0](http://data.gdeltproject.org/documentation/GDELT-Event_Codebook-V2.0.pdf).\n",
    "\n",
    "Some descriptions are shortened or changed for clarity. The codebook details the full descriptions of columns in the dataset, many of which were not used in this analysis and therefore not included here."
   ]
  },
  {
   "metadata": {},
   "cell_type": "markdown",
   "source": [
    "### Bitcoin price dataset\n",
    "The data includes minute-by-minute price data for Bitcoin from 2012 to 2023 and was obtained from [Kaggle](https://www.kaggle.com/datasets/mczielinski/bitcoin-historical-data). The dataset is about 350MB in size and includes the following columns:\n",
    "- **Timestamp** (*int*) : Start time of time window (60s window), in Unix time seconds\n",
    "- **Open** (*float*) : Price at the start of the time window\n",
    "- **High** (*float*) : Highest price during the time window\n",
    "- **Low** (*float*) : Lowest price during the time window\n",
    "- **Close** (*float*) : Price at the end of the time window\n",
    "- **Volume** (*float*) : Amount of Bitcoin traded during the time window"
   ]
  },
  {
   "metadata": {},
   "cell_type": "markdown",
   "source": [
    "#### Bitcoin price dataset post-processed\n",
    "The dataset was preprocessed to a more usable format for the analysis. This is the final form of the dataset used in the analysis.\n",
    "- **date** (*datetime*) : The date of the price data.\n",
    "- **Open** (*float*) : Price at the start of the time window.\n",
    "- **High** (*float*) : Highest price during the time window.\n",
    "- **Low** (*float*) : Lowest price during the time window.\n",
    "- **Close** (*float*) : Price at the end of the time window.\n",
    "- **Volume** (*float*) : Amount of Bitcoin traded during the time window.\n",
    "- **Change** (*float*) : Change in price from Open to Close.\n",
    "- **Change%** (*float*) : Percentage change in price from Open to Close.\n",
    "- **Fluctuation** (*float*) : Difference between High and Low prices.\n",
    "- **Fluctuation%** (*float*) : Percentage fluctuation between High and Low prices."
   ]
  },
  {
   "metadata": {},
   "cell_type": "markdown",
   "source": [
    "## Loading data\n",
    "The data is loaded from GitHub and cached locally to speed up the process."
   ]
  },
  {
   "metadata": {
    "id": "jxd-ppp0jIJu",
    "ExecuteTime": {
     "end_time": "2024-11-09T20:29:10.599073Z",
     "start_time": "2024-11-09T20:29:10.592383Z"
    }
   },
   "cell_type": "code",
   "source": [
    "from xml.etree.ElementInclude import include\n",
    "\n",
    "import pandas as pd\n",
    "import numpy as np\n",
    "import matplotlib.pyplot as plt\n",
    "import seaborn as sns\n",
    "import os\n",
    "\n",
    "from holoviews.plotting.bokeh.styles import alpha, color"
   ],
   "outputs": [],
   "execution_count": 192
  },
  {
   "metadata": {
    "id": "ErpG6HPRjJ5e",
    "ExecuteTime": {
     "end_time": "2024-11-09T20:29:10.619487Z",
     "start_time": "2024-11-09T20:29:10.610701Z"
    }
   },
   "cell_type": "code",
   "source": [
    "gdelt_data_url = 'https://github.com/Ozzuke/GDELT-BTC/raw/refs/heads/main/datasets/GDELT_significant_events.csv'\n",
    "bitcoin_data_url = 'https://github.com/Ozzuke/GDELT-BTC/raw/refs/heads/main/datasets/BTC_USD_1min.csv'"
   ],
   "outputs": [],
   "execution_count": 193
  },
  {
   "metadata": {
    "id": "vyxVpvITNkvq",
    "ExecuteTime": {
     "end_time": "2024-11-09T20:29:10.695061Z",
     "start_time": "2024-11-09T20:29:10.684827Z"
    }
   },
   "cell_type": "code",
   "source": [
    "def load_cached_data(url, cache_name, csv_sep=',', df_dtype=None):\n",
    "    \"\"\"\n",
    "    Load data from cache if it exists, otherwise download and cache it\n",
    "    \"\"\"\n",
    "    cache_file = f'cache/{cache_name}.parquet'\n",
    "\n",
    "    # Check if cache directory exists\n",
    "    if not os.path.exists('cache'):\n",
    "        os.makedirs('cache')\n",
    "    \n",
    "    # Check if cache exists\n",
    "    if os.path.exists(cache_file):\n",
    "        print(f\"Loading {cache_name} from cache...\")\n",
    "        return pd.read_parquet(cache_file)\n",
    "\n",
    "    # If no cache, download and create cache\n",
    "    print(f\"Downloading {cache_name} from GitHub...\")\n",
    "    if df_dtype is None:\n",
    "        df = pd.read_csv(url, sep=csv_sep)\n",
    "    else:\n",
    "        df = pd.read_csv(url, sep=csv_sep, dtype=df_dtype)\n",
    "\n",
    "    # Save to cache\n",
    "    print(f\"Creating cache for {cache_name}...\")\n",
    "    df.to_parquet(cache_file)\n",
    "\n",
    "    return df"
   ],
   "outputs": [],
   "execution_count": 194
  },
  {
   "metadata": {
    "colab": {
     "base_uri": "https://localhost:8080/"
    },
    "id": "bPv7DK4Qjr74",
    "outputId": "083d4799-e328-4d11-db26-e852dafd9d5c",
    "ExecuteTime": {
     "end_time": "2024-11-09T20:29:16.647944Z",
     "start_time": "2024-11-09T20:29:10.717596Z"
    }
   },
   "cell_type": "code",
   "source": [
    "gdelt = load_cached_data(gdelt_data_url, 'gdelt_cache', csv_sep='\\t', df_dtype='str')\n",
    "bitcoin = load_cached_data(bitcoin_data_url, 'bitcoin_cache')"
   ],
   "outputs": [
    {
     "name": "stdout",
     "output_type": "stream",
     "text": [
      "Loading gdelt_cache from cache...\n",
      "Loading bitcoin_cache from cache...\n"
     ]
    }
   ],
   "execution_count": 195
  },
  {
   "metadata": {},
   "cell_type": "markdown",
   "source": [
    "## Data preprocessing\n",
    "The data is preprocessed to be in a more usable format for the analysis."
   ]
  },
  {
   "metadata": {},
   "cell_type": "markdown",
   "source": "### GDELT data preprocessing"
  },
  {
   "metadata": {
    "colab": {
     "base_uri": "https://localhost:8080/",
     "height": 313
    },
    "id": "yamiDzCmkJ41",
    "outputId": "931f2ec0-a492-46d9-a195-0f4cbf77823b",
    "ExecuteTime": {
     "end_time": "2024-11-09T20:29:16.701228Z",
     "start_time": "2024-11-09T20:29:16.688026Z"
    }
   },
   "cell_type": "code",
   "source": "gdelt.head()",
   "outputs": [
    {
     "data": {
      "text/plain": [
       "    SQLDATE Actor1CountryCode Actor1Type1Code Actor2CountryCode  \\\n",
       "0  20230801               EUR            None               AFR   \n",
       "1  20200729              None            None              None   \n",
       "2  20200406              None             MED              None   \n",
       "3  20200615              None             UAF               USA   \n",
       "4  20190130              None             GOV               AFG   \n",
       "\n",
       "  Actor2Type1Code IsRootEvent EventCode QuadClass GoldsteinScale NumMentions  \\\n",
       "0            None           1       051         1            3.4          20   \n",
       "1            None           1       020         1            3.0          42   \n",
       "2            None           1       046         1            7.0          20   \n",
       "3            None           1       193         4          -10.0          44   \n",
       "4            None           0       110         3           -2.0          16   \n",
       "\n",
       "  NumSources NumArticles            AvgTone Actor1Geo_CountryCode  \\\n",
       "0          2          20   3.34501467963848                    EG   \n",
       "1          1          42  -3.35492704288747                    AU   \n",
       "2          2          20   1.13636363636363                    TU   \n",
       "3          1          24  -8.62490241207734                    US   \n",
       "4          4          16  -2.22138313668064                    US   \n",
       "\n",
       "  Actor2Geo_CountryCode ActionGeo_ADM1Code       DateAdded  \n",
       "0                    EG               EG02  20230801153000  \n",
       "1                  None                 AU  20200729104500  \n",
       "2                  None               TU34  20200406104500  \n",
       "3                    US               USTX  20200615143000  \n",
       "4                    AF               USDC  20190130143000  "
      ],
      "text/html": [
       "<div>\n",
       "<style scoped>\n",
       "    .dataframe tbody tr th:only-of-type {\n",
       "        vertical-align: middle;\n",
       "    }\n",
       "\n",
       "    .dataframe tbody tr th {\n",
       "        vertical-align: top;\n",
       "    }\n",
       "\n",
       "    .dataframe thead th {\n",
       "        text-align: right;\n",
       "    }\n",
       "</style>\n",
       "<table border=\"1\" class=\"dataframe\">\n",
       "  <thead>\n",
       "    <tr style=\"text-align: right;\">\n",
       "      <th></th>\n",
       "      <th>SQLDATE</th>\n",
       "      <th>Actor1CountryCode</th>\n",
       "      <th>Actor1Type1Code</th>\n",
       "      <th>Actor2CountryCode</th>\n",
       "      <th>Actor2Type1Code</th>\n",
       "      <th>IsRootEvent</th>\n",
       "      <th>EventCode</th>\n",
       "      <th>QuadClass</th>\n",
       "      <th>GoldsteinScale</th>\n",
       "      <th>NumMentions</th>\n",
       "      <th>NumSources</th>\n",
       "      <th>NumArticles</th>\n",
       "      <th>AvgTone</th>\n",
       "      <th>Actor1Geo_CountryCode</th>\n",
       "      <th>Actor2Geo_CountryCode</th>\n",
       "      <th>ActionGeo_ADM1Code</th>\n",
       "      <th>DateAdded</th>\n",
       "    </tr>\n",
       "  </thead>\n",
       "  <tbody>\n",
       "    <tr>\n",
       "      <th>0</th>\n",
       "      <td>20230801</td>\n",
       "      <td>EUR</td>\n",
       "      <td>None</td>\n",
       "      <td>AFR</td>\n",
       "      <td>None</td>\n",
       "      <td>1</td>\n",
       "      <td>051</td>\n",
       "      <td>1</td>\n",
       "      <td>3.4</td>\n",
       "      <td>20</td>\n",
       "      <td>2</td>\n",
       "      <td>20</td>\n",
       "      <td>3.34501467963848</td>\n",
       "      <td>EG</td>\n",
       "      <td>EG</td>\n",
       "      <td>EG02</td>\n",
       "      <td>20230801153000</td>\n",
       "    </tr>\n",
       "    <tr>\n",
       "      <th>1</th>\n",
       "      <td>20200729</td>\n",
       "      <td>None</td>\n",
       "      <td>None</td>\n",
       "      <td>None</td>\n",
       "      <td>None</td>\n",
       "      <td>1</td>\n",
       "      <td>020</td>\n",
       "      <td>1</td>\n",
       "      <td>3.0</td>\n",
       "      <td>42</td>\n",
       "      <td>1</td>\n",
       "      <td>42</td>\n",
       "      <td>-3.35492704288747</td>\n",
       "      <td>AU</td>\n",
       "      <td>None</td>\n",
       "      <td>AU</td>\n",
       "      <td>20200729104500</td>\n",
       "    </tr>\n",
       "    <tr>\n",
       "      <th>2</th>\n",
       "      <td>20200406</td>\n",
       "      <td>None</td>\n",
       "      <td>MED</td>\n",
       "      <td>None</td>\n",
       "      <td>None</td>\n",
       "      <td>1</td>\n",
       "      <td>046</td>\n",
       "      <td>1</td>\n",
       "      <td>7.0</td>\n",
       "      <td>20</td>\n",
       "      <td>2</td>\n",
       "      <td>20</td>\n",
       "      <td>1.13636363636363</td>\n",
       "      <td>TU</td>\n",
       "      <td>None</td>\n",
       "      <td>TU34</td>\n",
       "      <td>20200406104500</td>\n",
       "    </tr>\n",
       "    <tr>\n",
       "      <th>3</th>\n",
       "      <td>20200615</td>\n",
       "      <td>None</td>\n",
       "      <td>UAF</td>\n",
       "      <td>USA</td>\n",
       "      <td>None</td>\n",
       "      <td>1</td>\n",
       "      <td>193</td>\n",
       "      <td>4</td>\n",
       "      <td>-10.0</td>\n",
       "      <td>44</td>\n",
       "      <td>1</td>\n",
       "      <td>24</td>\n",
       "      <td>-8.62490241207734</td>\n",
       "      <td>US</td>\n",
       "      <td>US</td>\n",
       "      <td>USTX</td>\n",
       "      <td>20200615143000</td>\n",
       "    </tr>\n",
       "    <tr>\n",
       "      <th>4</th>\n",
       "      <td>20190130</td>\n",
       "      <td>None</td>\n",
       "      <td>GOV</td>\n",
       "      <td>AFG</td>\n",
       "      <td>None</td>\n",
       "      <td>0</td>\n",
       "      <td>110</td>\n",
       "      <td>3</td>\n",
       "      <td>-2.0</td>\n",
       "      <td>16</td>\n",
       "      <td>4</td>\n",
       "      <td>16</td>\n",
       "      <td>-2.22138313668064</td>\n",
       "      <td>US</td>\n",
       "      <td>AF</td>\n",
       "      <td>USDC</td>\n",
       "      <td>20190130143000</td>\n",
       "    </tr>\n",
       "  </tbody>\n",
       "</table>\n",
       "</div>"
      ]
     },
     "execution_count": 196,
     "metadata": {},
     "output_type": "execute_result"
    }
   ],
   "execution_count": 196
  },
  {
   "metadata": {
    "id": "QuJwKMhEkkQv",
    "colab": {
     "base_uri": "https://localhost:8080/"
    },
    "outputId": "1da5691e-bb36-46a8-d9a1-8a425e22cd05",
    "ExecuteTime": {
     "end_time": "2024-11-09T20:29:19.869622Z",
     "start_time": "2024-11-09T20:29:16.782258Z"
    }
   },
   "cell_type": "code",
   "source": [
    "# drop rows that are not root events as they are less significant\n",
    "print(f\"Before dropping non-root events:\\t{gdelt.shape[0]}\")\n",
    "gdelt = gdelt[gdelt.IsRootEvent == '1']\n",
    "print(f\"After dropping non-root events: \\t{gdelt.shape[0]}\")\n",
    "gdelt = gdelt.drop(columns=['IsRootEvent'])"
   ],
   "outputs": [
    {
     "name": "stdout",
     "output_type": "stream",
     "text": [
      "Before dropping non-root events:\t7428230\n",
      "After dropping non-root events: \t5154272\n"
     ]
    }
   ],
   "execution_count": 197
  },
  {
   "metadata": {
    "id": "tY46R11sFBs5",
    "ExecuteTime": {
     "end_time": "2024-11-09T20:29:31.800610Z",
     "start_time": "2024-11-09T20:29:19.901472Z"
    }
   },
   "cell_type": "code",
   "source": [
    "# convert SQLDATE to datetime\n",
    "gdelt = gdelt.rename(columns={'SQLDATE': 'date'})\n",
    "gdelt['date'] = pd.to_datetime(gdelt['date'], format='%Y%m%d')\n",
    "\n",
    "# convert numeric columns to numeric\n",
    "gdelt['GoldsteinScale'] = pd.to_numeric(gdelt['GoldsteinScale'], errors='coerce')\n",
    "gdelt['NumMentions'] = pd.to_numeric(gdelt['NumMentions'], errors='coerce')\n",
    "gdelt['NumSources'] = pd.to_numeric(gdelt['NumSources'], errors='coerce')\n",
    "gdelt['NumArticles'] = pd.to_numeric(gdelt['NumArticles'], errors='coerce')\n",
    "gdelt['AvgTone'] = pd.to_numeric(gdelt['AvgTone'], errors='coerce')\n",
    "\n",
    "# convert categorical columns to categorical\n",
    "gdelt['Actor1CountryCode'] = gdelt['Actor1CountryCode'].astype('category')\n",
    "gdelt['Actor1Type1Code'] = gdelt['Actor1Type1Code'].astype('category')\n",
    "gdelt['Actor2CountryCode'] = gdelt['Actor2CountryCode'].astype('category')\n",
    "gdelt['Actor2Type1Code'] = gdelt['Actor2Type1Code'].astype('category')\n",
    "gdelt['QuadClass'] = gdelt['QuadClass'].astype('category')\n",
    "gdelt['Actor1Geo_CountryCode'] = gdelt['Actor1Geo_CountryCode'].astype('category')\n",
    "gdelt['Actor2Geo_CountryCode'] = gdelt['Actor2Geo_CountryCode'].astype('category')\n",
    "gdelt['ActionGeo_ADM1Code'] = gdelt['ActionGeo_ADM1Code'].astype('category')"
   ],
   "outputs": [],
   "execution_count": 198
  },
  {
   "metadata": {
    "ExecuteTime": {
     "end_time": "2024-11-09T20:29:32.622383Z",
     "start_time": "2024-11-09T20:29:31.804884Z"
    }
   },
   "cell_type": "code",
   "source": [
    "# drop where eventcode is not numeric\n",
    "gdelt = gdelt[gdelt.EventCode.str.isnumeric()]"
   ],
   "outputs": [],
   "execution_count": 199
  },
  {
   "metadata": {
    "ExecuteTime": {
     "end_time": "2024-11-09T20:29:33.020384Z",
     "start_time": "2024-11-09T20:29:32.635471Z"
    }
   },
   "cell_type": "code",
   "source": "print(f\"dropna would reduce rows {gdelt.shape[0]} -> {gdelt.dropna().shape[0]}\")",
   "outputs": [
    {
     "name": "stdout",
     "output_type": "stream",
     "text": [
      "dropna would reduce rows 5154269 -> 48712\n"
     ]
    }
   ],
   "execution_count": 200
  },
  {
   "metadata": {},
   "cell_type": "markdown",
   "source": "This is a significant reduction, so we will keep the rest of the missing values for now."
  },
  {
   "metadata": {
    "id": "Ofr3GtD_leT_",
    "colab": {
     "base_uri": "https://localhost:8080/",
     "height": 487
    },
    "outputId": "dac0a165-fd4a-4c7a-8841-e685aae0679b",
    "ExecuteTime": {
     "end_time": "2024-11-09T20:29:33.710516Z",
     "start_time": "2024-11-09T20:29:33.040518Z"
    }
   },
   "cell_type": "code",
   "source": [
    "gdelt.date.hist(bins=100)\n",
    "plt.xlim([pd.Timestamp('2019-01-01'), pd.Timestamp('2024-01-01')])\n",
    "plt.grid(True, alpha=0.3)\n",
    "plt.xlabel('Date')\n",
    "plt.ylabel('Number of events')\n",
    "plt.title('Distribution of events in GDELT data by date')\n",
    "plt.show()"
   ],
   "outputs": [
    {
     "data": {
      "text/plain": [
       "<Figure size 640x480 with 1 Axes>"
      ],
      "image/png": "[encoded data removed]"
     },
     "metadata": {},
     "output_type": "display_data"
    }
   ],
   "execution_count": 201
  },
  {
   "metadata": {},
   "cell_type": "markdown",
   "source": "We can see that the number of events tends to slowly decrease over time, but there are no significant gaps in the data."
  },
  {
   "metadata": {
    "ExecuteTime": {
     "end_time": "2024-11-09T20:29:35.902293Z",
     "start_time": "2024-11-09T20:29:33.727522Z"
    }
   },
   "cell_type": "code",
   "source": [
    "description_df = gdelt.describe(include='all').T\n",
    "description_df['present'] = description_df['count'] / gdelt.shape[0] * 100\n",
    "description_df['present'] = description_df['present'].astype(int).astype(str) + '%'\n",
    "description_df['share'] = description_df['freq'] / gdelt.shape[0]"
   ],
   "outputs": [],
   "execution_count": 202
  },
  {
   "metadata": {
    "ExecuteTime": {
     "end_time": "2024-11-09T20:29:35.923596Z",
     "start_time": "2024-11-09T20:29:35.914303Z"
    }
   },
   "cell_type": "code",
   "source": "description_df",
   "outputs": [
    {
     "data": {
      "text/plain": [
       "                           count  unique             top     freq  \\\n",
       "date                     5154269     NaN             NaN      NaN   \n",
       "Actor1CountryCode        2312848     218             USA   495206   \n",
       "Actor1Type1Code          2694939      32             GOV   849116   \n",
       "Actor2CountryCode        1687063     218             USA   319636   \n",
       "Actor2Type1Code          1823482      32             GOV   523212   \n",
       "EventCode                5154269     252             010   394719   \n",
       "QuadClass                5154269       4               1  3113515   \n",
       "GoldsteinScale         5154246.0     NaN             NaN      NaN   \n",
       "NumMentions            5154269.0     NaN             NaN      NaN   \n",
       "NumSources             5154269.0     NaN             NaN      NaN   \n",
       "NumArticles            5154269.0     NaN             NaN      NaN   \n",
       "AvgTone                5154269.0     NaN             NaN      NaN   \n",
       "Actor1Geo_CountryCode    4289013     247              US   859729   \n",
       "Actor2Geo_CountryCode    3029840     247              US   590729   \n",
       "ActionGeo_ADM1Code       4845197    3932              RS   187665   \n",
       "DateAdded                5154269  174686  20211031014500     1028   \n",
       "\n",
       "                                                mean                  min  \\\n",
       "date                   2021-04-08 20:48:06.384392448  2019-01-01 00:00:00   \n",
       "Actor1CountryCode                                NaN                  NaN   \n",
       "Actor1Type1Code                                  NaN                  NaN   \n",
       "Actor2CountryCode                                NaN                  NaN   \n",
       "Actor2Type1Code                                  NaN                  NaN   \n",
       "EventCode                                        NaN                  NaN   \n",
       "QuadClass                                        NaN                  NaN   \n",
       "GoldsteinScale                              0.503901                -10.0   \n",
       "NumMentions                                22.192037                 11.0   \n",
       "NumSources                                  2.295579                  1.0   \n",
       "NumArticles                                21.516381                 11.0   \n",
       "AvgTone                                    -2.151265           -38.709677   \n",
       "Actor1Geo_CountryCode                            NaN                  NaN   \n",
       "Actor2Geo_CountryCode                            NaN                  NaN   \n",
       "ActionGeo_ADM1Code                               NaN                  NaN   \n",
       "DateAdded                                        NaN                  NaN   \n",
       "\n",
       "                                       25%                  50%  \\\n",
       "date                   2019-12-11 00:00:00  2021-02-21 00:00:00   \n",
       "Actor1CountryCode                      NaN                  NaN   \n",
       "Actor1Type1Code                        NaN                  NaN   \n",
       "Actor2CountryCode                      NaN                  NaN   \n",
       "Actor2Type1Code                        NaN                  NaN   \n",
       "EventCode                              NaN                  NaN   \n",
       "QuadClass                              NaN                  NaN   \n",
       "GoldsteinScale                        -2.0                  1.0   \n",
       "NumMentions                           16.0                 20.0   \n",
       "NumSources                             1.0                  2.0   \n",
       "NumArticles                           16.0                 20.0   \n",
       "AvgTone                          -4.481334            -1.945525   \n",
       "Actor1Geo_CountryCode                  NaN                  NaN   \n",
       "Actor2Geo_CountryCode                  NaN                  NaN   \n",
       "ActionGeo_ADM1Code                     NaN                  NaN   \n",
       "DateAdded                              NaN                  NaN   \n",
       "\n",
       "                                       75%                  max        std  \\\n",
       "date                   2022-07-01 00:00:00  2023-12-31 00:00:00        NaN   \n",
       "Actor1CountryCode                      NaN                  NaN        NaN   \n",
       "Actor1Type1Code                        NaN                  NaN        NaN   \n",
       "Actor2CountryCode                      NaN                  NaN        NaN   \n",
       "Actor2Type1Code                        NaN                  NaN        NaN   \n",
       "EventCode                              NaN                  NaN        NaN   \n",
       "QuadClass                              NaN                  NaN        NaN   \n",
       "GoldsteinScale                         3.4                 10.0   4.782016   \n",
       "NumMentions                           20.0               2190.0  15.836417   \n",
       "NumSources                             2.0                 58.0   1.913006   \n",
       "NumArticles                           20.0               2040.0  14.466941   \n",
       "AvgTone                           0.373717            26.315789   3.871509   \n",
       "Actor1Geo_CountryCode                  NaN                  NaN        NaN   \n",
       "Actor2Geo_CountryCode                  NaN                  NaN        NaN   \n",
       "ActionGeo_ADM1Code                     NaN                  NaN        NaN   \n",
       "DateAdded                              NaN                  NaN        NaN   \n",
       "\n",
       "                      present     share  \n",
       "date                     100%       NaN  \n",
       "Actor1CountryCode         44%  0.096077  \n",
       "Actor1Type1Code           52%   0.16474  \n",
       "Actor2CountryCode         32%  0.062014  \n",
       "Actor2Type1Code           35%   0.10151  \n",
       "EventCode                100%  0.076581  \n",
       "QuadClass                100%  0.604065  \n",
       "GoldsteinScale            99%       NaN  \n",
       "NumMentions              100%       NaN  \n",
       "NumSources               100%       NaN  \n",
       "NumArticles              100%       NaN  \n",
       "AvgTone                  100%       NaN  \n",
       "Actor1Geo_CountryCode     83%  0.166799  \n",
       "Actor2Geo_CountryCode     58%   0.11461  \n",
       "ActionGeo_ADM1Code        94%   0.03641  \n",
       "DateAdded                100%  0.000199  "
      ],
      "text/html": [
       "<div>\n",
       "<style scoped>\n",
       "    .dataframe tbody tr th:only-of-type {\n",
       "        vertical-align: middle;\n",
       "    }\n",
       "\n",
       "    .dataframe tbody tr th {\n",
       "        vertical-align: top;\n",
       "    }\n",
       "\n",
       "    .dataframe thead th {\n",
       "        text-align: right;\n",
       "    }\n",
       "</style>\n",
       "<table border=\"1\" class=\"dataframe\">\n",
       "  <thead>\n",
       "    <tr style=\"text-align: right;\">\n",
       "      <th></th>\n",
       "      <th>count</th>\n",
       "      <th>unique</th>\n",
       "      <th>top</th>\n",
       "      <th>freq</th>\n",
       "      <th>mean</th>\n",
       "      <th>min</th>\n",
       "      <th>25%</th>\n",
       "      <th>50%</th>\n",
       "      <th>75%</th>\n",
       "      <th>max</th>\n",
       "      <th>std</th>\n",
       "      <th>present</th>\n",
       "      <th>share</th>\n",
       "    </tr>\n",
       "  </thead>\n",
       "  <tbody>\n",
       "    <tr>\n",
       "      <th>date</th>\n",
       "      <td>5154269</td>\n",
       "      <td>NaN</td>\n",
       "      <td>NaN</td>\n",
       "      <td>NaN</td>\n",
       "      <td>2021-04-08 20:48:06.384392448</td>\n",
       "      <td>2019-01-01 00:00:00</td>\n",
       "      <td>2019-12-11 00:00:00</td>\n",
       "      <td>2021-02-21 00:00:00</td>\n",
       "      <td>2022-07-01 00:00:00</td>\n",
       "      <td>2023-12-31 00:00:00</td>\n",
       "      <td>NaN</td>\n",
       "      <td>100%</td>\n",
       "      <td>NaN</td>\n",
       "    </tr>\n",
       "    <tr>\n",
       "      <th>Actor1CountryCode</th>\n",
       "      <td>2312848</td>\n",
       "      <td>218</td>\n",
       "      <td>USA</td>\n",
       "      <td>495206</td>\n",
       "      <td>NaN</td>\n",
       "      <td>NaN</td>\n",
       "      <td>NaN</td>\n",
       "      <td>NaN</td>\n",
       "      <td>NaN</td>\n",
       "      <td>NaN</td>\n",
       "      <td>NaN</td>\n",
       "      <td>44%</td>\n",
       "      <td>0.096077</td>\n",
       "    </tr>\n",
       "    <tr>\n",
       "      <th>Actor1Type1Code</th>\n",
       "      <td>2694939</td>\n",
       "      <td>32</td>\n",
       "      <td>GOV</td>\n",
       "      <td>849116</td>\n",
       "      <td>NaN</td>\n",
       "      <td>NaN</td>\n",
       "      <td>NaN</td>\n",
       "      <td>NaN</td>\n",
       "      <td>NaN</td>\n",
       "      <td>NaN</td>\n",
       "      <td>NaN</td>\n",
       "      <td>52%</td>\n",
       "      <td>0.16474</td>\n",
       "    </tr>\n",
       "    <tr>\n",
       "      <th>Actor2CountryCode</th>\n",
       "      <td>1687063</td>\n",
       "      <td>218</td>\n",
       "      <td>USA</td>\n",
       "      <td>319636</td>\n",
       "      <td>NaN</td>\n",
       "      <td>NaN</td>\n",
       "      <td>NaN</td>\n",
       "      <td>NaN</td>\n",
       "      <td>NaN</td>\n",
       "      <td>NaN</td>\n",
       "      <td>NaN</td>\n",
       "      <td>32%</td>\n",
       "      <td>0.062014</td>\n",
       "    </tr>\n",
       "    <tr>\n",
       "      <th>Actor2Type1Code</th>\n",
       "      <td>1823482</td>\n",
       "      <td>32</td>\n",
       "      <td>GOV</td>\n",
       "      <td>523212</td>\n",
       "      <td>NaN</td>\n",
       "      <td>NaN</td>\n",
       "      <td>NaN</td>\n",
       "      <td>NaN</td>\n",
       "      <td>NaN</td>\n",
       "      <td>NaN</td>\n",
       "      <td>NaN</td>\n",
       "      <td>35%</td>\n",
       "      <td>0.10151</td>\n",
       "    </tr>\n",
       "    <tr>\n",
       "      <th>EventCode</th>\n",
       "      <td>5154269</td>\n",
       "      <td>252</td>\n",
       "      <td>010</td>\n",
       "      <td>394719</td>\n",
       "      <td>NaN</td>\n",
       "      <td>NaN</td>\n",
       "      <td>NaN</td>\n",
       "      <td>NaN</td>\n",
       "      <td>NaN</td>\n",
       "      <td>NaN</td>\n",
       "      <td>NaN</td>\n",
       "      <td>100%</td>\n",
       "      <td>0.076581</td>\n",
       "    </tr>\n",
       "    <tr>\n",
       "      <th>QuadClass</th>\n",
       "      <td>5154269</td>\n",
       "      <td>4</td>\n",
       "      <td>1</td>\n",
       "      <td>3113515</td>\n",
       "      <td>NaN</td>\n",
       "      <td>NaN</td>\n",
       "      <td>NaN</td>\n",
       "      <td>NaN</td>\n",
       "      <td>NaN</td>\n",
       "      <td>NaN</td>\n",
       "      <td>NaN</td>\n",
       "      <td>100%</td>\n",
       "      <td>0.604065</td>\n",
       "    </tr>\n",
       "    <tr>\n",
       "      <th>GoldsteinScale</th>\n",
       "      <td>5154246.0</td>\n",
       "      <td>NaN</td>\n",
       "      <td>NaN</td>\n",
       "      <td>NaN</td>\n",
       "      <td>0.503901</td>\n",
       "      <td>-10.0</td>\n",
       "      <td>-2.0</td>\n",
       "      <td>1.0</td>\n",
       "      <td>3.4</td>\n",
       "      <td>10.0</td>\n",
       "      <td>4.782016</td>\n",
       "      <td>99%</td>\n",
       "      <td>NaN</td>\n",
       "    </tr>\n",
       "    <tr>\n",
       "      <th>NumMentions</th>\n",
       "      <td>5154269.0</td>\n",
       "      <td>NaN</td>\n",
       "      <td>NaN</td>\n",
       "      <td>NaN</td>\n",
       "      <td>22.192037</td>\n",
       "      <td>11.0</td>\n",
       "      <td>16.0</td>\n",
       "      <td>20.0</td>\n",
       "      <td>20.0</td>\n",
       "      <td>2190.0</td>\n",
       "      <td>15.836417</td>\n",
       "      <td>100%</td>\n",
       "      <td>NaN</td>\n",
       "    </tr>\n",
       "    <tr>\n",
       "      <th>NumSources</th>\n",
       "      <td>5154269.0</td>\n",
       "      <td>NaN</td>\n",
       "      <td>NaN</td>\n",
       "      <td>NaN</td>\n",
       "      <td>2.295579</td>\n",
       "      <td>1.0</td>\n",
       "      <td>1.0</td>\n",
       "      <td>2.0</td>\n",
       "      <td>2.0</td>\n",
       "      <td>58.0</td>\n",
       "      <td>1.913006</td>\n",
       "      <td>100%</td>\n",
       "      <td>NaN</td>\n",
       "    </tr>\n",
       "    <tr>\n",
       "      <th>NumArticles</th>\n",
       "      <td>5154269.0</td>\n",
       "      <td>NaN</td>\n",
       "      <td>NaN</td>\n",
       "      <td>NaN</td>\n",
       "      <td>21.516381</td>\n",
       "      <td>11.0</td>\n",
       "      <td>16.0</td>\n",
       "      <td>20.0</td>\n",
       "      <td>20.0</td>\n",
       "      <td>2040.0</td>\n",
       "      <td>14.466941</td>\n",
       "      <td>100%</td>\n",
       "      <td>NaN</td>\n",
       "    </tr>\n",
       "    <tr>\n",
       "      <th>AvgTone</th>\n",
       "      <td>5154269.0</td>\n",
       "      <td>NaN</td>\n",
       "      <td>NaN</td>\n",
       "      <td>NaN</td>\n",
       "      <td>-2.151265</td>\n",
       "      <td>-38.709677</td>\n",
       "      <td>-4.481334</td>\n",
       "      <td>-1.945525</td>\n",
       "      <td>0.373717</td>\n",
       "      <td>26.315789</td>\n",
       "      <td>3.871509</td>\n",
       "      <td>100%</td>\n",
       "      <td>NaN</td>\n",
       "    </tr>\n",
       "    <tr>\n",
       "      <th>Actor1Geo_CountryCode</th>\n",
       "      <td>4289013</td>\n",
       "      <td>247</td>\n",
       "      <td>US</td>\n",
       "      <td>859729</td>\n",
       "      <td>NaN</td>\n",
       "      <td>NaN</td>\n",
       "      <td>NaN</td>\n",
       "      <td>NaN</td>\n",
       "      <td>NaN</td>\n",
       "      <td>NaN</td>\n",
       "      <td>NaN</td>\n",
       "      <td>83%</td>\n",
       "      <td>0.166799</td>\n",
       "    </tr>\n",
       "    <tr>\n",
       "      <th>Actor2Geo_CountryCode</th>\n",
       "      <td>3029840</td>\n",
       "      <td>247</td>\n",
       "      <td>US</td>\n",
       "      <td>590729</td>\n",
       "      <td>NaN</td>\n",
       "      <td>NaN</td>\n",
       "      <td>NaN</td>\n",
       "      <td>NaN</td>\n",
       "      <td>NaN</td>\n",
       "      <td>NaN</td>\n",
       "      <td>NaN</td>\n",
       "      <td>58%</td>\n",
       "      <td>0.11461</td>\n",
       "    </tr>\n",
       "    <tr>\n",
       "      <th>ActionGeo_ADM1Code</th>\n",
       "      <td>4845197</td>\n",
       "      <td>3932</td>\n",
       "      <td>RS</td>\n",
       "      <td>187665</td>\n",
       "      <td>NaN</td>\n",
       "      <td>NaN</td>\n",
       "      <td>NaN</td>\n",
       "      <td>NaN</td>\n",
       "      <td>NaN</td>\n",
       "      <td>NaN</td>\n",
       "      <td>NaN</td>\n",
       "      <td>94%</td>\n",
       "      <td>0.03641</td>\n",
       "    </tr>\n",
       "    <tr>\n",
       "      <th>DateAdded</th>\n",
       "      <td>5154269</td>\n",
       "      <td>174686</td>\n",
       "      <td>20211031014500</td>\n",
       "      <td>1028</td>\n",
       "      <td>NaN</td>\n",
       "      <td>NaN</td>\n",
       "      <td>NaN</td>\n",
       "      <td>NaN</td>\n",
       "      <td>NaN</td>\n",
       "      <td>NaN</td>\n",
       "      <td>NaN</td>\n",
       "      <td>100%</td>\n",
       "      <td>0.000199</td>\n",
       "    </tr>\n",
       "  </tbody>\n",
       "</table>\n",
       "</div>"
      ]
     },
     "execution_count": 203,
     "metadata": {},
     "output_type": "execute_result"
    }
   ],
   "execution_count": 203
  },
  {
   "metadata": {
    "ExecuteTime": {
     "end_time": "2024-11-09T20:29:35.974346Z",
     "start_time": "2024-11-09T20:29:35.960534Z"
    }
   },
   "cell_type": "code",
   "source": [
    "# There seem to be very few missing values in the GoldsteinScale column which is odd.\n",
    "gdelt[gdelt['GoldsteinScale'].isna()].head(5)"
   ],
   "outputs": [
    {
     "data": {
      "text/plain": [
       "             date Actor1CountryCode Actor1Type1Code Actor2CountryCode  \\\n",
       "232412 2021-12-10               NaN             JUD               USA   \n",
       "297224 2021-01-06               NaN             JUD               USA   \n",
       "397204 2019-01-30               NaN             OPP               USA   \n",
       "437673 2019-06-12               NaN             OPP               CHN   \n",
       "590746 2021-03-30               NaN             NaN               GBR   \n",
       "\n",
       "       Actor2Type1Code EventCode QuadClass  GoldsteinScale  NumMentions  \\\n",
       "232412             NaN      1213         3             NaN           20   \n",
       "297224             NaN      1213         3             NaN           16   \n",
       "397204             NaN      1213         3             NaN           20   \n",
       "437673             NaN      1213         3             NaN           20   \n",
       "590746             NaN      1213         3             NaN           20   \n",
       "\n",
       "        NumSources  NumArticles    AvgTone Actor1Geo_CountryCode  \\\n",
       "232412           1           20  -5.965227                    US   \n",
       "297224           2           16 -15.960979                    US   \n",
       "397204           1           20  -3.571429                    MZ   \n",
       "437673           2           20  -7.342084                    HK   \n",
       "590746           2           20  -5.220968                   NaN   \n",
       "\n",
       "       Actor2Geo_CountryCode ActionGeo_ADM1Code       DateAdded  \n",
       "232412                    US                 US  20211210170000  \n",
       "297224                    US                 US  20210106123000  \n",
       "397204                    US                 US  20190130050000  \n",
       "437673                    CH                 HK  20190612041500  \n",
       "590746                    EZ                 EZ  20210330064500  "
      ],
      "text/html": [
       "<div>\n",
       "<style scoped>\n",
       "    .dataframe tbody tr th:only-of-type {\n",
       "        vertical-align: middle;\n",
       "    }\n",
       "\n",
       "    .dataframe tbody tr th {\n",
       "        vertical-align: top;\n",
       "    }\n",
       "\n",
       "    .dataframe thead th {\n",
       "        text-align: right;\n",
       "    }\n",
       "</style>\n",
       "<table border=\"1\" class=\"dataframe\">\n",
       "  <thead>\n",
       "    <tr style=\"text-align: right;\">\n",
       "      <th></th>\n",
       "      <th>date</th>\n",
       "      <th>Actor1CountryCode</th>\n",
       "      <th>Actor1Type1Code</th>\n",
       "      <th>Actor2CountryCode</th>\n",
       "      <th>Actor2Type1Code</th>\n",
       "      <th>EventCode</th>\n",
       "      <th>QuadClass</th>\n",
       "      <th>GoldsteinScale</th>\n",
       "      <th>NumMentions</th>\n",
       "      <th>NumSources</th>\n",
       "      <th>NumArticles</th>\n",
       "      <th>AvgTone</th>\n",
       "      <th>Actor1Geo_CountryCode</th>\n",
       "      <th>Actor2Geo_CountryCode</th>\n",
       "      <th>ActionGeo_ADM1Code</th>\n",
       "      <th>DateAdded</th>\n",
       "    </tr>\n",
       "  </thead>\n",
       "  <tbody>\n",
       "    <tr>\n",
       "      <th>232412</th>\n",
       "      <td>2021-12-10</td>\n",
       "      <td>NaN</td>\n",
       "      <td>JUD</td>\n",
       "      <td>USA</td>\n",
       "      <td>NaN</td>\n",
       "      <td>1213</td>\n",
       "      <td>3</td>\n",
       "      <td>NaN</td>\n",
       "      <td>20</td>\n",
       "      <td>1</td>\n",
       "      <td>20</td>\n",
       "      <td>-5.965227</td>\n",
       "      <td>US</td>\n",
       "      <td>US</td>\n",
       "      <td>US</td>\n",
       "      <td>20211210170000</td>\n",
       "    </tr>\n",
       "    <tr>\n",
       "      <th>297224</th>\n",
       "      <td>2021-01-06</td>\n",
       "      <td>NaN</td>\n",
       "      <td>JUD</td>\n",
       "      <td>USA</td>\n",
       "      <td>NaN</td>\n",
       "      <td>1213</td>\n",
       "      <td>3</td>\n",
       "      <td>NaN</td>\n",
       "      <td>16</td>\n",
       "      <td>2</td>\n",
       "      <td>16</td>\n",
       "      <td>-15.960979</td>\n",
       "      <td>US</td>\n",
       "      <td>US</td>\n",
       "      <td>US</td>\n",
       "      <td>20210106123000</td>\n",
       "    </tr>\n",
       "    <tr>\n",
       "      <th>397204</th>\n",
       "      <td>2019-01-30</td>\n",
       "      <td>NaN</td>\n",
       "      <td>OPP</td>\n",
       "      <td>USA</td>\n",
       "      <td>NaN</td>\n",
       "      <td>1213</td>\n",
       "      <td>3</td>\n",
       "      <td>NaN</td>\n",
       "      <td>20</td>\n",
       "      <td>1</td>\n",
       "      <td>20</td>\n",
       "      <td>-3.571429</td>\n",
       "      <td>MZ</td>\n",
       "      <td>US</td>\n",
       "      <td>US</td>\n",
       "      <td>20190130050000</td>\n",
       "    </tr>\n",
       "    <tr>\n",
       "      <th>437673</th>\n",
       "      <td>2019-06-12</td>\n",
       "      <td>NaN</td>\n",
       "      <td>OPP</td>\n",
       "      <td>CHN</td>\n",
       "      <td>NaN</td>\n",
       "      <td>1213</td>\n",
       "      <td>3</td>\n",
       "      <td>NaN</td>\n",
       "      <td>20</td>\n",
       "      <td>2</td>\n",
       "      <td>20</td>\n",
       "      <td>-7.342084</td>\n",
       "      <td>HK</td>\n",
       "      <td>CH</td>\n",
       "      <td>HK</td>\n",
       "      <td>20190612041500</td>\n",
       "    </tr>\n",
       "    <tr>\n",
       "      <th>590746</th>\n",
       "      <td>2021-03-30</td>\n",
       "      <td>NaN</td>\n",
       "      <td>NaN</td>\n",
       "      <td>GBR</td>\n",
       "      <td>NaN</td>\n",
       "      <td>1213</td>\n",
       "      <td>3</td>\n",
       "      <td>NaN</td>\n",
       "      <td>20</td>\n",
       "      <td>2</td>\n",
       "      <td>20</td>\n",
       "      <td>-5.220968</td>\n",
       "      <td>NaN</td>\n",
       "      <td>EZ</td>\n",
       "      <td>EZ</td>\n",
       "      <td>20210330064500</td>\n",
       "    </tr>\n",
       "  </tbody>\n",
       "</table>\n",
       "</div>"
      ]
     },
     "execution_count": 204,
     "metadata": {},
     "output_type": "execute_result"
    }
   ],
   "execution_count": 204
  },
  {
   "metadata": {
    "ExecuteTime": {
     "end_time": "2024-11-09T20:29:36.048784Z",
     "start_time": "2024-11-09T20:29:36.041572Z"
    }
   },
   "cell_type": "code",
   "source": [
    "# the common factor seems to be their eventcode\n",
    "gdelt[gdelt['GoldsteinScale'].isna()]['EventCode'].value_counts()"
   ],
   "outputs": [
    {
     "data": {
      "text/plain": [
       "EventCode\n",
       "1213    22\n",
       "1214     1\n",
       "Name: count, dtype: int64"
      ]
     },
     "execution_count": 205,
     "metadata": {},
     "output_type": "execute_result"
    }
   ],
   "execution_count": 205
  },
  {
   "metadata": {
    "ExecuteTime": {
     "end_time": "2024-11-09T20:29:36.848692Z",
     "start_time": "2024-11-09T20:29:36.135204Z"
    }
   },
   "cell_type": "code",
   "source": [
    "# 1213 and 1214 correspond to rejection of judicial or intelligence cooperation. It is possible that these events are not rated on the Goldstein scale due to their nature but as we can't evaluate them either, we will drop them.\n",
    "gdelt = gdelt[~gdelt['GoldsteinScale'].isna()]"
   ],
   "outputs": [],
   "execution_count": 206
  },
  {
   "metadata": {},
   "cell_type": "markdown",
   "source": "### Bitcoin data preprocessing"
  },
  {
   "metadata": {
    "ExecuteTime": {
     "end_time": "2024-11-09T20:29:36.882999Z",
     "start_time": "2024-11-09T20:29:36.876243Z"
    }
   },
   "cell_type": "code",
   "source": "bitcoin.head()",
   "outputs": [
    {
     "data": {
      "text/plain": [
       "      Timestamp  Open  High   Low  Close  Volume\n",
       "0  1.325412e+09  4.58  4.58  4.58   4.58     0.0\n",
       "1  1.325412e+09  4.58  4.58  4.58   4.58     0.0\n",
       "2  1.325412e+09  4.58  4.58  4.58   4.58     0.0\n",
       "3  1.325412e+09  4.58  4.58  4.58   4.58     0.0\n",
       "4  1.325412e+09  4.58  4.58  4.58   4.58     0.0"
      ],
      "text/html": [
       "<div>\n",
       "<style scoped>\n",
       "    .dataframe tbody tr th:only-of-type {\n",
       "        vertical-align: middle;\n",
       "    }\n",
       "\n",
       "    .dataframe tbody tr th {\n",
       "        vertical-align: top;\n",
       "    }\n",
       "\n",
       "    .dataframe thead th {\n",
       "        text-align: right;\n",
       "    }\n",
       "</style>\n",
       "<table border=\"1\" class=\"dataframe\">\n",
       "  <thead>\n",
       "    <tr style=\"text-align: right;\">\n",
       "      <th></th>\n",
       "      <th>Timestamp</th>\n",
       "      <th>Open</th>\n",
       "      <th>High</th>\n",
       "      <th>Low</th>\n",
       "      <th>Close</th>\n",
       "      <th>Volume</th>\n",
       "    </tr>\n",
       "  </thead>\n",
       "  <tbody>\n",
       "    <tr>\n",
       "      <th>0</th>\n",
       "      <td>1.325412e+09</td>\n",
       "      <td>4.58</td>\n",
       "      <td>4.58</td>\n",
       "      <td>4.58</td>\n",
       "      <td>4.58</td>\n",
       "      <td>0.0</td>\n",
       "    </tr>\n",
       "    <tr>\n",
       "      <th>1</th>\n",
       "      <td>1.325412e+09</td>\n",
       "      <td>4.58</td>\n",
       "      <td>4.58</td>\n",
       "      <td>4.58</td>\n",
       "      <td>4.58</td>\n",
       "      <td>0.0</td>\n",
       "    </tr>\n",
       "    <tr>\n",
       "      <th>2</th>\n",
       "      <td>1.325412e+09</td>\n",
       "      <td>4.58</td>\n",
       "      <td>4.58</td>\n",
       "      <td>4.58</td>\n",
       "      <td>4.58</td>\n",
       "      <td>0.0</td>\n",
       "    </tr>\n",
       "    <tr>\n",
       "      <th>3</th>\n",
       "      <td>1.325412e+09</td>\n",
       "      <td>4.58</td>\n",
       "      <td>4.58</td>\n",
       "      <td>4.58</td>\n",
       "      <td>4.58</td>\n",
       "      <td>0.0</td>\n",
       "    </tr>\n",
       "    <tr>\n",
       "      <th>4</th>\n",
       "      <td>1.325412e+09</td>\n",
       "      <td>4.58</td>\n",
       "      <td>4.58</td>\n",
       "      <td>4.58</td>\n",
       "      <td>4.58</td>\n",
       "      <td>0.0</td>\n",
       "    </tr>\n",
       "  </tbody>\n",
       "</table>\n",
       "</div>"
      ]
     },
     "execution_count": 207,
     "metadata": {},
     "output_type": "execute_result"
    }
   ],
   "execution_count": 207
  },
  {
   "metadata": {
    "ExecuteTime": {
     "end_time": "2024-11-09T20:29:39.577830Z",
     "start_time": "2024-11-09T20:29:36.917596Z"
    }
   },
   "cell_type": "code",
   "source": [
    "# convert timestamp to datetime\n",
    "bitcoin['date'] = pd.to_datetime(bitcoin['Timestamp'], unit='s')\n",
    "bitcoin = bitcoin.drop(columns=['Timestamp'])"
   ],
   "outputs": [],
   "execution_count": 208
  },
  {
   "metadata": {
    "ExecuteTime": {
     "end_time": "2024-11-09T20:29:39.714485Z",
     "start_time": "2024-11-09T20:29:39.605746Z"
    }
   },
   "cell_type": "code",
   "source": [
    "# we are interested only in 2019-2023\n",
    "print(f\"Before filtering:\\t{bitcoin.shape[0]}\")\n",
    "bitcoin = bitcoin[(bitcoin['date'] >= '2019-01-01') & (bitcoin['date'] < '2024-01-02')]  # keeping the first day of 2024\n",
    "print(f\"After filtering:\\t{bitcoin.shape[0]}\")"
   ],
   "outputs": [
    {
     "name": "stdout",
     "output_type": "stream",
     "text": [
      "Before filtering:\t6709281\n",
      "After filtering:\t2630580\n"
     ]
    }
   ],
   "execution_count": 209
  },
  {
   "metadata": {
    "ExecuteTime": {
     "end_time": "2024-11-09T20:29:39.957853Z",
     "start_time": "2024-11-09T20:29:39.727635Z"
    }
   },
   "cell_type": "code",
   "source": [
    "# we are interested in daily data\n",
    "bitcoin = bitcoin.resample('D', on='date').agg({'Open': 'first', 'High': 'max', 'Low': 'min', 'Close': 'last', 'Volume': 'sum'}).reset_index()"
   ],
   "outputs": [],
   "execution_count": 210
  },
  {
   "metadata": {
    "ExecuteTime": {
     "end_time": "2024-11-09T20:29:39.973035Z",
     "start_time": "2024-11-09T20:29:39.968612Z"
    }
   },
   "cell_type": "code",
   "source": [
    "bitcoin['Change'] = bitcoin['Close'] - bitcoin['Open']\n",
    "bitcoin['Change%'] = bitcoin['Change'] / bitcoin['Open'] * 100\n",
    "bitcoin['Change%'] = bitcoin['Change%'].round(2)\n",
    "bitcoin['Fluctuation'] = bitcoin['High'] - bitcoin['Low']\n",
    "bitcoin['Fluctuation%'] = bitcoin['Fluctuation'] / bitcoin['Open'] * 100\n",
    "bitcoin['Fluctuation%'] = bitcoin['Fluctuation%'].round(2)"
   ],
   "outputs": [],
   "execution_count": 211
  },
  {
   "metadata": {
    "ExecuteTime": {
     "end_time": "2024-11-09T20:35:41.221912Z",
     "start_time": "2024-11-09T20:35:41.211987Z"
    }
   },
   "cell_type": "code",
   "source": "bitcoin.head()",
   "outputs": [
    {
     "data": {
      "text/plain": [
       "        date     Open     High      Low    Close       Volume  Change  \\\n",
       "0 2019-01-01  3750.62  3752.01  3629.66  3659.81  4860.346219  -90.81   \n",
       "1 2019-01-02  3659.35  3890.00  3659.35  3850.00  5710.025088  190.65   \n",
       "2 2019-01-03  3850.00  3918.67  3760.00  3782.09  5678.792321  -67.91   \n",
       "3 2019-01-04  3783.45  3850.33  3732.38  3757.66  6749.606969  -25.79   \n",
       "4 2019-01-05  3757.66  3887.09  3753.04  3845.58  4141.245461   87.92   \n",
       "\n",
       "   Change%  Fluctuation  Fluctuation%  \n",
       "0    -2.42       122.35          3.26  \n",
       "1     5.21       230.65          6.30  \n",
       "2    -1.76       158.67          4.12  \n",
       "3    -0.68       117.95          3.12  \n",
       "4     2.34       134.05          3.57  "
      ],
      "text/html": [
       "<div>\n",
       "<style scoped>\n",
       "    .dataframe tbody tr th:only-of-type {\n",
       "        vertical-align: middle;\n",
       "    }\n",
       "\n",
       "    .dataframe tbody tr th {\n",
       "        vertical-align: top;\n",
       "    }\n",
       "\n",
       "    .dataframe thead th {\n",
       "        text-align: right;\n",
       "    }\n",
       "</style>\n",
       "<table border=\"1\" class=\"dataframe\">\n",
       "  <thead>\n",
       "    <tr style=\"text-align: right;\">\n",
       "      <th></th>\n",
       "      <th>date</th>\n",
       "      <th>Open</th>\n",
       "      <th>High</th>\n",
       "      <th>Low</th>\n",
       "      <th>Close</th>\n",
       "      <th>Volume</th>\n",
       "      <th>Change</th>\n",
       "      <th>Change%</th>\n",
       "      <th>Fluctuation</th>\n",
       "      <th>Fluctuation%</th>\n",
       "    </tr>\n",
       "  </thead>\n",
       "  <tbody>\n",
       "    <tr>\n",
       "      <th>0</th>\n",
       "      <td>2019-01-01</td>\n",
       "      <td>3750.62</td>\n",
       "      <td>3752.01</td>\n",
       "      <td>3629.66</td>\n",
       "      <td>3659.81</td>\n",
       "      <td>4860.346219</td>\n",
       "      <td>-90.81</td>\n",
       "      <td>-2.42</td>\n",
       "      <td>122.35</td>\n",
       "      <td>3.26</td>\n",
       "    </tr>\n",
       "    <tr>\n",
       "      <th>1</th>\n",
       "      <td>2019-01-02</td>\n",
       "      <td>3659.35</td>\n",
       "      <td>3890.00</td>\n",
       "      <td>3659.35</td>\n",
       "      <td>3850.00</td>\n",
       "      <td>5710.025088</td>\n",
       "      <td>190.65</td>\n",
       "      <td>5.21</td>\n",
       "      <td>230.65</td>\n",
       "      <td>6.30</td>\n",
       "    </tr>\n",
       "    <tr>\n",
       "      <th>2</th>\n",
       "      <td>2019-01-03</td>\n",
       "      <td>3850.00</td>\n",
       "      <td>3918.67</td>\n",
       "      <td>3760.00</td>\n",
       "      <td>3782.09</td>\n",
       "      <td>5678.792321</td>\n",
       "      <td>-67.91</td>\n",
       "      <td>-1.76</td>\n",
       "      <td>158.67</td>\n",
       "      <td>4.12</td>\n",
       "    </tr>\n",
       "    <tr>\n",
       "      <th>3</th>\n",
       "      <td>2019-01-04</td>\n",
       "      <td>3783.45</td>\n",
       "      <td>3850.33</td>\n",
       "      <td>3732.38</td>\n",
       "      <td>3757.66</td>\n",
       "      <td>6749.606969</td>\n",
       "      <td>-25.79</td>\n",
       "      <td>-0.68</td>\n",
       "      <td>117.95</td>\n",
       "      <td>3.12</td>\n",
       "    </tr>\n",
       "    <tr>\n",
       "      <th>4</th>\n",
       "      <td>2019-01-05</td>\n",
       "      <td>3757.66</td>\n",
       "      <td>3887.09</td>\n",
       "      <td>3753.04</td>\n",
       "      <td>3845.58</td>\n",
       "      <td>4141.245461</td>\n",
       "      <td>87.92</td>\n",
       "      <td>2.34</td>\n",
       "      <td>134.05</td>\n",
       "      <td>3.57</td>\n",
       "    </tr>\n",
       "  </tbody>\n",
       "</table>\n",
       "</div>"
      ]
     },
     "execution_count": 240,
     "metadata": {},
     "output_type": "execute_result"
    }
   ],
   "execution_count": 240
  },
  {
   "metadata": {
    "ExecuteTime": {
     "end_time": "2024-11-09T20:35:29.901550Z",
     "start_time": "2024-11-09T20:35:29.484197Z"
    }
   },
   "cell_type": "code",
   "source": [
    "plt.figure(figsize=(15, 5))\n",
    "plt.plot(bitcoin['date'], bitcoin['Close'])\n",
    "plt.plot(bitcoin['date'], bitcoin['Fluctuation'], color='red')\n",
    "plt.plot(bitcoin['date'], bitcoin['Change'], color='green')\n",
    "plt.grid(True, alpha=0.3)\n",
    "plt.xlabel('Date')\n",
    "plt.ylabel('Price')\n",
    "plt.title('Bitcoin price and daily change over time')\n",
    "plt.legend(['Close price', 'Daily fluctuation', 'Daily change'])\n",
    "plt.show()"
   ],
   "outputs": [
    {
     "data": {
      "text/plain": [
       "<Figure size 1500x500 with 1 Axes>"
      ],
      "image/png": "[encoded data removed]"
     },
     "metadata": {},
     "output_type": "display_data"
    }
   ],
   "execution_count": 239
  }
 ]
}
