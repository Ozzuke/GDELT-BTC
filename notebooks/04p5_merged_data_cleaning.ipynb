{
 "cells": [
  {
   "cell_type": "code",
   "id": "initial_id",
   "metadata": {
    "collapsed": true,
    "ExecuteTime": {
     "end_time": "2024-12-06T17:45:16.368731Z",
     "start_time": "2024-12-06T17:45:16.312295Z"
    }
   },
   "source": "import pandas as pd",
   "outputs": [],
   "execution_count": 34
  },
  {
   "metadata": {
    "ExecuteTime": {
     "end_time": "2024-12-06T17:45:17.582429Z",
     "start_time": "2024-12-06T17:45:16.408633Z"
    }
   },
   "cell_type": "code",
   "source": "df = pd.read_parquet('../cache/merged.parquet')",
   "id": "6c397ae797c1ab46",
   "outputs": [],
   "execution_count": 35
  },
  {
   "metadata": {
    "ExecuteTime": {
     "end_time": "2024-12-06T17:45:17.632554Z",
     "start_time": "2024-12-06T17:45:17.622834Z"
    }
   },
   "cell_type": "code",
   "source": "df.head()",
   "id": "df229b701c1aff17",
   "outputs": [
    {
     "data": {
      "text/plain": [
       "        Date   Timestamp Actor1Country Actor1GeoCountry Actor1Type  \\\n",
       "0 2019-01-01  1546300800          None             None        CVL   \n",
       "1 2019-01-01  1546300800           BRA               BR       None   \n",
       "2 2019-01-01  1546300800          None               US        GOV   \n",
       "3 2019-01-01  1546300800           USA               US       None   \n",
       "4 2019-01-01  1546300800           USA               US        EDU   \n",
       "\n",
       "  Actor2Country Actor2GeoCountry Actor2Type ActionCountry       EventType  \\\n",
       "0          None             None       None          None     Diplom Coop   \n",
       "1          None             None       None            BR  Intent to Coop   \n",
       "2          None               US        GOV            US          Appeal   \n",
       "3          None             None       None            US      Disapprove   \n",
       "4          None             None       None            US         Consult   \n",
       "\n",
       "   GoldsteinScale  NumSources  NumArticles   AvgTone  Magnitude  Impact  \\\n",
       "0             3.4           4           50  2.354384       6.85    2.33   \n",
       "1             4.0           3           30 -0.339542       3.34    1.34   \n",
       "2             3.2          10           40  1.734061       8.73    2.79   \n",
       "3            -2.0           3           21 -4.170072       6.72   -1.34   \n",
       "4             1.9           6           18  1.415701       5.32    1.01   \n",
       "\n",
       "          Impact_bin  pct_change_15min  pct_change_30min  pct_change_24h  \n",
       "0           Positive         -0.033061         -0.226363       -2.433464  \n",
       "1  Slightly Positive         -0.033061         -0.226363       -2.433464  \n",
       "2           Positive         -0.033061         -0.226363       -2.433464  \n",
       "3  Slightly Negative         -0.033061         -0.226363       -2.433464  \n",
       "4  Slightly Positive         -0.033061         -0.226363       -2.433464  "
      ],
      "text/html": [
       "<div>\n",
       "<style scoped>\n",
       "    .dataframe tbody tr th:only-of-type {\n",
       "        vertical-align: middle;\n",
       "    }\n",
       "\n",
       "    .dataframe tbody tr th {\n",
       "        vertical-align: top;\n",
       "    }\n",
       "\n",
       "    .dataframe thead th {\n",
       "        text-align: right;\n",
       "    }\n",
       "</style>\n",
       "<table border=\"1\" class=\"dataframe\">\n",
       "  <thead>\n",
       "    <tr style=\"text-align: right;\">\n",
       "      <th></th>\n",
       "      <th>Date</th>\n",
       "      <th>Timestamp</th>\n",
       "      <th>Actor1Country</th>\n",
       "      <th>Actor1GeoCountry</th>\n",
       "      <th>Actor1Type</th>\n",
       "      <th>Actor2Country</th>\n",
       "      <th>Actor2GeoCountry</th>\n",
       "      <th>Actor2Type</th>\n",
       "      <th>ActionCountry</th>\n",
       "      <th>EventType</th>\n",
       "      <th>GoldsteinScale</th>\n",
       "      <th>NumSources</th>\n",
       "      <th>NumArticles</th>\n",
       "      <th>AvgTone</th>\n",
       "      <th>Magnitude</th>\n",
       "      <th>Impact</th>\n",
       "      <th>Impact_bin</th>\n",
       "      <th>pct_change_15min</th>\n",
       "      <th>pct_change_30min</th>\n",
       "      <th>pct_change_24h</th>\n",
       "    </tr>\n",
       "  </thead>\n",
       "  <tbody>\n",
       "    <tr>\n",
       "      <th>0</th>\n",
       "      <td>2019-01-01</td>\n",
       "      <td>1546300800</td>\n",
       "      <td>None</td>\n",
       "      <td>None</td>\n",
       "      <td>CVL</td>\n",
       "      <td>None</td>\n",
       "      <td>None</td>\n",
       "      <td>None</td>\n",
       "      <td>None</td>\n",
       "      <td>Diplom Coop</td>\n",
       "      <td>3.4</td>\n",
       "      <td>4</td>\n",
       "      <td>50</td>\n",
       "      <td>2.354384</td>\n",
       "      <td>6.85</td>\n",
       "      <td>2.33</td>\n",
       "      <td>Positive</td>\n",
       "      <td>-0.033061</td>\n",
       "      <td>-0.226363</td>\n",
       "      <td>-2.433464</td>\n",
       "    </tr>\n",
       "    <tr>\n",
       "      <th>1</th>\n",
       "      <td>2019-01-01</td>\n",
       "      <td>1546300800</td>\n",
       "      <td>BRA</td>\n",
       "      <td>BR</td>\n",
       "      <td>None</td>\n",
       "      <td>None</td>\n",
       "      <td>None</td>\n",
       "      <td>None</td>\n",
       "      <td>BR</td>\n",
       "      <td>Intent to Coop</td>\n",
       "      <td>4.0</td>\n",
       "      <td>3</td>\n",
       "      <td>30</td>\n",
       "      <td>-0.339542</td>\n",
       "      <td>3.34</td>\n",
       "      <td>1.34</td>\n",
       "      <td>Slightly Positive</td>\n",
       "      <td>-0.033061</td>\n",
       "      <td>-0.226363</td>\n",
       "      <td>-2.433464</td>\n",
       "    </tr>\n",
       "    <tr>\n",
       "      <th>2</th>\n",
       "      <td>2019-01-01</td>\n",
       "      <td>1546300800</td>\n",
       "      <td>None</td>\n",
       "      <td>US</td>\n",
       "      <td>GOV</td>\n",
       "      <td>None</td>\n",
       "      <td>US</td>\n",
       "      <td>GOV</td>\n",
       "      <td>US</td>\n",
       "      <td>Appeal</td>\n",
       "      <td>3.2</td>\n",
       "      <td>10</td>\n",
       "      <td>40</td>\n",
       "      <td>1.734061</td>\n",
       "      <td>8.73</td>\n",
       "      <td>2.79</td>\n",
       "      <td>Positive</td>\n",
       "      <td>-0.033061</td>\n",
       "      <td>-0.226363</td>\n",
       "      <td>-2.433464</td>\n",
       "    </tr>\n",
       "    <tr>\n",
       "      <th>3</th>\n",
       "      <td>2019-01-01</td>\n",
       "      <td>1546300800</td>\n",
       "      <td>USA</td>\n",
       "      <td>US</td>\n",
       "      <td>None</td>\n",
       "      <td>None</td>\n",
       "      <td>None</td>\n",
       "      <td>None</td>\n",
       "      <td>US</td>\n",
       "      <td>Disapprove</td>\n",
       "      <td>-2.0</td>\n",
       "      <td>3</td>\n",
       "      <td>21</td>\n",
       "      <td>-4.170072</td>\n",
       "      <td>6.72</td>\n",
       "      <td>-1.34</td>\n",
       "      <td>Slightly Negative</td>\n",
       "      <td>-0.033061</td>\n",
       "      <td>-0.226363</td>\n",
       "      <td>-2.433464</td>\n",
       "    </tr>\n",
       "    <tr>\n",
       "      <th>4</th>\n",
       "      <td>2019-01-01</td>\n",
       "      <td>1546300800</td>\n",
       "      <td>USA</td>\n",
       "      <td>US</td>\n",
       "      <td>EDU</td>\n",
       "      <td>None</td>\n",
       "      <td>None</td>\n",
       "      <td>None</td>\n",
       "      <td>US</td>\n",
       "      <td>Consult</td>\n",
       "      <td>1.9</td>\n",
       "      <td>6</td>\n",
       "      <td>18</td>\n",
       "      <td>1.415701</td>\n",
       "      <td>5.32</td>\n",
       "      <td>1.01</td>\n",
       "      <td>Slightly Positive</td>\n",
       "      <td>-0.033061</td>\n",
       "      <td>-0.226363</td>\n",
       "      <td>-2.433464</td>\n",
       "    </tr>\n",
       "  </tbody>\n",
       "</table>\n",
       "</div>"
      ]
     },
     "execution_count": 36,
     "metadata": {},
     "output_type": "execute_result"
    }
   ],
   "execution_count": 36
  },
  {
   "metadata": {
    "jupyter": {
     "is_executing": true
    },
    "ExecuteTime": {
     "start_time": "2024-12-06T17:45:17.684366Z"
    }
   },
   "cell_type": "code",
   "source": [
    "quants = [0, 0.5, 0.9, 0.99]\n",
    "mag_quantiles = [df['Magnitude'].quantile(quant) for quant in quants]\n",
    "\n",
    "df['AbsChange'] = df['pct_change_30min'].abs()\n",
    "avg_change = df.AbsChange.mean()\n",
    "catg_features = ['Actor1Country', 'Actor1GeoCountry', 'Actor1Type',\n",
    "                 'Actor2Country', 'Actor2GeoCountry', 'Actor2Type',\n",
    "                 'ActionCountry', 'EventType']\n",
    "\n",
    "num_to_keep = 8\n",
    "dfs = [pd.DataFrame(df) for _ in range(len(catg_features))]\n",
    "\n",
    "for feature in catg_features:\n",
    "    for i, mag in enumerate(mag_quantiles):\n",
    "        df_sub_orig = df[df.Magnitude > mag].astype(object)\n",
    "        top_countries = df_sub_orig[feature].value_counts().index[:40]\n",
    "        df_sub = df_sub_orig.groupby(feature).filter(lambda x: x.name in top_countries)\n",
    "        df_grouped = (df_sub.groupby([feature], observed=True).AbsChange.mean() - avg_change).abs().sort_values(ascending=False)\n",
    "        df_grouped = df_grouped[:num_to_keep]\n",
    "        new_df = dfs[i]\n",
    "        new_df[feature] = new_df[feature].fillna('Missing')\n",
    "        new_df[feature] = new_df[feature].apply(lambda x: x if x in df_grouped.index else 'Other')\n",
    "        dfs[i] = new_df\n",
    "    print(f'Finished {feature}')"
   ],
   "id": "5bd7d382738d3083",
   "outputs": [],
   "execution_count": null
  },
  {
   "metadata": {
    "ExecuteTime": {
     "end_time": "2024-12-06T17:34:44.335505Z",
     "start_time": "2024-12-06T17:32:10.475192Z"
    }
   },
   "cell_type": "code",
   "source": [
    "merged_0q = dfs[0] # 0 quantile (all data)\n",
    "merged_50q = dfs[1] # 0.5 quantile\n",
    "merged_90q = dfs[2] # 0.9 quantile\n",
    "merged_99q = dfs[3] # 0.99 quantile"
   ],
   "id": "191cf18bdbf34490",
   "outputs": [],
   "execution_count": 15
  },
  {
   "metadata": {
    "ExecuteTime": {
     "end_time": "2024-12-06T17:37:47.756753Z",
     "start_time": "2024-12-06T17:37:47.753109Z"
    }
   },
   "cell_type": "code",
   "source": "merged_0q.EventType.cat = merged_0q.EventType.cat.categories.append(pd.Index(['Missing', 'Other']))",
   "id": "37e4dfee9d231774",
   "outputs": [],
   "execution_count": 32
  },
  {
   "metadata": {
    "ExecuteTime": {
     "end_time": "2024-12-06T17:37:49.957363Z",
     "start_time": "2024-12-06T17:37:49.898886Z"
    }
   },
   "cell_type": "code",
   "source": "merged_0q['EventType'].value_counts()",
   "id": "90aba20af021542e",
   "outputs": [
    {
     "data": {
      "text/plain": [
       "EventType\n",
       "Consult              1267084\n",
       "Statement             648289\n",
       "Diplom Coop           419667\n",
       "Appeal                418795\n",
       "Intent to Coop        368722\n",
       "Fight                 345688\n",
       "Disapprove            305588\n",
       "Coerce                255777\n",
       "Yield                 202861\n",
       "Aid                   174983\n",
       "Reject                146931\n",
       "Investigate           136693\n",
       "Material Coop         106830\n",
       "Assault                81196\n",
       "Threaten               80823\n",
       "Demand                 69028\n",
       "Reduce Relations       60881\n",
       "Protest                59635\n",
       "Demonstrate Force      20461\n",
       "Mass Violence           1609\n",
       "Name: count, dtype: int64"
      ]
     },
     "execution_count": 33,
     "metadata": {},
     "output_type": "execute_result"
    }
   ],
   "execution_count": 33
  },
  {
   "metadata": {},
   "cell_type": "code",
   "outputs": [],
   "execution_count": null,
   "source": "merged_50q.head()",
   "id": "882eecd2091b866c"
  },
  {
   "metadata": {},
   "cell_type": "code",
   "outputs": [],
   "execution_count": null,
   "source": "merged_90q.head()",
   "id": "6859fa2558a66298"
  },
  {
   "metadata": {},
   "cell_type": "code",
   "outputs": [],
   "execution_count": null,
   "source": "merged_99q.head()",
   "id": "3e20e9ef0bffa74c"
  },
  {
   "metadata": {},
   "cell_type": "code",
   "outputs": [],
   "execution_count": null,
   "source": [
    "merged_0q.to_parquet('../cache/merged_0q.parquet')\n",
    "merged_50q.to_parquet('../cache/merged_50q.parquet')\n",
    "merged_90q.to_parquet('../cache/merged_90q.parquet')\n",
    "merged_99q.to_parquet('../cache/merged_99q.parquet')"
   ],
   "id": "64166b53fdc837c1"
  }
 ],
 "metadata": {
  "kernelspec": {
   "display_name": "Python 3",
   "language": "python",
   "name": "python3"
  },
  "language_info": {
   "codemirror_mode": {
    "name": "ipython",
    "version": 2
   },
   "file_extension": ".py",
   "mimetype": "text/x-python",
   "name": "python",
   "nbconvert_exporter": "python",
   "pygments_lexer": "ipython2",
   "version": "2.7.6"
  }
 },
 "nbformat": 4,
 "nbformat_minor": 5
}
