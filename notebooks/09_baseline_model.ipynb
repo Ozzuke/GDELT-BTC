{
 "cells": [
  {
   "cell_type": "code",
   "id": "initial_id",
   "metadata": {
    "collapsed": true,
    "ExecuteTime": {
     "end_time": "2024-12-13T10:24:48.596807Z",
     "start_time": "2024-12-13T10:24:48.588163Z"
    }
   },
   "source": [
    "import pandas as pd\n",
    "import numpy as np\n",
    "\n",
    "class NaiveTimeSeriesModel:\n",
    "    def __init__(self, lag=1):\n",
    "        self.lag = lag\n",
    "        self.last_observation = None\n",
    "\n",
    "    def fit(self, data):\n",
    "        if not isinstance(data, pd.DataFrame):\n",
    "            raise ValueError(\"Input data must be a pandas DataFrame.\")\n",
    "        self.last_observation = data.iloc[-self.lag:]\n",
    "\n",
    "    def forecast(self, steps=1):\n",
    "        if self.last_observation is None:\n",
    "            raise ValueError(\"Model has not been fitted yet. Call `fit` with data.\")\n",
    "\n",
    "        # Repeat the last observed value(s) for the forecast length\n",
    "        forecast_values = np.tile(self.last_observation.values, (steps, 1))\n",
    "        forecast_index = [i+1 for i in range(steps)]\n",
    "\n",
    "        return pd.DataFrame(forecast_values[:steps], columns=self.last_observation.columns, index=forecast_index)"
   ],
   "outputs": [],
   "execution_count": 5
  },
  {
   "metadata": {
    "ExecuteTime": {
     "end_time": "2024-12-13T10:24:48.744612Z",
     "start_time": "2024-12-13T10:24:48.667779Z"
    }
   },
   "cell_type": "code",
   "source": [
    "data = pd.read_parquet('../cache/prepd_99q.parquet')\n",
    "train_data = data[data.index.year < 2023]\n",
    "test_data = data[data.index.year == 2023]"
   ],
   "id": "78a4c1e40545fb98",
   "outputs": [],
   "execution_count": 6
  },
  {
   "metadata": {
    "ExecuteTime": {
     "end_time": "2024-12-13T10:24:48.772859Z",
     "start_time": "2024-12-13T10:24:48.751769Z"
    }
   },
   "cell_type": "code",
   "source": [
    "naive = NaiveTimeSeriesModel(lag=1)\n",
    "naive.fit(train_data)\n",
    "naive_predictions = naive.forecast(steps=5)\n",
    "naive_predictions"
   ],
   "id": "37b443b4f117d15a",
   "outputs": [
    {
     "data": {
      "text/plain": [
       "    AvgTone  GoldsteinScale  NumSources  NumArticles  Actor1Country_enc  \\\n",
       "1 -0.265764        1.293353   -0.074356    -0.121287           0.409021   \n",
       "2 -0.265764        1.293353   -0.074356    -0.121287           0.409021   \n",
       "3 -0.265764        1.293353   -0.074356    -0.121287           0.409021   \n",
       "4 -0.265764        1.293353   -0.074356    -0.121287           0.409021   \n",
       "5 -0.265764        1.293353   -0.074356    -0.121287           0.409021   \n",
       "\n",
       "   Actor1GeoCountry_enc  Actor1Type_enc  Actor2Country_enc  \\\n",
       "1              1.086753       -0.032773           0.106576   \n",
       "2              1.086753       -0.032773           0.106576   \n",
       "3              1.086753       -0.032773           0.106576   \n",
       "4              1.086753       -0.032773           0.106576   \n",
       "5              1.086753       -0.032773           0.106576   \n",
       "\n",
       "   Actor2GeoCountry_enc  Actor2Type_enc  ActionCountry_enc  EventType_enc  \\\n",
       "1               0.60304        0.050958            1.15239        1.55327   \n",
       "2               0.60304        0.050958            1.15239        1.55327   \n",
       "3               0.60304        0.050958            1.15239        1.55327   \n",
       "4               0.60304        0.050958            1.15239        1.55327   \n",
       "5               0.60304        0.050958            1.15239        1.55327   \n",
       "\n",
       "   pct_change_30min  \n",
       "1         -0.018106  \n",
       "2         -0.018106  \n",
       "3         -0.018106  \n",
       "4         -0.018106  \n",
       "5         -0.018106  "
      ],
      "text/html": [
       "<div>\n",
       "<style scoped>\n",
       "    .dataframe tbody tr th:only-of-type {\n",
       "        vertical-align: middle;\n",
       "    }\n",
       "\n",
       "    .dataframe tbody tr th {\n",
       "        vertical-align: top;\n",
       "    }\n",
       "\n",
       "    .dataframe thead th {\n",
       "        text-align: right;\n",
       "    }\n",
       "</style>\n",
       "<table border=\"1\" class=\"dataframe\">\n",
       "  <thead>\n",
       "    <tr style=\"text-align: right;\">\n",
       "      <th></th>\n",
       "      <th>AvgTone</th>\n",
       "      <th>GoldsteinScale</th>\n",
       "      <th>NumSources</th>\n",
       "      <th>NumArticles</th>\n",
       "      <th>Actor1Country_enc</th>\n",
       "      <th>Actor1GeoCountry_enc</th>\n",
       "      <th>Actor1Type_enc</th>\n",
       "      <th>Actor2Country_enc</th>\n",
       "      <th>Actor2GeoCountry_enc</th>\n",
       "      <th>Actor2Type_enc</th>\n",
       "      <th>ActionCountry_enc</th>\n",
       "      <th>EventType_enc</th>\n",
       "      <th>pct_change_30min</th>\n",
       "    </tr>\n",
       "  </thead>\n",
       "  <tbody>\n",
       "    <tr>\n",
       "      <th>1</th>\n",
       "      <td>-0.265764</td>\n",
       "      <td>1.293353</td>\n",
       "      <td>-0.074356</td>\n",
       "      <td>-0.121287</td>\n",
       "      <td>0.409021</td>\n",
       "      <td>1.086753</td>\n",
       "      <td>-0.032773</td>\n",
       "      <td>0.106576</td>\n",
       "      <td>0.60304</td>\n",
       "      <td>0.050958</td>\n",
       "      <td>1.15239</td>\n",
       "      <td>1.55327</td>\n",
       "      <td>-0.018106</td>\n",
       "    </tr>\n",
       "    <tr>\n",
       "      <th>2</th>\n",
       "      <td>-0.265764</td>\n",
       "      <td>1.293353</td>\n",
       "      <td>-0.074356</td>\n",
       "      <td>-0.121287</td>\n",
       "      <td>0.409021</td>\n",
       "      <td>1.086753</td>\n",
       "      <td>-0.032773</td>\n",
       "      <td>0.106576</td>\n",
       "      <td>0.60304</td>\n",
       "      <td>0.050958</td>\n",
       "      <td>1.15239</td>\n",
       "      <td>1.55327</td>\n",
       "      <td>-0.018106</td>\n",
       "    </tr>\n",
       "    <tr>\n",
       "      <th>3</th>\n",
       "      <td>-0.265764</td>\n",
       "      <td>1.293353</td>\n",
       "      <td>-0.074356</td>\n",
       "      <td>-0.121287</td>\n",
       "      <td>0.409021</td>\n",
       "      <td>1.086753</td>\n",
       "      <td>-0.032773</td>\n",
       "      <td>0.106576</td>\n",
       "      <td>0.60304</td>\n",
       "      <td>0.050958</td>\n",
       "      <td>1.15239</td>\n",
       "      <td>1.55327</td>\n",
       "      <td>-0.018106</td>\n",
       "    </tr>\n",
       "    <tr>\n",
       "      <th>4</th>\n",
       "      <td>-0.265764</td>\n",
       "      <td>1.293353</td>\n",
       "      <td>-0.074356</td>\n",
       "      <td>-0.121287</td>\n",
       "      <td>0.409021</td>\n",
       "      <td>1.086753</td>\n",
       "      <td>-0.032773</td>\n",
       "      <td>0.106576</td>\n",
       "      <td>0.60304</td>\n",
       "      <td>0.050958</td>\n",
       "      <td>1.15239</td>\n",
       "      <td>1.55327</td>\n",
       "      <td>-0.018106</td>\n",
       "    </tr>\n",
       "    <tr>\n",
       "      <th>5</th>\n",
       "      <td>-0.265764</td>\n",
       "      <td>1.293353</td>\n",
       "      <td>-0.074356</td>\n",
       "      <td>-0.121287</td>\n",
       "      <td>0.409021</td>\n",
       "      <td>1.086753</td>\n",
       "      <td>-0.032773</td>\n",
       "      <td>0.106576</td>\n",
       "      <td>0.60304</td>\n",
       "      <td>0.050958</td>\n",
       "      <td>1.15239</td>\n",
       "      <td>1.55327</td>\n",
       "      <td>-0.018106</td>\n",
       "    </tr>\n",
       "  </tbody>\n",
       "</table>\n",
       "</div>"
      ]
     },
     "execution_count": 7,
     "metadata": {},
     "output_type": "execute_result"
    }
   ],
   "execution_count": 7
  },
  {
   "metadata": {
    "ExecuteTime": {
     "end_time": "2024-12-13T10:24:48.875247Z",
     "start_time": "2024-12-13T10:24:48.848058Z"
    }
   },
   "cell_type": "code",
   "source": [
    "import joblib\n",
    "joblib.dump(naive, '../cache/naive_model.joblib')"
   ],
   "id": "e069b39d3c80ea08",
   "outputs": [
    {
     "data": {
      "text/plain": [
       "['../cache/naive_model.joblib']"
      ]
     },
     "execution_count": 8,
     "metadata": {},
     "output_type": "execute_result"
    }
   ],
   "execution_count": 8
  }
 ],
 "metadata": {
  "kernelspec": {
   "display_name": "Python 3",
   "language": "python",
   "name": "python3"
  },
  "language_info": {
   "codemirror_mode": {
    "name": "ipython",
    "version": 2
   },
   "file_extension": ".py",
   "mimetype": "text/x-python",
   "name": "python",
   "nbconvert_exporter": "python",
   "pygments_lexer": "ipython2",
   "version": "2.7.6"
  }
 },
 "nbformat": 4,
 "nbformat_minor": 5
}
