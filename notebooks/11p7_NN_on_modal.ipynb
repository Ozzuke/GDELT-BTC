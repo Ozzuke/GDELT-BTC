{
 "cells": [
  {
   "cell_type": "code",
   "id": "initial_id",
   "metadata": {
    "collapsed": true,
    "jupyter": {
     "is_executing": true
    },
    "ExecuteTime": {
     "start_time": "2024-12-13T11:46:59.750752Z"
    }
   },
   "source": [
    "%%bash\n",
    "modal run 11p6_NN_modal.py"
   ],
   "outputs": [
    {
     "name": "stdout",
     "output_type": "stream",
     "text": [
      "\u001B[33m╭─\u001B[0m\u001B[33m Modal Deprecation Warning (2024-05-01) \u001B[0m\u001B[33m────────────────────────────────────\u001B[0m\u001B[33m─╮\u001B[0m\n",
      "\u001B[33m│\u001B[0m\u001B[33m \u001B[0m\u001B[33mThe symbol `app` is not present but `stub` is. This will not work in future \u001B[0m\u001B[33m \u001B[0m\u001B[33m│\u001B[0m\n",
      "\u001B[33m│\u001B[0m\u001B[33m \u001B[0m\u001B[33mModal versions. Suggestion: change the name of `stub` to `app`.\u001B[0m\u001B[33m             \u001B[0m\u001B[33m \u001B[0m\u001B[33m│\u001B[0m\n",
      "\u001B[33m│\u001B[0m\u001B[33m \u001B[0m\u001B[33m                                                                            \u001B[0m\u001B[33m \u001B[0m\u001B[33m│\u001B[0m\n",
      "\u001B[33m│\u001B[0m\u001B[33m \u001B[0m\u001B[33mSource: \u001B[0m\u001B[33m                                                                    \u001B[0m\u001B[33m \u001B[0m\u001B[33m│\u001B[0m\n",
      "\u001B[33m│\u001B[0m\u001B[33m \u001B[0m\u001B[33m/opt/homebrew/anaconda3/lib/python3.12/site-packages/click/core.py:1729\u001B[0m\u001B[33m     \u001B[0m\u001B[33m \u001B[0m\u001B[33m│\u001B[0m\n",
      "\u001B[33m│\u001B[0m\u001B[33m \u001B[0m\u001B[33m  cmd = self.get_command(ctx, cmd_name)\u001B[0m\u001B[33m                                     \u001B[0m\u001B[33m \u001B[0m\u001B[33m│\u001B[0m\n",
      "\u001B[33m╰──────────────────────────────────────────────────────────────────────────────╯\u001B[0m\n",
      "\u001B[2K\u001B[32m✓\u001B[0m Initialized. \u001B[37mView run at \u001B[0m\n",
      "\u001B[4;37mhttps://modal.com/apps/ozzuke/main/ap-BwNsz6R0EwOf0rr5nkFYpZ\u001B[0m\n",
      "\u001B[2K\u001B[34m⠋\u001B[0m Initializing...\n",
      "\u001B[2K\u001B[34m⠸\u001B[0m Creating objects...objects...\n",
      "\u001B[37m└── \u001B[0m\u001B[34m⠋\u001B[0m Creating mount \n",
      "\u001B[37m    \u001B[0m/Users/osvald/Software/ozzuke/university/datasci/GDELT-BTC/notebooks/11p6_NN\n",
      "\u001B[2K\u001B[1A\u001B[2K\u001B[1A\u001B[2K\u001B[1A\u001B[2K\u001B[34m⠦\u001B[0m Creating objects...\n",
      "\u001B[37m└── \u001B[0m\u001B[34m⠸\u001B[0m Creating mount \n",
      "\u001B[37m    \u001B[0m/Users/osvald/Software/ozzuke/university/datasci/GDELT-BTC/notebooks/11p6_NN\n",
      "\u001B[2K\u001B[1A\u001B[2K\u001B[1A\u001B[2K\u001B[1A\u001B[2K\u001B[34m⠏\u001B[0m Creating objects...\n",
      "\u001B[37m└── \u001B[0m\u001B[34m⠦\u001B[0m Creating mount \n",
      "\u001B[37m    \u001B[0m/Users/osvald/Software/ozzuke/university/datasci/GDELT-BTC/notebooks/11p6_NN\n",
      "\u001B[2K\u001B[1A\u001B[2K\u001B[1A\u001B[2K\u001B[1A\u001B[2K\u001B[34m⠹\u001B[0m Creating objects...\n",
      "\u001B[37m└── \u001B[0m\u001B[34m⠏\u001B[0m Creating mount \n",
      "\u001B[37m    \u001B[0m/Users/osvald/Software/ozzuke/university/datasci/GDELT-BTC/notebooks/11p6_NN\n",
      "\u001B[2K\u001B[1A\u001B[2K\u001B[1A\u001B[2K\u001B[1A\u001B[2K\u001B[34m⠴\u001B[0m Creating objects...\n",
      "\u001B[37m└── \u001B[0m\u001B[34m⠹\u001B[0m Creating mount \n",
      "\u001B[37m    \u001B[0m/Users/osvald/Software/ozzuke/university/datasci/GDELT-BTC/notebooks/11p6_NN\n",
      "\u001B[2K\u001B[1A\u001B[2K\u001B[1A\u001B[2K\u001B[1A\u001B[2K\u001B[34m⠇\u001B[0m Creating objects...\n",
      "\u001B[37m├── \u001B[0m🔨 Created mount \n",
      "\u001B[37m│   \u001B[0m/Users/osvald/Software/ozzuke/university/datasci/GDELT-BTC/notebooks/11p6_NN\n",
      "\u001B[37m│   \u001B[0m_modal.py\n",
      "\u001B[37m└── \u001B[0m🔨 Created function train_model.\n",
      "\u001B[1A\u001B[2K\u001B[1A\u001B[2K\u001B[1A\u001B[2K\u001B[1A\u001B[2K\u001B[1A\u001B[2K\u001B[32m✓\u001B[0m Created objects.\n",
      "\u001B[37m├── \u001B[0m🔨 Created mount \n",
      "\u001B[37m│   \u001B[0m/Users/osvald/Software/ozzuke/university/datasci/GDELT-BTC/notebooks/11p6_NN\n",
      "\u001B[37m│   \u001B[0m_modal.py\n",
      "\u001B[37m└── \u001B[0m🔨 Created function train_model.\n",
      "\u001B[2K\u001B[34m⠏\u001B[0m \u001B[34mWorker assigned...\u001B[0m \u001B[37mView app at \u001B[0m\n",
      "\u001B[2K\u001B[1A\u001B[2K\u001B[34m⠹\u001B[0m \u001B[34mRunning...\u001B[0m \u001B[37mView app at \u001B[0mYpZ\u001B[0m\n",
      "\u001B[2K\u001B[1A\u001B[2K\u001B[34m⠴\u001B[0m \u001B[34mLoading images (1 containers initializing)...\u001B[0m \u001B[37mView app at \u001B[0m\n",
      "\u001B[2K\u001B[1A\u001B[2K\u001B[34m⠏\u001B[0m \u001B[34mLoading images (1 containers initializing)...\u001B[0m \u001B[37mView app at \u001B[0m\n",
      "\u001B[2K\u001B[1A\u001B[2K\u001B[34m⠹\u001B[0m \u001B[34mLoading images (1 containers initializing)...\u001B[0m \u001B[37mView app at \u001B[0m\n",
      "\u001B[2K\u001B[1A\u001B[2K\u001B[34m⠴\u001B[0m \u001B[34mLoading images (1 containers initializing)...\u001B[0m \u001B[37mView app at \u001B[0m\n",
      "\u001B[2K\u001B[1A\u001B[2K\u001B[34m⠇\u001B[0m \u001B[34mLoading images (1 containers initializing)...\u001B[0m \u001B[37mView app at \u001B[0m\n",
      "\u001B[2K\u001B[1A\u001B[2K\u001B[34m⠙\u001B[0m \u001B[34mLoading images (1 containers initializing)...\u001B[0m \u001B[37mView app at \u001B[0m\n",
      "\u001B[2K\u001B[1A\u001B[2K\u001B[34m⠼\u001B[0m \u001B[34mLoading images (1 containers initializing)...\u001B[0m \u001B[37mView app at \u001B[0m\n",
      "\u001B[2K\u001B[1A\u001B[2K\u001B[34m⠇\u001B[0m \u001B[34mLoading images (1 containers initializing)...\u001B[0m \u001B[37mView app at \u001B[0m\n",
      "\u001B[2K\u001B[1A\u001B[2K\u001B[34m⠙\u001B[0m \u001B[34mLoading images (1 containers initializing)...\u001B[0m \u001B[37mView app at \u001B[0m\n",
      "\u001B[2K\u001B[1A\u001B[2K\u001B[34m⠼\u001B[0m \u001B[34mLoading images (1 containers initializing)...\u001B[0m \u001B[37mView app at \u001B[0m\n",
      "\u001B[2K\u001B[1A\u001B[2K\u001B[34m⠧\u001B[0m \u001B[34mLoading images (1 containers initializing)...\u001B[0m \u001B[37mView app at \u001B[0m\n",
      "\u001B[2K\u001B[1A\u001B[2K\u001B[34m⠋\u001B[0m \u001B[34mLoading images (1 containers initializing)...\u001B[0m \u001B[37mView app at \u001B[0m\n",
      "\u001B[2K\u001B[1A\u001B[2K\u001B[34m⠸\u001B[0m \u001B[34mLoading images (1 containers initializing)...\u001B[0m \u001B[37mView app at \u001B[0m\n",
      "\u001B[2K\u001B[1A\u001B[2K\u001B[34m⠧\u001B[0m \u001B[34mLoading images (1 containers initializing)...\u001B[0m \u001B[37mView app at \u001B[0m\n",
      "\u001B[2K\u001B[1A\u001B[2K\u001B[34m⠋\u001B[0m \u001B[34mLoading images (1 containers initializing)...\u001B[0m \u001B[37mView app at \u001B[0m\n",
      "\u001B[2K\u001B[1A\u001B[2K\u001B[34m⠸\u001B[0m \u001B[34mLoading images (1 containers initializing)...\u001B[0m \u001B[37mView app at \u001B[0m\n",
      "\u001B[2K\u001B[1A\u001B[2K\u001B[34m⠦\u001B[0m \u001B[34mLoading images (1 containers initializing)...\u001B[0m \u001B[37mView app at \u001B[0m\n",
      "\u001B[2K\u001B[1A\u001B[2K\u001B[34m⠏\u001B[0m \u001B[34mLoading images (1 containers initializing)...\u001B[0m \u001B[37mView app at \u001B[0m\n",
      "\u001B[2K\u001B[1A\u001B[2K\u001B[34m⠸\u001B[0m \u001B[34mLoading images (1 containers initializing)...\u001B[0m \u001B[37mView app at \u001B[0m\n",
      "\u001B[2K\u001B[1A\u001B[2K\u001B[34m⠦\u001B[0m \u001B[34mLoading images (1 containers initializing)...\u001B[0m \u001B[37mView app at \u001B[0m\n",
      "\u001B[2K\u001B[1A\u001B[2K\u001B[34m⠏\u001B[0m \u001B[34mLoading images (1 containers initializing)...\u001B[0m \u001B[37mView app at \u001B[0m\n",
      "\u001B[2K\u001B[1A\u001B[2K\u001B[34m⠹\u001B[0m \u001B[34mLoading images (1 containers initializing)...\u001B[0m \u001B[37mView app at \u001B[0m\n",
      "\u001B[2K\u001B[1A\u001B[2K\u001B[34m⠴\u001B[0m \u001B[34mLoading images (1 containers initializing)...\u001B[0m \u001B[37mView app at \u001B[0m\n",
      "\u001B[2K\u001B[1A\u001B[2K\u001B[34m⠇\u001B[0m \u001B[34mLoading images (1 containers initializing)...\u001B[0m \u001B[37mView app at \u001B[0m\n",
      "\u001B[2K\u001B[1A\u001B[2K\u001B[34m⠹\u001B[0m \u001B[34mLoading images (1 containers initializing)...\u001B[0m \u001B[37mView app at \u001B[0m\n",
      "\u001B[2K\u001B[1A\u001B[2K\u001B[34m⠦\u001B[0m \u001B[34mLoading images (1 containers initializing)...\u001B[0m \u001B[37mView app at \u001B[0m\n",
      "\u001B[2K\u001B[1A\u001B[2K\u001B[34m⠋\u001B[0m \u001B[34mLoading images (1 containers initializing)...\u001B[0m \u001B[37mView app at \u001B[0m\n",
      "\u001B[2K\u001B[1A\u001B[2K\u001B[34m⠼\u001B[0m \u001B[34mLoading images (1 containers initializing)...\u001B[0m \u001B[37mView app at \u001B[0m\n"
     ]
    }
   ],
   "execution_count": null
  }
 ],
 "metadata": {
  "kernelspec": {
   "display_name": "Python 3",
   "language": "python",
   "name": "python3"
  },
  "language_info": {
   "codemirror_mode": {
    "name": "ipython",
    "version": 2
   },
   "file_extension": ".py",
   "mimetype": "text/x-python",
   "name": "python",
   "nbconvert_exporter": "python",
   "pygments_lexer": "ipython2",
   "version": "2.7.6"
  }
 },
 "nbformat": 4,
 "nbformat_minor": 5
}
