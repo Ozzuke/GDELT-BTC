{
 "cells": [
  {
   "metadata": {
    "ExecuteTime": {
     "end_time": "2024-12-08T19:00:30.813308Z",
     "start_time": "2024-12-08T19:00:27.854959Z"
    }
   },
   "cell_type": "code",
   "source": "%run 09_baseline_model.ipynb",
   "id": "9f172670000522a9",
   "outputs": [],
   "execution_count": 38
  },
  {
   "cell_type": "code",
   "id": "initial_id",
   "metadata": {
    "collapsed": true,
    "ExecuteTime": {
     "end_time": "2024-12-08T19:00:33.735473Z",
     "start_time": "2024-12-08T19:00:30.823726Z"
    }
   },
   "source": [
    "import joblib\n",
    "import pandas as pd\n",
    "\n",
    "var = joblib.load('../cache/var_model.joblib')\n",
    "dfm = joblib.load('../cache/dfm_model.joblib')\n",
    "varmax = joblib.load('../cache/varmax_model.joblib')\n",
    "naive = joblib.load('../cache/naive_model.joblib')\n",
    "\n",
    "test_data = pd.read_parquet('../cache/test_data.parquet')\n",
    "train_data = pd.read_parquet('../cache/train_data.parquet')\n",
    "btc = pd.read_parquet('../cache/btc_cleaned.parquet')"
   ],
   "outputs": [],
   "execution_count": 39
  },
  {
   "metadata": {
    "ExecuteTime": {
     "end_time": "2024-12-08T19:00:38.137810Z",
     "start_time": "2024-12-08T19:00:33.837381Z"
    }
   },
   "cell_type": "code",
   "source": [
    "# get results for the models\n",
    "lag_order = var.k_ar\n",
    "last_obs = train_data.values[-lag_order:]\n",
    "naive_results = naive.forecast(steps=35039)\n",
    "var_results = var.forecast(last_obs, steps=35039)\n",
    "dfm_results = dfm.get_forecast(steps=35039)\n",
    "varmax_results = varmax.forecast(steps=35039)"
   ],
   "id": "cd6488c35abef5b9",
   "outputs": [
    {
     "name": "stderr",
     "output_type": "stream",
     "text": [
      "C:\\Users\\leo-mart\\AppData\\Local\\anaconda3\\Lib\\site-packages\\statsmodels\\tsa\\base\\tsa_model.py:836: ValueWarning: No supported index is available. Prediction results will be given with an integer index beginning at `start`.\n",
      "  return get_prediction_index(\n",
      "C:\\Users\\leo-mart\\AppData\\Local\\anaconda3\\Lib\\site-packages\\statsmodels\\tsa\\base\\tsa_model.py:836: FutureWarning: No supported index is available. In the next version, calling this method in a model without a supported index will result in an exception.\n",
      "  return get_prediction_index(\n",
      "C:\\Users\\leo-mart\\AppData\\Local\\anaconda3\\Lib\\site-packages\\statsmodels\\tsa\\base\\tsa_model.py:836: ValueWarning: No supported index is available. Prediction results will be given with an integer index beginning at `start`.\n",
      "  return get_prediction_index(\n"
     ]
    }
   ],
   "execution_count": 40
  },
  {
   "metadata": {
    "ExecuteTime": {
     "end_time": "2024-12-08T19:00:38.236093Z",
     "start_time": "2024-12-08T19:00:38.216672Z"
    }
   },
   "cell_type": "code",
   "source": [
    "dfm_results_mean = dfm_results.predicted_mean\n",
    "\n",
    "naive_df = pd.DataFrame(naive_results, columns=train_data.columns)\n",
    "var_df = pd.DataFrame(var_results, columns=train_data.columns)\n",
    "dfm_df = pd.DataFrame(dfm_results_mean, columns=train_data.columns)\n",
    "varmax_df = pd.DataFrame(varmax_results, columns=train_data.columns)"
   ],
   "id": "83fb4327b0d38f45",
   "outputs": [],
   "execution_count": 41
  },
  {
   "metadata": {
    "ExecuteTime": {
     "end_time": "2024-12-08T19:00:38.335739Z",
     "start_time": "2024-12-08T19:00:38.305092Z"
    }
   },
   "cell_type": "code",
   "source": [
    "var_df.head()\n",
    "dfm_df.head()\n",
    "varmax_df.head()"
   ],
   "id": "dcccecf4d3840181",
   "outputs": [
    {
     "data": {
      "text/plain": [
       "       Timestamp  Actor1Country  Actor1GeoCountry  Actor1Type  Actor2Country  \\\n",
       "10000   1.165967            NaN         19.814492    8.856589            NaN   \n",
       "10001   1.165077            NaN         11.974672    9.051145            NaN   \n",
       "10002   1.165227            NaN         11.974970    9.051628            NaN   \n",
       "10003   1.165232            NaN         11.974891    9.051635            NaN   \n",
       "10004   1.165233            NaN         11.974888    9.051636            NaN   \n",
       "\n",
       "       Actor2GeoCountry  Actor2Type  ActionCountry  EventType  GoldsteinScale  \\\n",
       "10000         13.165950   10.874292      23.460156  -6.521625             NaN   \n",
       "10001         10.703791    8.888771       9.842941  10.553419             NaN   \n",
       "10002         10.701237    8.888559       9.841836  10.549444             NaN   \n",
       "10003         10.701216    8.888546       9.841735  10.549539             NaN   \n",
       "10004         10.701215    8.888545       9.841731  10.549543             NaN   \n",
       "\n",
       "       NumSources  NumArticles  AvgTone  Magnitude    Impact  pct_change_30min  \n",
       "10000         NaN          NaN      NaN -14.624744  1.224671          0.137775  \n",
       "10001         NaN          NaN      NaN   0.579796  0.056872          0.157031  \n",
       "10002         NaN          NaN      NaN   0.580371  0.056227          0.151269  \n",
       "10003         NaN          NaN      NaN   0.580459  0.056230          0.151202  \n",
       "10004         NaN          NaN      NaN   0.580462  0.056230          0.151202  "
      ],
      "text/html": [
       "<div>\n",
       "<style scoped>\n",
       "    .dataframe tbody tr th:only-of-type {\n",
       "        vertical-align: middle;\n",
       "    }\n",
       "\n",
       "    .dataframe tbody tr th {\n",
       "        vertical-align: top;\n",
       "    }\n",
       "\n",
       "    .dataframe thead th {\n",
       "        text-align: right;\n",
       "    }\n",
       "</style>\n",
       "<table border=\"1\" class=\"dataframe\">\n",
       "  <thead>\n",
       "    <tr style=\"text-align: right;\">\n",
       "      <th></th>\n",
       "      <th>Timestamp</th>\n",
       "      <th>Actor1Country</th>\n",
       "      <th>Actor1GeoCountry</th>\n",
       "      <th>Actor1Type</th>\n",
       "      <th>Actor2Country</th>\n",
       "      <th>Actor2GeoCountry</th>\n",
       "      <th>Actor2Type</th>\n",
       "      <th>ActionCountry</th>\n",
       "      <th>EventType</th>\n",
       "      <th>GoldsteinScale</th>\n",
       "      <th>NumSources</th>\n",
       "      <th>NumArticles</th>\n",
       "      <th>AvgTone</th>\n",
       "      <th>Magnitude</th>\n",
       "      <th>Impact</th>\n",
       "      <th>pct_change_30min</th>\n",
       "    </tr>\n",
       "  </thead>\n",
       "  <tbody>\n",
       "    <tr>\n",
       "      <th>10000</th>\n",
       "      <td>1.165967</td>\n",
       "      <td>NaN</td>\n",
       "      <td>19.814492</td>\n",
       "      <td>8.856589</td>\n",
       "      <td>NaN</td>\n",
       "      <td>13.165950</td>\n",
       "      <td>10.874292</td>\n",
       "      <td>23.460156</td>\n",
       "      <td>-6.521625</td>\n",
       "      <td>NaN</td>\n",
       "      <td>NaN</td>\n",
       "      <td>NaN</td>\n",
       "      <td>NaN</td>\n",
       "      <td>-14.624744</td>\n",
       "      <td>1.224671</td>\n",
       "      <td>0.137775</td>\n",
       "    </tr>\n",
       "    <tr>\n",
       "      <th>10001</th>\n",
       "      <td>1.165077</td>\n",
       "      <td>NaN</td>\n",
       "      <td>11.974672</td>\n",
       "      <td>9.051145</td>\n",
       "      <td>NaN</td>\n",
       "      <td>10.703791</td>\n",
       "      <td>8.888771</td>\n",
       "      <td>9.842941</td>\n",
       "      <td>10.553419</td>\n",
       "      <td>NaN</td>\n",
       "      <td>NaN</td>\n",
       "      <td>NaN</td>\n",
       "      <td>NaN</td>\n",
       "      <td>0.579796</td>\n",
       "      <td>0.056872</td>\n",
       "      <td>0.157031</td>\n",
       "    </tr>\n",
       "    <tr>\n",
       "      <th>10002</th>\n",
       "      <td>1.165227</td>\n",
       "      <td>NaN</td>\n",
       "      <td>11.974970</td>\n",
       "      <td>9.051628</td>\n",
       "      <td>NaN</td>\n",
       "      <td>10.701237</td>\n",
       "      <td>8.888559</td>\n",
       "      <td>9.841836</td>\n",
       "      <td>10.549444</td>\n",
       "      <td>NaN</td>\n",
       "      <td>NaN</td>\n",
       "      <td>NaN</td>\n",
       "      <td>NaN</td>\n",
       "      <td>0.580371</td>\n",
       "      <td>0.056227</td>\n",
       "      <td>0.151269</td>\n",
       "    </tr>\n",
       "    <tr>\n",
       "      <th>10003</th>\n",
       "      <td>1.165232</td>\n",
       "      <td>NaN</td>\n",
       "      <td>11.974891</td>\n",
       "      <td>9.051635</td>\n",
       "      <td>NaN</td>\n",
       "      <td>10.701216</td>\n",
       "      <td>8.888546</td>\n",
       "      <td>9.841735</td>\n",
       "      <td>10.549539</td>\n",
       "      <td>NaN</td>\n",
       "      <td>NaN</td>\n",
       "      <td>NaN</td>\n",
       "      <td>NaN</td>\n",
       "      <td>0.580459</td>\n",
       "      <td>0.056230</td>\n",
       "      <td>0.151202</td>\n",
       "    </tr>\n",
       "    <tr>\n",
       "      <th>10004</th>\n",
       "      <td>1.165233</td>\n",
       "      <td>NaN</td>\n",
       "      <td>11.974888</td>\n",
       "      <td>9.051636</td>\n",
       "      <td>NaN</td>\n",
       "      <td>10.701215</td>\n",
       "      <td>8.888545</td>\n",
       "      <td>9.841731</td>\n",
       "      <td>10.549543</td>\n",
       "      <td>NaN</td>\n",
       "      <td>NaN</td>\n",
       "      <td>NaN</td>\n",
       "      <td>NaN</td>\n",
       "      <td>0.580462</td>\n",
       "      <td>0.056230</td>\n",
       "      <td>0.151202</td>\n",
       "    </tr>\n",
       "  </tbody>\n",
       "</table>\n",
       "</div>"
      ]
     },
     "execution_count": 42,
     "metadata": {},
     "output_type": "execute_result"
    }
   ],
   "execution_count": 42
  },
  {
   "metadata": {
    "ExecuteTime": {
     "end_time": "2024-12-08T19:00:38.483075Z",
     "start_time": "2024-12-08T19:00:38.458909Z"
    }
   },
   "cell_type": "code",
   "source": "naive_df.head()",
   "id": "9b50866415953600",
   "outputs": [
    {
     "data": {
      "text/plain": [
       "  Timestamp Actor1Country Actor1GeoCountry Actor1Type Actor2Country  \\\n",
       "1  1.170298             9               13          9            13   \n",
       "2  1.170298             9               13          9            13   \n",
       "3  1.170298             9               13          9            13   \n",
       "4  1.170298             9               13          9            13   \n",
       "5  1.170298             9               13          9            13   \n",
       "\n",
       "  Actor2GeoCountry Actor2Type ActionCountry EventType GoldsteinScale  \\\n",
       "1               11          9            11        10      -0.104944   \n",
       "2               11          9            11        10      -0.104944   \n",
       "3               11          9            11        10      -0.104944   \n",
       "4               11          9            11        10      -0.104944   \n",
       "5               11          9            11        10      -0.104944   \n",
       "\n",
       "  NumSources NumArticles   AvgTone Magnitude    Impact pct_change_30min  \n",
       "1  -0.677247   -0.106454  1.081663 -0.657705  0.034831        -0.018106  \n",
       "2  -0.677247   -0.106454  1.081663 -0.657705  0.034831        -0.018106  \n",
       "3  -0.677247   -0.106454  1.081663 -0.657705  0.034831        -0.018106  \n",
       "4  -0.677247   -0.106454  1.081663 -0.657705  0.034831        -0.018106  \n",
       "5  -0.677247   -0.106454  1.081663 -0.657705  0.034831        -0.018106  "
      ],
      "text/html": [
       "<div>\n",
       "<style scoped>\n",
       "    .dataframe tbody tr th:only-of-type {\n",
       "        vertical-align: middle;\n",
       "    }\n",
       "\n",
       "    .dataframe tbody tr th {\n",
       "        vertical-align: top;\n",
       "    }\n",
       "\n",
       "    .dataframe thead th {\n",
       "        text-align: right;\n",
       "    }\n",
       "</style>\n",
       "<table border=\"1\" class=\"dataframe\">\n",
       "  <thead>\n",
       "    <tr style=\"text-align: right;\">\n",
       "      <th></th>\n",
       "      <th>Timestamp</th>\n",
       "      <th>Actor1Country</th>\n",
       "      <th>Actor1GeoCountry</th>\n",
       "      <th>Actor1Type</th>\n",
       "      <th>Actor2Country</th>\n",
       "      <th>Actor2GeoCountry</th>\n",
       "      <th>Actor2Type</th>\n",
       "      <th>ActionCountry</th>\n",
       "      <th>EventType</th>\n",
       "      <th>GoldsteinScale</th>\n",
       "      <th>NumSources</th>\n",
       "      <th>NumArticles</th>\n",
       "      <th>AvgTone</th>\n",
       "      <th>Magnitude</th>\n",
       "      <th>Impact</th>\n",
       "      <th>pct_change_30min</th>\n",
       "    </tr>\n",
       "  </thead>\n",
       "  <tbody>\n",
       "    <tr>\n",
       "      <th>1</th>\n",
       "      <td>1.170298</td>\n",
       "      <td>9</td>\n",
       "      <td>13</td>\n",
       "      <td>9</td>\n",
       "      <td>13</td>\n",
       "      <td>11</td>\n",
       "      <td>9</td>\n",
       "      <td>11</td>\n",
       "      <td>10</td>\n",
       "      <td>-0.104944</td>\n",
       "      <td>-0.677247</td>\n",
       "      <td>-0.106454</td>\n",
       "      <td>1.081663</td>\n",
       "      <td>-0.657705</td>\n",
       "      <td>0.034831</td>\n",
       "      <td>-0.018106</td>\n",
       "    </tr>\n",
       "    <tr>\n",
       "      <th>2</th>\n",
       "      <td>1.170298</td>\n",
       "      <td>9</td>\n",
       "      <td>13</td>\n",
       "      <td>9</td>\n",
       "      <td>13</td>\n",
       "      <td>11</td>\n",
       "      <td>9</td>\n",
       "      <td>11</td>\n",
       "      <td>10</td>\n",
       "      <td>-0.104944</td>\n",
       "      <td>-0.677247</td>\n",
       "      <td>-0.106454</td>\n",
       "      <td>1.081663</td>\n",
       "      <td>-0.657705</td>\n",
       "      <td>0.034831</td>\n",
       "      <td>-0.018106</td>\n",
       "    </tr>\n",
       "    <tr>\n",
       "      <th>3</th>\n",
       "      <td>1.170298</td>\n",
       "      <td>9</td>\n",
       "      <td>13</td>\n",
       "      <td>9</td>\n",
       "      <td>13</td>\n",
       "      <td>11</td>\n",
       "      <td>9</td>\n",
       "      <td>11</td>\n",
       "      <td>10</td>\n",
       "      <td>-0.104944</td>\n",
       "      <td>-0.677247</td>\n",
       "      <td>-0.106454</td>\n",
       "      <td>1.081663</td>\n",
       "      <td>-0.657705</td>\n",
       "      <td>0.034831</td>\n",
       "      <td>-0.018106</td>\n",
       "    </tr>\n",
       "    <tr>\n",
       "      <th>4</th>\n",
       "      <td>1.170298</td>\n",
       "      <td>9</td>\n",
       "      <td>13</td>\n",
       "      <td>9</td>\n",
       "      <td>13</td>\n",
       "      <td>11</td>\n",
       "      <td>9</td>\n",
       "      <td>11</td>\n",
       "      <td>10</td>\n",
       "      <td>-0.104944</td>\n",
       "      <td>-0.677247</td>\n",
       "      <td>-0.106454</td>\n",
       "      <td>1.081663</td>\n",
       "      <td>-0.657705</td>\n",
       "      <td>0.034831</td>\n",
       "      <td>-0.018106</td>\n",
       "    </tr>\n",
       "    <tr>\n",
       "      <th>5</th>\n",
       "      <td>1.170298</td>\n",
       "      <td>9</td>\n",
       "      <td>13</td>\n",
       "      <td>9</td>\n",
       "      <td>13</td>\n",
       "      <td>11</td>\n",
       "      <td>9</td>\n",
       "      <td>11</td>\n",
       "      <td>10</td>\n",
       "      <td>-0.104944</td>\n",
       "      <td>-0.677247</td>\n",
       "      <td>-0.106454</td>\n",
       "      <td>1.081663</td>\n",
       "      <td>-0.657705</td>\n",
       "      <td>0.034831</td>\n",
       "      <td>-0.018106</td>\n",
       "    </tr>\n",
       "  </tbody>\n",
       "</table>\n",
       "</div>"
      ]
     },
     "execution_count": 43,
     "metadata": {},
     "output_type": "execute_result"
    }
   ],
   "execution_count": 43
  },
  {
   "metadata": {
    "ExecuteTime": {
     "end_time": "2024-12-08T19:00:41.147025Z",
     "start_time": "2024-12-08T19:00:38.660988Z"
    }
   },
   "cell_type": "code",
   "source": [
    "# plot btc 30min price and all the models\n",
    "import matplotlib.pyplot as plt\n",
    "import seaborn as sns\n",
    "\n",
    "fig, ax = plt.subplots(figsize=(15, 10))\n",
    "sns.lineplot(data=btc['pct_change_30min'], ax=ax, label='BTC Price change', color='black')\n",
    "sns.lineplot(data=naive_df['pct_change_30min'], ax=ax, label='Naive', color='orange')\n",
    "sns.lineplot(data=var_df['pct_change_30min'], ax=ax, label='VAR', color='blue')\n",
    "sns.lineplot(data=dfm_df['pct_change_30min'], ax=ax, label='DFM', color='red')\n",
    "sns.lineplot(data=varmax_df['pct_change_30min'], ax=ax, label='VARMAX', color='green')\n"
   ],
   "id": "c63492e519de5e85",
   "outputs": [
    {
     "data": {
      "text/plain": [
       "<Axes: ylabel='pct_change_30min'>"
      ]
     },
     "execution_count": 44,
     "metadata": {},
     "output_type": "execute_result"
    },
    {
     "data": {
      "text/plain": [
       "<Figure size 1500x1000 with 1 Axes>"
      ],
      "image/png": "[encoded data removed]"
     },
     "metadata": {},
     "output_type": "display_data"
    }
   ],
   "execution_count": 44
  },
  {
   "metadata": {
    "ExecuteTime": {
     "end_time": "2024-12-08T19:22:38.624249Z",
     "start_time": "2024-12-08T19:22:36.112103Z"
    }
   },
   "cell_type": "code",
   "source": [
    "# if pct_change_30min is negative then set it to 0, if pct_change_30min is positive then set it to 1\n",
    "naive_signal = naive_df['pct_change_30min'].apply(lambda x: 0 if x < 0 else 1)\n",
    "var_signal = var_df['pct_change_30min'].apply(lambda x: 0 if x < 0 else 1)\n",
    "dfm_signal = dfm_df['pct_change_30min'].apply(lambda x: 0 if x < 0 else 1)\n",
    "varmax_signal = varmax_df['pct_change_30min'].apply(lambda x: 0 if x < 0 else 1)\n",
    "btc_signal = train_data['pct_change_30min'].apply(lambda x: 0 if x < 0 else 1)"
   ],
   "id": "5b17f2e31a287896",
   "outputs": [],
   "execution_count": 54
  },
  {
   "metadata": {
    "ExecuteTime": {
     "end_time": "2024-12-08T19:23:15.485871Z",
     "start_time": "2024-12-08T19:23:11.913136Z"
    }
   },
   "cell_type": "code",
   "source": [
    "money = 1000000\n",
    "btc_prices = btc['pct_change_30min'].cumsum() + 1  # Convert percentage change to price index\n",
    "btc_holdings = 0\n",
    "portfolio_values = []\n",
    "\n",
    "signals = [naive_signal, var_signal, dfm_signal, varmax_signal, btc_signal]\n",
    "min_length = min(len(btc_prices), len(signals[0]))\n",
    "\n",
    "\n",
    "# Naive model\n",
    "for j in range(len(signals)):\n",
    "    signal = signals[j]\n",
    "    for i in range(min_length):\n",
    "        current_price = btc_prices.iloc[i]\n",
    "        if signal.iloc[i] == 1:\n",
    "            # Buy 1 BTC\n",
    "            money -= current_price\n",
    "            btc_holdings += 1\n",
    "        elif signal.iloc[i] == 0:\n",
    "            # Sell 1 BTC\n",
    "            money += current_price\n",
    "            btc_holdings -= 1\n",
    "        portfolio_value = money + btc_holdings * current_price\n",
    "        portfolio_values.append(portfolio_value)\n",
    "    print(portfolio_values[-1])"
   ],
   "id": "bd60f29701ccc774",
   "outputs": [
    {
     "name": "stdout",
     "output_type": "stream",
     "text": [
      "-250853.8008497171\n",
      "905189.0552452889\n",
      "2050280.0029054391\n",
      "3301133.80375514\n",
      "3168394.1316363625\n"
     ]
    }
   ],
   "execution_count": 56
  }
 ],
 "metadata": {
  "kernelspec": {
   "display_name": "Python 3",
   "language": "python",
   "name": "python3"
  },
  "language_info": {
   "codemirror_mode": {
    "name": "ipython",
    "version": 2
   },
   "file_extension": ".py",
   "mimetype": "text/x-python",
   "name": "python",
   "nbconvert_exporter": "python",
   "pygments_lexer": "ipython2",
   "version": "2.7.6"
  }
 },
 "nbformat": 4,
 "nbformat_minor": 5
}
