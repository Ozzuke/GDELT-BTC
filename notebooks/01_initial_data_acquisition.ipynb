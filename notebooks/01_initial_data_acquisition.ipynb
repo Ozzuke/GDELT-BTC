{
 "cells": [
  {
   "metadata": {},
   "cell_type": "markdown",
   "source": "# Getting GDELT data",
   "id": "bfba086b702486ce"
  },
  {
   "cell_type": "code",
   "id": "initial_id",
   "metadata": {
    "collapsed": true,
    "ExecuteTime": {
     "end_time": "2024-12-04T09:04:16.561551Z",
     "start_time": "2024-12-04T09:04:02.915311Z"
    }
   },
   "source": [
    "from funcs.bigquery_loader import load_gdelt_from_bigquery\n",
    "gdelt = load_gdelt_from_bigquery(force_reload=False)"
   ],
   "outputs": [
    {
     "name": "stdout",
     "output_type": "stream",
     "text": [
      "Loading from cache...\n"
     ]
    }
   ],
   "execution_count": 3
  },
  {
   "metadata": {
    "ExecuteTime": {
     "end_time": "2024-12-04T09:04:16.598491Z",
     "start_time": "2024-12-04T09:04:16.576091Z"
    }
   },
   "cell_type": "code",
   "source": "gdelt.head()",
   "id": "298ddb4a95d6f235",
   "outputs": [
    {
     "data": {
      "text/plain": [
       "        Date Actor1Country Actor1GeoCountry Actor1Type Actor2Country  \\\n",
       "0 2019-01-01           NaN              NaN        CVL           NaN   \n",
       "1 2019-01-01           MDV               US        NaN           USA   \n",
       "2 2019-01-01           NaN               US        GOV           NaN   \n",
       "3 2019-01-01           RUS               RS        NaN           NaN   \n",
       "4 2019-01-01           USA               US        NaN           NaN   \n",
       "\n",
       "  Actor2GeoCountry Actor2Type ActionCountry EventRootCode  QuadClass  \\\n",
       "0              NaN        NaN           NaN            05          1   \n",
       "1               US        NaN            US            19          4   \n",
       "2               US        GOV            US            02          1   \n",
       "3               RS        GOV            RS            06          2   \n",
       "4              NaN        NaN            US            02          1   \n",
       "\n",
       "   GoldsteinScale  NumSources  NumArticles   AvgTone  \\\n",
       "0             3.4           4           50  2.354384   \n",
       "1           -10.0           2           12 -4.195804   \n",
       "2             3.2          10           20  1.734061   \n",
       "3             6.0           3           30 -0.427182   \n",
       "4             3.0           8           23 -1.376241   \n",
       "\n",
       "                                              Source  \n",
       "0  https://telegrafi.com/ne-shenj-proteste-labino...  \n",
       "1  http://www.wgow.com/news/manhunt-on-in-texas-f...  \n",
       "2  https://hanfordsentinel.com/news/national/govt...  \n",
       "3  http://www.gp.se/nyheter/v%C3%A4rlden/sju-d%C3...  \n",
       "4  http://www.790wpic.com/news/a-familys-whirlpoo...  "
      ],
      "text/html": [
       "<div>\n",
       "<style scoped>\n",
       "    .dataframe tbody tr th:only-of-type {\n",
       "        vertical-align: middle;\n",
       "    }\n",
       "\n",
       "    .dataframe tbody tr th {\n",
       "        vertical-align: top;\n",
       "    }\n",
       "\n",
       "    .dataframe thead th {\n",
       "        text-align: right;\n",
       "    }\n",
       "</style>\n",
       "<table border=\"1\" class=\"dataframe\">\n",
       "  <thead>\n",
       "    <tr style=\"text-align: right;\">\n",
       "      <th></th>\n",
       "      <th>Date</th>\n",
       "      <th>Actor1Country</th>\n",
       "      <th>Actor1GeoCountry</th>\n",
       "      <th>Actor1Type</th>\n",
       "      <th>Actor2Country</th>\n",
       "      <th>Actor2GeoCountry</th>\n",
       "      <th>Actor2Type</th>\n",
       "      <th>ActionCountry</th>\n",
       "      <th>EventRootCode</th>\n",
       "      <th>QuadClass</th>\n",
       "      <th>GoldsteinScale</th>\n",
       "      <th>NumSources</th>\n",
       "      <th>NumArticles</th>\n",
       "      <th>AvgTone</th>\n",
       "      <th>Source</th>\n",
       "    </tr>\n",
       "  </thead>\n",
       "  <tbody>\n",
       "    <tr>\n",
       "      <th>0</th>\n",
       "      <td>2019-01-01</td>\n",
       "      <td>NaN</td>\n",
       "      <td>NaN</td>\n",
       "      <td>CVL</td>\n",
       "      <td>NaN</td>\n",
       "      <td>NaN</td>\n",
       "      <td>NaN</td>\n",
       "      <td>NaN</td>\n",
       "      <td>05</td>\n",
       "      <td>1</td>\n",
       "      <td>3.4</td>\n",
       "      <td>4</td>\n",
       "      <td>50</td>\n",
       "      <td>2.354384</td>\n",
       "      <td>https://telegrafi.com/ne-shenj-proteste-labino...</td>\n",
       "    </tr>\n",
       "    <tr>\n",
       "      <th>1</th>\n",
       "      <td>2019-01-01</td>\n",
       "      <td>MDV</td>\n",
       "      <td>US</td>\n",
       "      <td>NaN</td>\n",
       "      <td>USA</td>\n",
       "      <td>US</td>\n",
       "      <td>NaN</td>\n",
       "      <td>US</td>\n",
       "      <td>19</td>\n",
       "      <td>4</td>\n",
       "      <td>-10.0</td>\n",
       "      <td>2</td>\n",
       "      <td>12</td>\n",
       "      <td>-4.195804</td>\n",
       "      <td>http://www.wgow.com/news/manhunt-on-in-texas-f...</td>\n",
       "    </tr>\n",
       "    <tr>\n",
       "      <th>2</th>\n",
       "      <td>2019-01-01</td>\n",
       "      <td>NaN</td>\n",
       "      <td>US</td>\n",
       "      <td>GOV</td>\n",
       "      <td>NaN</td>\n",
       "      <td>US</td>\n",
       "      <td>GOV</td>\n",
       "      <td>US</td>\n",
       "      <td>02</td>\n",
       "      <td>1</td>\n",
       "      <td>3.2</td>\n",
       "      <td>10</td>\n",
       "      <td>20</td>\n",
       "      <td>1.734061</td>\n",
       "      <td>https://hanfordsentinel.com/news/national/govt...</td>\n",
       "    </tr>\n",
       "    <tr>\n",
       "      <th>3</th>\n",
       "      <td>2019-01-01</td>\n",
       "      <td>RUS</td>\n",
       "      <td>RS</td>\n",
       "      <td>NaN</td>\n",
       "      <td>NaN</td>\n",
       "      <td>RS</td>\n",
       "      <td>GOV</td>\n",
       "      <td>RS</td>\n",
       "      <td>06</td>\n",
       "      <td>2</td>\n",
       "      <td>6.0</td>\n",
       "      <td>3</td>\n",
       "      <td>30</td>\n",
       "      <td>-0.427182</td>\n",
       "      <td>http://www.gp.se/nyheter/v%C3%A4rlden/sju-d%C3...</td>\n",
       "    </tr>\n",
       "    <tr>\n",
       "      <th>4</th>\n",
       "      <td>2019-01-01</td>\n",
       "      <td>USA</td>\n",
       "      <td>US</td>\n",
       "      <td>NaN</td>\n",
       "      <td>NaN</td>\n",
       "      <td>NaN</td>\n",
       "      <td>NaN</td>\n",
       "      <td>US</td>\n",
       "      <td>02</td>\n",
       "      <td>1</td>\n",
       "      <td>3.0</td>\n",
       "      <td>8</td>\n",
       "      <td>23</td>\n",
       "      <td>-1.376241</td>\n",
       "      <td>http://www.790wpic.com/news/a-familys-whirlpoo...</td>\n",
       "    </tr>\n",
       "  </tbody>\n",
       "</table>\n",
       "</div>"
      ]
     },
     "execution_count": 4,
     "metadata": {},
     "output_type": "execute_result"
    }
   ],
   "execution_count": 4
  },
  {
   "metadata": {
    "ExecuteTime": {
     "end_time": "2024-12-04T09:04:30.040267Z",
     "start_time": "2024-12-04T09:04:16.770570Z"
    }
   },
   "cell_type": "code",
   "source": "gdelt.to_parquet(\"../cache/gdelt.parquet\")",
   "id": "3af6c6bf6660d7cc",
   "outputs": [],
   "execution_count": 5
  },
  {
   "metadata": {
    "ExecuteTime": {
<<<<<<< HEAD
     "end_time": "2024-12-04T09:04:30.085079Z",
     "start_time": "2024-12-04T09:04:30.077827Z"
=======
     "end_time": "2024-12-04T08:03:01.272474Z",
     "start_time": "2024-12-04T08:03:01.259669Z"
>>>>>>> origin/main
    }
   },
   "cell_type": "code",
   "source": [
    "import subprocess\n",
    "import os\n",
    "import zipfile\n",
    "\n",
    "# Define the download URL\n",
    "url = \"https://www.kaggle.com/api/v1/datasets/download/mczielinski/bitcoin-historical-data\"\n",
    "\n",
    "# Define the download path\n",
    "download_path = os.path.expanduser(\"~/Downloads/bitcoin-historical-data.zip\")\n",
    "\n",
    "# Define the target folder\n",
    "target_folder = os.path.abspath(\"../data\")\n",
    "\n",
    "# Ensure the target folder exists\n",
    "os.makedirs(target_folder, exist_ok=True)\n",
    "\n",
    "# Check if the file already exists in the target folder\n",
    "csv_files = [f for f in os.listdir(target_folder) if f.endswith('.csv') and 'btc' in f]\n",
    "if csv_files:\n",
    "    print(f\"Files already exist in the target folder: {csv_files}\")\n",
    "else:\n",
    "    try:\n",
    "        # Download the dataset using curl\n",
    "        subprocess.run(\n",
    "            [\"curl\", \"-L\", \"-o\", download_path, url],\n",
    "            check=True\n",
    "        )\n",
    "        print(f\"File downloaded to: {download_path}\")\n",
    "\n",
    "        # Unzip the file\n",
    "        with zipfile.ZipFile(download_path, 'r') as zip_ref:\n",
    "            zip_ref.extractall(target_folder)\n",
    "        print(f\"Files extracted to: {target_folder}\")\n",
    "\n",
    "        # Delete the ZIP file\n",
    "        os.remove(download_path)\n",
    "        print(f\"Deleted ZIP file: {download_path}\")\n",
    "\n",
    "        # List the extracted files\n",
    "        extracted_files = os.listdir(target_folder)\n",
    "        csv_files = [f for f in extracted_files if f.endswith('.csv')]\n",
    "        print(f\"Extracted CSV files: {csv_files}\")\n",
    "\n",
    "    except subprocess.CalledProcessError as e:\n",
    "        print(f\"Error during download: {e}\")\n",
    "    except FileNotFoundError as e:\n",
    "        print(f\"Error: {e}\")\n",
    "    except zipfile.BadZipFile as e:\n",
    "        print(f\"Error unzipping file: {e}\")"
   ],
   "id": "791e3002eb279ce2",
   "outputs": [
    {
     "name": "stdout",
     "output_type": "stream",
     "text": [
      "Files already exist in the target folder: ['btcusd_1-min_data.csv']\n"
     ]
    }
   ],
<<<<<<< HEAD
   "execution_count": 6
=======
   "execution_count": 18
>>>>>>> origin/main
  },
  {
   "metadata": {
    "ExecuteTime": {
     "end_time": "2024-12-04T09:04:36.752842Z",
     "start_time": "2024-12-04T09:04:30.097470Z"
    }
   },
   "cell_type": "code",
   "source": [
    "import pandas as pd\n",
    "\n",
    "btc = pd.read_csv(\"../data/btcusd_1-min_data.csv\")\n",
    "btc.to_parquet(\"../cache/btc.parquet\")"
   ],
   "id": "b2b209df015712f1",
   "outputs": [],
   "execution_count": 7
  }
 ],
 "metadata": {
  "kernelspec": {
   "display_name": "Python 3",
   "language": "python",
   "name": "python3"
  },
  "language_info": {
   "codemirror_mode": {
    "name": "ipython",
    "version": 2
   },
   "file_extension": ".py",
   "mimetype": "text/x-python",
   "name": "python",
   "nbconvert_exporter": "python",
   "pygments_lexer": "ipython2",
   "version": "2.7.6"
  }
 },
 "nbformat": 4,
 "nbformat_minor": 5
}
