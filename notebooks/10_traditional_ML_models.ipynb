{
 "cells": [
  {
   "cell_type": "code",
   "id": "initial_id",
   "metadata": {
    "collapsed": true
   },
   "source": [
    "import pandas as pd\n",
    "from pyexpat import features\n",
    "\n",
    "data = pd.read_parquet('../cache/prepd_99q.parquet')\n",
    "data = data.resample('15min').ffill()\n",
    "data.head()"
   ],
   "outputs": [],
   "execution_count": null
  },
  {
   "metadata": {},
   "cell_type": "code",
   "source": "data.dtypes",
   "id": "12a2702e9b7e7f62",
   "outputs": [],
   "execution_count": null
  },
  {
   "metadata": {},
   "cell_type": "code",
   "source": [
    "# Split the data into train and test sets\n",
    "train_data = data[data.index.year < 2023]\n",
    "test_data = data[data.index.year == 2023]\n",
    "\n",
    "print(\"Train data shape:\", train_data.shape)\n",
    "print(\"Test data shape:\", test_data.shape)\n",
    "smol_sample = train_data.tail(1000)\n",
    "sample = train_data.tail(10000)\n",
    "big_sample = train_data.tail(100000)\n",
    "sample.head()"
   ],
   "id": "72b2f65dfb225de0",
   "outputs": [],
   "execution_count": null
  },
  {
   "metadata": {},
   "cell_type": "code",
   "source": [
    "# cache the train and test data for later use\n",
    "train_data.to_parquet('../cache/train_data.parquet')\n",
    "test_data.to_parquet('../cache/test_data.parquet')"
   ],
   "id": "acebf442f6a541d6",
   "outputs": [],
   "execution_count": null
  },
  {
   "metadata": {},
   "cell_type": "code",
   "source": [
    "from statsmodels.stats.outliers_influence import variance_inflation_factor\n",
    "\n",
    "# Quantifies multicollinearity\n",
    "vif_data = pd.DataFrame()\n",
    "vif_data[\"Variable\"] = sample.columns\n",
    "vif_data[\"VIF\"] = [variance_inflation_factor(sample.values, i) for i in range(sample.shape[1])]\n",
    "print(vif_data)"
   ],
   "id": "3780fff396c38c0d",
   "outputs": [],
   "execution_count": null
  },
  {
   "metadata": {},
   "cell_type": "markdown",
   "source": "### Vector Autoregression (VAR)",
   "id": "7b5eb40efe815de4"
  },
  {
   "metadata": {},
   "cell_type": "code",
   "source": [
    "import statsmodels.api as sm\n",
    "from statsmodels.tsa.api import VAR\n",
    "\n",
    "model = VAR(big_sample)\n",
    "var_results = model.fit(maxlags=15, ic='aic') # Fit with automatic lag order selection based on AIC\n",
    "lag_order = var_results.k_ar\n",
    "predictions = var_results.forecast(sample.values[-lag_order:], steps=5) # Forecast 5 steps ahead\n",
    "print(predictions)"
   ],
   "id": "e18748009bbe0a40",
   "outputs": [],
   "execution_count": null
  },
  {
   "metadata": {},
   "cell_type": "markdown",
   "source": "",
   "id": "9bf165fdef1cf03d"
  },
  {
   "metadata": {},
   "cell_type": "markdown",
   "source": "### dynamic factor model (DFM)",
   "id": "24d0080a67de5981"
  },
  {
   "metadata": {},
   "cell_type": "code",
   "source": [
    "from statsmodels.tsa.statespace.dynamic_factor import DynamicFactor\n",
    "\n",
    "# Fit a dynamic factor model\n",
    "model = DynamicFactor(sample, k_factors=1, factor_order=1)\n",
    "dfm_results = model.fit()\n",
    "print(dfm_results.summary())"
   ],
   "id": "a7359b7b932d7fca",
   "outputs": [],
   "execution_count": null
  },
  {
   "metadata": {},
   "cell_type": "code",
   "source": [
    "forecast_steps = 5\n",
    "forecast = dfm_results.get_forecast(steps=forecast_steps)\n",
    "# Extract the predicted values from the forecast result\n",
    "predicted_values = forecast.predicted_mean\n",
    "# Or for the full prediction including uncertainty (confidence intervals)\n",
    "prediction_conf_int = forecast.conf_int()\n",
    "\n",
    "# Display the predicted values and the confidence intervals\n",
    "print(\"Predicted Values:\")\n",
    "print(predicted_values)\n",
    "\n",
    "print(\"\\nConfidence Intervals for Predictions:\")\n",
    "print(prediction_conf_int)"
   ],
   "id": "591bb4e5a45d4838",
   "outputs": [],
   "execution_count": null
  },
  {
   "metadata": {},
   "cell_type": "markdown",
   "source": "### Vector Autoregression Moving-Average (VARMA)",
   "id": "cd16143cccd73416"
  },
  {
   "metadata": {},
   "cell_type": "code",
   "source": [
    "from statsmodels.tsa.statespace.varmax import VARMAX\n",
    "\n",
    "model = VARMAX(smol_sample, order=(1, 1))  # (p, q) - autoregressive and moving average orders\n",
    "varmax_results = model.fit(disp=False)\n",
    "predictions = varmax_results.forecast(steps=5)\n",
    "print(predictions)"
   ],
   "id": "4cd7782204c2242d",
   "outputs": [],
   "execution_count": null
  },
  {
   "metadata": {},
   "cell_type": "code",
   "source": [
    "# cache the models for later use\n",
    "import joblib\n",
    "joblib.dump(var_results, '../cache/var_model.joblib')\n",
    "joblib.dump(dfm_results, '../cache/dfm_model.joblib')\n",
    "joblib.dump(varmax_results, '../cache/varmax_model.joblib')"
   ],
   "id": "ebcad12448f5318a",
   "outputs": [],
   "execution_count": null
  },
  {
   "metadata": {},
   "cell_type": "code",
   "source": [
    "# purely for testing\n",
    "# Load the models from cache\n",
    "var_results_loaded = joblib.load('../cache/var_model.joblib')\n",
    "print(\"done\")\n",
    "var_results_loaded.forecast(sample.values[var_results_loaded.k_ar:], steps=5)"
   ],
   "id": "1cb618d93e80f750",
   "outputs": [],
   "execution_count": null
  }
 ],
 "metadata": {
  "kernelspec": {
   "display_name": "Python 3",
   "language": "python",
   "name": "python3"
  },
  "language_info": {
   "codemirror_mode": {
    "name": "ipython",
    "version": 2
   },
   "file_extension": ".py",
   "mimetype": "text/x-python",
   "name": "python",
   "nbconvert_exporter": "python",
   "pygments_lexer": "ipython2",
   "version": "2.7.6"
  }
 },
 "nbformat": 4,
 "nbformat_minor": 5
}
