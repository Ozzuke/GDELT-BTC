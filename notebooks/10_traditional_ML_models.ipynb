{
 "cells": [
  {
   "cell_type": "code",
   "id": "initial_id",
   "metadata": {
    "collapsed": true
   },
   "source": [
    "import pandas as pd\n",
    "\n",
    "data = pd.read_parquet('../cache/encoded_scaled.parquet')\n",
    "data = data.drop(columns=['Source'])\n",
    "data.head()"
   ],
   "outputs": [],
   "execution_count": null
  },
  {
   "metadata": {},
   "cell_type": "code",
   "source": [
    "X = data.drop(columns=['pct_change_15min', 'pct_change_30min', 'pct_change_24h'])\n",
    "y = data['pct_change_30min']\n",
    "sample = data.tail(100000)\n",
    "sample = sample.drop(columns=['pct_change_15min', 'pct_change_24h', 'Timestamp'])\n",
    "sample.head()"
   ],
   "id": "72b2f65dfb225de0",
   "outputs": [],
   "execution_count": null
  },
  {
   "metadata": {},
   "cell_type": "code",
   "source": [
    "from statsmodels.stats.outliers_influence import variance_inflation_factor\n",
    "\n",
    "# Quantifies multicollinearity\n",
    "vif_data = pd.DataFrame()\n",
    "vif_data[\"Variable\"] = sample.columns\n",
    "vif_data[\"VIF\"] = [variance_inflation_factor(sample.values, i) for i in range(sample.shape[1])]\n",
    "print(vif_data)"
   ],
   "id": "3780fff396c38c0d",
   "outputs": [],
   "execution_count": null
  },
  {
   "metadata": {},
   "cell_type": "code",
   "source": [
    "from sklearn.decomposition import PCA\n",
    "\n",
    "# Reduce dimensionality, keeping most important components\n",
    "pca = PCA(n_components=0.95)  # Retain 95% of variance\n",
    "reduced_data = pca.fit_transform(data)"
   ],
   "id": "47621f9045005cdb",
   "outputs": [],
   "execution_count": null
  },
  {
   "metadata": {},
   "cell_type": "markdown",
   "source": "### dynamic factor model (DFM)",
   "id": "24d0080a67de5981"
  },
  {
   "metadata": {},
   "cell_type": "code",
   "source": [
    "from statsmodels.tsa.statespace.dynamic_factor import DynamicFactor\n",
    "\n",
    "# Fit a dynamic factor model\n",
    "model = DynamicFactor(sample, k_factors=1, factor_order=1)\n",
    "results = model.fit()\n",
    "print(results.summary())"
   ],
   "id": "a7359b7b932d7fca",
   "outputs": [],
   "execution_count": null
  },
  {
   "metadata": {},
   "cell_type": "code",
   "source": [
    "forecast_steps = 5\n",
    "forecast = results.get_forecast(steps=forecast_steps)\n",
    "# Extract the predicted values from the forecast result\n",
    "predicted_values = forecast.predicted_mean\n",
    "# Or for the full prediction including uncertainty (confidence intervals)\n",
    "prediction_conf_int = forecast.conf_int()\n",
    "\n",
    "# Display the predicted values and the confidence intervals\n",
    "print(\"Predicted Values:\")\n",
    "print(predicted_values)\n",
    "\n",
    "print(\"\\nConfidence Intervals for Predictions:\")\n",
    "print(prediction_conf_int)"
   ],
   "id": "4cd7782204c2242d",
   "outputs": [],
   "execution_count": null
  },
  {
   "metadata": {},
   "cell_type": "markdown",
   "source": "### State-Space Model",
   "id": "b08cbac16930d600"
  },
  {
   "metadata": {},
   "cell_type": "code",
   "source": "sample.columns",
   "id": "771911c1cc3b4a74",
   "outputs": [],
   "execution_count": null
  },
  {
   "metadata": {},
   "cell_type": "code",
   "source": [
    "from statsmodels.tsa.statespace.varmax import VARMAX\n",
    "\n",
    "# Check for missing values\n",
    "sample = sample.fillna(sample.mean())  # Impute missing values with mean (or other strategy)\n",
    "\n",
    "# Select the features and target columns you want to use for forecasting\n",
    "features = sample[['Actor1Country', 'Actor2Country', 'GoldsteinScale', 'NumSources', 'NumArticles']]\n",
    "target = sample['pct_change_30min']  # Example target column\n",
    "\n",
    "# Fit a VARMAX model\n",
    "model = VARMAX(features, order=(1, 1))  # order of the model (lags and error terms)\n",
    "model_fitted = model.fit(disp=False)\n"
   ],
   "id": "1be1845d4d522b06",
   "outputs": [],
   "execution_count": null
  },
  {
   "metadata": {},
   "cell_type": "code",
   "source": [
    "# Make predictions\n",
    "forecast_steps = 10  # number of steps to forecast\n",
    "forecast = model_fitted.forecast(steps=forecast_steps)\n",
    "print(forecast)"
   ],
   "id": "88616eedb267212f",
   "outputs": [],
   "execution_count": null
  },
  {
   "metadata": {},
   "cell_type": "markdown",
   "source": "### Multivariate Exponential Smoothing",
   "id": "b2a3030604697f2c"
  },
  {
   "metadata": {},
   "cell_type": "code",
   "source": "",
   "id": "a8a78eaff8f86ad6",
   "outputs": [],
   "execution_count": null
  },
  {
   "metadata": {},
   "cell_type": "markdown",
   "source": "### Canonical Correlation Analysis (CCA)",
   "id": "cb895cebd773640f"
  },
  {
   "metadata": {},
   "cell_type": "code",
   "source": "",
   "id": "ce7d2809f0803635",
   "outputs": [],
   "execution_count": null
  },
  {
   "metadata": {},
   "cell_type": "markdown",
   "source": "### 11",
   "id": "190e3fea65d516b"
  }
 ],
 "metadata": {
  "kernelspec": {
   "display_name": "Python 3",
   "language": "python",
   "name": "python3"
  },
  "language_info": {
   "codemirror_mode": {
    "name": "ipython",
    "version": 2
   },
   "file_extension": ".py",
   "mimetype": "text/x-python",
   "name": "python",
   "nbconvert_exporter": "python",
   "pygments_lexer": "ipython2",
   "version": "2.7.6"
  }
 },
 "nbformat": 4,
 "nbformat_minor": 5
}
