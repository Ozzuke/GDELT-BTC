{
 "cells": [
  {
   "cell_type": "code",
   "id": "initial_id",
   "metadata": {
    "collapsed": true,
    "ExecuteTime": {
     "end_time": "2024-12-13T10:09:44.320370Z",
     "start_time": "2024-12-13T10:09:43.172334Z"
    }
   },
   "source": [
    "import pandas as pd\n",
    "from pyexpat import features\n",
    "\n",
    "data = pd.read_parquet('../cache/encoded_99q_scaled.parquet')\n",
    "data = data.drop(columns=['pct_change_24h', 'pct_change_15min'])\n",
    "data.head()"
   ],
   "outputs": [
    {
     "ename": "FileNotFoundError",
     "evalue": "[Errno 2] No such file or directory: '../cache/encoded_99q_scaled.parquet'",
     "output_type": "error",
     "traceback": [
      "\u001B[0;31m---------------------------------------------------------------------------\u001B[0m",
      "\u001B[0;31mFileNotFoundError\u001B[0m                         Traceback (most recent call last)",
      "Cell \u001B[0;32mIn[1], line 4\u001B[0m\n\u001B[1;32m      1\u001B[0m \u001B[38;5;28;01mimport\u001B[39;00m \u001B[38;5;21;01mpandas\u001B[39;00m \u001B[38;5;28;01mas\u001B[39;00m \u001B[38;5;21;01mpd\u001B[39;00m\n\u001B[1;32m      2\u001B[0m \u001B[38;5;28;01mfrom\u001B[39;00m \u001B[38;5;21;01mpyexpat\u001B[39;00m \u001B[38;5;28;01mimport\u001B[39;00m features\n\u001B[0;32m----> 4\u001B[0m data \u001B[38;5;241m=\u001B[39m pd\u001B[38;5;241m.\u001B[39mread_parquet(\u001B[38;5;124m'\u001B[39m\u001B[38;5;124m../cache/encoded_99q_scaled.parquet\u001B[39m\u001B[38;5;124m'\u001B[39m)\n\u001B[1;32m      5\u001B[0m data\u001B[38;5;241m.\u001B[39mhead()\n",
      "File \u001B[0;32m~/anaconda3/lib/python3.12/site-packages/pandas/io/parquet.py:667\u001B[0m, in \u001B[0;36mread_parquet\u001B[0;34m(path, engine, columns, storage_options, use_nullable_dtypes, dtype_backend, filesystem, filters, **kwargs)\u001B[0m\n\u001B[1;32m    664\u001B[0m     use_nullable_dtypes \u001B[38;5;241m=\u001B[39m \u001B[38;5;28;01mFalse\u001B[39;00m\n\u001B[1;32m    665\u001B[0m check_dtype_backend(dtype_backend)\n\u001B[0;32m--> 667\u001B[0m \u001B[38;5;28;01mreturn\u001B[39;00m impl\u001B[38;5;241m.\u001B[39mread(\n\u001B[1;32m    668\u001B[0m     path,\n\u001B[1;32m    669\u001B[0m     columns\u001B[38;5;241m=\u001B[39mcolumns,\n\u001B[1;32m    670\u001B[0m     filters\u001B[38;5;241m=\u001B[39mfilters,\n\u001B[1;32m    671\u001B[0m     storage_options\u001B[38;5;241m=\u001B[39mstorage_options,\n\u001B[1;32m    672\u001B[0m     use_nullable_dtypes\u001B[38;5;241m=\u001B[39muse_nullable_dtypes,\n\u001B[1;32m    673\u001B[0m     dtype_backend\u001B[38;5;241m=\u001B[39mdtype_backend,\n\u001B[1;32m    674\u001B[0m     filesystem\u001B[38;5;241m=\u001B[39mfilesystem,\n\u001B[1;32m    675\u001B[0m     \u001B[38;5;241m*\u001B[39m\u001B[38;5;241m*\u001B[39mkwargs,\n\u001B[1;32m    676\u001B[0m )\n",
      "File \u001B[0;32m~/anaconda3/lib/python3.12/site-packages/pandas/io/parquet.py:267\u001B[0m, in \u001B[0;36mPyArrowImpl.read\u001B[0;34m(self, path, columns, filters, use_nullable_dtypes, dtype_backend, storage_options, filesystem, **kwargs)\u001B[0m\n\u001B[1;32m    264\u001B[0m \u001B[38;5;28;01mif\u001B[39;00m manager \u001B[38;5;241m==\u001B[39m \u001B[38;5;124m\"\u001B[39m\u001B[38;5;124marray\u001B[39m\u001B[38;5;124m\"\u001B[39m:\n\u001B[1;32m    265\u001B[0m     to_pandas_kwargs[\u001B[38;5;124m\"\u001B[39m\u001B[38;5;124msplit_blocks\u001B[39m\u001B[38;5;124m\"\u001B[39m] \u001B[38;5;241m=\u001B[39m \u001B[38;5;28;01mTrue\u001B[39;00m  \u001B[38;5;66;03m# type: ignore[assignment]\u001B[39;00m\n\u001B[0;32m--> 267\u001B[0m path_or_handle, handles, filesystem \u001B[38;5;241m=\u001B[39m _get_path_or_handle(\n\u001B[1;32m    268\u001B[0m     path,\n\u001B[1;32m    269\u001B[0m     filesystem,\n\u001B[1;32m    270\u001B[0m     storage_options\u001B[38;5;241m=\u001B[39mstorage_options,\n\u001B[1;32m    271\u001B[0m     mode\u001B[38;5;241m=\u001B[39m\u001B[38;5;124m\"\u001B[39m\u001B[38;5;124mrb\u001B[39m\u001B[38;5;124m\"\u001B[39m,\n\u001B[1;32m    272\u001B[0m )\n\u001B[1;32m    273\u001B[0m \u001B[38;5;28;01mtry\u001B[39;00m:\n\u001B[1;32m    274\u001B[0m     pa_table \u001B[38;5;241m=\u001B[39m \u001B[38;5;28mself\u001B[39m\u001B[38;5;241m.\u001B[39mapi\u001B[38;5;241m.\u001B[39mparquet\u001B[38;5;241m.\u001B[39mread_table(\n\u001B[1;32m    275\u001B[0m         path_or_handle,\n\u001B[1;32m    276\u001B[0m         columns\u001B[38;5;241m=\u001B[39mcolumns,\n\u001B[0;32m   (...)\u001B[0m\n\u001B[1;32m    279\u001B[0m         \u001B[38;5;241m*\u001B[39m\u001B[38;5;241m*\u001B[39mkwargs,\n\u001B[1;32m    280\u001B[0m     )\n",
      "File \u001B[0;32m~/anaconda3/lib/python3.12/site-packages/pandas/io/parquet.py:140\u001B[0m, in \u001B[0;36m_get_path_or_handle\u001B[0;34m(path, fs, storage_options, mode, is_dir)\u001B[0m\n\u001B[1;32m    130\u001B[0m handles \u001B[38;5;241m=\u001B[39m \u001B[38;5;28;01mNone\u001B[39;00m\n\u001B[1;32m    131\u001B[0m \u001B[38;5;28;01mif\u001B[39;00m (\n\u001B[1;32m    132\u001B[0m     \u001B[38;5;129;01mnot\u001B[39;00m fs\n\u001B[1;32m    133\u001B[0m     \u001B[38;5;129;01mand\u001B[39;00m \u001B[38;5;129;01mnot\u001B[39;00m is_dir\n\u001B[0;32m   (...)\u001B[0m\n\u001B[1;32m    138\u001B[0m     \u001B[38;5;66;03m# fsspec resources can also point to directories\u001B[39;00m\n\u001B[1;32m    139\u001B[0m     \u001B[38;5;66;03m# this branch is used for example when reading from non-fsspec URLs\u001B[39;00m\n\u001B[0;32m--> 140\u001B[0m     handles \u001B[38;5;241m=\u001B[39m get_handle(\n\u001B[1;32m    141\u001B[0m         path_or_handle, mode, is_text\u001B[38;5;241m=\u001B[39m\u001B[38;5;28;01mFalse\u001B[39;00m, storage_options\u001B[38;5;241m=\u001B[39mstorage_options\n\u001B[1;32m    142\u001B[0m     )\n\u001B[1;32m    143\u001B[0m     fs \u001B[38;5;241m=\u001B[39m \u001B[38;5;28;01mNone\u001B[39;00m\n\u001B[1;32m    144\u001B[0m     path_or_handle \u001B[38;5;241m=\u001B[39m handles\u001B[38;5;241m.\u001B[39mhandle\n",
      "File \u001B[0;32m~/anaconda3/lib/python3.12/site-packages/pandas/io/common.py:882\u001B[0m, in \u001B[0;36mget_handle\u001B[0;34m(path_or_buf, mode, encoding, compression, memory_map, is_text, errors, storage_options)\u001B[0m\n\u001B[1;32m    873\u001B[0m         handle \u001B[38;5;241m=\u001B[39m \u001B[38;5;28mopen\u001B[39m(\n\u001B[1;32m    874\u001B[0m             handle,\n\u001B[1;32m    875\u001B[0m             ioargs\u001B[38;5;241m.\u001B[39mmode,\n\u001B[0;32m   (...)\u001B[0m\n\u001B[1;32m    878\u001B[0m             newline\u001B[38;5;241m=\u001B[39m\u001B[38;5;124m\"\u001B[39m\u001B[38;5;124m\"\u001B[39m,\n\u001B[1;32m    879\u001B[0m         )\n\u001B[1;32m    880\u001B[0m     \u001B[38;5;28;01melse\u001B[39;00m:\n\u001B[1;32m    881\u001B[0m         \u001B[38;5;66;03m# Binary mode\u001B[39;00m\n\u001B[0;32m--> 882\u001B[0m         handle \u001B[38;5;241m=\u001B[39m \u001B[38;5;28mopen\u001B[39m(handle, ioargs\u001B[38;5;241m.\u001B[39mmode)\n\u001B[1;32m    883\u001B[0m     handles\u001B[38;5;241m.\u001B[39mappend(handle)\n\u001B[1;32m    885\u001B[0m \u001B[38;5;66;03m# Convert BytesIO or file objects passed with an encoding\u001B[39;00m\n",
      "\u001B[0;31mFileNotFoundError\u001B[0m: [Errno 2] No such file or directory: '../cache/encoded_99q_scaled.parquet'"
     ]
    }
   ],
   "execution_count": 1
  },
  {
   "metadata": {
    "ExecuteTime": {
     "end_time": "2024-12-13T08:23:11.719874Z",
     "start_time": "2024-12-13T08:23:11.710904Z"
    }
   },
   "cell_type": "code",
   "source": "data.dtypes",
   "id": "12a2702e9b7e7f62",
   "outputs": [
    {
     "data": {
      "text/plain": [
       "Timestamp           float64\n",
       "Actor1Country         int64\n",
       "Actor1GeoCountry      int64\n",
       "Actor1Type            int64\n",
       "Actor2Country         int64\n",
       "Actor2GeoCountry      int64\n",
       "Actor2Type            int64\n",
       "ActionCountry         int64\n",
       "EventType             int64\n",
       "GoldsteinScale      float64\n",
       "NumSources          float64\n",
       "NumArticles         float64\n",
       "AvgTone             float64\n",
       "Magnitude           float64\n",
       "Impact              float64\n",
       "pct_change_30min    float64\n",
       "dtype: object"
      ]
     },
     "execution_count": 2,
     "metadata": {},
     "output_type": "execute_result"
    }
   ],
   "execution_count": 2
  },
  {
   "metadata": {
    "ExecuteTime": {
     "end_time": "2024-12-13T08:23:12.407632Z",
     "start_time": "2024-12-13T08:23:11.775961Z"
    }
   },
   "cell_type": "code",
   "source": [
    "# Split the data into train and test sets\n",
    "train_data = data[data.index.year < 2023]\n",
    "test_data = data[data.index.year == 2023]\n",
    "\n",
    "print(\"Train data shape:\", train_data.shape)\n",
    "print(\"Test data shape:\", test_data.shape)\n",
    "smol_sample = train_data.tail(1000)\n",
    "sample = train_data.tail(10000)\n",
    "big_sample = train_data.tail(100000)\n",
    "sample.head()"
   ],
   "id": "72b2f65dfb225de0",
   "outputs": [
    {
     "name": "stdout",
     "output_type": "stream",
     "text": [
      "Train data shape: (4249654, 16)\n",
      "Test data shape: (921887, 16)\n"
     ]
    },
    {
     "data": {
      "text/plain": [
       "                     Timestamp  Actor1Country  Actor1GeoCountry  Actor1Type  \\\n",
       "Date                                                                          \n",
       "2022-12-27 01:00:00   1.161151              9                13           9   \n",
       "2022-12-27 01:00:00   1.161151              9                13           9   \n",
       "2022-12-27 01:00:00   1.161151              9                13           9   \n",
       "2022-12-27 01:15:00   1.161170              9                13           9   \n",
       "2022-12-27 01:15:00   1.161170              2                 4           9   \n",
       "\n",
       "                     Actor2Country  Actor2GeoCountry  Actor2Type  \\\n",
       "Date                                                               \n",
       "2022-12-27 01:00:00             13                11           9   \n",
       "2022-12-27 01:00:00             13                11           9   \n",
       "2022-12-27 01:00:00             13                11           9   \n",
       "2022-12-27 01:15:00             13                11           9   \n",
       "2022-12-27 01:15:00             13                 3           9   \n",
       "\n",
       "                     ActionCountry  EventType  GoldsteinScale  NumSources  \\\n",
       "Date                                                                        \n",
       "2022-12-27 01:00:00             11         10       -0.523000   -0.677247   \n",
       "2022-12-27 01:00:00             11         10        0.731167   -0.155088   \n",
       "2022-12-27 01:00:00             11         10        0.480334   -0.677247   \n",
       "2022-12-27 01:15:00             11         10        0.104084   -0.677247   \n",
       "2022-12-27 01:15:00              4         10        0.480334   -0.155088   \n",
       "\n",
       "                     NumArticles   AvgTone  Magnitude    Impact  \\\n",
       "Date                                                              \n",
       "2022-12-27 01:00:00    -0.106454  0.082086  -0.716820 -0.160537   \n",
       "2022-12-27 01:00:00    -0.387892 -2.016639   1.902909  1.405324   \n",
       "2022-12-27 01:00:00    -0.669330 -0.678348   0.073454  0.515962   \n",
       "2022-12-27 01:15:00    -0.106454  0.405894  -1.108846  0.096066   \n",
       "2022-12-27 01:15:00    -0.387892 -0.706995   0.325471  0.580113   \n",
       "\n",
       "                     pct_change_30min  \n",
       "Date                                   \n",
       "2022-12-27 01:00:00          0.000000  \n",
       "2022-12-27 01:00:00          0.000000  \n",
       "2022-12-27 01:00:00          0.000000  \n",
       "2022-12-27 01:15:00         -0.029688  \n",
       "2022-12-27 01:15:00         -0.029688  "
      ],
      "text/html": [
       "<div>\n",
       "<style scoped>\n",
       "    .dataframe tbody tr th:only-of-type {\n",
       "        vertical-align: middle;\n",
       "    }\n",
       "\n",
       "    .dataframe tbody tr th {\n",
       "        vertical-align: top;\n",
       "    }\n",
       "\n",
       "    .dataframe thead th {\n",
       "        text-align: right;\n",
       "    }\n",
       "</style>\n",
       "<table border=\"1\" class=\"dataframe\">\n",
       "  <thead>\n",
       "    <tr style=\"text-align: right;\">\n",
       "      <th></th>\n",
       "      <th>Timestamp</th>\n",
       "      <th>Actor1Country</th>\n",
       "      <th>Actor1GeoCountry</th>\n",
       "      <th>Actor1Type</th>\n",
       "      <th>Actor2Country</th>\n",
       "      <th>Actor2GeoCountry</th>\n",
       "      <th>Actor2Type</th>\n",
       "      <th>ActionCountry</th>\n",
       "      <th>EventType</th>\n",
       "      <th>GoldsteinScale</th>\n",
       "      <th>NumSources</th>\n",
       "      <th>NumArticles</th>\n",
       "      <th>AvgTone</th>\n",
       "      <th>Magnitude</th>\n",
       "      <th>Impact</th>\n",
       "      <th>pct_change_30min</th>\n",
       "    </tr>\n",
       "    <tr>\n",
       "      <th>Date</th>\n",
       "      <th></th>\n",
       "      <th></th>\n",
       "      <th></th>\n",
       "      <th></th>\n",
       "      <th></th>\n",
       "      <th></th>\n",
       "      <th></th>\n",
       "      <th></th>\n",
       "      <th></th>\n",
       "      <th></th>\n",
       "      <th></th>\n",
       "      <th></th>\n",
       "      <th></th>\n",
       "      <th></th>\n",
       "      <th></th>\n",
       "      <th></th>\n",
       "    </tr>\n",
       "  </thead>\n",
       "  <tbody>\n",
       "    <tr>\n",
       "      <th>2022-12-27 01:00:00</th>\n",
       "      <td>1.161151</td>\n",
       "      <td>9</td>\n",
       "      <td>13</td>\n",
       "      <td>9</td>\n",
       "      <td>13</td>\n",
       "      <td>11</td>\n",
       "      <td>9</td>\n",
       "      <td>11</td>\n",
       "      <td>10</td>\n",
       "      <td>-0.523000</td>\n",
       "      <td>-0.677247</td>\n",
       "      <td>-0.106454</td>\n",
       "      <td>0.082086</td>\n",
       "      <td>-0.716820</td>\n",
       "      <td>-0.160537</td>\n",
       "      <td>0.000000</td>\n",
       "    </tr>\n",
       "    <tr>\n",
       "      <th>2022-12-27 01:00:00</th>\n",
       "      <td>1.161151</td>\n",
       "      <td>9</td>\n",
       "      <td>13</td>\n",
       "      <td>9</td>\n",
       "      <td>13</td>\n",
       "      <td>11</td>\n",
       "      <td>9</td>\n",
       "      <td>11</td>\n",
       "      <td>10</td>\n",
       "      <td>0.731167</td>\n",
       "      <td>-0.155088</td>\n",
       "      <td>-0.387892</td>\n",
       "      <td>-2.016639</td>\n",
       "      <td>1.902909</td>\n",
       "      <td>1.405324</td>\n",
       "      <td>0.000000</td>\n",
       "    </tr>\n",
       "    <tr>\n",
       "      <th>2022-12-27 01:00:00</th>\n",
       "      <td>1.161151</td>\n",
       "      <td>9</td>\n",
       "      <td>13</td>\n",
       "      <td>9</td>\n",
       "      <td>13</td>\n",
       "      <td>11</td>\n",
       "      <td>9</td>\n",
       "      <td>11</td>\n",
       "      <td>10</td>\n",
       "      <td>0.480334</td>\n",
       "      <td>-0.677247</td>\n",
       "      <td>-0.669330</td>\n",
       "      <td>-0.678348</td>\n",
       "      <td>0.073454</td>\n",
       "      <td>0.515962</td>\n",
       "      <td>0.000000</td>\n",
       "    </tr>\n",
       "    <tr>\n",
       "      <th>2022-12-27 01:15:00</th>\n",
       "      <td>1.161170</td>\n",
       "      <td>9</td>\n",
       "      <td>13</td>\n",
       "      <td>9</td>\n",
       "      <td>13</td>\n",
       "      <td>11</td>\n",
       "      <td>9</td>\n",
       "      <td>11</td>\n",
       "      <td>10</td>\n",
       "      <td>0.104084</td>\n",
       "      <td>-0.677247</td>\n",
       "      <td>-0.106454</td>\n",
       "      <td>0.405894</td>\n",
       "      <td>-1.108846</td>\n",
       "      <td>0.096066</td>\n",
       "      <td>-0.029688</td>\n",
       "    </tr>\n",
       "    <tr>\n",
       "      <th>2022-12-27 01:15:00</th>\n",
       "      <td>1.161170</td>\n",
       "      <td>2</td>\n",
       "      <td>4</td>\n",
       "      <td>9</td>\n",
       "      <td>13</td>\n",
       "      <td>3</td>\n",
       "      <td>9</td>\n",
       "      <td>4</td>\n",
       "      <td>10</td>\n",
       "      <td>0.480334</td>\n",
       "      <td>-0.155088</td>\n",
       "      <td>-0.387892</td>\n",
       "      <td>-0.706995</td>\n",
       "      <td>0.325471</td>\n",
       "      <td>0.580113</td>\n",
       "      <td>-0.029688</td>\n",
       "    </tr>\n",
       "  </tbody>\n",
       "</table>\n",
       "</div>"
      ]
     },
     "execution_count": 3,
     "metadata": {},
     "output_type": "execute_result"
    }
   ],
   "execution_count": 3
  },
  {
   "metadata": {
    "ExecuteTime": {
     "end_time": "2024-12-13T08:23:13.880450Z",
     "start_time": "2024-12-13T08:23:12.445678Z"
    }
   },
   "cell_type": "code",
   "source": [
    "# cache the train and test data for later use\n",
    "train_data.to_parquet('../cache/train_data.parquet')\n",
    "test_data.to_parquet('../cache/test_data.parquet')"
   ],
   "id": "acebf442f6a541d6",
   "outputs": [],
   "execution_count": 4
  },
  {
   "metadata": {
    "ExecuteTime": {
     "end_time": "2024-12-13T08:23:14.448695Z",
     "start_time": "2024-12-13T08:23:13.906029Z"
    }
   },
   "cell_type": "code",
   "source": [
    "from statsmodels.stats.outliers_influence import variance_inflation_factor\n",
    "\n",
    "# Quantifies multicollinearity\n",
    "vif_data = pd.DataFrame()\n",
    "vif_data[\"Variable\"] = sample.columns\n",
    "vif_data[\"VIF\"] = [variance_inflation_factor(sample.values, i) for i in range(sample.shape[1])]\n",
    "print(vif_data)"
   ],
   "id": "3780fff396c38c0d",
   "outputs": [
    {
     "name": "stdout",
     "output_type": "stream",
     "text": [
      "            Variable          VIF\n",
      "0          Timestamp  2044.879043\n",
      "1      Actor1Country   193.521757\n",
      "2   Actor1GeoCountry   165.545638\n",
      "3         Actor1Type   877.957511\n",
      "4      Actor2Country   213.618694\n",
      "5   Actor2GeoCountry   146.489644\n",
      "6         Actor2Type   775.696064\n",
      "7      ActionCountry   194.181857\n",
      "8          EventType    15.299656\n",
      "9     GoldsteinScale     4.798859\n",
      "10        NumSources     1.333725\n",
      "11       NumArticles     1.303256\n",
      "12           AvgTone     1.862013\n",
      "13         Magnitude     2.340180\n",
      "14            Impact     4.974763\n",
      "15  pct_change_30min     1.005640\n"
     ]
    }
   ],
   "execution_count": 5
  },
  {
   "metadata": {},
   "cell_type": "markdown",
   "source": "### Vector Autoregression (VAR)",
   "id": "7b5eb40efe815de4"
  },
  {
   "metadata": {
    "ExecuteTime": {
     "end_time": "2024-12-13T08:23:19.767124Z",
     "start_time": "2024-12-13T08:23:14.517506Z"
    }
   },
   "cell_type": "code",
   "source": [
    "import statsmodels.api as sm\n",
    "from statsmodels.tsa.api import VAR\n",
    "\n",
    "model = VAR(big_sample)\n",
    "var_results = model.fit(maxlags=15, ic='aic') # Fit with automatic lag order selection based on AIC\n",
    "lag_order = var_results.k_ar\n",
    "predictions = var_results.forecast(sample.values[-lag_order:], steps=5) # Forecast 5 steps ahead\n",
    "print(predictions)"
   ],
   "id": "e18748009bbe0a40",
   "outputs": [
    {
     "name": "stderr",
     "output_type": "stream",
     "text": [
      "/opt/homebrew/anaconda3/lib/python3.12/site-packages/statsmodels/tsa/base/tsa_model.py:473: ValueWarning: A date index has been provided, but it has no associated frequency information and so will be ignored when e.g. forecasting.\n",
      "  self._init_dates(dates, freq)\n"
     ]
    },
    {
     "name": "stdout",
     "output_type": "stream",
     "text": [
      "[[ 1.17029975e+00  8.94934196e+00  1.27236856e+01  8.96695347e+00\n",
      "   1.30348167e+01  1.09387702e+01  8.97698238e+00  1.07606560e+01\n",
      "   9.69531217e+00  1.21975588e-02 -2.79608514e-01 -1.51786627e-01\n",
      "   2.22791905e-01 -3.01620065e-01  2.03298185e-03 -1.82967353e-02]\n",
      " [ 1.17030088e+00  8.96032483e+00  1.27255447e+01  8.99521480e+00\n",
      "   1.29816243e+01  1.09779270e+01  8.97662315e+00  1.07743490e+01\n",
      "   9.89225659e+00  4.79441676e-02 -2.24129669e-01 -6.87135596e-02\n",
      "   1.79035586e-01 -1.90289034e-01  6.15890685e-02 -1.98621729e-02]\n",
      " [ 1.17030214e+00  8.99202937e+00  1.26400020e+01  8.99073216e+00\n",
      "   1.30161442e+01  1.09952493e+01  8.98270102e+00  1.07330021e+01\n",
      "   9.92722907e+00 -2.78012930e-03 -2.50177419e-01 -1.62511501e-01\n",
      "   2.30497986e-01 -2.70455440e-01 -4.80875984e-03 -1.89104160e-02]\n",
      " [ 1.17030333e+00  8.97824926e+00  1.26386877e+01  8.98713445e+00\n",
      "   1.30196361e+01  1.09865047e+01  8.97757474e+00  1.07181917e+01\n",
      "   9.87856510e+00 -1.57157516e-02 -2.09153073e-01 -1.47691715e-01\n",
      "   1.63865366e-01 -2.36003185e-01 -2.01827871e-02 -1.82412704e-02]\n",
      " [ 1.17030449e+00  8.96051375e+00  1.26410133e+01  8.98989845e+00\n",
      "   1.29958629e+01  1.09867739e+01  8.97942587e+00  1.07101382e+01\n",
      "   9.82457678e+00 -1.36861574e-02 -1.49982977e-01 -1.28757930e-01\n",
      "   1.26917169e-01 -1.92199465e-01 -1.79279675e-02 -1.78172544e-02]]\n"
     ]
    }
   ],
   "execution_count": 6
  },
  {
   "metadata": {},
   "cell_type": "markdown",
   "source": "",
   "id": "9bf165fdef1cf03d"
  },
  {
   "metadata": {},
   "cell_type": "markdown",
   "source": "### dynamic factor model (DFM)",
   "id": "24d0080a67de5981"
  },
  {
   "metadata": {
    "ExecuteTime": {
     "end_time": "2024-12-13T08:23:57.710353Z",
     "start_time": "2024-12-13T08:23:19.909100Z"
    }
   },
   "cell_type": "code",
   "source": [
    "from statsmodels.tsa.statespace.dynamic_factor import DynamicFactor\n",
    "\n",
    "# Fit a dynamic factor model\n",
    "model = DynamicFactor(sample, k_factors=1, factor_order=1)\n",
    "dfm_results = model.fit()\n",
    "print(dfm_results.summary())"
   ],
   "id": "a7359b7b932d7fca",
   "outputs": [
    {
     "name": "stderr",
     "output_type": "stream",
     "text": [
      "/opt/homebrew/anaconda3/lib/python3.12/site-packages/statsmodels/tsa/base/tsa_model.py:473: ValueWarning: A date index has been provided, but it has no associated frequency information and so will be ignored when e.g. forecasting.\n",
      "  self._init_dates(dates, freq)\n"
     ]
    },
    {
     "name": "stdout",
     "output_type": "stream",
     "text": [
      "RUNNING THE L-BFGS-B CODE\n",
      "\n",
      "           * * *\n",
      "\n",
      "Machine precision = 2.220D-16\n",
      " N =           33     M =           10\n",
      "\n",
      "At X0         0 variables are exactly at the bounds\n",
      "\n",
      "At iterate    0    f=  1.10727D+05    |proj g|=  8.75607D+07\n"
     ]
    },
    {
     "name": "stderr",
     "output_type": "stream",
     "text": [
      " This problem is unconstrained.\n"
     ]
    },
    {
     "name": "stdout",
     "output_type": "stream",
     "text": [
      "\n",
      "At iterate    5    f=  4.22851D+02    |proj g|=  2.77795D+02\n",
      "\n",
      "At iterate   10    f=  1.00869D+02    |proj g|=  1.04601D+01\n",
      "\n",
      "At iterate   15    f=  4.62948D+01    |proj g|=  1.41803D+00\n",
      "\n",
      "At iterate   20    f=  4.31373D+01    |proj g|=  1.26693D+00\n",
      "\n",
      "At iterate   25    f=  4.27278D+01    |proj g|=  6.49650D-01\n",
      "\n",
      "At iterate   30    f=  4.27175D+01    |proj g|=  2.83374D-02\n",
      "\n",
      "At iterate   35    f=  4.27114D+01    |proj g|=  1.02908D-01\n",
      "\n",
      "At iterate   40    f=  4.26858D+01    |proj g|=  1.50243D-01\n",
      "\n",
      "At iterate   45    f=  4.26830D+01    |proj g|=  1.70440D-02\n",
      "\n",
      "At iterate   50    f=  4.26810D+01    |proj g|=  1.56699D-01\n",
      "\n",
      "           * * *\n",
      "\n",
      "Tit   = total number of iterations\n",
      "Tnf   = total number of function evaluations\n",
      "Tnint = total number of segments explored during Cauchy searches\n",
      "Skip  = number of BFGS updates skipped\n",
      "Nact  = number of active bounds at final generalized Cauchy point\n",
      "Projg = norm of the final projected gradient\n",
      "F     = final function value\n",
      "\n",
      "           * * *\n",
      "\n",
      "   N    Tit     Tnf  Tnint  Skip  Nact     Projg        F\n",
      "   33     50     61      1     0     0   1.567D-01   4.268D+01\n",
      "  F =   42.680968577682769     \n",
      "\n",
      "STOP: TOTAL NO. of ITERATIONS REACHED LIMIT                 \n"
     ]
    },
    {
     "name": "stderr",
     "output_type": "stream",
     "text": [
      "/opt/homebrew/anaconda3/lib/python3.12/site-packages/statsmodels/base/model.py:607: ConvergenceWarning: Maximum Likelihood optimization failed to converge. Check mle_retvals\n",
      "  warnings.warn(\"Maximum Likelihood optimization failed to \"\n"
     ]
    },
    {
     "name": "stdout",
     "output_type": "stream",
     "text": [
      "                                                                                                                                             Statespace Model Results                                                                                                                                             \n",
      "==================================================================================================================================================================================================================================================================================================================\n",
      "Dep. Variable:     ['Timestamp', 'Actor1Country', 'Actor1GeoCountry', 'Actor1Type', 'Actor2Country', 'Actor2GeoCountry', 'Actor2Type', 'ActionCountry', 'EventType', 'GoldsteinScale', 'NumSources', 'NumArticles', 'AvgTone', 'Magnitude', 'Impact', 'pct_change_30min']   No. Observations:                10000\n",
      "Model:                                                                                                                                                                                                                                  DynamicFactor(factors=1, order=1)   Log Likelihood             -426809.686\n",
      "Date:                                                                                                                                                                                                                                                    Fri, 13 Dec 2024   AIC                         853685.372\n",
      "Time:                                                                                                                                                                                                                                                            10:23:56   BIC                         853923.313\n",
      "Sample:                                                                                                                                                                                                                                                                 0   HQIC                        853765.913\n",
      "                                                                                                                                                                                                                                                                  - 10000                                         \n",
      "Covariance Type:                                                                                                                                                                                                                                                      opg                                         \n",
      "==================================================================================================================================================================================================================================================================================================================================\n",
      "Ljung-Box (L1) (Q):     9960.28, 3.06, 3.31, 5.21, 0.60, 0.20, 0.17, 0.02, 0.00, 35.21, 273.13, 0.37, 10.76, 37.99, 37.54, 9536.16   Jarque-Bera (JB):   529.03, 2751032.41, 443676.53, 50528094.33, 826620.72, 293812.47, 173067986.37, 900311.28, 24765.03, 79226.14, 211820.24, 19641720.40, 94.10, 1146.24, 54403.17, 15340.23\n",
      "Prob(Q):                            0.00, 0.08, 0.07, 0.02, 0.44, 0.65, 0.68, 0.90, 0.99, 0.00, 0.00, 0.54, 0.00, 0.00, 0.00, 0.00   Prob(JB):                                                                                      0.00, 0.00, 0.00, 0.00, 0.00, 0.00, 0.00, 0.00, 0.00, 0.00, 0.00, 0.00, 0.00, 0.00, 0.00, 0.00\n",
      "Heteroskedasticity (H):             1.01, 1.00, 1.01, 1.00, 1.01, 1.03, 1.00, 1.00, 1.02, 1.01, 0.88, 0.34, 1.09, 0.92, 0.87, 0.55   Skew:                                                                                0.17, -8.35, 0.85, -4.72, -3.22, 0.32, -20.18, -2.86, -2.03, 3.05, 3.57, 10.94, -0.04, 0.47, 0.82, -0.71\n",
      "Prob(H) (two-sided):                0.78, 0.89, 0.87, 0.94, 0.77, 0.35, 0.94, 0.93, 0.67, 0.70, 0.00, 0.00, 0.01, 0.02, 0.00, 0.00   Kurtosis:                                                                        1.93, 82.52, 35.59, 351.11, 47.07, 29.55, 646.22, 49.13, 9.55, 15.37, 24.38, 219.01, 3.47, 4.36, 14.31, 8.90\n",
      "                        Results for equation Timestamp                        \n",
      "==============================================================================\n",
      "                 coef    std err          z      P>|z|      [0.025      0.975]\n",
      "------------------------------------------------------------------------------\n",
      "loading.f1     0.0960     38.430      0.002      0.998     -75.226      75.418\n",
      "                      Results for equation Actor1Country                      \n",
      "==============================================================================\n",
      "                 coef    std err          z      P>|z|      [0.025      0.975]\n",
      "------------------------------------------------------------------------------\n",
      "loading.f1    13.8993     92.870      0.150      0.881    -168.122     195.921\n",
      "                    Results for equation Actor1GeoCountry                     \n",
      "==============================================================================\n",
      "                 coef    std err          z      P>|z|      [0.025      0.975]\n",
      "------------------------------------------------------------------------------\n",
      "loading.f1    53.5462    123.059      0.435      0.663    -187.644     294.737\n",
      "                       Results for equation Actor1Type                        \n",
      "==============================================================================\n",
      "                 coef    std err          z      P>|z|      [0.025      0.975]\n",
      "------------------------------------------------------------------------------\n",
      "loading.f1     0.2892    207.741      0.001      0.999    -406.876     407.454\n",
      "                      Results for equation Actor2Country                      \n",
      "==============================================================================\n",
      "                 coef    std err          z      P>|z|      [0.025      0.975]\n",
      "------------------------------------------------------------------------------\n",
      "loading.f1    12.8096    167.295      0.077      0.939    -315.082     340.702\n",
      "                    Results for equation Actor2GeoCountry                     \n",
      "==============================================================================\n",
      "                 coef    std err          z      P>|z|      [0.025      0.975]\n",
      "------------------------------------------------------------------------------\n",
      "loading.f1    25.9543     91.405      0.284      0.776    -153.195     205.104\n",
      "                       Results for equation Actor2Type                        \n",
      "==============================================================================\n",
      "                 coef    std err          z      P>|z|      [0.025      0.975]\n",
      "------------------------------------------------------------------------------\n",
      "loading.f1     0.8004    157.200      0.005      0.996    -307.306     308.907\n",
      "                      Results for equation ActionCountry                      \n",
      "==============================================================================\n",
      "                 coef    std err          z      P>|z|      [0.025      0.975]\n",
      "------------------------------------------------------------------------------\n",
      "loading.f1    44.2778    113.299      0.391      0.696    -177.784     266.340\n",
      "                        Results for equation EventType                        \n",
      "==============================================================================\n",
      "                 coef    std err          z      P>|z|      [0.025      0.975]\n",
      "------------------------------------------------------------------------------\n",
      "loading.f1     1.2356     22.277      0.055      0.956     -42.426      44.897\n",
      "                     Results for equation GoldsteinScale                      \n",
      "==============================================================================\n",
      "                 coef    std err          z      P>|z|      [0.025      0.975]\n",
      "------------------------------------------------------------------------------\n",
      "loading.f1    71.4033      1.170     61.013      0.000      69.110      73.697\n",
      "                       Results for equation NumSources                        \n",
      "==============================================================================\n",
      "                 coef    std err          z      P>|z|      [0.025      0.975]\n",
      "------------------------------------------------------------------------------\n",
      "loading.f1   -24.4271      0.723    -33.768      0.000     -25.845     -23.009\n",
      "                       Results for equation NumArticles                       \n",
      "==============================================================================\n",
      "                 coef    std err          z      P>|z|      [0.025      0.975]\n",
      "------------------------------------------------------------------------------\n",
      "loading.f1   -28.8982      1.076    -26.853      0.000     -31.007     -26.789\n",
      "                         Results for equation AvgTone                         \n",
      "==============================================================================\n",
      "                 coef    std err          z      P>|z|      [0.025      0.975]\n",
      "------------------------------------------------------------------------------\n",
      "loading.f1    59.2696      1.492     39.728      0.000      56.346      62.194\n",
      "                        Results for equation Magnitude                        \n",
      "==============================================================================\n",
      "                 coef    std err          z      P>|z|      [0.025      0.975]\n",
      "------------------------------------------------------------------------------\n",
      "loading.f1   -61.5983      1.807    -34.089      0.000     -65.140     -58.057\n",
      "                         Results for equation Impact                          \n",
      "==============================================================================\n",
      "                 coef    std err          z      P>|z|      [0.025      0.975]\n",
      "------------------------------------------------------------------------------\n",
      "loading.f1    64.0119      1.104     58.006      0.000      61.849      66.175\n",
      "                    Results for equation pct_change_30min                     \n",
      "==============================================================================\n",
      "                 coef    std err          z      P>|z|      [0.025      0.975]\n",
      "------------------------------------------------------------------------------\n",
      "loading.f1     0.2769      0.128      2.171      0.030       0.027       0.527\n",
      "                        Results for factor equation f1                        \n",
      "==============================================================================\n",
      "                 coef    std err          z      P>|z|      [0.025      0.975]\n",
      "------------------------------------------------------------------------------\n",
      "L1.f1          0.0875     11.132      0.008      0.994     -21.730      21.905\n",
      "                                  Error covariance matrix                                  \n",
      "===========================================================================================\n",
      "                              coef    std err          z      P>|z|      [0.025      0.975]\n",
      "-------------------------------------------------------------------------------------------\n",
      "sigma2.Timestamp            1.3616      6.442      0.211      0.833     -11.266      13.989\n",
      "sigma2.Actor1Country       75.3885     14.197      5.310      0.000      47.562     103.215\n",
      "sigma2.Actor1GeoCountry   157.4890     28.990      5.432      0.000     100.669     214.309\n",
      "sigma2.Actor1Type          83.9743     27.086      3.100      0.002      30.887     137.061\n",
      "sigma2.Actor2Country      164.0202     28.085      5.840      0.000     108.974     219.066\n",
      "sigma2.Actor2GeoCountry   116.4088     16.148      7.209      0.000      84.760     148.057\n",
      "sigma2.Actor2Type          81.2509     32.985      2.463      0.014      16.601     145.901\n",
      "sigma2.ActionCountry      112.2689     20.959      5.357      0.000      71.190     153.348\n",
      "sigma2.EventType           98.3902      5.063     19.432      0.000      88.466     108.314\n",
      "sigma2.GoldsteinScale       0.1532      0.003     54.316      0.000       0.148       0.159\n",
      "sigma2.NumSources           0.7030      0.004    169.109      0.000       0.695       0.711\n",
      "sigma2.NumArticles          1.2925      0.002    529.747      0.000       1.288       1.297\n",
      "sigma2.AvgTone              0.8304      0.017     48.569      0.000       0.797       0.864\n",
      "sigma2.Magnitude            0.9997      0.028     35.349      0.000       0.944       1.055\n",
      "sigma2.Impact               0.1012      0.003     29.753      0.000       0.095       0.108\n",
      "sigma2.pct_change_30min     0.0227      0.000    137.611      0.000       0.022       0.023\n",
      "===========================================================================================\n",
      "\n",
      "Warnings:\n",
      "[1] Covariance matrix calculated using the outer product of gradients (complex-step).\n"
     ]
    }
   ],
   "execution_count": 7
  },
  {
   "metadata": {
    "ExecuteTime": {
     "end_time": "2024-12-13T08:23:57.790087Z",
     "start_time": "2024-12-13T08:23:57.740022Z"
    }
   },
   "cell_type": "code",
   "source": [
    "forecast_steps = 5\n",
    "forecast = dfm_results.get_forecast(steps=forecast_steps)\n",
    "# Extract the predicted values from the forecast result\n",
    "predicted_values = forecast.predicted_mean\n",
    "# Or for the full prediction including uncertainty (confidence intervals)\n",
    "prediction_conf_int = forecast.conf_int()\n",
    "\n",
    "# Display the predicted values and the confidence intervals\n",
    "print(\"Predicted Values:\")\n",
    "print(predicted_values)\n",
    "\n",
    "print(\"\\nConfidence Intervals for Predictions:\")\n",
    "print(prediction_conf_int)"
   ],
   "id": "591bb4e5a45d4838",
   "outputs": [
    {
     "name": "stdout",
     "output_type": "stream",
     "text": [
      "Predicted Values:\n",
      "          Timestamp  Actor1Country  Actor1GeoCountry    Actor1Type  \\\n",
      "10000  1.317899e-05   1.908003e-03      7.350477e-03  3.969926e-05   \n",
      "10001  1.153344e-06   1.669766e-04      6.432684e-04  3.474235e-06   \n",
      "10002  1.009336e-07   1.461277e-05      5.629489e-05  3.040436e-07   \n",
      "10003  8.833086e-09   1.278819e-06      4.926582e-06  2.660802e-08   \n",
      "10004  7.730173e-10   1.119144e-07      4.311441e-07  2.328570e-09   \n",
      "\n",
      "       Actor2Country  Actor2GeoCountry    Actor2Type  ActionCountry  \\\n",
      "10000   1.758421e-03      3.562843e-03  1.098794e-04   6.078165e-03   \n",
      "10001   1.538862e-04      3.117980e-04  9.615967e-06   5.319236e-04   \n",
      "10002   1.346717e-05      2.728664e-05  8.415302e-07   4.655067e-05   \n",
      "10003   1.178564e-06      2.387959e-06  7.364554e-08   4.073828e-06   \n",
      "10004   1.031406e-07      2.089794e-07  6.445004e-09   3.565163e-07   \n",
      "\n",
      "          EventType  GoldsteinScale    NumSources   NumArticles       AvgTone  \\\n",
      "10000  1.696200e-04    9.801779e-03 -3.353194e-03 -3.966962e-03  8.136149e-03   \n",
      "10001  1.484410e-05    8.577913e-04 -2.934509e-04 -3.471641e-04  7.120256e-04   \n",
      "10002  1.299064e-06    7.506861e-05 -2.568102e-05 -3.038166e-05  6.231209e-05   \n",
      "10003  1.136861e-07    6.569542e-06 -2.247444e-06 -2.658816e-06  5.453170e-06   \n",
      "10004  9.949103e-09    5.749259e-07 -1.966825e-07 -2.326832e-07  4.772279e-07   \n",
      "\n",
      "          Magnitude        Impact  pct_change_30min  \n",
      "10000 -8.455816e-03  8.787138e-03      3.800694e-05  \n",
      "10001 -7.400009e-04  7.689962e-04      3.326133e-06  \n",
      "10002 -6.476032e-05  6.729781e-05      2.910827e-07  \n",
      "10003 -5.667424e-06  5.889489e-06      2.547376e-08  \n",
      "10004 -4.959780e-07  5.154118e-07      2.229307e-09  \n",
      "\n",
      "Confidence Intervals for Predictions:\n",
      "       lower Timestamp  lower Actor1Country  lower Actor1GeoCountry  \\\n",
      "10000        -2.294711           -32.118686             -107.785037   \n",
      "10001        -2.294782           -32.208779             -108.182313   \n",
      "10002        -2.294784           -32.209608             -108.185885   \n",
      "10003        -2.294784           -32.209626             -108.185960   \n",
      "10004        -2.294784           -32.209627             -108.185964   \n",
      "\n",
      "       lower Actor1Type  lower Actor2Country  lower Actor2GeoCountry  \\\n",
      "10000        -17.969525           -35.500451              -55.086270   \n",
      "10001        -17.969629           -35.569978              -55.269100   \n",
      "10002        -17.969633           -35.570639              -55.270757   \n",
      "10003        -17.969633           -35.570655              -55.270793   \n",
      "10004        -17.969633           -35.570656              -55.270795   \n",
      "\n",
      "       lower Actor2Type  lower ActionCountry  lower EventType  \\\n",
      "10000        -17.736389           -89.226944       -19.591330   \n",
      "10001        -17.737021           -89.555099       -19.592632   \n",
      "10002        -17.737034           -89.558050       -19.592654   \n",
      "10003        -17.737034           -89.558112       -19.592655   \n",
      "10004        -17.737034           -89.558115       -19.592655   \n",
      "\n",
      "       lower GoldsteinScale  ...  upper Actor2Type  upper ActionCountry  \\\n",
      "10000           -139.940113  ...         17.736609            89.239100   \n",
      "10001           -140.483927  ...         17.737040            89.556162   \n",
      "10002           -140.488799  ...         17.737035            89.558143   \n",
      "10003           -140.488898  ...         17.737035            89.558120   \n",
      "10004           -140.488905  ...         17.737034            89.558116   \n",
      "\n",
      "       upper EventType  upper GoldsteinScale  upper NumSources  \\\n",
      "10000        19.591670            139.959716         47.901069   \n",
      "10001        19.592661            140.485643         48.087004   \n",
      "10002        19.592656            140.488949         48.088669   \n",
      "10003        19.592655            140.488912         48.088704   \n",
      "10004        19.592655            140.488906         48.088706   \n",
      "\n",
      "       upper NumArticles  upper AvgTone  upper Magnitude  upper Impact  \\\n",
      "10000          56.679328     116.188142       120.737871    125.471306   \n",
      "10001          56.899257     116.624652       121.206956    125.942792   \n",
      "10002          56.901227     116.627395       121.211158    125.945755   \n",
      "10003          56.901267     116.627364       121.211244    125.945722   \n",
      "10004          56.901270     116.627360       121.211250    125.945717   \n",
      "\n",
      "       upper pct_change_30min  \n",
      "10000                0.617811  \n",
      "10001                0.619599  \n",
      "10002                0.619610  \n",
      "10003                0.619610  \n",
      "10004                0.619610  \n",
      "\n",
      "[5 rows x 32 columns]\n"
     ]
    },
    {
     "name": "stderr",
     "output_type": "stream",
     "text": [
      "/opt/homebrew/anaconda3/lib/python3.12/site-packages/statsmodels/tsa/base/tsa_model.py:836: ValueWarning: No supported index is available. Prediction results will be given with an integer index beginning at `start`.\n",
      "  return get_prediction_index(\n",
      "/opt/homebrew/anaconda3/lib/python3.12/site-packages/statsmodels/tsa/base/tsa_model.py:836: FutureWarning: No supported index is available. In the next version, calling this method in a model without a supported index will result in an exception.\n",
      "  return get_prediction_index(\n"
     ]
    }
   ],
   "execution_count": 8
  },
  {
   "metadata": {},
   "cell_type": "markdown",
   "source": "### Vector Autoregression Moving-Average (VARMA)",
   "id": "cd16143cccd73416"
  },
  {
   "metadata": {
    "ExecuteTime": {
     "end_time": "2024-12-13T08:23:58.090402Z",
     "start_time": "2024-12-13T08:23:58.086690Z"
    }
   },
   "cell_type": "code",
   "source": [
    "from statsmodels.tsa.statespace.varmax import VARMAX\n",
    "\n",
    "model = VARMAX(smol_sample, order=(1, 1))  # (p, q) - autoregressive and moving average orders\n",
    "varmax_results = model.fit(disp=False)\n",
    "predictions = varmax_results.forecast(steps=5)\n",
    "print(predictions)"
   ],
   "id": "4cd7782204c2242d",
   "outputs": [],
   "execution_count": 9
  },
  {
   "metadata": {
    "ExecuteTime": {
     "end_time": "2024-12-13T08:23:59.116557Z",
     "start_time": "2024-12-13T08:23:58.250902Z"
    }
   },
   "cell_type": "code",
   "source": [
    "# cache the models for later use\n",
    "import joblib\n",
    "joblib.dump(var_results, '../cache/var_model.joblib')\n",
    "joblib.dump(dfm_results, '../cache/dfm_model.joblib')\n",
    "joblib.dump(varmax_results, '../cache/varmax_model.joblib')"
   ],
   "id": "ebcad12448f5318a",
   "outputs": [
    {
     "ename": "NameError",
     "evalue": "name 'varmax_results' is not defined",
     "output_type": "error",
     "traceback": [
      "\u001B[0;31m---------------------------------------------------------------------------\u001B[0m",
      "\u001B[0;31mNameError\u001B[0m                                 Traceback (most recent call last)",
      "Cell \u001B[0;32mIn[10], line 5\u001B[0m\n\u001B[1;32m      3\u001B[0m joblib\u001B[38;5;241m.\u001B[39mdump(var_results, \u001B[38;5;124m'\u001B[39m\u001B[38;5;124m../cache/var_model.joblib\u001B[39m\u001B[38;5;124m'\u001B[39m)\n\u001B[1;32m      4\u001B[0m joblib\u001B[38;5;241m.\u001B[39mdump(dfm_results, \u001B[38;5;124m'\u001B[39m\u001B[38;5;124m../cache/dfm_model.joblib\u001B[39m\u001B[38;5;124m'\u001B[39m)\n\u001B[0;32m----> 5\u001B[0m joblib\u001B[38;5;241m.\u001B[39mdump(varmax_results, \u001B[38;5;124m'\u001B[39m\u001B[38;5;124m../cache/varmax_model.joblib\u001B[39m\u001B[38;5;124m'\u001B[39m)\n",
      "\u001B[0;31mNameError\u001B[0m: name 'varmax_results' is not defined"
     ]
    }
   ],
   "execution_count": 10
  },
  {
   "metadata": {
    "ExecuteTime": {
     "end_time": "2024-12-13T08:23:59.186755Z",
     "start_time": "2024-12-08T13:56:02.808046Z"
    }
   },
   "cell_type": "code",
   "source": [
    "# purely for testing\n",
    "# Load the models from cache\n",
    "var_results_loaded = joblib.load('../cache/var_model.joblib')\n",
    "print(\"done\")\n",
    "var_results_loaded.forecast(sample.values[var_results_loaded.k_ar:], steps=5)"
   ],
   "id": "1cb618d93e80f750",
   "outputs": [
    {
     "ename": "KeyError",
     "evalue": "-1",
     "output_type": "error",
     "traceback": [
      "\u001B[1;31m---------------------------------------------------------------------------\u001B[0m",
      "\u001B[1;31mKeyError\u001B[0m                                  Traceback (most recent call last)",
      "File \u001B[1;32m~\\AppData\\Local\\anaconda3\\Lib\\site-packages\\pandas\\core\\indexes\\base.py:3805\u001B[0m, in \u001B[0;36mIndex.get_loc\u001B[1;34m(self, key)\u001B[0m\n\u001B[0;32m   3804\u001B[0m \u001B[38;5;28;01mtry\u001B[39;00m:\n\u001B[1;32m-> 3805\u001B[0m     \u001B[38;5;28;01mreturn\u001B[39;00m \u001B[38;5;28mself\u001B[39m\u001B[38;5;241m.\u001B[39m_engine\u001B[38;5;241m.\u001B[39mget_loc(casted_key)\n\u001B[0;32m   3806\u001B[0m \u001B[38;5;28;01mexcept\u001B[39;00m \u001B[38;5;167;01mKeyError\u001B[39;00m \u001B[38;5;28;01mas\u001B[39;00m err:\n",
      "File \u001B[1;32mindex.pyx:167\u001B[0m, in \u001B[0;36mpandas._libs.index.IndexEngine.get_loc\u001B[1;34m()\u001B[0m\n",
      "File \u001B[1;32mindex.pyx:196\u001B[0m, in \u001B[0;36mpandas._libs.index.IndexEngine.get_loc\u001B[1;34m()\u001B[0m\n",
      "File \u001B[1;32mpandas\\\\_libs\\\\hashtable_class_helper.pxi:7081\u001B[0m, in \u001B[0;36mpandas._libs.hashtable.PyObjectHashTable.get_item\u001B[1;34m()\u001B[0m\n",
      "File \u001B[1;32mpandas\\\\_libs\\\\hashtable_class_helper.pxi:7089\u001B[0m, in \u001B[0;36mpandas._libs.hashtable.PyObjectHashTable.get_item\u001B[1;34m()\u001B[0m\n",
      "\u001B[1;31mKeyError\u001B[0m: -1",
      "\nThe above exception was the direct cause of the following exception:\n",
      "\u001B[1;31mKeyError\u001B[0m                                  Traceback (most recent call last)",
      "Cell \u001B[1;32mIn[11], line 4\u001B[0m\n\u001B[0;32m      1\u001B[0m \u001B[38;5;66;03m# purely for testing\u001B[39;00m\n\u001B[0;32m      2\u001B[0m \u001B[38;5;66;03m# Load the models from cache\u001B[39;00m\n\u001B[0;32m      3\u001B[0m var_results_loaded \u001B[38;5;241m=\u001B[39m joblib\u001B[38;5;241m.\u001B[39mload(\u001B[38;5;124m'\u001B[39m\u001B[38;5;124m../cache/var_model.joblib\u001B[39m\u001B[38;5;124m'\u001B[39m)\n\u001B[1;32m----> 4\u001B[0m var_results_loaded\u001B[38;5;241m.\u001B[39mforecast(sample, steps\u001B[38;5;241m=\u001B[39m\u001B[38;5;241m5\u001B[39m)\n",
      "File \u001B[1;32m~\\AppData\\Local\\anaconda3\\Lib\\site-packages\\statsmodels\\tsa\\vector_ar\\var_model.py:1176\u001B[0m, in \u001B[0;36mVARProcess.forecast\u001B[1;34m(self, y, steps, exog_future)\u001B[0m\n\u001B[0;32m   1174\u001B[0m \u001B[38;5;28;01melse\u001B[39;00m:\n\u001B[0;32m   1175\u001B[0m     exog_future \u001B[38;5;241m=\u001B[39m np\u001B[38;5;241m.\u001B[39mcolumn_stack(exogs)\n\u001B[1;32m-> 1176\u001B[0m \u001B[38;5;28;01mreturn\u001B[39;00m forecast(y, \u001B[38;5;28mself\u001B[39m\u001B[38;5;241m.\u001B[39mcoefs, trend_coefs, steps, exog_future)\n",
      "File \u001B[1;32m~\\AppData\\Local\\anaconda3\\Lib\\site-packages\\statsmodels\\tsa\\vector_ar\\var_model.py:255\u001B[0m, in \u001B[0;36mforecast\u001B[1;34m(y, coefs, trend_coefs, steps, exog)\u001B[0m\n\u001B[0;32m    251\u001B[0m \u001B[38;5;28;01mfor\u001B[39;00m i \u001B[38;5;129;01min\u001B[39;00m \u001B[38;5;28mrange\u001B[39m(\u001B[38;5;241m1\u001B[39m, p \u001B[38;5;241m+\u001B[39m \u001B[38;5;241m1\u001B[39m):\n\u001B[0;32m    252\u001B[0m     \u001B[38;5;66;03m# slightly hackish\u001B[39;00m\n\u001B[0;32m    253\u001B[0m     \u001B[38;5;28;01mif\u001B[39;00m h \u001B[38;5;241m-\u001B[39m i \u001B[38;5;241m<\u001B[39m\u001B[38;5;241m=\u001B[39m \u001B[38;5;241m0\u001B[39m:\n\u001B[0;32m    254\u001B[0m         \u001B[38;5;66;03m# e.g. when h=1, h-1 = 0, which is y[-1]\u001B[39;00m\n\u001B[1;32m--> 255\u001B[0m         prior_y \u001B[38;5;241m=\u001B[39m y[h \u001B[38;5;241m-\u001B[39m i \u001B[38;5;241m-\u001B[39m \u001B[38;5;241m1\u001B[39m]\n\u001B[0;32m    256\u001B[0m     \u001B[38;5;28;01melse\u001B[39;00m:\n\u001B[0;32m    257\u001B[0m         \u001B[38;5;66;03m# e.g. when h=2, h-1=1, which is forcs[0]\u001B[39;00m\n\u001B[0;32m    258\u001B[0m         prior_y \u001B[38;5;241m=\u001B[39m forcs[h \u001B[38;5;241m-\u001B[39m i \u001B[38;5;241m-\u001B[39m \u001B[38;5;241m1\u001B[39m]\n",
      "File \u001B[1;32m~\\AppData\\Local\\anaconda3\\Lib\\site-packages\\pandas\\core\\frame.py:4102\u001B[0m, in \u001B[0;36mDataFrame.__getitem__\u001B[1;34m(self, key)\u001B[0m\n\u001B[0;32m   4100\u001B[0m \u001B[38;5;28;01mif\u001B[39;00m \u001B[38;5;28mself\u001B[39m\u001B[38;5;241m.\u001B[39mcolumns\u001B[38;5;241m.\u001B[39mnlevels \u001B[38;5;241m>\u001B[39m \u001B[38;5;241m1\u001B[39m:\n\u001B[0;32m   4101\u001B[0m     \u001B[38;5;28;01mreturn\u001B[39;00m \u001B[38;5;28mself\u001B[39m\u001B[38;5;241m.\u001B[39m_getitem_multilevel(key)\n\u001B[1;32m-> 4102\u001B[0m indexer \u001B[38;5;241m=\u001B[39m \u001B[38;5;28mself\u001B[39m\u001B[38;5;241m.\u001B[39mcolumns\u001B[38;5;241m.\u001B[39mget_loc(key)\n\u001B[0;32m   4103\u001B[0m \u001B[38;5;28;01mif\u001B[39;00m is_integer(indexer):\n\u001B[0;32m   4104\u001B[0m     indexer \u001B[38;5;241m=\u001B[39m [indexer]\n",
      "File \u001B[1;32m~\\AppData\\Local\\anaconda3\\Lib\\site-packages\\pandas\\core\\indexes\\base.py:3812\u001B[0m, in \u001B[0;36mIndex.get_loc\u001B[1;34m(self, key)\u001B[0m\n\u001B[0;32m   3807\u001B[0m     \u001B[38;5;28;01mif\u001B[39;00m \u001B[38;5;28misinstance\u001B[39m(casted_key, \u001B[38;5;28mslice\u001B[39m) \u001B[38;5;129;01mor\u001B[39;00m (\n\u001B[0;32m   3808\u001B[0m         \u001B[38;5;28misinstance\u001B[39m(casted_key, abc\u001B[38;5;241m.\u001B[39mIterable)\n\u001B[0;32m   3809\u001B[0m         \u001B[38;5;129;01mand\u001B[39;00m \u001B[38;5;28many\u001B[39m(\u001B[38;5;28misinstance\u001B[39m(x, \u001B[38;5;28mslice\u001B[39m) \u001B[38;5;28;01mfor\u001B[39;00m x \u001B[38;5;129;01min\u001B[39;00m casted_key)\n\u001B[0;32m   3810\u001B[0m     ):\n\u001B[0;32m   3811\u001B[0m         \u001B[38;5;28;01mraise\u001B[39;00m InvalidIndexError(key)\n\u001B[1;32m-> 3812\u001B[0m     \u001B[38;5;28;01mraise\u001B[39;00m \u001B[38;5;167;01mKeyError\u001B[39;00m(key) \u001B[38;5;28;01mfrom\u001B[39;00m \u001B[38;5;21;01merr\u001B[39;00m\n\u001B[0;32m   3813\u001B[0m \u001B[38;5;28;01mexcept\u001B[39;00m \u001B[38;5;167;01mTypeError\u001B[39;00m:\n\u001B[0;32m   3814\u001B[0m     \u001B[38;5;66;03m# If we have a listlike key, _check_indexing_error will raise\u001B[39;00m\n\u001B[0;32m   3815\u001B[0m     \u001B[38;5;66;03m#  InvalidIndexError. Otherwise we fall through and re-raise\u001B[39;00m\n\u001B[0;32m   3816\u001B[0m     \u001B[38;5;66;03m#  the TypeError.\u001B[39;00m\n\u001B[0;32m   3817\u001B[0m     \u001B[38;5;28mself\u001B[39m\u001B[38;5;241m.\u001B[39m_check_indexing_error(key)\n",
      "\u001B[1;31mKeyError\u001B[0m: -1"
     ]
    }
   ],
   "execution_count": 11
  }
 ],
 "metadata": {
  "kernelspec": {
   "display_name": "Python 3",
   "language": "python",
   "name": "python3"
  },
  "language_info": {
   "codemirror_mode": {
    "name": "ipython",
    "version": 2
   },
   "file_extension": ".py",
   "mimetype": "text/x-python",
   "name": "python",
   "nbconvert_exporter": "python",
   "pygments_lexer": "ipython2",
   "version": "2.7.6"
  }
 },
 "nbformat": 4,
 "nbformat_minor": 5
}
