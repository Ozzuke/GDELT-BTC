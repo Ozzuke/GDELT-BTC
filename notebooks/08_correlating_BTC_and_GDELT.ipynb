{
 "cells": [
  {
   "cell_type": "code",
   "id": "initial_id",
   "metadata": {
    "collapsed": true
   },
   "source": [
    "import pandas as pd\n",
    "import numpy as np\n",
    "import matplotlib.pyplot as plt\n",
    "import seaborn as sns\n",
    "\n",
    "encoded = pd.read_parquet('../cache/encoded.parquet')\n",
    "encoded.head()"
   ],
   "outputs": [],
   "execution_count": null
  },
  {
   "metadata": {},
   "cell_type": "code",
   "source": "encoded.dtypes",
   "id": "469f8f7a819dcda0",
   "outputs": [],
   "execution_count": null
  },
  {
   "metadata": {},
   "cell_type": "code",
   "source": "encoded = encoded.drop(columns=['Date', 'Source'])",
   "id": "7c4daafecd1a2a32",
   "outputs": [],
   "execution_count": null
  },
  {
   "metadata": {},
   "cell_type": "code",
   "source": [
    "numerical_columns = encoded.select_dtypes(include=['int64', 'float64']).columns.tolist()\n",
    "# categorical_columns = merged.select_dtypes(include=['object', 'category']).columns.tolist()\n",
    "\n",
    "# Remove the target variable from the lists if present\n",
    "# numerical_columns = [col for col in numerical_columns if col != 'pct_change_30min']\n"
   ],
   "id": "cd1dc492cfd39c31",
   "outputs": [],
   "execution_count": null
  },
  {
   "metadata": {},
   "cell_type": "code",
   "source": [
    "# Compute correlations between numerical columns and the numerical target variable (pearson)\n",
    "correlations = encoded[numerical_columns].corr()\n",
    "correlations_30min = correlations['pct_change_30min'].drop('pct_change_30min').sort_values(ascending=False)\n",
    "correlations_15min = correlations['pct_change_15min'].drop('pct_change_15min').sort_values(ascending=False)\n",
    "correlations_24h = correlations['pct_change_24h'].drop('pct_change_24h').sort_values(ascending=False)\n",
    "print(correlations_15min)\n",
    "print(\"--------------------------------\")\n",
    "print(correlations_30min)\n",
    "print(\"--------------------------------\")\n",
    "print(correlations_24h)"
   ],
   "id": "8b5cbc9e3769cb13",
   "outputs": [],
   "execution_count": null
  },
  {
   "metadata": {},
   "cell_type": "code",
   "source": [
    "# Plot correlation matrix\n",
    "plt.figure(figsize=(12, 12))\n",
    "sns.heatmap(correlations, annot=True, fmt='.2f', cmap='coolwarm')\n",
    "plt.title('Pearson correlation matrix')\n",
    "plt.show()"
   ],
   "id": "425d3cd7971919d6",
   "outputs": [],
   "execution_count": null
  },
  {
   "metadata": {},
   "cell_type": "code",
   "source": [
    "# Compute correlations between numerical columns and the numerical target variable (spearman)\n",
    "spearman_correlations = encoded[numerical_columns].corr(method='spearman')\n",
    "correlations_30min = spearman_correlations['pct_change_30min'].drop('pct_change_30min').sort_values(ascending=False)\n",
    "correlations_15min = spearman_correlations['pct_change_15min'].drop('pct_change_15min').sort_values(ascending=False)\n",
    "correlations_24h = spearman_correlations['pct_change_24h'].drop('pct_change_24h').sort_values(ascending=False)\n",
    "print(correlations_15min)\n",
    "print(\"--------------------------------\")\n",
    "print(correlations_30min)\n",
    "print(\"--------------------------------\")\n",
    "print(correlations_24h)"
   ],
   "id": "e6470f9f99a86ac3",
   "outputs": [],
   "execution_count": null
  },
  {
   "metadata": {},
   "cell_type": "code",
   "source": [
    "# Plot correlation matrix\n",
    "plt.figure(figsize=(12, 12))\n",
    "sns.heatmap(spearman_correlations, annot=True, fmt='.2f', cmap='coolwarm')\n",
    "plt.title('Spearman correlation matrix')\n",
    "plt.show()"
   ],
   "id": "3f3dc67de113fa65",
   "outputs": [],
   "execution_count": null
  },
  {
   "metadata": {},
   "cell_type": "code",
   "source": [
    "# Plot every column in merged dataframe as a scatter plot against the target variable\n",
    "for col in numerical_columns:\n",
    "    fig, axes = plt.subplots(1, 3, figsize=(18, 5))\n",
    "\n",
    "    sns.scatterplot(ax=axes[0], x=col, y='pct_change_15min', data=encoded)\n",
    "    axes[0].set_title(f'{col} vs pct_change_15min')\n",
    "\n",
    "    sns.scatterplot(ax=axes[1], x=col, y='pct_change_30min', data=encoded)\n",
    "    axes[1].set_title(f'{col} vs pct_change_30min')\n",
    "\n",
    "    sns.scatterplot(ax=axes[2], x=col, y='pct_change_24h', data=encoded)\n",
    "    axes[2].set_title(f'{col} vs pct_change_24h')\n",
    "\n",
    "    plt.tight_layout()\n",
    "    plt.show()"
   ],
   "id": "4b51fdedd563bb2f",
   "outputs": [],
   "execution_count": null
  },
  {
   "metadata": {},
   "cell_type": "code",
   "source": [
    "# Compute correlations between numerical columns and the numerical target variable (spearman)\n",
    "# spearman_correlations = merged[numerical_columns + ['pct_change_30min']].corr(method='spearman')\n",
    "# target_spearman_correlations = spearman_correlations['pct_change_30min'].drop('pct_change_30min').sort_values(ascending=False)\n",
    "# print(target_spearman_correlations)"
   ],
   "id": "57901575bb05ed1c",
   "outputs": [],
   "execution_count": null
  },
  {
   "metadata": {},
   "cell_type": "code",
   "source": [
    "# Plot every column in merged dataframe as a scatter plot against the target variable\n",
    "# for col in numerical_columns:\n",
    "#     sns.scatterplot(x=col, y='pct_change_30min', data=merged)\n",
    "#     plt.title(f'{col} vs pct_change_30min')\n",
    "#     plt.show()\n",
    "# for col in categorical_columns:\n",
    "#     sns.boxplot(x=col, y='pct_change_30min', data=merged)\n",
    "#     plt.title(f'{col} vs pct_change_30min')\n",
    "#     plt.show()"
   ],
   "id": "9e3b80bdca6456fb",
   "outputs": [],
   "execution_count": null
  }
 ],
 "metadata": {
  "kernelspec": {
   "display_name": "Python 3",
   "language": "python",
   "name": "python3"
  },
  "language_info": {
   "codemirror_mode": {
    "name": "ipython",
    "version": 2
   },
   "file_extension": ".py",
   "mimetype": "text/x-python",
   "name": "python",
   "nbconvert_exporter": "python",
   "pygments_lexer": "ipython2",
   "version": "2.7.6"
  }
 },
 "nbformat": 4,
 "nbformat_minor": 5
}
