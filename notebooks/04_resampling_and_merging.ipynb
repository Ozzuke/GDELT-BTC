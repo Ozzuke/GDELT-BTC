{
 "cells": [
  {
   "cell_type": "code",
   "id": "initial_id",
   "metadata": {
    "collapsed": true,
    "ExecuteTime": {
     "end_time": "2024-12-04T09:06:18.941870Z",
     "start_time": "2024-12-04T09:06:15.877834Z"
    }
   },
   "source": [
    "import pandas as pd\n",
    "gdelt = pd.read_parquet('../cache/gdelt_cleaned.parquet')\n",
    "btc = pd.read_parquet('../cache/btc_cleaned.parquet')"
   ],
   "outputs": [],
   "execution_count": 1
  },
  {
   "metadata": {
    "ExecuteTime": {
     "end_time": "2024-12-04T09:08:31.430137Z",
     "start_time": "2024-12-04T09:08:31.411489Z"
    }
   },
   "cell_type": "code",
   "source": "gdelt.head()",
   "id": "40d4513721688557",
   "outputs": [
    {
     "data": {
      "text/plain": [
       "         Date Actor1Country Actor1GeoCountry Actor1Type Actor2Country  \\\n",
       "0  1546300800          None             None        CVL          None   \n",
       "1  1546300800         Other               US        NaN           USA   \n",
       "2  1546300800          None               US        GOV          None   \n",
       "3  1546300800           RUS               RS        NaN          None   \n",
       "4  1546300800           USA               US        NaN          None   \n",
       "\n",
       "  Actor2GeoCountry Actor2Type ActionCountry      EventType     QuadClass  \\\n",
       "0             None        NaN          None    Diplom Coop    VerbalCoop   \n",
       "1               US        NaN            US          Fight  MaterialConf   \n",
       "2               US        GOV            US         Appeal    VerbalCoop   \n",
       "3               RS        GOV            RS  Material Coop  MaterialCoop   \n",
       "4             None        NaN            US         Appeal    VerbalCoop   \n",
       "\n",
       "   GoldsteinScale  NumSources  NumArticles   AvgTone  \\\n",
       "0             3.4           4           50  2.354384   \n",
       "1           -10.0           2           12 -4.195804   \n",
       "2             3.2          10           20  1.734061   \n",
       "3             6.0           3           30 -0.427182   \n",
       "4             3.0           8           23 -1.376241   \n",
       "\n",
       "                                              Source Actor1TypeGeneral  \\\n",
       "0  https://telegrafi.com/ne-shenj-proteste-labino...             Other   \n",
       "1  http://www.wgow.com/news/manhunt-on-in-texas-f...              None   \n",
       "2  https://hanfordsentinel.com/news/national/govt...               GOV   \n",
       "3  http://www.gp.se/nyheter/v%C3%A4rlden/sju-d%C3...              None   \n",
       "4  http://www.790wpic.com/news/a-familys-whirlpoo...              None   \n",
       "\n",
       "  Actor2TypeGeneral  \n",
       "0              None  \n",
       "1              None  \n",
       "2               GOV  \n",
       "3               GOV  \n",
       "4              None  "
      ],
      "text/html": [
       "<div>\n",
       "<style scoped>\n",
       "    .dataframe tbody tr th:only-of-type {\n",
       "        vertical-align: middle;\n",
       "    }\n",
       "\n",
       "    .dataframe tbody tr th {\n",
       "        vertical-align: top;\n",
       "    }\n",
       "\n",
       "    .dataframe thead th {\n",
       "        text-align: right;\n",
       "    }\n",
       "</style>\n",
       "<table border=\"1\" class=\"dataframe\">\n",
       "  <thead>\n",
       "    <tr style=\"text-align: right;\">\n",
       "      <th></th>\n",
       "      <th>Date</th>\n",
       "      <th>Actor1Country</th>\n",
       "      <th>Actor1GeoCountry</th>\n",
       "      <th>Actor1Type</th>\n",
       "      <th>Actor2Country</th>\n",
       "      <th>Actor2GeoCountry</th>\n",
       "      <th>Actor2Type</th>\n",
       "      <th>ActionCountry</th>\n",
       "      <th>EventType</th>\n",
       "      <th>QuadClass</th>\n",
       "      <th>GoldsteinScale</th>\n",
       "      <th>NumSources</th>\n",
       "      <th>NumArticles</th>\n",
       "      <th>AvgTone</th>\n",
       "      <th>Source</th>\n",
       "      <th>Actor1TypeGeneral</th>\n",
       "      <th>Actor2TypeGeneral</th>\n",
       "    </tr>\n",
       "  </thead>\n",
       "  <tbody>\n",
       "    <tr>\n",
       "      <th>0</th>\n",
       "      <td>1546300800</td>\n",
       "      <td>None</td>\n",
       "      <td>None</td>\n",
       "      <td>CVL</td>\n",
       "      <td>None</td>\n",
       "      <td>None</td>\n",
       "      <td>NaN</td>\n",
       "      <td>None</td>\n",
       "      <td>Diplom Coop</td>\n",
       "      <td>VerbalCoop</td>\n",
       "      <td>3.4</td>\n",
       "      <td>4</td>\n",
       "      <td>50</td>\n",
       "      <td>2.354384</td>\n",
       "      <td>https://telegrafi.com/ne-shenj-proteste-labino...</td>\n",
       "      <td>Other</td>\n",
       "      <td>None</td>\n",
       "    </tr>\n",
       "    <tr>\n",
       "      <th>1</th>\n",
       "      <td>1546300800</td>\n",
       "      <td>Other</td>\n",
       "      <td>US</td>\n",
       "      <td>NaN</td>\n",
       "      <td>USA</td>\n",
       "      <td>US</td>\n",
       "      <td>NaN</td>\n",
       "      <td>US</td>\n",
       "      <td>Fight</td>\n",
       "      <td>MaterialConf</td>\n",
       "      <td>-10.0</td>\n",
       "      <td>2</td>\n",
       "      <td>12</td>\n",
       "      <td>-4.195804</td>\n",
       "      <td>http://www.wgow.com/news/manhunt-on-in-texas-f...</td>\n",
       "      <td>None</td>\n",
       "      <td>None</td>\n",
       "    </tr>\n",
       "    <tr>\n",
       "      <th>2</th>\n",
       "      <td>1546300800</td>\n",
       "      <td>None</td>\n",
       "      <td>US</td>\n",
       "      <td>GOV</td>\n",
       "      <td>None</td>\n",
       "      <td>US</td>\n",
       "      <td>GOV</td>\n",
       "      <td>US</td>\n",
       "      <td>Appeal</td>\n",
       "      <td>VerbalCoop</td>\n",
       "      <td>3.2</td>\n",
       "      <td>10</td>\n",
       "      <td>20</td>\n",
       "      <td>1.734061</td>\n",
       "      <td>https://hanfordsentinel.com/news/national/govt...</td>\n",
       "      <td>GOV</td>\n",
       "      <td>GOV</td>\n",
       "    </tr>\n",
       "    <tr>\n",
       "      <th>3</th>\n",
       "      <td>1546300800</td>\n",
       "      <td>RUS</td>\n",
       "      <td>RS</td>\n",
       "      <td>NaN</td>\n",
       "      <td>None</td>\n",
       "      <td>RS</td>\n",
       "      <td>GOV</td>\n",
       "      <td>RS</td>\n",
       "      <td>Material Coop</td>\n",
       "      <td>MaterialCoop</td>\n",
       "      <td>6.0</td>\n",
       "      <td>3</td>\n",
       "      <td>30</td>\n",
       "      <td>-0.427182</td>\n",
       "      <td>http://www.gp.se/nyheter/v%C3%A4rlden/sju-d%C3...</td>\n",
       "      <td>None</td>\n",
       "      <td>GOV</td>\n",
       "    </tr>\n",
       "    <tr>\n",
       "      <th>4</th>\n",
       "      <td>1546300800</td>\n",
       "      <td>USA</td>\n",
       "      <td>US</td>\n",
       "      <td>NaN</td>\n",
       "      <td>None</td>\n",
       "      <td>None</td>\n",
       "      <td>NaN</td>\n",
       "      <td>US</td>\n",
       "      <td>Appeal</td>\n",
       "      <td>VerbalCoop</td>\n",
       "      <td>3.0</td>\n",
       "      <td>8</td>\n",
       "      <td>23</td>\n",
       "      <td>-1.376241</td>\n",
       "      <td>http://www.790wpic.com/news/a-familys-whirlpoo...</td>\n",
       "      <td>None</td>\n",
       "      <td>None</td>\n",
       "    </tr>\n",
       "  </tbody>\n",
       "</table>\n",
       "</div>"
      ]
     },
     "execution_count": 5,
     "metadata": {},
     "output_type": "execute_result"
    }
   ],
   "execution_count": 5
  },
  {
   "metadata": {
    "ExecuteTime": {
     "end_time": "2024-12-04T09:08:56.067190Z",
     "start_time": "2024-12-04T09:08:56.061446Z"
    }
   },
   "cell_type": "code",
   "source": "gdelt.columns",
   "id": "5228b16f48deafd0",
   "outputs": [
    {
     "data": {
      "text/plain": [
       "Index(['Date', 'Actor1Country', 'Actor1GeoCountry', 'Actor1Type',\n",
       "       'Actor2Country', 'Actor2GeoCountry', 'Actor2Type', 'ActionCountry',\n",
       "       'EventType', 'QuadClass', 'GoldsteinScale', 'NumSources', 'NumArticles',\n",
       "       'AvgTone', 'Source', 'Actor1TypeGeneral', 'Actor2TypeGeneral'],\n",
       "      dtype='object')"
      ]
     },
     "execution_count": 6,
     "metadata": {},
     "output_type": "execute_result"
    }
   ],
   "execution_count": 6
  },
  {
   "metadata": {
    "ExecuteTime": {
     "end_time": "2024-12-04T09:08:29.184573Z",
     "start_time": "2024-12-04T09:08:29.173304Z"
    }
   },
   "cell_type": "code",
   "source": "btc.head()",
   "id": "63a2027decba6bb3",
   "outputs": [
    {
     "data": {
      "text/plain": [
       "    Timestamp  Open_pct_change\n",
       "0  1546300800        -0.226363\n",
       "1  1546301700        -2.578560\n",
       "2  1546302600        -1.509301\n",
       "3  1546303500         0.781614\n",
       "4  1546304400        -0.291943"
      ],
      "text/html": [
       "<div>\n",
       "<style scoped>\n",
       "    .dataframe tbody tr th:only-of-type {\n",
       "        vertical-align: middle;\n",
       "    }\n",
       "\n",
       "    .dataframe tbody tr th {\n",
       "        vertical-align: top;\n",
       "    }\n",
       "\n",
       "    .dataframe thead th {\n",
       "        text-align: right;\n",
       "    }\n",
       "</style>\n",
       "<table border=\"1\" class=\"dataframe\">\n",
       "  <thead>\n",
       "    <tr style=\"text-align: right;\">\n",
       "      <th></th>\n",
       "      <th>Timestamp</th>\n",
       "      <th>Open_pct_change</th>\n",
       "    </tr>\n",
       "  </thead>\n",
       "  <tbody>\n",
       "    <tr>\n",
       "      <th>0</th>\n",
       "      <td>1546300800</td>\n",
       "      <td>-0.226363</td>\n",
       "    </tr>\n",
       "    <tr>\n",
       "      <th>1</th>\n",
       "      <td>1546301700</td>\n",
       "      <td>-2.578560</td>\n",
       "    </tr>\n",
       "    <tr>\n",
       "      <th>2</th>\n",
       "      <td>1546302600</td>\n",
       "      <td>-1.509301</td>\n",
       "    </tr>\n",
       "    <tr>\n",
       "      <th>3</th>\n",
       "      <td>1546303500</td>\n",
       "      <td>0.781614</td>\n",
       "    </tr>\n",
       "    <tr>\n",
       "      <th>4</th>\n",
       "      <td>1546304400</td>\n",
       "      <td>-0.291943</td>\n",
       "    </tr>\n",
       "  </tbody>\n",
       "</table>\n",
       "</div>"
      ]
     },
     "execution_count": 4,
     "metadata": {},
     "output_type": "execute_result"
    }
   ],
   "execution_count": 4
  },
  {
   "metadata": {
    "ExecuteTime": {
     "end_time": "2024-12-04T09:09:07.304946Z",
     "start_time": "2024-12-04T09:09:07.299603Z"
    }
   },
   "cell_type": "code",
   "source": "btc.columns",
   "id": "7b9e103ed69601a7",
   "outputs": [
    {
     "data": {
      "text/plain": [
       "Index(['Timestamp', 'Open_pct_change'], dtype='object')"
      ]
     },
     "execution_count": 7,
     "metadata": {},
     "output_type": "execute_result"
    }
   ],
   "execution_count": 7
  },
  {
   "metadata": {
    "ExecuteTime": {
     "end_time": "2024-12-04T09:08:12.770259Z",
     "start_time": "2024-12-04T09:08:12.742120Z"
    }
   },
   "cell_type": "code",
   "source": [
    "# merge the two dataframes\n",
    "gdelt = gdelt.sort_values('Timestamp')\n",
    "btc = btc.sort_values('Timestamp')\n",
    "\n",
    "merged = pd.merge_asof(gdelt, btc, on='Timestamp')"
   ],
   "id": "423c27b5339ab3dc",
   "outputs": [
    {
     "ename": "KeyError",
     "evalue": "'Timestamp'",
     "output_type": "error",
     "traceback": [
      "\u001B[0;31m---------------------------------------------------------------------------\u001B[0m",
      "\u001B[0;31mKeyError\u001B[0m                                  Traceback (most recent call last)",
      "\u001B[0;32m/tmp/ipykernel_2056/243211948.py\u001B[0m in \u001B[0;36m?\u001B[0;34m()\u001B[0m\n\u001B[1;32m      1\u001B[0m \u001B[0;31m# merge the two dataframes\u001B[0m\u001B[0;34m\u001B[0m\u001B[0;34m\u001B[0m\u001B[0m\n\u001B[0;32m----> 2\u001B[0;31m \u001B[0mgdelt\u001B[0m \u001B[0;34m=\u001B[0m \u001B[0mgdelt\u001B[0m\u001B[0;34m.\u001B[0m\u001B[0msort_values\u001B[0m\u001B[0;34m(\u001B[0m\u001B[0;34m'Timestamp'\u001B[0m\u001B[0;34m)\u001B[0m\u001B[0;34m\u001B[0m\u001B[0;34m\u001B[0m\u001B[0m\n\u001B[0m\u001B[1;32m      3\u001B[0m \u001B[0mbtc\u001B[0m \u001B[0;34m=\u001B[0m \u001B[0mbtc\u001B[0m\u001B[0;34m.\u001B[0m\u001B[0msort_values\u001B[0m\u001B[0;34m(\u001B[0m\u001B[0;34m'Timestamp'\u001B[0m\u001B[0;34m)\u001B[0m\u001B[0;34m\u001B[0m\u001B[0;34m\u001B[0m\u001B[0m\n\u001B[1;32m      4\u001B[0m \u001B[0;34m\u001B[0m\u001B[0m\n\u001B[1;32m      5\u001B[0m \u001B[0mmerged\u001B[0m \u001B[0;34m=\u001B[0m \u001B[0mpd\u001B[0m\u001B[0;34m.\u001B[0m\u001B[0mmerge_asof\u001B[0m\u001B[0;34m(\u001B[0m\u001B[0mgdelt\u001B[0m\u001B[0;34m,\u001B[0m \u001B[0mbtc\u001B[0m\u001B[0;34m,\u001B[0m \u001B[0mon\u001B[0m\u001B[0;34m=\u001B[0m\u001B[0;34m'Timestamp'\u001B[0m\u001B[0;34m)\u001B[0m\u001B[0;34m\u001B[0m\u001B[0;34m\u001B[0m\u001B[0m\n",
      "\u001B[0;32m~/anaconda3/lib/python3.12/site-packages/pandas/core/frame.py\u001B[0m in \u001B[0;36m?\u001B[0;34m(self, by, axis, ascending, inplace, kind, na_position, ignore_index, key)\u001B[0m\n\u001B[1;32m   7185\u001B[0m             \u001B[0;34m)\u001B[0m\u001B[0;34m\u001B[0m\u001B[0;34m\u001B[0m\u001B[0m\n\u001B[1;32m   7186\u001B[0m         \u001B[0;32melif\u001B[0m \u001B[0mlen\u001B[0m\u001B[0;34m(\u001B[0m\u001B[0mby\u001B[0m\u001B[0;34m)\u001B[0m\u001B[0;34m:\u001B[0m\u001B[0;34m\u001B[0m\u001B[0;34m\u001B[0m\u001B[0m\n\u001B[1;32m   7187\u001B[0m             \u001B[0;31m# len(by) == 1\u001B[0m\u001B[0;34m\u001B[0m\u001B[0;34m\u001B[0m\u001B[0m\n\u001B[1;32m   7188\u001B[0m \u001B[0;34m\u001B[0m\u001B[0m\n\u001B[0;32m-> 7189\u001B[0;31m             \u001B[0mk\u001B[0m \u001B[0;34m=\u001B[0m \u001B[0mself\u001B[0m\u001B[0;34m.\u001B[0m\u001B[0m_get_label_or_level_values\u001B[0m\u001B[0;34m(\u001B[0m\u001B[0mby\u001B[0m\u001B[0;34m[\u001B[0m\u001B[0;36m0\u001B[0m\u001B[0;34m]\u001B[0m\u001B[0;34m,\u001B[0m \u001B[0maxis\u001B[0m\u001B[0;34m=\u001B[0m\u001B[0maxis\u001B[0m\u001B[0;34m)\u001B[0m\u001B[0;34m\u001B[0m\u001B[0;34m\u001B[0m\u001B[0m\n\u001B[0m\u001B[1;32m   7190\u001B[0m \u001B[0;34m\u001B[0m\u001B[0m\n\u001B[1;32m   7191\u001B[0m             \u001B[0;31m# need to rewrap column in Series to apply key function\u001B[0m\u001B[0;34m\u001B[0m\u001B[0;34m\u001B[0m\u001B[0m\n\u001B[1;32m   7192\u001B[0m             \u001B[0;32mif\u001B[0m \u001B[0mkey\u001B[0m \u001B[0;32mis\u001B[0m \u001B[0;32mnot\u001B[0m \u001B[0;32mNone\u001B[0m\u001B[0;34m:\u001B[0m\u001B[0;34m\u001B[0m\u001B[0;34m\u001B[0m\u001B[0m\n",
      "\u001B[0;32m~/anaconda3/lib/python3.12/site-packages/pandas/core/generic.py\u001B[0m in \u001B[0;36m?\u001B[0;34m(self, key, axis)\u001B[0m\n\u001B[1;32m   1907\u001B[0m             \u001B[0mvalues\u001B[0m \u001B[0;34m=\u001B[0m \u001B[0mself\u001B[0m\u001B[0;34m.\u001B[0m\u001B[0mxs\u001B[0m\u001B[0;34m(\u001B[0m\u001B[0mkey\u001B[0m\u001B[0;34m,\u001B[0m \u001B[0maxis\u001B[0m\u001B[0;34m=\u001B[0m\u001B[0mother_axes\u001B[0m\u001B[0;34m[\u001B[0m\u001B[0;36m0\u001B[0m\u001B[0;34m]\u001B[0m\u001B[0;34m)\u001B[0m\u001B[0;34m.\u001B[0m\u001B[0m_values\u001B[0m\u001B[0;34m\u001B[0m\u001B[0;34m\u001B[0m\u001B[0m\n\u001B[1;32m   1908\u001B[0m         \u001B[0;32melif\u001B[0m \u001B[0mself\u001B[0m\u001B[0;34m.\u001B[0m\u001B[0m_is_level_reference\u001B[0m\u001B[0;34m(\u001B[0m\u001B[0mkey\u001B[0m\u001B[0;34m,\u001B[0m \u001B[0maxis\u001B[0m\u001B[0;34m=\u001B[0m\u001B[0maxis\u001B[0m\u001B[0;34m)\u001B[0m\u001B[0;34m:\u001B[0m\u001B[0;34m\u001B[0m\u001B[0;34m\u001B[0m\u001B[0m\n\u001B[1;32m   1909\u001B[0m             \u001B[0mvalues\u001B[0m \u001B[0;34m=\u001B[0m \u001B[0mself\u001B[0m\u001B[0;34m.\u001B[0m\u001B[0maxes\u001B[0m\u001B[0;34m[\u001B[0m\u001B[0maxis\u001B[0m\u001B[0;34m]\u001B[0m\u001B[0;34m.\u001B[0m\u001B[0mget_level_values\u001B[0m\u001B[0;34m(\u001B[0m\u001B[0mkey\u001B[0m\u001B[0;34m)\u001B[0m\u001B[0;34m.\u001B[0m\u001B[0m_values\u001B[0m\u001B[0;34m\u001B[0m\u001B[0;34m\u001B[0m\u001B[0m\n\u001B[1;32m   1910\u001B[0m         \u001B[0;32melse\u001B[0m\u001B[0;34m:\u001B[0m\u001B[0;34m\u001B[0m\u001B[0;34m\u001B[0m\u001B[0m\n\u001B[0;32m-> 1911\u001B[0;31m             \u001B[0;32mraise\u001B[0m \u001B[0mKeyError\u001B[0m\u001B[0;34m(\u001B[0m\u001B[0mkey\u001B[0m\u001B[0;34m)\u001B[0m\u001B[0;34m\u001B[0m\u001B[0;34m\u001B[0m\u001B[0m\n\u001B[0m\u001B[1;32m   1912\u001B[0m \u001B[0;34m\u001B[0m\u001B[0m\n\u001B[1;32m   1913\u001B[0m         \u001B[0;31m# Check for duplicates\u001B[0m\u001B[0;34m\u001B[0m\u001B[0;34m\u001B[0m\u001B[0m\n\u001B[1;32m   1914\u001B[0m         \u001B[0;32mif\u001B[0m \u001B[0mvalues\u001B[0m\u001B[0;34m.\u001B[0m\u001B[0mndim\u001B[0m \u001B[0;34m>\u001B[0m \u001B[0;36m1\u001B[0m\u001B[0;34m:\u001B[0m\u001B[0;34m\u001B[0m\u001B[0;34m\u001B[0m\u001B[0m\n",
      "\u001B[0;31mKeyError\u001B[0m: 'Timestamp'"
     ]
    }
   ],
   "execution_count": 3
  }
 ],
 "metadata": {
  "kernelspec": {
   "display_name": "Python 3",
   "language": "python",
   "name": "python3"
  },
  "language_info": {
   "codemirror_mode": {
    "name": "ipython",
    "version": 2
   },
   "file_extension": ".py",
   "mimetype": "text/x-python",
   "name": "python",
   "nbconvert_exporter": "python",
   "pygments_lexer": "ipython2",
   "version": "2.7.6"
  }
 },
 "nbformat": 4,
 "nbformat_minor": 5
}
