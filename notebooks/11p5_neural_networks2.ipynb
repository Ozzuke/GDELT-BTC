{
 "cells": [
  {
   "cell_type": "code",
   "id": "initial_id",
   "metadata": {
    "collapsed": true,
    "ExecuteTime": {
     "end_time": "2024-12-13T10:58:33.464404Z",
     "start_time": "2024-12-13T10:58:33.460393Z"
    }
   },
   "source": [
    "import pandas as pd\n",
    "import joblib"
   ],
   "outputs": [],
   "execution_count": 39
  },
  {
   "metadata": {
    "ExecuteTime": {
     "end_time": "2024-12-13T10:58:33.649021Z",
     "start_time": "2024-12-13T10:58:33.478820Z"
    }
   },
   "cell_type": "code",
   "source": [
    "# Load data\n",
    "df_0q = pd.read_parquet('../cache/prepd_0q.parquet')\n",
    "df_50q = pd.read_parquet('../cache/prepd_50q.parquet')\n",
    "df_90q = pd.read_parquet('../cache/prepd_90q.parquet')\n",
    "df_99q = pd.read_parquet('../cache/prepd_99q.parquet')\n",
    "\n",
    "# Load encoders\n",
    "encoders_0q = joblib.load('../cache/encoders_0q.joblib')\n",
    "encoders_50q = joblib.load('../cache/encoders_50q.joblib')\n",
    "encoders_90q = joblib.load('../cache/encoders_90q.joblib')\n",
    "encoders_99q = joblib.load('../cache/encoders_99q.joblib')\n",
    "\n",
    "# Load scalers\n",
    "scaler_0q = joblib.load('../cache/scaler_0q.joblib')\n",
    "scaler_50q = joblib.load('../cache/scaler_50q.joblib')\n",
    "scaler_90q = joblib.load('../cache/scaler_90q.joblib')\n",
    "scaler_99q = joblib.load('../cache/scaler_99q.joblib')"
   ],
   "id": "e50404f6e01f85c",
   "outputs": [],
   "execution_count": 40
  },
  {
   "metadata": {
    "ExecuteTime": {
     "end_time": "2024-12-13T10:58:33.697819Z",
     "start_time": "2024-12-13T10:58:33.693069Z"
    }
   },
   "cell_type": "code",
   "source": [
    "import torch\n",
    "import torch.nn as nn\n",
    "from torch.utils.data import Dataset, DataLoader\n",
    "import numpy as np\n",
    "from sklearn.model_selection import TimeSeriesSplit"
   ],
   "id": "58b1435417d7642d",
   "outputs": [],
   "execution_count": 41
  },
  {
   "metadata": {
    "ExecuteTime": {
     "end_time": "2024-12-13T10:58:33.742091Z",
     "start_time": "2024-12-13T10:58:33.738688Z"
    }
   },
   "cell_type": "code",
   "source": [
    "class GdeltBtcDataset(Dataset):\n",
    "    def __init__(self, data, seq_len=4):\n",
    "        self.data = torch.FloatTensor(data.values)\n",
    "        self.seq_len = seq_len\n",
    "\n",
    "    def __len__(self):\n",
    "        return len(self.data) - self.seq_len\n",
    "\n",
    "    def __getitem__(self, idx):\n",
    "        X = self.data[idx:idx + self.seq_len, :-1]\n",
    "        y = self.data[idx + self.seq_len, -1]\n",
    "        return X, y"
   ],
   "id": "912a3e00091df2bf",
   "outputs": [],
   "execution_count": 42
  },
  {
   "metadata": {
    "ExecuteTime": {
     "end_time": "2024-12-13T10:58:33.891506Z",
     "start_time": "2024-12-13T10:58:33.791446Z"
    }
   },
   "cell_type": "code",
   "source": [
    "class BTCPredictor(nn.Module):\n",
    "    def __init__(self, input_size, hidden_size=64, num_layers=2, dropout=0.2):\n",
    "        super().__init__()\n",
    "        \n",
    "        self.lstm = nn.LSTM(\n",
    "            input_size=input_size,\n",
    "            hidden_size=hidden_size,\n",
    "            num_layers=num_layers,\n",
    "            dropout=dropout,\n",
    "            batch_first=True\n",
    "        )\n",
    "        \n",
    "        self.bn = nn.BatchNorm1d(hidden_size)\n",
    "        \n",
    "        self.regresor = nn.Sequential(\n",
    "            nn.Linear(hidden_size, 32),\n",
    "            nn.ReLU(),\n",
    "            nn.Dropout(dropout),\n",
    "            \n",
    "            nn.Linear(32, 16),\n",
    "            nn.ReLU(),\n",
    "            nn.Dropout(dropout),\n",
    "            \n",
    "            nn.Linear(16, 1)\n",
    "        )\n",
    "        \n",
    "    def forward(self, x):\n",
    "        lstm_out, _ = self.lstm(x)\n",
    "        last_timestep = lstm_out[:, -1, :]\n",
    "        norm = self.bn(last_timestep)\n",
    "        return self.regresor(norm)"
   ],
   "id": "d70653a87d0e2834",
   "outputs": [],
   "execution_count": 43
  },
  {
   "metadata": {
    "ExecuteTime": {
     "end_time": "2024-12-13T10:58:33.957369Z",
     "start_time": "2024-12-13T10:58:33.945949Z"
    }
   },
   "cell_type": "code",
   "source": [
    "def train_model(model, train_loader, val_loader, criterion, optimizer, num_epochs=100, device='cuda', patience=10):\n",
    "    model = model.to(device)\n",
    "    best_val_loss = np.inf\n",
    "    patience_counter = 0\n",
    "    training_losses = []\n",
    "    val_losses = []\n",
    "    \n",
    "    for epoch in range(num_epochs):\n",
    "        # Training\n",
    "        model.train()\n",
    "        train_loss = 0\n",
    "        for X_batch, y_batch in train_loader:\n",
    "            X_batch = X_batch.to(device)\n",
    "            y_batch = y_batch.to(device)\n",
    "            \n",
    "            optimizer.zero_grad()\n",
    "            y_pred = model(X_batch)\n",
    "            loss = criterion(y_pred.squeeze(), y_batch)\n",
    "            loss.backward()\n",
    "            optimizer.step()\n",
    "            \n",
    "            train_loss += loss.item()\n",
    "            \n",
    "        avg_train_loss = train_loss / len(train_loader)\n",
    "        training_losses.append(avg_train_loss)\n",
    "        \n",
    "        # Validation\n",
    "        model.eval()\n",
    "        val_loss = 0\n",
    "        with torch.no_grad():\n",
    "            for X_batch, y_batch in val_loader:\n",
    "                X_batch = X_batch.to(device)\n",
    "                y_batch = y_batch.to(device)\n",
    "                \n",
    "                y_pred = model(X_batch)\n",
    "                loss = criterion(y_pred.squeeze(), y_batch)\n",
    "                val_loss += loss.item()\n",
    "                \n",
    "        avg_val_loss = val_loss / len(val_loader)\n",
    "        val_losses.append(avg_val_loss)\n",
    "        \n",
    "        # Early stopping\n",
    "        if avg_val_loss < best_val_loss:\n",
    "            best_val_loss = avg_val_loss\n",
    "            torch.save(model.state_dict(), 'best_model.pth')\n",
    "            patience_counter = 0\n",
    "        else:\n",
    "            patience_counter += 1\n",
    "            \n",
    "        if patience_counter >= patience:\n",
    "            print(f\"Early stopping at epoch {epoch}\")\n",
    "            break\n",
    "            \n",
    "        print(f'Epoch [{epoch+1}/{num_epochs}], Train Loss: {avg_train_loss:.6f}, Val Loss: {avg_val_loss:.6f}')\n",
    "    \n",
    "    return training_losses, val_losses"
   ],
   "id": "75d533aab1fa25ea",
   "outputs": [],
   "execution_count": 44
  },
  {
   "metadata": {
    "ExecuteTime": {
     "end_time": "2024-12-13T10:58:34.004860Z",
     "start_time": "2024-12-13T10:58:34.000423Z"
    }
   },
   "cell_type": "code",
   "source": [
    "device = 'cuda' if torch.cuda.is_available() else 'cpu'\n",
    "print(f'Device: {device}')"
   ],
   "id": "4bf424cc26be36ab",
   "outputs": [
    {
     "name": "stdout",
     "output_type": "stream",
     "text": [
      "Device: cpu\n"
     ]
    }
   ],
   "execution_count": 45
  },
  {
   "metadata": {
    "ExecuteTime": {
     "end_time": "2024-12-13T10:58:34.057341Z",
     "start_time": "2024-12-13T10:58:34.051716Z"
    }
   },
   "cell_type": "code",
   "source": [
    "input_size = df_0q.shape[1] - 1\n",
    "hidden_size = 64\n",
    "num_layers = 2\n",
    "dropout = 0.2\n",
    "seq_len = 4\n",
    "lr = 1e-3\n",
    "batch_size = 32\n",
    "num_epochs = 100\n",
    "patience = 10"
   ],
   "id": "c67131ed50eac562",
   "outputs": [],
   "execution_count": 46
  },
  {
   "metadata": {
    "ExecuteTime": {
     "end_time": "2024-12-13T10:58:34.126926Z",
     "start_time": "2024-12-13T10:58:34.110259Z"
    }
   },
   "cell_type": "code",
   "source": [
    "tscv = TimeSeriesSplit(n_splits=5, test_size=len(df_99q) // 5)\n",
    "for train_idx, val_idx in tscv.split(df_99q):\n",
    "    pass\n",
    "train_data = df_99q.iloc[train_idx]\n",
    "val_data = df_99q.iloc[val_idx]"
   ],
   "id": "cdef3ffa20f46c7e",
   "outputs": [],
   "execution_count": 47
  },
  {
   "metadata": {
    "ExecuteTime": {
     "end_time": "2024-12-13T10:58:34.173792Z",
     "start_time": "2024-12-13T10:58:34.167734Z"
    }
   },
   "cell_type": "code",
   "source": [
    "train_dataset = GdeltBtcDataset(train_data, seq_len=seq_len)\n",
    "val_dataset = GdeltBtcDataset(val_data, seq_len=seq_len)\n",
    "train_loader = DataLoader(train_dataset, batch_size=batch_size, shuffle=False)\n",
    "val_loader = DataLoader(val_dataset, batch_size=batch_size, shuffle=False)"
   ],
   "id": "61576d11edf73f60",
   "outputs": [],
   "execution_count": 48
  },
  {
   "metadata": {
    "ExecuteTime": {
     "end_time": "2024-12-13T10:58:34.217242Z",
     "start_time": "2024-12-13T10:58:34.209695Z"
    }
   },
   "cell_type": "code",
   "source": [
    "model = BTCPredictor(\n",
    "    input_size=input_size,\n",
    "    hidden_size=hidden_size,\n",
    "    num_layers=num_layers,\n",
    "    dropout=dropout\n",
    ")\n",
    "criterion = nn.MSELoss()\n",
    "optimizer = torch.optim.Adam(model.parameters(), lr=lr)"
   ],
   "id": "9055a1b5063a5250",
   "outputs": [],
   "execution_count": 49
  },
  {
   "metadata": {
    "jupyter": {
     "is_executing": true
    },
    "ExecuteTime": {
     "start_time": "2024-12-13T10:58:34.271080Z"
    }
   },
   "cell_type": "code",
   "source": [
    "training_losses, val_losses = train_model(\n",
    "    model,\n",
    "    train_loader,\n",
    "    val_loader,\n",
    "    criterion,\n",
    "    optimizer,\n",
    "    num_epochs=num_epochs,\n",
    "    device=device,\n",
    "    patience=patience\n",
    ")"
   ],
   "id": "de626d7cdf875412",
   "outputs": [
    {
     "name": "stdout",
     "output_type": "stream",
     "text": [
      "Epoch [1/100], Train Loss: 0.344997, Val Loss: 0.103007\n"
     ]
    }
   ],
   "execution_count": null
  },
  {
   "metadata": {
    "ExecuteTime": {
     "end_time": "2024-12-13T10:52:42.096722Z",
     "start_time": "2024-12-13T10:52:41.872133Z"
    }
   },
   "cell_type": "code",
   "source": [
    "import matplotlib.pyplot as plt\n",
    "plt.plot(training_losses, label='Training Loss')\n",
    "plt.plot([x * 3.35 for x in val_losses], label='Validation Loss')\n",
    "plt.xlabel('Epoch')\n",
    "plt.ylabel('Loss')\n",
    "plt.legend()\n",
    "plt.show()"
   ],
   "id": "545264fb06a02c51",
   "outputs": [
    {
     "data": {
      "text/plain": [
       "<Figure size 640x480 with 1 Axes>"
      ],
      "image/png": "[encoded data removed]"
     },
     "metadata": {},
     "output_type": "display_data"
    }
   ],
   "execution_count": 31
  },
  {
   "metadata": {
    "ExecuteTime": {
     "end_time": "2024-12-13T10:53:26.975285Z",
     "start_time": "2024-12-13T10:53:26.966745Z"
    }
   },
   "cell_type": "code",
   "source": "model.eval()",
   "id": "4a0579842453ca48",
   "outputs": [
    {
     "data": {
      "text/plain": [
       "BTCPredictor(\n",
       "  (lstm): LSTM(12, 64, num_layers=2, batch_first=True, dropout=0.2)\n",
       "  (bn): BatchNorm1d(64, eps=1e-05, momentum=0.1, affine=True, track_running_stats=True)\n",
       "  (regresor): Sequential(\n",
       "    (0): Linear(in_features=64, out_features=32, bias=True)\n",
       "    (1): ReLU()\n",
       "    (2): Dropout(p=0.2, inplace=False)\n",
       "    (3): Linear(in_features=32, out_features=16, bias=True)\n",
       "    (4): ReLU()\n",
       "    (5): Dropout(p=0.2, inplace=False)\n",
       "    (6): Linear(in_features=16, out_features=1, bias=True)\n",
       "  )\n",
       ")"
      ]
     },
     "execution_count": 32,
     "metadata": {},
     "output_type": "execute_result"
    }
   ],
   "execution_count": 32
  },
  {
   "metadata": {
    "ExecuteTime": {
     "end_time": "2024-12-13T10:56:49.086301Z",
     "start_time": "2024-12-13T10:56:48.087778Z"
    }
   },
   "cell_type": "code",
   "source": [
    "predictions = []\n",
    "actuals = []\n",
    "with torch.no_grad():\n",
    "    for X_batch, y_batch in val_loader:\n",
    "        X_batch = X_batch.to(device)\n",
    "        y_batch = y_batch.to(device)\n",
    "        \n",
    "        y_pred = model(X_batch)\n",
    "        predictions.extend(y_pred.squeeze().cpu().numpy())\n",
    "        actuals.extend(y_batch.cpu().numpy())"
   ],
   "id": "e1d53aee667403a4",
   "outputs": [],
   "execution_count": 36
  },
  {
   "metadata": {
    "ExecuteTime": {
     "end_time": "2024-12-13T10:57:07.454195Z",
     "start_time": "2024-12-13T10:57:07.063071Z"
    }
   },
   "cell_type": "code",
   "source": [
    "plt.plot(actuals, label='Actuals')\n",
    "plt.plot(predictions, label='Predictions')\n",
    "plt.xlabel('Time')\n",
    "plt.ylabel('Price')\n",
    "plt.legend()\n",
    "plt.show()"
   ],
   "id": "89e9e716c17d53a6",
   "outputs": [
    {
     "data": {
      "text/plain": [
       "<Figure size 640x480 with 1 Axes>"
      ],
      "image/png": "[encoded data removed]"
     },
     "metadata": {},
     "output_type": "display_data"
    }
   ],
   "execution_count": 38
  }
 ],
 "metadata": {
  "kernelspec": {
   "display_name": "Python 3",
   "language": "python",
   "name": "python3"
  },
  "language_info": {
   "codemirror_mode": {
    "name": "ipython",
    "version": 2
   },
   "file_extension": ".py",
   "mimetype": "text/x-python",
   "name": "python",
   "nbconvert_exporter": "python",
   "pygments_lexer": "ipython2",
   "version": "2.7.6"
  }
 },
 "nbformat": 4,
 "nbformat_minor": 5
}
