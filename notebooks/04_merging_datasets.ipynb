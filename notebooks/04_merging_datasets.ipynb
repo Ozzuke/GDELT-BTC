{
 "cells": [
  {
   "cell_type": "code",
   "id": "initial_id",
   "metadata": {
    "collapsed": true
   },
   "source": [
    "import pandas as pd\n",
    "gdelt = pd.read_parquet('../cache/gdelt_cleaned.parquet')\n",
    "btc = pd.read_parquet('../cache/btc_cleaned.parquet')"
   ],
   "outputs": [],
   "execution_count": null
  },
  {
   "metadata": {},
   "cell_type": "code",
   "source": [
    "# merge the two dataframes\n",
    "gdelt = gdelt.sort_values('Timestamp')\n",
    "btc = btc.sort_values('Timestamp')\n",
    "\n",
    "merged = pd.merge_asof(gdelt, btc, on='Timestamp')\n",
    "merged.head()"
   ],
   "id": "423c27b5339ab3dc",
   "outputs": [],
   "execution_count": null
  },
  {
   "metadata": {},
   "cell_type": "code",
   "source": "merged.to_parquet(\"../cache/merged.parquet\")",
   "id": "daa121427eb2f65a",
   "outputs": [],
   "execution_count": null
  }
 ],
 "metadata": {
  "kernelspec": {
   "display_name": "Python 3",
   "language": "python",
   "name": "python3"
  },
  "language_info": {
   "codemirror_mode": {
    "name": "ipython",
    "version": 2
   },
   "file_extension": ".py",
   "mimetype": "text/x-python",
   "name": "python",
   "nbconvert_exporter": "python",
   "pygments_lexer": "ipython2",
   "version": "2.7.6"
  }
 },
 "nbformat": 4,
 "nbformat_minor": 5
}
