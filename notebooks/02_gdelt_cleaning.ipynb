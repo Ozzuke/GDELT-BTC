{
 "cells": [
  {
   "metadata": {
    "ExecuteTime": {
     "end_time": "2024-12-06T16:37:50.887376Z",
     "start_time": "2024-12-06T16:37:50.817728Z"
    }
   },
   "cell_type": "code",
   "source": "import pandas as pd",
   "id": "81e5560f1137a0cc",
   "outputs": [],
   "execution_count": 39
  },
  {
   "cell_type": "code",
   "id": "initial_id",
   "metadata": {
    "collapsed": true,
    "ExecuteTime": {
     "end_time": "2024-12-06T16:37:56.088969Z",
     "start_time": "2024-12-06T16:37:50.898852Z"
    }
   },
   "source": "gdelt = pd.read_parquet('../cache/gdelt.parquet')",
   "outputs": [],
   "execution_count": 40
  },
  {
   "metadata": {
    "ExecuteTime": {
     "end_time": "2024-12-06T16:37:56.131341Z",
     "start_time": "2024-12-06T16:37:56.119966Z"
    }
   },
   "cell_type": "code",
   "source": "gdelt.head()",
   "id": "5fdbd6ca310c27a9",
   "outputs": [
    {
     "data": {
      "text/plain": [
       "        Date Actor1Country Actor1GeoCountry Actor1Type Actor2Country  \\\n",
       "0 2019-01-01          None             None        CVL          None   \n",
       "1 2019-01-01           MDV               US       None           USA   \n",
       "2 2019-01-01          None               US        GOV          None   \n",
       "3 2019-01-01           RUS               RS       None          None   \n",
       "4 2019-01-01           USA               US       None          None   \n",
       "\n",
       "  Actor2GeoCountry Actor2Type ActionCountry EventRootCode  QuadClass  \\\n",
       "0             None       None          None            05          1   \n",
       "1               US       None            US            19          4   \n",
       "2               US        GOV            US            02          1   \n",
       "3               RS        GOV            RS            06          2   \n",
       "4             None       None            US            02          1   \n",
       "\n",
       "   GoldsteinScale  NumSources  NumArticles   AvgTone  \\\n",
       "0             3.4           4           50  2.354384   \n",
       "1           -10.0           2           12 -4.195804   \n",
       "2             3.2          10           20  1.734061   \n",
       "3             6.0           3           30 -0.427182   \n",
       "4             3.0           8           23 -1.376241   \n",
       "\n",
       "                                              Source  \n",
       "0  https://telegrafi.com/ne-shenj-proteste-labino...  \n",
       "1  http://www.wgow.com/news/manhunt-on-in-texas-f...  \n",
       "2  https://hanfordsentinel.com/news/national/govt...  \n",
       "3  http://www.gp.se/nyheter/v%C3%A4rlden/sju-d%C3...  \n",
       "4  http://www.790wpic.com/news/a-familys-whirlpoo...  "
      ],
      "text/html": [
       "<div>\n",
       "<style scoped>\n",
       "    .dataframe tbody tr th:only-of-type {\n",
       "        vertical-align: middle;\n",
       "    }\n",
       "\n",
       "    .dataframe tbody tr th {\n",
       "        vertical-align: top;\n",
       "    }\n",
       "\n",
       "    .dataframe thead th {\n",
       "        text-align: right;\n",
       "    }\n",
       "</style>\n",
       "<table border=\"1\" class=\"dataframe\">\n",
       "  <thead>\n",
       "    <tr style=\"text-align: right;\">\n",
       "      <th></th>\n",
       "      <th>Date</th>\n",
       "      <th>Actor1Country</th>\n",
       "      <th>Actor1GeoCountry</th>\n",
       "      <th>Actor1Type</th>\n",
       "      <th>Actor2Country</th>\n",
       "      <th>Actor2GeoCountry</th>\n",
       "      <th>Actor2Type</th>\n",
       "      <th>ActionCountry</th>\n",
       "      <th>EventRootCode</th>\n",
       "      <th>QuadClass</th>\n",
       "      <th>GoldsteinScale</th>\n",
       "      <th>NumSources</th>\n",
       "      <th>NumArticles</th>\n",
       "      <th>AvgTone</th>\n",
       "      <th>Source</th>\n",
       "    </tr>\n",
       "  </thead>\n",
       "  <tbody>\n",
       "    <tr>\n",
       "      <th>0</th>\n",
       "      <td>2019-01-01</td>\n",
       "      <td>None</td>\n",
       "      <td>None</td>\n",
       "      <td>CVL</td>\n",
       "      <td>None</td>\n",
       "      <td>None</td>\n",
       "      <td>None</td>\n",
       "      <td>None</td>\n",
       "      <td>05</td>\n",
       "      <td>1</td>\n",
       "      <td>3.4</td>\n",
       "      <td>4</td>\n",
       "      <td>50</td>\n",
       "      <td>2.354384</td>\n",
       "      <td>https://telegrafi.com/ne-shenj-proteste-labino...</td>\n",
       "    </tr>\n",
       "    <tr>\n",
       "      <th>1</th>\n",
       "      <td>2019-01-01</td>\n",
       "      <td>MDV</td>\n",
       "      <td>US</td>\n",
       "      <td>None</td>\n",
       "      <td>USA</td>\n",
       "      <td>US</td>\n",
       "      <td>None</td>\n",
       "      <td>US</td>\n",
       "      <td>19</td>\n",
       "      <td>4</td>\n",
       "      <td>-10.0</td>\n",
       "      <td>2</td>\n",
       "      <td>12</td>\n",
       "      <td>-4.195804</td>\n",
       "      <td>http://www.wgow.com/news/manhunt-on-in-texas-f...</td>\n",
       "    </tr>\n",
       "    <tr>\n",
       "      <th>2</th>\n",
       "      <td>2019-01-01</td>\n",
       "      <td>None</td>\n",
       "      <td>US</td>\n",
       "      <td>GOV</td>\n",
       "      <td>None</td>\n",
       "      <td>US</td>\n",
       "      <td>GOV</td>\n",
       "      <td>US</td>\n",
       "      <td>02</td>\n",
       "      <td>1</td>\n",
       "      <td>3.2</td>\n",
       "      <td>10</td>\n",
       "      <td>20</td>\n",
       "      <td>1.734061</td>\n",
       "      <td>https://hanfordsentinel.com/news/national/govt...</td>\n",
       "    </tr>\n",
       "    <tr>\n",
       "      <th>3</th>\n",
       "      <td>2019-01-01</td>\n",
       "      <td>RUS</td>\n",
       "      <td>RS</td>\n",
       "      <td>None</td>\n",
       "      <td>None</td>\n",
       "      <td>RS</td>\n",
       "      <td>GOV</td>\n",
       "      <td>RS</td>\n",
       "      <td>06</td>\n",
       "      <td>2</td>\n",
       "      <td>6.0</td>\n",
       "      <td>3</td>\n",
       "      <td>30</td>\n",
       "      <td>-0.427182</td>\n",
       "      <td>http://www.gp.se/nyheter/v%C3%A4rlden/sju-d%C3...</td>\n",
       "    </tr>\n",
       "    <tr>\n",
       "      <th>4</th>\n",
       "      <td>2019-01-01</td>\n",
       "      <td>USA</td>\n",
       "      <td>US</td>\n",
       "      <td>None</td>\n",
       "      <td>None</td>\n",
       "      <td>None</td>\n",
       "      <td>None</td>\n",
       "      <td>US</td>\n",
       "      <td>02</td>\n",
       "      <td>1</td>\n",
       "      <td>3.0</td>\n",
       "      <td>8</td>\n",
       "      <td>23</td>\n",
       "      <td>-1.376241</td>\n",
       "      <td>http://www.790wpic.com/news/a-familys-whirlpoo...</td>\n",
       "    </tr>\n",
       "  </tbody>\n",
       "</table>\n",
       "</div>"
      ]
     },
     "execution_count": 41,
     "metadata": {},
     "output_type": "execute_result"
    }
   ],
   "execution_count": 41
  },
  {
   "metadata": {
    "ExecuteTime": {
     "end_time": "2024-12-06T16:37:56.219391Z",
     "start_time": "2024-12-06T16:37:56.171884Z"
    }
   },
   "cell_type": "code",
   "source": "gdelt.columns",
   "id": "5f0832c36f198e39",
   "outputs": [
    {
     "data": {
      "text/plain": [
       "Index(['Date', 'Actor1Country', 'Actor1GeoCountry', 'Actor1Type',\n",
       "       'Actor2Country', 'Actor2GeoCountry', 'Actor2Type', 'ActionCountry',\n",
       "       'EventRootCode', 'QuadClass', 'GoldsteinScale', 'NumSources',\n",
       "       'NumArticles', 'AvgTone', 'Source'],\n",
       "      dtype='object')"
      ]
     },
     "execution_count": 42,
     "metadata": {},
     "output_type": "execute_result"
    }
   ],
   "execution_count": 42
  },
  {
   "metadata": {
    "ExecuteTime": {
     "end_time": "2024-12-06T16:37:57.705809Z",
     "start_time": "2024-12-06T16:37:56.293255Z"
    }
   },
   "cell_type": "code",
   "source": [
    "# convert categorical columns to category type\n",
    "gdelt.Actor1Country = gdelt.Actor1Country.astype('category')\n",
    "gdelt.Actor1GeoCountry = gdelt.Actor1GeoCountry.astype('category')\n",
    "gdelt.Actor1Type = gdelt.Actor1Type.astype('category')\n",
    "gdelt.Actor2Country = gdelt.Actor2Country.astype('category')\n",
    "gdelt.Actor2GeoCountry = gdelt.Actor2GeoCountry.astype('category')\n",
    "gdelt.Actor2Type = gdelt.Actor2Type.astype('category')\n",
    "gdelt.ActionCountry = gdelt.ActionCountry.astype('category')\n",
    "gdelt.EventRootCode = gdelt.EventRootCode.astype('category')\n",
    "gdelt.QuadClass = gdelt.QuadClass.astype('category')"
   ],
   "id": "cece144ee5e03fb9",
   "outputs": [],
   "execution_count": 43
  },
  {
   "metadata": {
    "ExecuteTime": {
     "end_time": "2024-12-06T16:37:57.752444Z",
     "start_time": "2024-12-06T16:37:57.712239Z"
    }
   },
   "cell_type": "code",
   "source": [
    "# datetime to unix timestamp\n",
    "gdelt['Timestamp'] = gdelt.Date.astype('int64') // 10**9"
   ],
   "id": "1a3f295ad6ed73b0",
   "outputs": [],
   "execution_count": 44
  },
  {
   "metadata": {
    "ExecuteTime": {
     "end_time": "2024-12-06T16:37:57.772589Z",
     "start_time": "2024-12-06T16:37:57.767037Z"
    }
   },
   "cell_type": "code",
   "source": "gdelt.dtypes",
   "id": "d038471d6b6812fe",
   "outputs": [
    {
     "data": {
      "text/plain": [
       "Date                datetime64[ns]\n",
       "Actor1Country             category\n",
       "Actor1GeoCountry          category\n",
       "Actor1Type                category\n",
       "Actor2Country             category\n",
       "Actor2GeoCountry          category\n",
       "Actor2Type                category\n",
       "ActionCountry             category\n",
       "EventRootCode             category\n",
       "QuadClass                 category\n",
       "GoldsteinScale             float64\n",
       "NumSources                   int64\n",
       "NumArticles                  int64\n",
       "AvgTone                    float64\n",
       "Source                      object\n",
       "Timestamp                    int64\n",
       "dtype: object"
      ]
     },
     "execution_count": 45,
     "metadata": {},
     "output_type": "execute_result"
    }
   ],
   "execution_count": 45
  },
  {
   "metadata": {
    "ExecuteTime": {
     "end_time": "2024-12-06T16:37:57.812461Z",
     "start_time": "2024-12-06T16:37:57.805312Z"
    }
   },
   "cell_type": "code",
   "source": [
    "# replace quadclass nums with meaningful names\n",
    "gdelt['QuadClass'] = gdelt['QuadClass'].map({\n",
    "    1: 'VerbalCoop', \n",
    "    2: 'MaterialCoop', \n",
    "    3: 'VerbalConf', \n",
    "    4: 'MaterialConf'\n",
    "})"
   ],
   "id": "31ef236f5d77bdb1",
   "outputs": [],
   "execution_count": 46
  },
  {
   "metadata": {
    "ExecuteTime": {
     "end_time": "2024-12-06T16:37:59.614927Z",
     "start_time": "2024-12-06T16:37:57.868704Z"
    }
   },
   "cell_type": "code",
   "source": [
    "# replace event root code nums with meaningful names and rename to EventType\n",
    "\n",
    "# first convert to numeric\n",
    "gdelt['EventRootCode'] = pd.to_numeric(gdelt['EventRootCode'], errors='coerce')\n",
    "gdelt['EventRootCode'] = gdelt['EventRootCode'].map({\n",
    "    1: 'Statement',\n",
    "    2: 'Appeal',\n",
    "    3: 'Intent to Coop',\n",
    "    4: 'Consult',\n",
    "    5: 'Diplom Coop',\n",
    "    6: 'Material Coop',\n",
    "    7: 'Aid',\n",
    "    8: 'Yield',\n",
    "    9: 'Investigate',\n",
    "    10: 'Demand',\n",
    "    11: 'Disapprove',\n",
    "    12: 'Reject',\n",
    "    13: 'Threaten',\n",
    "    14: 'Protest',\n",
    "    15: 'Demonstrate Force',\n",
    "    16: 'Reduce Relations',\n",
    "    17: 'Coerce',\n",
    "    18: 'Assault',\n",
    "    19: 'Fight',\n",
    "    20: 'Mass Violence'\n",
    "})\n",
    "gdelt.rename(columns={'EventRootCode': 'EventType'}, inplace=True)\n",
    "\n",
    "# convert back to category\n",
    "gdelt.EventType = gdelt.EventType.astype('category')"
   ],
   "id": "24ad8be02b6fa0d7",
   "outputs": [],
   "execution_count": 47
  },
  {
   "metadata": {
    "ExecuteTime": {
     "end_time": "2024-12-06T16:37:59.649840Z",
     "start_time": "2024-12-06T16:37:59.623769Z"
    }
   },
   "cell_type": "code",
   "source": [
    "# there are 3 NaN values in EventType, so we can drop them\n",
    "gdelt['EventType'].value_counts(dropna=False)[::-1]"
   ],
   "id": "7ae890fe00216f9d",
   "outputs": [
    {
     "data": {
      "text/plain": [
       "EventType\n",
       "NaN                        3\n",
       "Mass Violence           1609\n",
       "Demonstrate Force      20461\n",
       "Protest                59635\n",
       "Reduce Relations       60881\n",
       "Demand                 69028\n",
       "Threaten               80823\n",
       "Assault                81196\n",
       "Material Coop         106830\n",
       "Investigate           136693\n",
       "Reject                146954\n",
       "Aid                   174983\n",
       "Yield                 202861\n",
       "Coerce                255777\n",
       "Disapprove            305588\n",
       "Fight                 345688\n",
       "Intent to Coop        368722\n",
       "Appeal                418795\n",
       "Diplom Coop           419667\n",
       "Statement             648289\n",
       "Consult              1267084\n",
       "Name: count, dtype: int64"
      ]
     },
     "execution_count": 48,
     "metadata": {},
     "output_type": "execute_result"
    }
   ],
   "execution_count": 48
  },
  {
   "metadata": {
    "ExecuteTime": {
     "end_time": "2024-12-06T16:38:00.238167Z",
     "start_time": "2024-12-06T16:37:59.672535Z"
    }
   },
   "cell_type": "code",
   "source": "gdelt.dropna(subset=['EventType'], inplace=True)",
   "id": "28a8a213ff370110",
   "outputs": [],
   "execution_count": 49
  },
  {
   "metadata": {
    "ExecuteTime": {
     "end_time": "2024-12-06T16:38:00.279723Z",
     "start_time": "2024-12-06T16:38:00.272284Z"
    }
   },
   "cell_type": "code",
   "source": [
    "# generalize actor types\n",
    "actor_types = {\n",
    "    'GOV': ['GOV', 'COP', 'MIL', 'JUD', 'SPY', 'ELI', 'LEG'],\n",
    "    'Opposition': ['OPP', 'INS', 'REB', 'SEP', 'CRM'],\n",
    "    'Business': ['BUS', 'AGR', 'DEV', 'LAB'],\n",
    "    'Benevolent': ['EDU', 'MED', 'HRI', 'HLH', 'ENV'],\n",
    "}\n",
    "\n",
    "def generalize_actor_type(actor_type):\n",
    "    for k, v in actor_types.items():\n",
    "        if actor_type in v:\n",
    "            return k\n",
    "    return 'Other'"
   ],
   "id": "65ec04396f55544d",
   "outputs": [],
   "execution_count": 50
  },
  {
   "metadata": {
    "ExecuteTime": {
     "end_time": "2024-12-06T16:38:00.586374Z",
     "start_time": "2024-12-06T16:38:00.294189Z"
    }
   },
   "cell_type": "code",
   "source": [
    "gdelt['Actor1TypeGeneral'] = gdelt['Actor1Type'].apply(generalize_actor_type)\n",
    "gdelt['Actor2TypeGeneral'] = gdelt['Actor2Type'].apply(generalize_actor_type)"
   ],
   "id": "67a05d8b077628cd",
   "outputs": [],
   "execution_count": 51
  },
  {
   "metadata": {
    "ExecuteTime": {
     "end_time": "2024-12-06T16:38:00.717938Z",
     "start_time": "2024-12-06T16:38:00.599104Z"
    }
   },
   "cell_type": "code",
   "source": "gdelt['Actor1TypeGeneral'].value_counts()",
   "id": "7624fc94625ab1ba",
   "outputs": [
    {
     "data": {
      "text/plain": [
       "Actor1TypeGeneral\n",
       "GOV           1582931\n",
       "Other          364790\n",
       "Benevolent     338947\n",
       "Business       291860\n",
       "Opposition     125044\n",
       "Name: count, dtype: int64"
      ]
     },
     "execution_count": 52,
     "metadata": {},
     "output_type": "execute_result"
    }
   ],
   "execution_count": 52
  },
  {
   "metadata": {
    "ExecuteTime": {
     "end_time": "2024-12-06T16:38:00.872752Z",
     "start_time": "2024-12-06T16:38:00.741758Z"
    }
   },
   "cell_type": "code",
   "source": "gdelt['Actor2TypeGeneral'].value_counts()",
   "id": "2dd8db26489bfa",
   "outputs": [
    {
     "data": {
      "text/plain": [
       "Actor2TypeGeneral\n",
       "GOV           972947\n",
       "Other         293756\n",
       "Benevolent    258098\n",
       "Business      205176\n",
       "Opposition     99977\n",
       "Name: count, dtype: int64"
      ]
     },
     "execution_count": 53,
     "metadata": {},
     "output_type": "execute_result"
    }
   ],
   "execution_count": 53
  },
  {
   "metadata": {
    "ExecuteTime": {
     "end_time": "2024-12-06T16:38:00.933153Z",
     "start_time": "2024-12-06T16:38:00.914204Z"
    }
   },
   "cell_type": "code",
   "source": [
    "# we can see that GoldsteinScale has 23 NaN values\n",
    "# this is a very small number, so we can drop them\n",
    "gdelt[gdelt['GoldsteinScale'].isna()].__len__()"
   ],
   "id": "fdaf4826180bb939",
   "outputs": [
    {
     "data": {
      "text/plain": [
       "23"
      ]
     },
     "execution_count": 54,
     "metadata": {},
     "output_type": "execute_result"
    }
   ],
   "execution_count": 54
  },
  {
   "metadata": {
    "ExecuteTime": {
     "end_time": "2024-12-06T16:38:01.611828Z",
     "start_time": "2024-12-06T16:38:00.965543Z"
    }
   },
   "cell_type": "code",
   "source": "gdelt.dropna(subset=['GoldsteinScale'], inplace=True)",
   "id": "bafcebe8a526cfb6",
   "outputs": [],
   "execution_count": 55
  },
  {
   "metadata": {
    "ExecuteTime": {
     "end_time": "2024-12-06T16:38:01.621415Z",
     "start_time": "2024-12-06T16:38:01.618829Z"
    }
   },
   "cell_type": "code",
   "source": [
    "# # replace countries not in the top 20 with 'Other'\n",
    "# top_countries = gdelt['Actor1Country'].value_counts().head(20).index\n",
    "# gdelt['Actor1Country'] = gdelt['Actor1Country'].apply(lambda x: x if x in top_countries else 'Other')\n",
    "# gdelt['Actor2Country'] = gdelt['Actor2Country'].apply(lambda x: x if x in top_countries else 'Other')"
   ],
   "id": "25f56fbc71679ee6",
   "outputs": [],
   "execution_count": 56
  },
  {
   "metadata": {
    "ExecuteTime": {
     "end_time": "2024-12-06T16:38:01.635142Z",
     "start_time": "2024-12-06T16:38:01.633096Z"
    }
   },
   "cell_type": "code",
   "source": [
    "# # replace geo countries not in the top 20 with 'Other'\n",
    "# top_geo_countries = gdelt['Actor1GeoCountry'].value_counts().head(20).index\n",
    "# gdelt['Actor1GeoCountry'] = gdelt['Actor1GeoCountry'].apply(lambda x: x if x in top_geo_countries else 'Other')\n",
    "# gdelt['Actor2GeoCountry'] = gdelt['Actor2GeoCountry'].apply(lambda x: x if x in top_geo_countries else 'Other')"
   ],
   "id": "412df04e998cf631",
   "outputs": [],
   "execution_count": 57
  },
  {
   "metadata": {
    "ExecuteTime": {
     "end_time": "2024-12-06T16:38:01.643378Z",
     "start_time": "2024-12-06T16:38:01.641535Z"
    }
   },
   "cell_type": "code",
   "source": [
    "# # replace action countries not in the top 20 with 'Other'\n",
    "# top_action_countries = gdelt['ActionCountry'].value_counts().head(20).index\n",
    "# gdelt['ActionCountry'] = gdelt['ActionCountry'].apply(lambda x: x if x in top_action_countries else 'Other')"
   ],
   "id": "d089f57cfffb9c4d",
   "outputs": [],
   "execution_count": 58
  },
  {
   "metadata": {
    "ExecuteTime": {
     "end_time": "2024-12-06T16:38:01.687690Z",
     "start_time": "2024-12-06T16:38:01.651905Z"
    }
   },
   "cell_type": "code",
   "source": "gdelt[gdelt.NumArticles > 500].shape[0]",
   "id": "5bec2ca774e77b79",
   "outputs": [
    {
     "data": {
      "text/plain": [
       "99"
      ]
     },
     "execution_count": 59,
     "metadata": {},
     "output_type": "execute_result"
    }
   ],
   "execution_count": 59
  },
  {
   "metadata": {},
   "cell_type": "markdown",
   "source": "There are only 99 events with more than 500 articles, so we can cap the number of articles at 500 to avoid outliers.",
   "id": "de2566569f2cb11"
  },
  {
   "metadata": {
    "ExecuteTime": {
     "end_time": "2024-12-06T16:38:01.726137Z",
     "start_time": "2024-12-06T16:38:01.700208Z"
    }
   },
   "cell_type": "code",
   "source": [
    "# cap number of articles at 500\n",
    "gdelt['NumArticles'] = gdelt['NumArticles'].clip(upper=500)"
   ],
   "id": "b6956516fcc8f391",
   "outputs": [],
   "execution_count": 60
  },
  {
   "metadata": {
    "ExecuteTime": {
     "end_time": "2024-12-06T16:38:02.124551Z",
     "start_time": "2024-12-06T16:38:01.739389Z"
    }
   },
   "cell_type": "code",
   "source": [
    "# reorder columns\n",
    "gdelt = gdelt[['Date', 'Timestamp',  # Date\n",
    "    'Actor1Country', 'Actor1GeoCountry', 'Actor1Type', 'Actor1TypeGeneral',  # Actor1\n",
    "    'Actor2Country', 'Actor2GeoCountry', 'Actor2Type', 'Actor2TypeGeneral',  # Actor2\n",
    "    'ActionCountry', 'EventType', 'QuadClass', 'GoldsteinScale',  # Event\n",
    "    'NumSources', 'NumArticles', 'AvgTone', 'Source']]  # Reaction"
   ],
   "id": "30d8a6160d0cf50",
   "outputs": [],
   "execution_count": 61
  },
  {
   "metadata": {
    "ExecuteTime": {
     "end_time": "2024-12-06T16:38:06.290319Z",
     "start_time": "2024-12-06T16:38:02.134817Z"
    }
   },
   "cell_type": "code",
   "source": [
    "from funcs.advanced_describe import advanced_describe\n",
    "\n",
    "advanced_describe(gdelt, drop_cols=['Date', 'Timestamp', 'Source'])"
   ],
   "id": "ecd18f7853fd5aeb",
   "outputs": [
    {
     "data": {
      "text/plain": [
       "                       count unique         top     freq       mean  \\\n",
       "Actor1Country        2321230    218         USA   497531        NaN   \n",
       "Actor1GeoCountry     4303791    247          US   863494        NaN   \n",
       "Actor1Type           2703561     32         GOV   851770        NaN   \n",
       "Actor1TypeGeneral    2703561      5         GOV  1582925        NaN   \n",
       "Actor2Country        1693312    218         USA   321260        NaN   \n",
       "Actor2GeoCountry     3040951    247          US   593587        NaN   \n",
       "Actor2Type           1829951     32         GOV   525056        NaN   \n",
       "Actor2TypeGeneral    1829951      5         GOV   972944        NaN   \n",
       "ActionCountry        4861692    249          US   971085        NaN   \n",
       "EventType            5171541     20     Consult  1267084        NaN   \n",
       "QuadClass            5171541      4  VerbalCoop  3122557        NaN   \n",
       "GoldsteinScale     5171541.0    NaN         NaN      NaN   0.502059   \n",
       "NumSources         5171541.0    NaN         NaN      NaN   2.297014   \n",
       "NumArticles        5171541.0    NaN         NaN      NaN  21.512995   \n",
       "AvgTone            5171541.0    NaN         NaN      NaN   -2.15403   \n",
       "\n",
       "                         min       25%       50%       75%        max  \\\n",
       "Actor1Country            NaN       NaN       NaN       NaN        NaN   \n",
       "Actor1GeoCountry         NaN       NaN       NaN       NaN        NaN   \n",
       "Actor1Type               NaN       NaN       NaN       NaN        NaN   \n",
       "Actor1TypeGeneral        NaN       NaN       NaN       NaN        NaN   \n",
       "Actor2Country            NaN       NaN       NaN       NaN        NaN   \n",
       "Actor2GeoCountry         NaN       NaN       NaN       NaN        NaN   \n",
       "Actor2Type               NaN       NaN       NaN       NaN        NaN   \n",
       "Actor2TypeGeneral        NaN       NaN       NaN       NaN        NaN   \n",
       "ActionCountry            NaN       NaN       NaN       NaN        NaN   \n",
       "EventType                NaN       NaN       NaN       NaN        NaN   \n",
       "QuadClass                NaN       NaN       NaN       NaN        NaN   \n",
       "GoldsteinScale         -10.0      -2.0       1.0       3.4       10.0   \n",
       "NumSources               1.0       1.0       2.0       2.0       58.0   \n",
       "NumArticles             11.0      16.0      20.0      20.0      500.0   \n",
       "AvgTone           -38.709677 -4.485332 -1.948052  0.371747  26.315789   \n",
       "\n",
       "                         std present   share     dtype         sample  \n",
       "Actor1Country            NaN     44%   9.62%  category            SSD  \n",
       "Actor1GeoCountry         NaN     83%  16.70%  category             SU  \n",
       "Actor1Type               NaN     52%  16.47%  category            NaN  \n",
       "Actor1TypeGeneral        NaN     52%  30.61%    object            NaN  \n",
       "Actor2Country            NaN     32%   6.21%  category            UGA  \n",
       "Actor2GeoCountry         NaN     58%  11.48%  category             UG  \n",
       "Actor2Type               NaN     35%  10.15%  category            NaN  \n",
       "Actor2TypeGeneral        NaN     35%  18.81%    object            NaN  \n",
       "ActionCountry            NaN     94%  18.78%  category             UG  \n",
       "EventType                NaN    100%  24.50%  category  Material Coop  \n",
       "QuadClass                NaN    100%  60.38%  category   MaterialCoop  \n",
       "GoldsteinScale      4.784051    100%    None   float64            6.0  \n",
       "NumSources          1.915128    100%    None     int64              1  \n",
       "NumArticles        14.212713    100%    None     int64             12  \n",
       "AvgTone             3.872414    100%    None   float64       4.469755  "
      ],
      "text/html": [
       "<div>\n",
       "<style scoped>\n",
       "    .dataframe tbody tr th:only-of-type {\n",
       "        vertical-align: middle;\n",
       "    }\n",
       "\n",
       "    .dataframe tbody tr th {\n",
       "        vertical-align: top;\n",
       "    }\n",
       "\n",
       "    .dataframe thead th {\n",
       "        text-align: right;\n",
       "    }\n",
       "</style>\n",
       "<table border=\"1\" class=\"dataframe\">\n",
       "  <thead>\n",
       "    <tr style=\"text-align: right;\">\n",
       "      <th></th>\n",
       "      <th>count</th>\n",
       "      <th>unique</th>\n",
       "      <th>top</th>\n",
       "      <th>freq</th>\n",
       "      <th>mean</th>\n",
       "      <th>min</th>\n",
       "      <th>25%</th>\n",
       "      <th>50%</th>\n",
       "      <th>75%</th>\n",
       "      <th>max</th>\n",
       "      <th>std</th>\n",
       "      <th>present</th>\n",
       "      <th>share</th>\n",
       "      <th>dtype</th>\n",
       "      <th>sample</th>\n",
       "    </tr>\n",
       "  </thead>\n",
       "  <tbody>\n",
       "    <tr>\n",
       "      <th>Actor1Country</th>\n",
       "      <td>2321230</td>\n",
       "      <td>218</td>\n",
       "      <td>USA</td>\n",
       "      <td>497531</td>\n",
       "      <td>NaN</td>\n",
       "      <td>NaN</td>\n",
       "      <td>NaN</td>\n",
       "      <td>NaN</td>\n",
       "      <td>NaN</td>\n",
       "      <td>NaN</td>\n",
       "      <td>NaN</td>\n",
       "      <td>44%</td>\n",
       "      <td>9.62%</td>\n",
       "      <td>category</td>\n",
       "      <td>SSD</td>\n",
       "    </tr>\n",
       "    <tr>\n",
       "      <th>Actor1GeoCountry</th>\n",
       "      <td>4303791</td>\n",
       "      <td>247</td>\n",
       "      <td>US</td>\n",
       "      <td>863494</td>\n",
       "      <td>NaN</td>\n",
       "      <td>NaN</td>\n",
       "      <td>NaN</td>\n",
       "      <td>NaN</td>\n",
       "      <td>NaN</td>\n",
       "      <td>NaN</td>\n",
       "      <td>NaN</td>\n",
       "      <td>83%</td>\n",
       "      <td>16.70%</td>\n",
       "      <td>category</td>\n",
       "      <td>SU</td>\n",
       "    </tr>\n",
       "    <tr>\n",
       "      <th>Actor1Type</th>\n",
       "      <td>2703561</td>\n",
       "      <td>32</td>\n",
       "      <td>GOV</td>\n",
       "      <td>851770</td>\n",
       "      <td>NaN</td>\n",
       "      <td>NaN</td>\n",
       "      <td>NaN</td>\n",
       "      <td>NaN</td>\n",
       "      <td>NaN</td>\n",
       "      <td>NaN</td>\n",
       "      <td>NaN</td>\n",
       "      <td>52%</td>\n",
       "      <td>16.47%</td>\n",
       "      <td>category</td>\n",
       "      <td>NaN</td>\n",
       "    </tr>\n",
       "    <tr>\n",
       "      <th>Actor1TypeGeneral</th>\n",
       "      <td>2703561</td>\n",
       "      <td>5</td>\n",
       "      <td>GOV</td>\n",
       "      <td>1582925</td>\n",
       "      <td>NaN</td>\n",
       "      <td>NaN</td>\n",
       "      <td>NaN</td>\n",
       "      <td>NaN</td>\n",
       "      <td>NaN</td>\n",
       "      <td>NaN</td>\n",
       "      <td>NaN</td>\n",
       "      <td>52%</td>\n",
       "      <td>30.61%</td>\n",
       "      <td>object</td>\n",
       "      <td>NaN</td>\n",
       "    </tr>\n",
       "    <tr>\n",
       "      <th>Actor2Country</th>\n",
       "      <td>1693312</td>\n",
       "      <td>218</td>\n",
       "      <td>USA</td>\n",
       "      <td>321260</td>\n",
       "      <td>NaN</td>\n",
       "      <td>NaN</td>\n",
       "      <td>NaN</td>\n",
       "      <td>NaN</td>\n",
       "      <td>NaN</td>\n",
       "      <td>NaN</td>\n",
       "      <td>NaN</td>\n",
       "      <td>32%</td>\n",
       "      <td>6.21%</td>\n",
       "      <td>category</td>\n",
       "      <td>UGA</td>\n",
       "    </tr>\n",
       "    <tr>\n",
       "      <th>Actor2GeoCountry</th>\n",
       "      <td>3040951</td>\n",
       "      <td>247</td>\n",
       "      <td>US</td>\n",
       "      <td>593587</td>\n",
       "      <td>NaN</td>\n",
       "      <td>NaN</td>\n",
       "      <td>NaN</td>\n",
       "      <td>NaN</td>\n",
       "      <td>NaN</td>\n",
       "      <td>NaN</td>\n",
       "      <td>NaN</td>\n",
       "      <td>58%</td>\n",
       "      <td>11.48%</td>\n",
       "      <td>category</td>\n",
       "      <td>UG</td>\n",
       "    </tr>\n",
       "    <tr>\n",
       "      <th>Actor2Type</th>\n",
       "      <td>1829951</td>\n",
       "      <td>32</td>\n",
       "      <td>GOV</td>\n",
       "      <td>525056</td>\n",
       "      <td>NaN</td>\n",
       "      <td>NaN</td>\n",
       "      <td>NaN</td>\n",
       "      <td>NaN</td>\n",
       "      <td>NaN</td>\n",
       "      <td>NaN</td>\n",
       "      <td>NaN</td>\n",
       "      <td>35%</td>\n",
       "      <td>10.15%</td>\n",
       "      <td>category</td>\n",
       "      <td>NaN</td>\n",
       "    </tr>\n",
       "    <tr>\n",
       "      <th>Actor2TypeGeneral</th>\n",
       "      <td>1829951</td>\n",
       "      <td>5</td>\n",
       "      <td>GOV</td>\n",
       "      <td>972944</td>\n",
       "      <td>NaN</td>\n",
       "      <td>NaN</td>\n",
       "      <td>NaN</td>\n",
       "      <td>NaN</td>\n",
       "      <td>NaN</td>\n",
       "      <td>NaN</td>\n",
       "      <td>NaN</td>\n",
       "      <td>35%</td>\n",
       "      <td>18.81%</td>\n",
       "      <td>object</td>\n",
       "      <td>NaN</td>\n",
       "    </tr>\n",
       "    <tr>\n",
       "      <th>ActionCountry</th>\n",
       "      <td>4861692</td>\n",
       "      <td>249</td>\n",
       "      <td>US</td>\n",
       "      <td>971085</td>\n",
       "      <td>NaN</td>\n",
       "      <td>NaN</td>\n",
       "      <td>NaN</td>\n",
       "      <td>NaN</td>\n",
       "      <td>NaN</td>\n",
       "      <td>NaN</td>\n",
       "      <td>NaN</td>\n",
       "      <td>94%</td>\n",
       "      <td>18.78%</td>\n",
       "      <td>category</td>\n",
       "      <td>UG</td>\n",
       "    </tr>\n",
       "    <tr>\n",
       "      <th>EventType</th>\n",
       "      <td>5171541</td>\n",
       "      <td>20</td>\n",
       "      <td>Consult</td>\n",
       "      <td>1267084</td>\n",
       "      <td>NaN</td>\n",
       "      <td>NaN</td>\n",
       "      <td>NaN</td>\n",
       "      <td>NaN</td>\n",
       "      <td>NaN</td>\n",
       "      <td>NaN</td>\n",
       "      <td>NaN</td>\n",
       "      <td>100%</td>\n",
       "      <td>24.50%</td>\n",
       "      <td>category</td>\n",
       "      <td>Material Coop</td>\n",
       "    </tr>\n",
       "    <tr>\n",
       "      <th>QuadClass</th>\n",
       "      <td>5171541</td>\n",
       "      <td>4</td>\n",
       "      <td>VerbalCoop</td>\n",
       "      <td>3122557</td>\n",
       "      <td>NaN</td>\n",
       "      <td>NaN</td>\n",
       "      <td>NaN</td>\n",
       "      <td>NaN</td>\n",
       "      <td>NaN</td>\n",
       "      <td>NaN</td>\n",
       "      <td>NaN</td>\n",
       "      <td>100%</td>\n",
       "      <td>60.38%</td>\n",
       "      <td>category</td>\n",
       "      <td>MaterialCoop</td>\n",
       "    </tr>\n",
       "    <tr>\n",
       "      <th>GoldsteinScale</th>\n",
       "      <td>5171541.0</td>\n",
       "      <td>NaN</td>\n",
       "      <td>NaN</td>\n",
       "      <td>NaN</td>\n",
       "      <td>0.502059</td>\n",
       "      <td>-10.0</td>\n",
       "      <td>-2.0</td>\n",
       "      <td>1.0</td>\n",
       "      <td>3.4</td>\n",
       "      <td>10.0</td>\n",
       "      <td>4.784051</td>\n",
       "      <td>100%</td>\n",
       "      <td>None</td>\n",
       "      <td>float64</td>\n",
       "      <td>6.0</td>\n",
       "    </tr>\n",
       "    <tr>\n",
       "      <th>NumSources</th>\n",
       "      <td>5171541.0</td>\n",
       "      <td>NaN</td>\n",
       "      <td>NaN</td>\n",
       "      <td>NaN</td>\n",
       "      <td>2.297014</td>\n",
       "      <td>1.0</td>\n",
       "      <td>1.0</td>\n",
       "      <td>2.0</td>\n",
       "      <td>2.0</td>\n",
       "      <td>58.0</td>\n",
       "      <td>1.915128</td>\n",
       "      <td>100%</td>\n",
       "      <td>None</td>\n",
       "      <td>int64</td>\n",
       "      <td>1</td>\n",
       "    </tr>\n",
       "    <tr>\n",
       "      <th>NumArticles</th>\n",
       "      <td>5171541.0</td>\n",
       "      <td>NaN</td>\n",
       "      <td>NaN</td>\n",
       "      <td>NaN</td>\n",
       "      <td>21.512995</td>\n",
       "      <td>11.0</td>\n",
       "      <td>16.0</td>\n",
       "      <td>20.0</td>\n",
       "      <td>20.0</td>\n",
       "      <td>500.0</td>\n",
       "      <td>14.212713</td>\n",
       "      <td>100%</td>\n",
       "      <td>None</td>\n",
       "      <td>int64</td>\n",
       "      <td>12</td>\n",
       "    </tr>\n",
       "    <tr>\n",
       "      <th>AvgTone</th>\n",
       "      <td>5171541.0</td>\n",
       "      <td>NaN</td>\n",
       "      <td>NaN</td>\n",
       "      <td>NaN</td>\n",
       "      <td>-2.15403</td>\n",
       "      <td>-38.709677</td>\n",
       "      <td>-4.485332</td>\n",
       "      <td>-1.948052</td>\n",
       "      <td>0.371747</td>\n",
       "      <td>26.315789</td>\n",
       "      <td>3.872414</td>\n",
       "      <td>100%</td>\n",
       "      <td>None</td>\n",
       "      <td>float64</td>\n",
       "      <td>4.469755</td>\n",
       "    </tr>\n",
       "  </tbody>\n",
       "</table>\n",
       "</div>"
      ]
     },
     "execution_count": 62,
     "metadata": {},
     "output_type": "execute_result"
    }
   ],
   "execution_count": 62
  },
  {
   "metadata": {
    "ExecuteTime": {
     "end_time": "2024-12-06T16:38:06.326697Z",
     "start_time": "2024-12-06T16:38:06.317726Z"
    }
   },
   "cell_type": "code",
   "source": "gdelt.head()",
   "id": "dfa9e9087c97bec8",
   "outputs": [
    {
     "data": {
      "text/plain": [
       "        Date   Timestamp Actor1Country Actor1GeoCountry Actor1Type  \\\n",
       "0 2019-01-01  1546300800           NaN              NaN        CVL   \n",
       "1 2019-01-01  1546300800           MDV               US        NaN   \n",
       "2 2019-01-01  1546300800           NaN               US        GOV   \n",
       "3 2019-01-01  1546300800           RUS               RS        NaN   \n",
       "4 2019-01-01  1546300800           USA               US        NaN   \n",
       "\n",
       "  Actor1TypeGeneral Actor2Country Actor2GeoCountry Actor2Type  \\\n",
       "0             Other           NaN              NaN        NaN   \n",
       "1               NaN           USA               US        NaN   \n",
       "2               GOV           NaN               US        GOV   \n",
       "3               NaN           NaN               RS        GOV   \n",
       "4               NaN           NaN              NaN        NaN   \n",
       "\n",
       "  Actor2TypeGeneral ActionCountry      EventType     QuadClass  \\\n",
       "0               NaN           NaN    Diplom Coop    VerbalCoop   \n",
       "1               NaN            US          Fight  MaterialConf   \n",
       "2               GOV            US         Appeal    VerbalCoop   \n",
       "3               GOV            RS  Material Coop  MaterialCoop   \n",
       "4               NaN            US         Appeal    VerbalCoop   \n",
       "\n",
       "   GoldsteinScale  NumSources  NumArticles   AvgTone  \\\n",
       "0             3.4           4           50  2.354384   \n",
       "1           -10.0           2           12 -4.195804   \n",
       "2             3.2          10           20  1.734061   \n",
       "3             6.0           3           30 -0.427182   \n",
       "4             3.0           8           23 -1.376241   \n",
       "\n",
       "                                              Source  \n",
       "0  https://telegrafi.com/ne-shenj-proteste-labino...  \n",
       "1  http://www.wgow.com/news/manhunt-on-in-texas-f...  \n",
       "2  https://hanfordsentinel.com/news/national/govt...  \n",
       "3  http://www.gp.se/nyheter/v%C3%A4rlden/sju-d%C3...  \n",
       "4  http://www.790wpic.com/news/a-familys-whirlpoo...  "
      ],
      "text/html": [
       "<div>\n",
       "<style scoped>\n",
       "    .dataframe tbody tr th:only-of-type {\n",
       "        vertical-align: middle;\n",
       "    }\n",
       "\n",
       "    .dataframe tbody tr th {\n",
       "        vertical-align: top;\n",
       "    }\n",
       "\n",
       "    .dataframe thead th {\n",
       "        text-align: right;\n",
       "    }\n",
       "</style>\n",
       "<table border=\"1\" class=\"dataframe\">\n",
       "  <thead>\n",
       "    <tr style=\"text-align: right;\">\n",
       "      <th></th>\n",
       "      <th>Date</th>\n",
       "      <th>Timestamp</th>\n",
       "      <th>Actor1Country</th>\n",
       "      <th>Actor1GeoCountry</th>\n",
       "      <th>Actor1Type</th>\n",
       "      <th>Actor1TypeGeneral</th>\n",
       "      <th>Actor2Country</th>\n",
       "      <th>Actor2GeoCountry</th>\n",
       "      <th>Actor2Type</th>\n",
       "      <th>Actor2TypeGeneral</th>\n",
       "      <th>ActionCountry</th>\n",
       "      <th>EventType</th>\n",
       "      <th>QuadClass</th>\n",
       "      <th>GoldsteinScale</th>\n",
       "      <th>NumSources</th>\n",
       "      <th>NumArticles</th>\n",
       "      <th>AvgTone</th>\n",
       "      <th>Source</th>\n",
       "    </tr>\n",
       "  </thead>\n",
       "  <tbody>\n",
       "    <tr>\n",
       "      <th>0</th>\n",
       "      <td>2019-01-01</td>\n",
       "      <td>1546300800</td>\n",
       "      <td>NaN</td>\n",
       "      <td>NaN</td>\n",
       "      <td>CVL</td>\n",
       "      <td>Other</td>\n",
       "      <td>NaN</td>\n",
       "      <td>NaN</td>\n",
       "      <td>NaN</td>\n",
       "      <td>NaN</td>\n",
       "      <td>NaN</td>\n",
       "      <td>Diplom Coop</td>\n",
       "      <td>VerbalCoop</td>\n",
       "      <td>3.4</td>\n",
       "      <td>4</td>\n",
       "      <td>50</td>\n",
       "      <td>2.354384</td>\n",
       "      <td>https://telegrafi.com/ne-shenj-proteste-labino...</td>\n",
       "    </tr>\n",
       "    <tr>\n",
       "      <th>1</th>\n",
       "      <td>2019-01-01</td>\n",
       "      <td>1546300800</td>\n",
       "      <td>MDV</td>\n",
       "      <td>US</td>\n",
       "      <td>NaN</td>\n",
       "      <td>NaN</td>\n",
       "      <td>USA</td>\n",
       "      <td>US</td>\n",
       "      <td>NaN</td>\n",
       "      <td>NaN</td>\n",
       "      <td>US</td>\n",
       "      <td>Fight</td>\n",
       "      <td>MaterialConf</td>\n",
       "      <td>-10.0</td>\n",
       "      <td>2</td>\n",
       "      <td>12</td>\n",
       "      <td>-4.195804</td>\n",
       "      <td>http://www.wgow.com/news/manhunt-on-in-texas-f...</td>\n",
       "    </tr>\n",
       "    <tr>\n",
       "      <th>2</th>\n",
       "      <td>2019-01-01</td>\n",
       "      <td>1546300800</td>\n",
       "      <td>NaN</td>\n",
       "      <td>US</td>\n",
       "      <td>GOV</td>\n",
       "      <td>GOV</td>\n",
       "      <td>NaN</td>\n",
       "      <td>US</td>\n",
       "      <td>GOV</td>\n",
       "      <td>GOV</td>\n",
       "      <td>US</td>\n",
       "      <td>Appeal</td>\n",
       "      <td>VerbalCoop</td>\n",
       "      <td>3.2</td>\n",
       "      <td>10</td>\n",
       "      <td>20</td>\n",
       "      <td>1.734061</td>\n",
       "      <td>https://hanfordsentinel.com/news/national/govt...</td>\n",
       "    </tr>\n",
       "    <tr>\n",
       "      <th>3</th>\n",
       "      <td>2019-01-01</td>\n",
       "      <td>1546300800</td>\n",
       "      <td>RUS</td>\n",
       "      <td>RS</td>\n",
       "      <td>NaN</td>\n",
       "      <td>NaN</td>\n",
       "      <td>NaN</td>\n",
       "      <td>RS</td>\n",
       "      <td>GOV</td>\n",
       "      <td>GOV</td>\n",
       "      <td>RS</td>\n",
       "      <td>Material Coop</td>\n",
       "      <td>MaterialCoop</td>\n",
       "      <td>6.0</td>\n",
       "      <td>3</td>\n",
       "      <td>30</td>\n",
       "      <td>-0.427182</td>\n",
       "      <td>http://www.gp.se/nyheter/v%C3%A4rlden/sju-d%C3...</td>\n",
       "    </tr>\n",
       "    <tr>\n",
       "      <th>4</th>\n",
       "      <td>2019-01-01</td>\n",
       "      <td>1546300800</td>\n",
       "      <td>USA</td>\n",
       "      <td>US</td>\n",
       "      <td>NaN</td>\n",
       "      <td>NaN</td>\n",
       "      <td>NaN</td>\n",
       "      <td>NaN</td>\n",
       "      <td>NaN</td>\n",
       "      <td>NaN</td>\n",
       "      <td>US</td>\n",
       "      <td>Appeal</td>\n",
       "      <td>VerbalCoop</td>\n",
       "      <td>3.0</td>\n",
       "      <td>8</td>\n",
       "      <td>23</td>\n",
       "      <td>-1.376241</td>\n",
       "      <td>http://www.790wpic.com/news/a-familys-whirlpoo...</td>\n",
       "    </tr>\n",
       "  </tbody>\n",
       "</table>\n",
       "</div>"
      ]
     },
     "execution_count": 63,
     "metadata": {},
     "output_type": "execute_result"
    }
   ],
   "execution_count": 63
  },
  {
   "metadata": {},
   "cell_type": "markdown",
   "source": "After analyzing impact of different features on btc price, we can drop some columns and remove some less frequent values.",
   "id": "f8b4ed1871ea9f6"
  },
  {
   "metadata": {
    "ExecuteTime": {
     "end_time": "2024-12-06T16:38:06.402276Z",
     "start_time": "2024-12-06T16:38:06.400189Z"
    }
   },
   "cell_type": "code",
   "source": "gdelt.columns",
   "id": "e48934c92484e5a4",
   "outputs": [
    {
     "data": {
      "text/plain": [
       "Index(['Date', 'Timestamp', 'Actor1Country', 'Actor1GeoCountry', 'Actor1Type',\n",
       "       'Actor1TypeGeneral', 'Actor2Country', 'Actor2GeoCountry', 'Actor2Type',\n",
       "       'Actor2TypeGeneral', 'ActionCountry', 'EventType', 'QuadClass',\n",
       "       'GoldsteinScale', 'NumSources', 'NumArticles', 'AvgTone', 'Source'],\n",
       "      dtype='object')"
      ]
     },
     "execution_count": 64,
     "metadata": {},
     "output_type": "execute_result"
    }
   ],
   "execution_count": 64
  },
  {
   "metadata": {
    "ExecuteTime": {
     "end_time": "2024-12-06T16:38:06.604082Z",
     "start_time": "2024-12-06T16:38:06.518235Z"
    }
   },
   "cell_type": "code",
   "source": "gdelt = gdelt.drop(columns=['Source', 'Actor1TypeGeneral', 'Actor2TypeGeneral', 'QuadClass'])",
   "id": "f9e7d9d5a20575a5",
   "outputs": [],
   "execution_count": 65
  },
  {
   "metadata": {
    "ExecuteTime": {
     "end_time": "2024-12-06T16:38:06.639504Z",
     "start_time": "2024-12-06T16:38:06.627318Z"
    }
   },
   "cell_type": "code",
   "source": "gdelt.head()",
   "id": "62e4ff5b8dd82773",
   "outputs": [
    {
     "data": {
      "text/plain": [
       "        Date   Timestamp Actor1Country Actor1GeoCountry Actor1Type  \\\n",
       "0 2019-01-01  1546300800           NaN              NaN        CVL   \n",
       "1 2019-01-01  1546300800           MDV               US        NaN   \n",
       "2 2019-01-01  1546300800           NaN               US        GOV   \n",
       "3 2019-01-01  1546300800           RUS               RS        NaN   \n",
       "4 2019-01-01  1546300800           USA               US        NaN   \n",
       "\n",
       "  Actor2Country Actor2GeoCountry Actor2Type ActionCountry      EventType  \\\n",
       "0           NaN              NaN        NaN           NaN    Diplom Coop   \n",
       "1           USA               US        NaN            US          Fight   \n",
       "2           NaN               US        GOV            US         Appeal   \n",
       "3           NaN               RS        GOV            RS  Material Coop   \n",
       "4           NaN              NaN        NaN            US         Appeal   \n",
       "\n",
       "   GoldsteinScale  NumSources  NumArticles   AvgTone  \n",
       "0             3.4           4           50  2.354384  \n",
       "1           -10.0           2           12 -4.195804  \n",
       "2             3.2          10           20  1.734061  \n",
       "3             6.0           3           30 -0.427182  \n",
       "4             3.0           8           23 -1.376241  "
      ],
      "text/html": [
       "<div>\n",
       "<style scoped>\n",
       "    .dataframe tbody tr th:only-of-type {\n",
       "        vertical-align: middle;\n",
       "    }\n",
       "\n",
       "    .dataframe tbody tr th {\n",
       "        vertical-align: top;\n",
       "    }\n",
       "\n",
       "    .dataframe thead th {\n",
       "        text-align: right;\n",
       "    }\n",
       "</style>\n",
       "<table border=\"1\" class=\"dataframe\">\n",
       "  <thead>\n",
       "    <tr style=\"text-align: right;\">\n",
       "      <th></th>\n",
       "      <th>Date</th>\n",
       "      <th>Timestamp</th>\n",
       "      <th>Actor1Country</th>\n",
       "      <th>Actor1GeoCountry</th>\n",
       "      <th>Actor1Type</th>\n",
       "      <th>Actor2Country</th>\n",
       "      <th>Actor2GeoCountry</th>\n",
       "      <th>Actor2Type</th>\n",
       "      <th>ActionCountry</th>\n",
       "      <th>EventType</th>\n",
       "      <th>GoldsteinScale</th>\n",
       "      <th>NumSources</th>\n",
       "      <th>NumArticles</th>\n",
       "      <th>AvgTone</th>\n",
       "    </tr>\n",
       "  </thead>\n",
       "  <tbody>\n",
       "    <tr>\n",
       "      <th>0</th>\n",
       "      <td>2019-01-01</td>\n",
       "      <td>1546300800</td>\n",
       "      <td>NaN</td>\n",
       "      <td>NaN</td>\n",
       "      <td>CVL</td>\n",
       "      <td>NaN</td>\n",
       "      <td>NaN</td>\n",
       "      <td>NaN</td>\n",
       "      <td>NaN</td>\n",
       "      <td>Diplom Coop</td>\n",
       "      <td>3.4</td>\n",
       "      <td>4</td>\n",
       "      <td>50</td>\n",
       "      <td>2.354384</td>\n",
       "    </tr>\n",
       "    <tr>\n",
       "      <th>1</th>\n",
       "      <td>2019-01-01</td>\n",
       "      <td>1546300800</td>\n",
       "      <td>MDV</td>\n",
       "      <td>US</td>\n",
       "      <td>NaN</td>\n",
       "      <td>USA</td>\n",
       "      <td>US</td>\n",
       "      <td>NaN</td>\n",
       "      <td>US</td>\n",
       "      <td>Fight</td>\n",
       "      <td>-10.0</td>\n",
       "      <td>2</td>\n",
       "      <td>12</td>\n",
       "      <td>-4.195804</td>\n",
       "    </tr>\n",
       "    <tr>\n",
       "      <th>2</th>\n",
       "      <td>2019-01-01</td>\n",
       "      <td>1546300800</td>\n",
       "      <td>NaN</td>\n",
       "      <td>US</td>\n",
       "      <td>GOV</td>\n",
       "      <td>NaN</td>\n",
       "      <td>US</td>\n",
       "      <td>GOV</td>\n",
       "      <td>US</td>\n",
       "      <td>Appeal</td>\n",
       "      <td>3.2</td>\n",
       "      <td>10</td>\n",
       "      <td>20</td>\n",
       "      <td>1.734061</td>\n",
       "    </tr>\n",
       "    <tr>\n",
       "      <th>3</th>\n",
       "      <td>2019-01-01</td>\n",
       "      <td>1546300800</td>\n",
       "      <td>RUS</td>\n",
       "      <td>RS</td>\n",
       "      <td>NaN</td>\n",
       "      <td>NaN</td>\n",
       "      <td>RS</td>\n",
       "      <td>GOV</td>\n",
       "      <td>RS</td>\n",
       "      <td>Material Coop</td>\n",
       "      <td>6.0</td>\n",
       "      <td>3</td>\n",
       "      <td>30</td>\n",
       "      <td>-0.427182</td>\n",
       "    </tr>\n",
       "    <tr>\n",
       "      <th>4</th>\n",
       "      <td>2019-01-01</td>\n",
       "      <td>1546300800</td>\n",
       "      <td>USA</td>\n",
       "      <td>US</td>\n",
       "      <td>NaN</td>\n",
       "      <td>NaN</td>\n",
       "      <td>NaN</td>\n",
       "      <td>NaN</td>\n",
       "      <td>US</td>\n",
       "      <td>Appeal</td>\n",
       "      <td>3.0</td>\n",
       "      <td>8</td>\n",
       "      <td>23</td>\n",
       "      <td>-1.376241</td>\n",
       "    </tr>\n",
       "  </tbody>\n",
       "</table>\n",
       "</div>"
      ]
     },
     "execution_count": 66,
     "metadata": {},
     "output_type": "execute_result"
    }
   ],
   "execution_count": 66
  },
  {
   "metadata": {
    "ExecuteTime": {
     "end_time": "2024-12-06T16:38:08.593859Z",
     "start_time": "2024-12-06T16:38:06.673793Z"
    }
   },
   "cell_type": "code",
   "source": [
    "# save cleaned gdelt\n",
    "gdelt.to_parquet('../cache/gdelt_cleaned.parquet')"
   ],
   "id": "106714198236f2ad",
   "outputs": [],
   "execution_count": 67
  }
 ],
 "metadata": {
  "kernelspec": {
   "display_name": "Python 3",
   "language": "python",
   "name": "python3"
  },
  "language_info": {
   "codemirror_mode": {
    "name": "ipython",
    "version": 2
   },
   "file_extension": ".py",
   "mimetype": "text/x-python",
   "name": "python",
   "nbconvert_exporter": "python",
   "pygments_lexer": "ipython2",
   "version": "2.7.6"
  }
 },
 "nbformat": 4,
 "nbformat_minor": 5
}
