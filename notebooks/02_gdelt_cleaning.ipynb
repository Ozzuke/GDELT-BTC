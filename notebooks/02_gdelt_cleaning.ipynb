{
 "cells": [
  {
   "metadata": {
    "ExecuteTime": {
     "end_time": "2024-12-04T09:33:01.093625Z",
     "start_time": "2024-12-04T09:33:01.086609Z"
    }
   },
   "cell_type": "code",
   "source": "import pandas as pd",
   "id": "81e5560f1137a0cc",
   "outputs": [],
   "execution_count": 133
  },
  {
   "cell_type": "code",
   "id": "initial_id",
   "metadata": {
    "collapsed": true,
    "ExecuteTime": {
     "end_time": "2024-12-04T09:33:04.078331Z",
     "start_time": "2024-12-04T09:33:01.360769Z"
    }
   },
   "source": "gdelt = pd.read_parquet('../cache/gdelt.parquet')",
   "outputs": [],
   "execution_count": 134
  },
  {
   "metadata": {
    "ExecuteTime": {
     "end_time": "2024-12-04T09:33:04.116662Z",
     "start_time": "2024-12-04T09:33:04.107256Z"
    }
   },
   "cell_type": "code",
   "source": "gdelt.head()",
   "id": "5fdbd6ca310c27a9",
   "outputs": [
    {
     "data": {
      "text/plain": [
       "        Date Actor1Country Actor1GeoCountry Actor1Type Actor2Country  \\\n",
       "0 2019-01-01          None             None        CVL          None   \n",
       "1 2019-01-01           MDV               US       None           USA   \n",
       "2 2019-01-01          None               US        GOV          None   \n",
       "3 2019-01-01           RUS               RS       None          None   \n",
       "4 2019-01-01           USA               US       None          None   \n",
       "\n",
       "  Actor2GeoCountry Actor2Type ActionCountry EventRootCode  QuadClass  \\\n",
       "0             None       None          None            05          1   \n",
       "1               US       None            US            19          4   \n",
       "2               US        GOV            US            02          1   \n",
       "3               RS        GOV            RS            06          2   \n",
       "4             None       None            US            02          1   \n",
       "\n",
       "   GoldsteinScale  NumSources  NumArticles   AvgTone  \\\n",
       "0             3.4           4           50  2.354384   \n",
       "1           -10.0           2           12 -4.195804   \n",
       "2             3.2          10           20  1.734061   \n",
       "3             6.0           3           30 -0.427182   \n",
       "4             3.0           8           23 -1.376241   \n",
       "\n",
       "                                              Source  \n",
       "0  https://telegrafi.com/ne-shenj-proteste-labino...  \n",
       "1  http://www.wgow.com/news/manhunt-on-in-texas-f...  \n",
       "2  https://hanfordsentinel.com/news/national/govt...  \n",
       "3  http://www.gp.se/nyheter/v%C3%A4rlden/sju-d%C3...  \n",
       "4  http://www.790wpic.com/news/a-familys-whirlpoo...  "
      ],
      "text/html": [
       "<div>\n",
       "<style scoped>\n",
       "    .dataframe tbody tr th:only-of-type {\n",
       "        vertical-align: middle;\n",
       "    }\n",
       "\n",
       "    .dataframe tbody tr th {\n",
       "        vertical-align: top;\n",
       "    }\n",
       "\n",
       "    .dataframe thead th {\n",
       "        text-align: right;\n",
       "    }\n",
       "</style>\n",
       "<table border=\"1\" class=\"dataframe\">\n",
       "  <thead>\n",
       "    <tr style=\"text-align: right;\">\n",
       "      <th></th>\n",
       "      <th>Date</th>\n",
       "      <th>Actor1Country</th>\n",
       "      <th>Actor1GeoCountry</th>\n",
       "      <th>Actor1Type</th>\n",
       "      <th>Actor2Country</th>\n",
       "      <th>Actor2GeoCountry</th>\n",
       "      <th>Actor2Type</th>\n",
       "      <th>ActionCountry</th>\n",
       "      <th>EventRootCode</th>\n",
       "      <th>QuadClass</th>\n",
       "      <th>GoldsteinScale</th>\n",
       "      <th>NumSources</th>\n",
       "      <th>NumArticles</th>\n",
       "      <th>AvgTone</th>\n",
       "      <th>Source</th>\n",
       "    </tr>\n",
       "  </thead>\n",
       "  <tbody>\n",
       "    <tr>\n",
       "      <th>0</th>\n",
       "      <td>2019-01-01</td>\n",
       "      <td>None</td>\n",
       "      <td>None</td>\n",
       "      <td>CVL</td>\n",
       "      <td>None</td>\n",
       "      <td>None</td>\n",
       "      <td>None</td>\n",
       "      <td>None</td>\n",
       "      <td>05</td>\n",
       "      <td>1</td>\n",
       "      <td>3.4</td>\n",
       "      <td>4</td>\n",
       "      <td>50</td>\n",
       "      <td>2.354384</td>\n",
       "      <td>https://telegrafi.com/ne-shenj-proteste-labino...</td>\n",
       "    </tr>\n",
       "    <tr>\n",
       "      <th>1</th>\n",
       "      <td>2019-01-01</td>\n",
       "      <td>MDV</td>\n",
       "      <td>US</td>\n",
       "      <td>None</td>\n",
       "      <td>USA</td>\n",
       "      <td>US</td>\n",
       "      <td>None</td>\n",
       "      <td>US</td>\n",
       "      <td>19</td>\n",
       "      <td>4</td>\n",
       "      <td>-10.0</td>\n",
       "      <td>2</td>\n",
       "      <td>12</td>\n",
       "      <td>-4.195804</td>\n",
       "      <td>http://www.wgow.com/news/manhunt-on-in-texas-f...</td>\n",
       "    </tr>\n",
       "    <tr>\n",
       "      <th>2</th>\n",
       "      <td>2019-01-01</td>\n",
       "      <td>None</td>\n",
       "      <td>US</td>\n",
       "      <td>GOV</td>\n",
       "      <td>None</td>\n",
       "      <td>US</td>\n",
       "      <td>GOV</td>\n",
       "      <td>US</td>\n",
       "      <td>02</td>\n",
       "      <td>1</td>\n",
       "      <td>3.2</td>\n",
       "      <td>10</td>\n",
       "      <td>20</td>\n",
       "      <td>1.734061</td>\n",
       "      <td>https://hanfordsentinel.com/news/national/govt...</td>\n",
       "    </tr>\n",
       "    <tr>\n",
       "      <th>3</th>\n",
       "      <td>2019-01-01</td>\n",
       "      <td>RUS</td>\n",
       "      <td>RS</td>\n",
       "      <td>None</td>\n",
       "      <td>None</td>\n",
       "      <td>RS</td>\n",
       "      <td>GOV</td>\n",
       "      <td>RS</td>\n",
       "      <td>06</td>\n",
       "      <td>2</td>\n",
       "      <td>6.0</td>\n",
       "      <td>3</td>\n",
       "      <td>30</td>\n",
       "      <td>-0.427182</td>\n",
       "      <td>http://www.gp.se/nyheter/v%C3%A4rlden/sju-d%C3...</td>\n",
       "    </tr>\n",
       "    <tr>\n",
       "      <th>4</th>\n",
       "      <td>2019-01-01</td>\n",
       "      <td>USA</td>\n",
       "      <td>US</td>\n",
       "      <td>None</td>\n",
       "      <td>None</td>\n",
       "      <td>None</td>\n",
       "      <td>None</td>\n",
       "      <td>US</td>\n",
       "      <td>02</td>\n",
       "      <td>1</td>\n",
       "      <td>3.0</td>\n",
       "      <td>8</td>\n",
       "      <td>23</td>\n",
       "      <td>-1.376241</td>\n",
       "      <td>http://www.790wpic.com/news/a-familys-whirlpoo...</td>\n",
       "    </tr>\n",
       "  </tbody>\n",
       "</table>\n",
       "</div>"
      ]
     },
     "execution_count": 135,
     "metadata": {},
     "output_type": "execute_result"
    }
   ],
   "execution_count": 135
  },
  {
   "metadata": {
    "ExecuteTime": {
     "end_time": "2024-12-04T09:33:04.169398Z",
     "start_time": "2024-12-04T09:33:04.166110Z"
    }
   },
   "cell_type": "code",
   "source": "gdelt.columns",
   "id": "5f0832c36f198e39",
   "outputs": [
    {
     "data": {
      "text/plain": [
       "Index(['Date', 'Actor1Country', 'Actor1GeoCountry', 'Actor1Type',\n",
       "       'Actor2Country', 'Actor2GeoCountry', 'Actor2Type', 'ActionCountry',\n",
       "       'EventRootCode', 'QuadClass', 'GoldsteinScale', 'NumSources',\n",
       "       'NumArticles', 'AvgTone', 'Source'],\n",
       "      dtype='object')"
      ]
     },
     "execution_count": 136,
     "metadata": {},
     "output_type": "execute_result"
    }
   ],
   "execution_count": 136
  },
  {
   "metadata": {
    "ExecuteTime": {
     "end_time": "2024-12-04T09:33:05.688660Z",
     "start_time": "2024-12-04T09:33:04.254501Z"
    }
   },
   "cell_type": "code",
   "source": [
    "# convert categorical columns to category type\n",
    "gdelt.Actor1Country = gdelt.Actor1Country.astype('category')\n",
    "gdelt.Actor1GeoCountry = gdelt.Actor1GeoCountry.astype('category')\n",
    "gdelt.Actor1Type = gdelt.Actor1Type.astype('category')\n",
    "gdelt.Actor2Country = gdelt.Actor2Country.astype('category')\n",
    "gdelt.Actor2GeoCountry = gdelt.Actor2GeoCountry.astype('category')\n",
    "gdelt.Actor2Type = gdelt.Actor2Type.astype('category')\n",
    "gdelt.ActionCountry = gdelt.ActionCountry.astype('category')\n",
    "gdelt.EventRootCode = gdelt.EventRootCode.astype('category')\n",
    "gdelt.QuadClass = gdelt.QuadClass.astype('category')"
   ],
   "id": "cece144ee5e03fb9",
   "outputs": [],
   "execution_count": 137
  },
  {
   "metadata": {
    "ExecuteTime": {
     "end_time": "2024-12-04T09:33:05.718351Z",
     "start_time": "2024-12-04T09:33:05.693692Z"
    }
   },
   "cell_type": "code",
   "source": [
    "# datetime to unix timestamp\n",
    "gdelt['Timestamp'] = gdelt.Date.astype('int64') // 10**9"
   ],
   "id": "1a3f295ad6ed73b0",
   "outputs": [],
   "execution_count": 138
  },
  {
   "metadata": {
    "ExecuteTime": {
     "end_time": "2024-12-04T09:33:05.733420Z",
     "start_time": "2024-12-04T09:33:05.728695Z"
    }
   },
   "cell_type": "code",
   "source": "gdelt.dtypes",
   "id": "d038471d6b6812fe",
   "outputs": [
    {
     "data": {
      "text/plain": [
       "Date                datetime64[ns]\n",
       "Actor1Country             category\n",
       "Actor1GeoCountry          category\n",
       "Actor1Type                category\n",
       "Actor2Country             category\n",
       "Actor2GeoCountry          category\n",
       "Actor2Type                category\n",
       "ActionCountry             category\n",
       "EventRootCode             category\n",
       "QuadClass                 category\n",
       "GoldsteinScale             float64\n",
       "NumSources                   int64\n",
       "NumArticles                  int64\n",
       "AvgTone                    float64\n",
       "Source                      object\n",
       "Timestamp                    int64\n",
       "dtype: object"
      ]
     },
     "execution_count": 139,
     "metadata": {},
     "output_type": "execute_result"
    }
   ],
   "execution_count": 139
  },
  {
   "metadata": {
    "ExecuteTime": {
     "end_time": "2024-12-04T09:33:05.772595Z",
     "start_time": "2024-12-04T09:33:05.767699Z"
    }
   },
   "cell_type": "code",
   "source": [
    "# replace quadclass nums with meaningful names\n",
    "gdelt['QuadClass'] = gdelt['QuadClass'].map({\n",
    "    1: 'VerbalCoop', \n",
    "    2: 'MaterialCoop', \n",
    "    3: 'VerbalConf', \n",
    "    4: 'MaterialConf'\n",
    "})"
   ],
   "id": "31ef236f5d77bdb1",
   "outputs": [],
   "execution_count": 140
  },
  {
   "metadata": {
    "ExecuteTime": {
     "end_time": "2024-12-04T09:33:07.648757Z",
     "start_time": "2024-12-04T09:33:05.805961Z"
    }
   },
   "cell_type": "code",
   "source": [
    "# replace event root code nums with meaningful names and rename to EventType\n",
    "\n",
    "# first convert to numeric\n",
    "gdelt['EventRootCode'] = pd.to_numeric(gdelt['EventRootCode'], errors='coerce')\n",
    "gdelt['EventRootCode'] = gdelt['EventRootCode'].map({\n",
    "    1: 'Statement',\n",
    "    2: 'Appeal',\n",
    "    3: 'Intent to Coop',\n",
    "    4: 'Consult',\n",
    "    5: 'Diplom Coop',\n",
    "    6: 'Material Coop',\n",
    "    7: 'Aid',\n",
    "    8: 'Yield',\n",
    "    9: 'Investigate',\n",
    "    10: 'Demand',\n",
    "    11: 'Disapprove',\n",
    "    12: 'Reject',\n",
    "    13: 'Threaten',\n",
    "    14: 'Protest',\n",
    "    15: 'Demonstrate Force',\n",
    "    16: 'Reduce Relations',\n",
    "    17: 'Coerce',\n",
    "    18: 'Assault',\n",
    "    19: 'Fight',\n",
    "    20: 'Mass Violence'\n",
    "})\n",
    "gdelt.rename(columns={'EventRootCode': 'EventType'}, inplace=True)\n",
    "\n",
    "# convert back to category\n",
    "gdelt.EventType = gdelt.EventType.astype('category')"
   ],
   "id": "24ad8be02b6fa0d7",
   "outputs": [],
   "execution_count": 141
  },
  {
   "metadata": {
    "ExecuteTime": {
     "end_time": "2024-12-04T09:33:07.682085Z",
     "start_time": "2024-12-04T09:33:07.658064Z"
    }
   },
   "cell_type": "code",
   "source": [
    "# there are 3 NaN values in EventType, so we can drop them\n",
    "gdelt['EventType'].value_counts(dropna=False)[::-1]"
   ],
   "id": "7ae890fe00216f9d",
   "outputs": [
    {
     "data": {
      "text/plain": [
       "EventType\n",
       "NaN                        3\n",
       "Mass Violence           1609\n",
       "Demonstrate Force      20461\n",
       "Protest                59635\n",
       "Reduce Relations       60881\n",
       "Demand                 69028\n",
       "Threaten               80823\n",
       "Assault                81196\n",
       "Material Coop         106830\n",
       "Investigate           136693\n",
       "Reject                146954\n",
       "Aid                   174983\n",
       "Yield                 202861\n",
       "Coerce                255777\n",
       "Disapprove            305588\n",
       "Fight                 345688\n",
       "Intent to Coop        368722\n",
       "Appeal                418795\n",
       "Diplom Coop           419667\n",
       "Statement             648289\n",
       "Consult              1267084\n",
       "Name: count, dtype: int64"
      ]
     },
     "execution_count": 142,
     "metadata": {},
     "output_type": "execute_result"
    }
   ],
   "execution_count": 142
  },
  {
   "metadata": {
    "ExecuteTime": {
     "end_time": "2024-12-04T09:33:08.148889Z",
     "start_time": "2024-12-04T09:33:07.704641Z"
    }
   },
   "cell_type": "code",
   "source": "gdelt.dropna(subset=['EventType'], inplace=True)",
   "id": "28a8a213ff370110",
   "outputs": [],
   "execution_count": 143
  },
  {
   "metadata": {
    "ExecuteTime": {
     "end_time": "2024-12-04T09:33:08.189067Z",
     "start_time": "2024-12-04T09:33:08.186273Z"
    }
   },
   "cell_type": "code",
   "source": [
    "# generalize actor types\n",
    "actor_types = {\n",
    "    'GOV': ['GOV', 'COP', 'MIL', 'JUD', 'SPY', 'ELI', 'LEG'],\n",
    "    'Opposition': ['OPP', 'INS', 'REB', 'SEP', 'CRM'],\n",
    "    'Business': ['BUS', 'AGR', 'DEV', 'LAB'],\n",
    "    'Benevolent': ['EDU', 'MED', 'HRI', 'HLH', 'ENV'],\n",
    "}\n",
    "\n",
    "def generalize_actor_type(actor_type):\n",
    "    for k, v in actor_types.items():\n",
    "        if actor_type in v:\n",
    "            return k\n",
    "    return 'Other'"
   ],
   "id": "65ec04396f55544d",
   "outputs": [],
   "execution_count": 144
  },
  {
   "metadata": {
    "ExecuteTime": {
     "end_time": "2024-12-04T09:33:08.706399Z",
     "start_time": "2024-12-04T09:33:08.204253Z"
    }
   },
   "cell_type": "code",
   "source": [
    "gdelt['Actor1TypeGeneral'] = gdelt['Actor1Type'].apply(generalize_actor_type)\n",
    "gdelt['Actor2TypeGeneral'] = gdelt['Actor2Type'].apply(generalize_actor_type)"
   ],
   "id": "67a05d8b077628cd",
   "outputs": [],
   "execution_count": 145
  },
  {
   "metadata": {
    "ExecuteTime": {
     "end_time": "2024-12-04T09:33:08.906227Z",
     "start_time": "2024-12-04T09:33:08.762815Z"
    }
   },
   "cell_type": "code",
   "source": "gdelt['Actor1TypeGeneral'].value_counts()",
   "id": "7624fc94625ab1ba",
   "outputs": [
    {
     "data": {
      "text/plain": [
       "Actor1TypeGeneral\n",
       "GOV           1582931\n",
       "Other          364790\n",
       "Benevolent     338947\n",
       "Business       291860\n",
       "Opposition     125044\n",
       "Name: count, dtype: int64"
      ]
     },
     "execution_count": 146,
     "metadata": {},
     "output_type": "execute_result"
    }
   ],
   "execution_count": 146
  },
  {
   "metadata": {
    "ExecuteTime": {
     "end_time": "2024-12-04T09:33:09.041528Z",
     "start_time": "2024-12-04T09:33:08.923556Z"
    }
   },
   "cell_type": "code",
   "source": "gdelt['Actor2TypeGeneral'].value_counts()",
   "id": "2dd8db26489bfa",
   "outputs": [
    {
     "data": {
      "text/plain": [
       "Actor2TypeGeneral\n",
       "GOV           972947\n",
       "Other         293756\n",
       "Benevolent    258098\n",
       "Business      205176\n",
       "Opposition     99977\n",
       "Name: count, dtype: int64"
      ]
     },
     "execution_count": 147,
     "metadata": {},
     "output_type": "execute_result"
    }
   ],
   "execution_count": 147
  },
  {
   "metadata": {
    "ExecuteTime": {
     "end_time": "2024-12-04T09:33:09.088683Z",
     "start_time": "2024-12-04T09:33:09.074271Z"
    }
   },
   "cell_type": "code",
   "source": [
    "# we can see that GoldsteinScale has 23 NaN values\n",
    "# this is a very small number, so we can drop them\n",
    "gdelt[gdelt['GoldsteinScale'].isna()].__len__()"
   ],
   "id": "fdaf4826180bb939",
   "outputs": [
    {
     "data": {
      "text/plain": [
       "23"
      ]
     },
     "execution_count": 148,
     "metadata": {},
     "output_type": "execute_result"
    }
   ],
   "execution_count": 148
  },
  {
   "metadata": {
    "ExecuteTime": {
     "end_time": "2024-12-04T09:33:10.122118Z",
     "start_time": "2024-12-04T09:33:09.407876Z"
    }
   },
   "cell_type": "code",
   "source": "gdelt.dropna(subset=['GoldsteinScale'], inplace=True)",
   "id": "bafcebe8a526cfb6",
   "outputs": [],
   "execution_count": 149
  },
  {
   "metadata": {
    "ExecuteTime": {
     "end_time": "2024-12-04T09:33:10.354275Z",
     "start_time": "2024-12-04T09:33:10.127369Z"
    }
   },
   "cell_type": "code",
   "source": [
    "# replace countries not in the top 20 with 'Other'\n",
    "top_countries = gdelt['Actor1Country'].value_counts().head(20).index\n",
    "gdelt['Actor1Country'] = gdelt['Actor1Country'].apply(lambda x: x if x in top_countries else 'Other')\n",
    "gdelt['Actor2Country'] = gdelt['Actor2Country'].apply(lambda x: x if x in top_countries else 'Other')"
   ],
   "id": "25f56fbc71679ee6",
   "outputs": [],
   "execution_count": 150
  },
  {
   "metadata": {
    "ExecuteTime": {
     "end_time": "2024-12-04T09:33:10.635672Z",
     "start_time": "2024-12-04T09:33:10.362823Z"
    }
   },
   "cell_type": "code",
   "source": [
    "# replace geo countries not in the top 20 with 'Other'\n",
    "top_geo_countries = gdelt['Actor1GeoCountry'].value_counts().head(20).index\n",
    "gdelt['Actor1GeoCountry'] = gdelt['Actor1GeoCountry'].apply(lambda x: x if x in top_geo_countries else 'Other')\n",
    "gdelt['Actor2GeoCountry'] = gdelt['Actor2GeoCountry'].apply(lambda x: x if x in top_geo_countries else 'Other')"
   ],
   "id": "412df04e998cf631",
   "outputs": [],
   "execution_count": 151
  },
  {
   "metadata": {
    "ExecuteTime": {
     "end_time": "2024-12-04T09:33:10.938672Z",
     "start_time": "2024-12-04T09:33:10.686382Z"
    }
   },
   "cell_type": "code",
   "source": [
    "# replace action countries not in the top 20 with 'Other'\n",
    "top_action_countries = gdelt['ActionCountry'].value_counts().head(20).index\n",
    "gdelt['ActionCountry'] = gdelt['ActionCountry'].apply(lambda x: x if x in top_action_countries else 'Other')"
   ],
   "id": "d089f57cfffb9c4d",
   "outputs": [],
   "execution_count": 152
  },
  {
   "metadata": {
    "ExecuteTime": {
     "end_time": "2024-12-04T09:33:10.979065Z",
     "start_time": "2024-12-04T09:33:10.960196Z"
    }
   },
   "cell_type": "code",
   "source": "gdelt[gdelt.NumArticles > 500].shape[0]",
   "id": "5bec2ca774e77b79",
   "outputs": [
    {
     "data": {
      "text/plain": [
       "99"
      ]
     },
     "execution_count": 153,
     "metadata": {},
     "output_type": "execute_result"
    }
   ],
   "execution_count": 153
  },
  {
   "metadata": {},
   "cell_type": "markdown",
   "source": "There are only 99 events with more than 500 articles, so we can cap the number of articles at 500 to avoid outliers.",
   "id": "de2566569f2cb11"
  },
  {
   "metadata": {
    "ExecuteTime": {
     "end_time": "2024-12-04T09:33:11.077800Z",
     "start_time": "2024-12-04T09:33:11.057535Z"
    }
   },
   "cell_type": "code",
   "source": [
    "# cap number of articles at 500\n",
    "gdelt['NumArticles'] = gdelt['NumArticles'].clip(upper=500)"
   ],
   "id": "b6956516fcc8f391",
   "outputs": [],
   "execution_count": 154
  },
  {
   "metadata": {
    "ExecuteTime": {
     "end_time": "2024-12-04T09:33:11.775245Z",
     "start_time": "2024-12-04T09:33:11.103677Z"
    }
   },
   "cell_type": "code",
   "source": [
    "# reorder columns\n",
    "gdelt = gdelt[['Date', 'Timestamp',  # Date\n",
    "    'Actor1Country', 'Actor1GeoCountry', 'Actor1Type', 'Actor1TypeGeneral',  # Actor1\n",
    "    'Actor2Country', 'Actor2GeoCountry', 'Actor2Type', 'Actor2TypeGeneral',  # Actor2\n",
    "    'ActionCountry', 'EventType', 'QuadClass', 'GoldsteinScale',  # Event\n",
    "    'NumSources', 'NumArticles', 'AvgTone', 'Source']]  # Reaction"
   ],
   "id": "30d8a6160d0cf50",
   "outputs": [],
   "execution_count": 155
  },
  {
   "metadata": {
    "ExecuteTime": {
     "end_time": "2024-12-04T09:33:16.982285Z",
     "start_time": "2024-12-04T09:33:11.783945Z"
    }
   },
   "cell_type": "code",
   "source": [
    "from funcs.advanced_describe import advanced_describe\n",
    "\n",
    "advanced_describe(gdelt, drop_cols=['Date', 'Timestamp', 'Source'])"
   ],
   "id": "ecd18f7853fd5aeb",
   "outputs": [
    {
     "data": {
      "text/plain": [
       "                  present unique         top   share       mean        min  \\\n",
       "Actor1Country         44%     21       Other  13.97%        NaN        NaN   \n",
       "Actor1GeoCountry      83%     21       Other  26.21%        NaN        NaN   \n",
       "Actor1Type            52%     32         GOV  16.47%        NaN        NaN   \n",
       "Actor1TypeGeneral     52%      5         GOV  30.61%        NaN        NaN   \n",
       "Actor2Country         32%     21       Other  10.58%        NaN        NaN   \n",
       "Actor2GeoCountry      58%     21       Other  18.63%        NaN        NaN   \n",
       "Actor2Type            35%     32         GOV  10.15%        NaN        NaN   \n",
       "Actor2TypeGeneral     35%      5         GOV  18.81%        NaN        NaN   \n",
       "ActionCountry         94%     21       Other  29.85%        NaN        NaN   \n",
       "EventType            100%     20     Consult  24.50%        NaN        NaN   \n",
       "QuadClass            100%      4  VerbalCoop  60.38%        NaN        NaN   \n",
       "GoldsteinScale       100%    NaN         NaN    None   0.502059      -10.0   \n",
       "NumSources           100%    NaN         NaN    None   2.297014        1.0   \n",
       "NumArticles          100%    NaN         NaN    None  21.512995       11.0   \n",
       "AvgTone              100%    NaN         NaN    None   -2.15403 -38.709677   \n",
       "\n",
       "                        50%        max  \n",
       "Actor1Country           NaN        NaN  \n",
       "Actor1GeoCountry        NaN        NaN  \n",
       "Actor1Type              NaN        NaN  \n",
       "Actor1TypeGeneral       NaN        NaN  \n",
       "Actor2Country           NaN        NaN  \n",
       "Actor2GeoCountry        NaN        NaN  \n",
       "Actor2Type              NaN        NaN  \n",
       "Actor2TypeGeneral       NaN        NaN  \n",
       "ActionCountry           NaN        NaN  \n",
       "EventType               NaN        NaN  \n",
       "QuadClass               NaN        NaN  \n",
       "GoldsteinScale          1.0       10.0  \n",
       "NumSources              2.0       58.0  \n",
       "NumArticles            20.0      500.0  \n",
       "AvgTone           -1.948052  26.315789  "
      ],
      "text/html": [
       "<div>\n",
       "<style scoped>\n",
       "    .dataframe tbody tr th:only-of-type {\n",
       "        vertical-align: middle;\n",
       "    }\n",
       "\n",
       "    .dataframe tbody tr th {\n",
       "        vertical-align: top;\n",
       "    }\n",
       "\n",
       "    .dataframe thead th {\n",
       "        text-align: right;\n",
       "    }\n",
       "</style>\n",
       "<table border=\"1\" class=\"dataframe\">\n",
       "  <thead>\n",
       "    <tr style=\"text-align: right;\">\n",
       "      <th></th>\n",
       "      <th>present</th>\n",
       "      <th>unique</th>\n",
       "      <th>top</th>\n",
       "      <th>share</th>\n",
       "      <th>mean</th>\n",
       "      <th>min</th>\n",
       "      <th>50%</th>\n",
       "      <th>max</th>\n",
       "    </tr>\n",
       "  </thead>\n",
       "  <tbody>\n",
       "    <tr>\n",
       "      <th>Actor1Country</th>\n",
       "      <td>44%</td>\n",
       "      <td>21</td>\n",
       "      <td>Other</td>\n",
       "      <td>13.97%</td>\n",
       "      <td>NaN</td>\n",
       "      <td>NaN</td>\n",
       "      <td>NaN</td>\n",
       "      <td>NaN</td>\n",
       "    </tr>\n",
       "    <tr>\n",
       "      <th>Actor1GeoCountry</th>\n",
       "      <td>83%</td>\n",
       "      <td>21</td>\n",
       "      <td>Other</td>\n",
       "      <td>26.21%</td>\n",
       "      <td>NaN</td>\n",
       "      <td>NaN</td>\n",
       "      <td>NaN</td>\n",
       "      <td>NaN</td>\n",
       "    </tr>\n",
       "    <tr>\n",
       "      <th>Actor1Type</th>\n",
       "      <td>52%</td>\n",
       "      <td>32</td>\n",
       "      <td>GOV</td>\n",
       "      <td>16.47%</td>\n",
       "      <td>NaN</td>\n",
       "      <td>NaN</td>\n",
       "      <td>NaN</td>\n",
       "      <td>NaN</td>\n",
       "    </tr>\n",
       "    <tr>\n",
       "      <th>Actor1TypeGeneral</th>\n",
       "      <td>52%</td>\n",
       "      <td>5</td>\n",
       "      <td>GOV</td>\n",
       "      <td>30.61%</td>\n",
       "      <td>NaN</td>\n",
       "      <td>NaN</td>\n",
       "      <td>NaN</td>\n",
       "      <td>NaN</td>\n",
       "    </tr>\n",
       "    <tr>\n",
       "      <th>Actor2Country</th>\n",
       "      <td>32%</td>\n",
       "      <td>21</td>\n",
       "      <td>Other</td>\n",
       "      <td>10.58%</td>\n",
       "      <td>NaN</td>\n",
       "      <td>NaN</td>\n",
       "      <td>NaN</td>\n",
       "      <td>NaN</td>\n",
       "    </tr>\n",
       "    <tr>\n",
       "      <th>Actor2GeoCountry</th>\n",
       "      <td>58%</td>\n",
       "      <td>21</td>\n",
       "      <td>Other</td>\n",
       "      <td>18.63%</td>\n",
       "      <td>NaN</td>\n",
       "      <td>NaN</td>\n",
       "      <td>NaN</td>\n",
       "      <td>NaN</td>\n",
       "    </tr>\n",
       "    <tr>\n",
       "      <th>Actor2Type</th>\n",
       "      <td>35%</td>\n",
       "      <td>32</td>\n",
       "      <td>GOV</td>\n",
       "      <td>10.15%</td>\n",
       "      <td>NaN</td>\n",
       "      <td>NaN</td>\n",
       "      <td>NaN</td>\n",
       "      <td>NaN</td>\n",
       "    </tr>\n",
       "    <tr>\n",
       "      <th>Actor2TypeGeneral</th>\n",
       "      <td>35%</td>\n",
       "      <td>5</td>\n",
       "      <td>GOV</td>\n",
       "      <td>18.81%</td>\n",
       "      <td>NaN</td>\n",
       "      <td>NaN</td>\n",
       "      <td>NaN</td>\n",
       "      <td>NaN</td>\n",
       "    </tr>\n",
       "    <tr>\n",
       "      <th>ActionCountry</th>\n",
       "      <td>94%</td>\n",
       "      <td>21</td>\n",
       "      <td>Other</td>\n",
       "      <td>29.85%</td>\n",
       "      <td>NaN</td>\n",
       "      <td>NaN</td>\n",
       "      <td>NaN</td>\n",
       "      <td>NaN</td>\n",
       "    </tr>\n",
       "    <tr>\n",
       "      <th>EventType</th>\n",
       "      <td>100%</td>\n",
       "      <td>20</td>\n",
       "      <td>Consult</td>\n",
       "      <td>24.50%</td>\n",
       "      <td>NaN</td>\n",
       "      <td>NaN</td>\n",
       "      <td>NaN</td>\n",
       "      <td>NaN</td>\n",
       "    </tr>\n",
       "    <tr>\n",
       "      <th>QuadClass</th>\n",
       "      <td>100%</td>\n",
       "      <td>4</td>\n",
       "      <td>VerbalCoop</td>\n",
       "      <td>60.38%</td>\n",
       "      <td>NaN</td>\n",
       "      <td>NaN</td>\n",
       "      <td>NaN</td>\n",
       "      <td>NaN</td>\n",
       "    </tr>\n",
       "    <tr>\n",
       "      <th>GoldsteinScale</th>\n",
       "      <td>100%</td>\n",
       "      <td>NaN</td>\n",
       "      <td>NaN</td>\n",
       "      <td>None</td>\n",
       "      <td>0.502059</td>\n",
       "      <td>-10.0</td>\n",
       "      <td>1.0</td>\n",
       "      <td>10.0</td>\n",
       "    </tr>\n",
       "    <tr>\n",
       "      <th>NumSources</th>\n",
       "      <td>100%</td>\n",
       "      <td>NaN</td>\n",
       "      <td>NaN</td>\n",
       "      <td>None</td>\n",
       "      <td>2.297014</td>\n",
       "      <td>1.0</td>\n",
       "      <td>2.0</td>\n",
       "      <td>58.0</td>\n",
       "    </tr>\n",
       "    <tr>\n",
       "      <th>NumArticles</th>\n",
       "      <td>100%</td>\n",
       "      <td>NaN</td>\n",
       "      <td>NaN</td>\n",
       "      <td>None</td>\n",
       "      <td>21.512995</td>\n",
       "      <td>11.0</td>\n",
       "      <td>20.0</td>\n",
       "      <td>500.0</td>\n",
       "    </tr>\n",
       "    <tr>\n",
       "      <th>AvgTone</th>\n",
       "      <td>100%</td>\n",
       "      <td>NaN</td>\n",
       "      <td>NaN</td>\n",
       "      <td>None</td>\n",
       "      <td>-2.15403</td>\n",
       "      <td>-38.709677</td>\n",
       "      <td>-1.948052</td>\n",
       "      <td>26.315789</td>\n",
       "    </tr>\n",
       "  </tbody>\n",
       "</table>\n",
       "</div>"
      ]
     },
     "execution_count": 156,
     "metadata": {},
     "output_type": "execute_result"
    }
   ],
   "execution_count": 156
  },
  {
   "metadata": {
    "ExecuteTime": {
     "end_time": "2024-12-04T09:33:17.020249Z",
     "start_time": "2024-12-04T09:33:17.012749Z"
    }
   },
   "cell_type": "code",
   "source": "gdelt.head()",
   "id": "dfa9e9087c97bec8",
   "outputs": [
    {
     "data": {
      "text/plain": [
       "        Date   Timestamp Actor1Country Actor1GeoCountry Actor1Type  \\\n",
       "0 2019-01-01  1546300800           NaN              NaN        CVL   \n",
       "1 2019-01-01  1546300800         Other               US        NaN   \n",
       "2 2019-01-01  1546300800           NaN               US        GOV   \n",
       "3 2019-01-01  1546300800           RUS               RS        NaN   \n",
       "4 2019-01-01  1546300800           USA               US        NaN   \n",
       "\n",
       "  Actor1TypeGeneral Actor2Country Actor2GeoCountry Actor2Type  \\\n",
       "0             Other           NaN              NaN        NaN   \n",
       "1               NaN           USA               US        NaN   \n",
       "2               GOV           NaN               US        GOV   \n",
       "3               NaN           NaN               RS        GOV   \n",
       "4               NaN           NaN              NaN        NaN   \n",
       "\n",
       "  Actor2TypeGeneral ActionCountry      EventType     QuadClass  \\\n",
       "0               NaN           NaN    Diplom Coop    VerbalCoop   \n",
       "1               NaN            US          Fight  MaterialConf   \n",
       "2               GOV            US         Appeal    VerbalCoop   \n",
       "3               GOV            RS  Material Coop  MaterialCoop   \n",
       "4               NaN            US         Appeal    VerbalCoop   \n",
       "\n",
       "   GoldsteinScale  NumSources  NumArticles   AvgTone  \\\n",
       "0             3.4           4           50  2.354384   \n",
       "1           -10.0           2           12 -4.195804   \n",
       "2             3.2          10           20  1.734061   \n",
       "3             6.0           3           30 -0.427182   \n",
       "4             3.0           8           23 -1.376241   \n",
       "\n",
       "                                              Source  \n",
       "0  https://telegrafi.com/ne-shenj-proteste-labino...  \n",
       "1  http://www.wgow.com/news/manhunt-on-in-texas-f...  \n",
       "2  https://hanfordsentinel.com/news/national/govt...  \n",
       "3  http://www.gp.se/nyheter/v%C3%A4rlden/sju-d%C3...  \n",
       "4  http://www.790wpic.com/news/a-familys-whirlpoo...  "
      ],
      "text/html": [
       "<div>\n",
       "<style scoped>\n",
       "    .dataframe tbody tr th:only-of-type {\n",
       "        vertical-align: middle;\n",
       "    }\n",
       "\n",
       "    .dataframe tbody tr th {\n",
       "        vertical-align: top;\n",
       "    }\n",
       "\n",
       "    .dataframe thead th {\n",
       "        text-align: right;\n",
       "    }\n",
       "</style>\n",
       "<table border=\"1\" class=\"dataframe\">\n",
       "  <thead>\n",
       "    <tr style=\"text-align: right;\">\n",
       "      <th></th>\n",
       "      <th>Date</th>\n",
       "      <th>Timestamp</th>\n",
       "      <th>Actor1Country</th>\n",
       "      <th>Actor1GeoCountry</th>\n",
       "      <th>Actor1Type</th>\n",
       "      <th>Actor1TypeGeneral</th>\n",
       "      <th>Actor2Country</th>\n",
       "      <th>Actor2GeoCountry</th>\n",
       "      <th>Actor2Type</th>\n",
       "      <th>Actor2TypeGeneral</th>\n",
       "      <th>ActionCountry</th>\n",
       "      <th>EventType</th>\n",
       "      <th>QuadClass</th>\n",
       "      <th>GoldsteinScale</th>\n",
       "      <th>NumSources</th>\n",
       "      <th>NumArticles</th>\n",
       "      <th>AvgTone</th>\n",
       "      <th>Source</th>\n",
       "    </tr>\n",
       "  </thead>\n",
       "  <tbody>\n",
       "    <tr>\n",
       "      <th>0</th>\n",
       "      <td>2019-01-01</td>\n",
       "      <td>1546300800</td>\n",
       "      <td>NaN</td>\n",
       "      <td>NaN</td>\n",
       "      <td>CVL</td>\n",
       "      <td>Other</td>\n",
       "      <td>NaN</td>\n",
       "      <td>NaN</td>\n",
       "      <td>NaN</td>\n",
       "      <td>NaN</td>\n",
       "      <td>NaN</td>\n",
       "      <td>Diplom Coop</td>\n",
       "      <td>VerbalCoop</td>\n",
       "      <td>3.4</td>\n",
       "      <td>4</td>\n",
       "      <td>50</td>\n",
       "      <td>2.354384</td>\n",
       "      <td>https://telegrafi.com/ne-shenj-proteste-labino...</td>\n",
       "    </tr>\n",
       "    <tr>\n",
       "      <th>1</th>\n",
       "      <td>2019-01-01</td>\n",
       "      <td>1546300800</td>\n",
       "      <td>Other</td>\n",
       "      <td>US</td>\n",
       "      <td>NaN</td>\n",
       "      <td>NaN</td>\n",
       "      <td>USA</td>\n",
       "      <td>US</td>\n",
       "      <td>NaN</td>\n",
       "      <td>NaN</td>\n",
       "      <td>US</td>\n",
       "      <td>Fight</td>\n",
       "      <td>MaterialConf</td>\n",
       "      <td>-10.0</td>\n",
       "      <td>2</td>\n",
       "      <td>12</td>\n",
       "      <td>-4.195804</td>\n",
       "      <td>http://www.wgow.com/news/manhunt-on-in-texas-f...</td>\n",
       "    </tr>\n",
       "    <tr>\n",
       "      <th>2</th>\n",
       "      <td>2019-01-01</td>\n",
       "      <td>1546300800</td>\n",
       "      <td>NaN</td>\n",
       "      <td>US</td>\n",
       "      <td>GOV</td>\n",
       "      <td>GOV</td>\n",
       "      <td>NaN</td>\n",
       "      <td>US</td>\n",
       "      <td>GOV</td>\n",
       "      <td>GOV</td>\n",
       "      <td>US</td>\n",
       "      <td>Appeal</td>\n",
       "      <td>VerbalCoop</td>\n",
       "      <td>3.2</td>\n",
       "      <td>10</td>\n",
       "      <td>20</td>\n",
       "      <td>1.734061</td>\n",
       "      <td>https://hanfordsentinel.com/news/national/govt...</td>\n",
       "    </tr>\n",
       "    <tr>\n",
       "      <th>3</th>\n",
       "      <td>2019-01-01</td>\n",
       "      <td>1546300800</td>\n",
       "      <td>RUS</td>\n",
       "      <td>RS</td>\n",
       "      <td>NaN</td>\n",
       "      <td>NaN</td>\n",
       "      <td>NaN</td>\n",
       "      <td>RS</td>\n",
       "      <td>GOV</td>\n",
       "      <td>GOV</td>\n",
       "      <td>RS</td>\n",
       "      <td>Material Coop</td>\n",
       "      <td>MaterialCoop</td>\n",
       "      <td>6.0</td>\n",
       "      <td>3</td>\n",
       "      <td>30</td>\n",
       "      <td>-0.427182</td>\n",
       "      <td>http://www.gp.se/nyheter/v%C3%A4rlden/sju-d%C3...</td>\n",
       "    </tr>\n",
       "    <tr>\n",
       "      <th>4</th>\n",
       "      <td>2019-01-01</td>\n",
       "      <td>1546300800</td>\n",
       "      <td>USA</td>\n",
       "      <td>US</td>\n",
       "      <td>NaN</td>\n",
       "      <td>NaN</td>\n",
       "      <td>NaN</td>\n",
       "      <td>NaN</td>\n",
       "      <td>NaN</td>\n",
       "      <td>NaN</td>\n",
       "      <td>US</td>\n",
       "      <td>Appeal</td>\n",
       "      <td>VerbalCoop</td>\n",
       "      <td>3.0</td>\n",
       "      <td>8</td>\n",
       "      <td>23</td>\n",
       "      <td>-1.376241</td>\n",
       "      <td>http://www.790wpic.com/news/a-familys-whirlpoo...</td>\n",
       "    </tr>\n",
       "  </tbody>\n",
       "</table>\n",
       "</div>"
      ]
     },
     "execution_count": 157,
     "metadata": {},
     "output_type": "execute_result"
    }
   ],
   "execution_count": 157
  },
  {
   "metadata": {
    "ExecuteTime": {
     "end_time": "2024-12-04T09:33:25.734438Z",
     "start_time": "2024-12-04T09:33:17.192920Z"
    }
   },
   "cell_type": "code",
   "source": [
    "# save cleaned gdelt\n",
    "gdelt.to_parquet('../cache/gdelt_cleaned.parquet')"
   ],
   "id": "106714198236f2ad",
   "outputs": [],
   "execution_count": 158
  }
 ],
 "metadata": {
  "kernelspec": {
   "display_name": "Python 3",
   "language": "python",
   "name": "python3"
  },
  "language_info": {
   "codemirror_mode": {
    "name": "ipython",
    "version": 2
   },
   "file_extension": ".py",
   "mimetype": "text/x-python",
   "name": "python",
   "nbconvert_exporter": "python",
   "pygments_lexer": "ipython2",
   "version": "2.7.6"
  }
 },
 "nbformat": 4,
 "nbformat_minor": 5
}
