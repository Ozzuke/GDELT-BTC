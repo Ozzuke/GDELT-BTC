{
 "cells": [
  {
   "metadata": {
    "ExecuteTime": {
     "end_time": "2024-12-12T19:39:47.795223Z",
     "start_time": "2024-12-12T19:39:44.880680Z"
    }
   },
   "cell_type": "code",
   "source": "import pandas as pd",
   "id": "81e5560f1137a0cc",
   "outputs": [],
   "execution_count": 1
  },
  {
   "cell_type": "code",
   "id": "initial_id",
   "metadata": {
    "collapsed": true,
    "ExecuteTime": {
     "end_time": "2024-12-12T19:39:55.124741Z",
     "start_time": "2024-12-12T19:39:47.837848Z"
    }
   },
   "source": "gdelt = pd.read_parquet('../cache/gdelt.parquet')",
   "outputs": [],
   "execution_count": 2
  },
  {
   "metadata": {
    "ExecuteTime": {
     "end_time": "2024-12-12T19:39:55.316654Z",
     "start_time": "2024-12-12T19:39:55.279545Z"
    }
   },
   "cell_type": "code",
   "source": "gdelt.head()",
   "id": "5fdbd6ca310c27a9",
   "outputs": [
    {
     "data": {
      "text/plain": [
       "        Date Actor1Country Actor1GeoCountry Actor1Type Actor2Country  \\\n",
       "0 2019-01-01          None             None        CVL          None   \n",
       "1 2019-01-01           MDV               US       None           USA   \n",
       "2 2019-01-01          None               US        GOV          None   \n",
       "3 2019-01-01           RUS               RS       None          None   \n",
       "4 2019-01-01           USA               US       None          None   \n",
       "\n",
       "  Actor2GeoCountry Actor2Type ActionCountry EventRootCode  QuadClass  \\\n",
       "0             None       None          None            05          1   \n",
       "1               US       None            US            19          4   \n",
       "2               US        GOV            US            02          1   \n",
       "3               RS        GOV            RS            06          2   \n",
       "4             None       None            US            02          1   \n",
       "\n",
       "   GoldsteinScale  NumSources  NumArticles   AvgTone  \\\n",
       "0             3.4           4           50  2.354384   \n",
       "1           -10.0           2           12 -4.195804   \n",
       "2             3.2          10           20  1.734061   \n",
       "3             6.0           3           30 -0.427182   \n",
       "4             3.0           8           23 -1.376241   \n",
       "\n",
       "                                              Source  \n",
       "0  https://telegrafi.com/ne-shenj-proteste-labino...  \n",
       "1  http://www.wgow.com/news/manhunt-on-in-texas-f...  \n",
       "2  https://hanfordsentinel.com/news/national/govt...  \n",
       "3  http://www.gp.se/nyheter/v%C3%A4rlden/sju-d%C3...  \n",
       "4  http://www.790wpic.com/news/a-familys-whirlpoo...  "
      ],
      "text/html": [
       "<div>\n",
       "<style scoped>\n",
       "    .dataframe tbody tr th:only-of-type {\n",
       "        vertical-align: middle;\n",
       "    }\n",
       "\n",
       "    .dataframe tbody tr th {\n",
       "        vertical-align: top;\n",
       "    }\n",
       "\n",
       "    .dataframe thead th {\n",
       "        text-align: right;\n",
       "    }\n",
       "</style>\n",
       "<table border=\"1\" class=\"dataframe\">\n",
       "  <thead>\n",
       "    <tr style=\"text-align: right;\">\n",
       "      <th></th>\n",
       "      <th>Date</th>\n",
       "      <th>Actor1Country</th>\n",
       "      <th>Actor1GeoCountry</th>\n",
       "      <th>Actor1Type</th>\n",
       "      <th>Actor2Country</th>\n",
       "      <th>Actor2GeoCountry</th>\n",
       "      <th>Actor2Type</th>\n",
       "      <th>ActionCountry</th>\n",
       "      <th>EventRootCode</th>\n",
       "      <th>QuadClass</th>\n",
       "      <th>GoldsteinScale</th>\n",
       "      <th>NumSources</th>\n",
       "      <th>NumArticles</th>\n",
       "      <th>AvgTone</th>\n",
       "      <th>Source</th>\n",
       "    </tr>\n",
       "  </thead>\n",
       "  <tbody>\n",
       "    <tr>\n",
       "      <th>0</th>\n",
       "      <td>2019-01-01</td>\n",
       "      <td>None</td>\n",
       "      <td>None</td>\n",
       "      <td>CVL</td>\n",
       "      <td>None</td>\n",
       "      <td>None</td>\n",
       "      <td>None</td>\n",
       "      <td>None</td>\n",
       "      <td>05</td>\n",
       "      <td>1</td>\n",
       "      <td>3.4</td>\n",
       "      <td>4</td>\n",
       "      <td>50</td>\n",
       "      <td>2.354384</td>\n",
       "      <td>https://telegrafi.com/ne-shenj-proteste-labino...</td>\n",
       "    </tr>\n",
       "    <tr>\n",
       "      <th>1</th>\n",
       "      <td>2019-01-01</td>\n",
       "      <td>MDV</td>\n",
       "      <td>US</td>\n",
       "      <td>None</td>\n",
       "      <td>USA</td>\n",
       "      <td>US</td>\n",
       "      <td>None</td>\n",
       "      <td>US</td>\n",
       "      <td>19</td>\n",
       "      <td>4</td>\n",
       "      <td>-10.0</td>\n",
       "      <td>2</td>\n",
       "      <td>12</td>\n",
       "      <td>-4.195804</td>\n",
       "      <td>http://www.wgow.com/news/manhunt-on-in-texas-f...</td>\n",
       "    </tr>\n",
       "    <tr>\n",
       "      <th>2</th>\n",
       "      <td>2019-01-01</td>\n",
       "      <td>None</td>\n",
       "      <td>US</td>\n",
       "      <td>GOV</td>\n",
       "      <td>None</td>\n",
       "      <td>US</td>\n",
       "      <td>GOV</td>\n",
       "      <td>US</td>\n",
       "      <td>02</td>\n",
       "      <td>1</td>\n",
       "      <td>3.2</td>\n",
       "      <td>10</td>\n",
       "      <td>20</td>\n",
       "      <td>1.734061</td>\n",
       "      <td>https://hanfordsentinel.com/news/national/govt...</td>\n",
       "    </tr>\n",
       "    <tr>\n",
       "      <th>3</th>\n",
       "      <td>2019-01-01</td>\n",
       "      <td>RUS</td>\n",
       "      <td>RS</td>\n",
       "      <td>None</td>\n",
       "      <td>None</td>\n",
       "      <td>RS</td>\n",
       "      <td>GOV</td>\n",
       "      <td>RS</td>\n",
       "      <td>06</td>\n",
       "      <td>2</td>\n",
       "      <td>6.0</td>\n",
       "      <td>3</td>\n",
       "      <td>30</td>\n",
       "      <td>-0.427182</td>\n",
       "      <td>http://www.gp.se/nyheter/v%C3%A4rlden/sju-d%C3...</td>\n",
       "    </tr>\n",
       "    <tr>\n",
       "      <th>4</th>\n",
       "      <td>2019-01-01</td>\n",
       "      <td>USA</td>\n",
       "      <td>US</td>\n",
       "      <td>None</td>\n",
       "      <td>None</td>\n",
       "      <td>None</td>\n",
       "      <td>None</td>\n",
       "      <td>US</td>\n",
       "      <td>02</td>\n",
       "      <td>1</td>\n",
       "      <td>3.0</td>\n",
       "      <td>8</td>\n",
       "      <td>23</td>\n",
       "      <td>-1.376241</td>\n",
       "      <td>http://www.790wpic.com/news/a-familys-whirlpoo...</td>\n",
       "    </tr>\n",
       "  </tbody>\n",
       "</table>\n",
       "</div>"
      ]
     },
     "execution_count": 3,
     "metadata": {},
     "output_type": "execute_result"
    }
   ],
   "execution_count": 3
  },
  {
   "metadata": {
    "ExecuteTime": {
     "end_time": "2024-12-12T19:39:55.533839Z",
     "start_time": "2024-12-12T19:39:55.514815Z"
    }
   },
   "cell_type": "code",
   "source": "gdelt.columns",
   "id": "5f0832c36f198e39",
   "outputs": [
    {
     "data": {
      "text/plain": [
       "Index(['Date', 'Actor1Country', 'Actor1GeoCountry', 'Actor1Type',\n",
       "       'Actor2Country', 'Actor2GeoCountry', 'Actor2Type', 'ActionCountry',\n",
       "       'EventRootCode', 'QuadClass', 'GoldsteinScale', 'NumSources',\n",
       "       'NumArticles', 'AvgTone', 'Source'],\n",
       "      dtype='object')"
      ]
     },
     "execution_count": 4,
     "metadata": {},
     "output_type": "execute_result"
    }
   ],
   "execution_count": 4
  },
  {
   "metadata": {
    "ExecuteTime": {
     "end_time": "2024-12-12T19:39:55.908702Z",
     "start_time": "2024-12-12T19:39:55.880860Z"
    }
   },
   "cell_type": "code",
   "source": [
    "# convert categorical columns to category type\n",
    "# gdelt.Actor1Country = gdelt.Actor1Country.astype('category')\n",
    "# gdelt.Actor1GeoCountry = gdelt.Actor1GeoCountry.astype('category')\n",
    "# gdelt.Actor1Type = gdelt.Actor1Type.astype('category')\n",
    "# gdelt.Actor2Country = gdelt.Actor2Country.astype('category')\n",
    "# gdelt.Actor2GeoCountry = gdelt.Actor2GeoCountry.astype('category')\n",
    "# gdelt.Actor2Type = gdelt.Actor2Type.astype('category')\n",
    "# gdelt.ActionCountry = gdelt.ActionCountry.astype('category')\n",
    "# gdelt.EventRootCode = gdelt.EventRootCode.astype('category')\n",
    "# gdelt.QuadClass = gdelt.QuadClass.astype('category')"
   ],
   "id": "cece144ee5e03fb9",
   "outputs": [],
   "execution_count": 5
  },
  {
   "metadata": {
    "ExecuteTime": {
     "end_time": "2024-12-12T19:39:56.327864Z",
     "start_time": "2024-12-12T19:39:56.248347Z"
    }
   },
   "cell_type": "code",
   "source": [
    "# datetime to unix timestamp\n",
    "gdelt['Timestamp'] = gdelt.Date.astype('int64') // 10**9"
   ],
   "id": "1a3f295ad6ed73b0",
   "outputs": [],
   "execution_count": 6
  },
  {
   "metadata": {
    "ExecuteTime": {
     "end_time": "2024-12-12T19:39:56.658923Z",
     "start_time": "2024-12-12T19:39:56.638827Z"
    }
   },
   "cell_type": "code",
   "source": "gdelt.dtypes",
   "id": "d038471d6b6812fe",
   "outputs": [
    {
     "data": {
      "text/plain": [
       "Date                datetime64[ns]\n",
       "Actor1Country               object\n",
       "Actor1GeoCountry            object\n",
       "Actor1Type                  object\n",
       "Actor2Country               object\n",
       "Actor2GeoCountry            object\n",
       "Actor2Type                  object\n",
       "ActionCountry               object\n",
       "EventRootCode               object\n",
       "QuadClass                    int64\n",
       "GoldsteinScale             float64\n",
       "NumSources                   int64\n",
       "NumArticles                  int64\n",
       "AvgTone                    float64\n",
       "Source                      object\n",
       "Timestamp                    int64\n",
       "dtype: object"
      ]
     },
     "execution_count": 7,
     "metadata": {},
     "output_type": "execute_result"
    }
   ],
   "execution_count": 7
  },
  {
   "metadata": {
    "ExecuteTime": {
     "end_time": "2024-12-12T19:39:56.991521Z",
     "start_time": "2024-12-12T19:39:56.825688Z"
    }
   },
   "cell_type": "code",
   "source": [
    "# replace quadclass nums with meaningful names\n",
    "gdelt['QuadClass'] = gdelt['QuadClass'].map({\n",
    "    1: 'VerbalCoop', \n",
    "    2: 'MaterialCoop', \n",
    "    3: 'VerbalConf', \n",
    "    4: 'MaterialConf'\n",
    "})"
   ],
   "id": "31ef236f5d77bdb1",
   "outputs": [],
   "execution_count": 8
  },
  {
   "metadata": {
    "ExecuteTime": {
     "end_time": "2024-12-12T19:40:04.283241Z",
     "start_time": "2024-12-12T19:39:57.114291Z"
    }
   },
   "cell_type": "code",
   "source": [
    "# replace event root code nums with meaningful names and rename to EventType\n",
    "\n",
    "# first convert to numeric\n",
    "gdelt['EventRootCode'] = pd.to_numeric(gdelt['EventRootCode'], errors='coerce')\n",
    "gdelt['EventRootCode'] = gdelt['EventRootCode'].map({\n",
    "    1: 'Statement',\n",
    "    2: 'Appeal',\n",
    "    3: 'Intent to Coop',\n",
    "    4: 'Consult',\n",
    "    5: 'Diplom Coop',\n",
    "    6: 'Material Coop',\n",
    "    7: 'Aid',\n",
    "    8: 'Yield',\n",
    "    9: 'Investigate',\n",
    "    10: 'Demand',\n",
    "    11: 'Disapprove',\n",
    "    12: 'Reject',\n",
    "    13: 'Threaten',\n",
    "    14: 'Protest',\n",
    "    15: 'Demonstrate Force',\n",
    "    16: 'Reduce Relations',\n",
    "    17: 'Coerce',\n",
    "    18: 'Assault',\n",
    "    19: 'Fight',\n",
    "    20: 'Mass Violence'\n",
    "})\n",
    "gdelt.rename(columns={'EventRootCode': 'EventType'}, inplace=True)\n",
    "\n",
    "# convert back to category\n",
    "# gdelt.EventType = gdelt.EventType.astype('category')"
   ],
   "id": "24ad8be02b6fa0d7",
   "outputs": [],
   "execution_count": 9
  },
  {
   "metadata": {
    "ExecuteTime": {
     "end_time": "2024-12-12T19:40:04.738763Z",
     "start_time": "2024-12-12T19:40:04.302658Z"
    }
   },
   "cell_type": "code",
   "source": [
    "# there are 3 NaN values in EventType, so we can drop them\n",
    "gdelt['EventType'].value_counts(dropna=False)[::-1]"
   ],
   "id": "7ae890fe00216f9d",
   "outputs": [
    {
     "data": {
      "text/plain": [
       "EventType\n",
       "NaN                        3\n",
       "Mass Violence           1609\n",
       "Demonstrate Force      20461\n",
       "Protest                59635\n",
       "Reduce Relations       60881\n",
       "Demand                 69028\n",
       "Threaten               80823\n",
       "Assault                81196\n",
       "Material Coop         106830\n",
       "Investigate           136693\n",
       "Reject                146954\n",
       "Aid                   174983\n",
       "Yield                 202861\n",
       "Coerce                255777\n",
       "Disapprove            305588\n",
       "Fight                 345688\n",
       "Intent to Coop        368722\n",
       "Appeal                418795\n",
       "Diplom Coop           419667\n",
       "Statement             648289\n",
       "Consult              1267084\n",
       "Name: count, dtype: int64"
      ]
     },
     "execution_count": 10,
     "metadata": {},
     "output_type": "execute_result"
    }
   ],
   "execution_count": 10
  },
  {
   "metadata": {
    "ExecuteTime": {
     "end_time": "2024-12-12T19:40:09.558537Z",
     "start_time": "2024-12-12T19:40:04.896767Z"
    }
   },
   "cell_type": "code",
   "source": "gdelt.dropna(subset=['EventType'], inplace=True)",
   "id": "28a8a213ff370110",
   "outputs": [],
   "execution_count": 11
  },
  {
   "metadata": {
    "ExecuteTime": {
     "end_time": "2024-12-12T19:40:09.660721Z",
     "start_time": "2024-12-12T19:40:09.643097Z"
    }
   },
   "cell_type": "code",
   "source": [
    "# generalize actor types\n",
    "actor_types = {\n",
    "    'GOV': ['GOV', 'COP', 'MIL', 'JUD', 'SPY', 'ELI', 'LEG'],\n",
    "    'Opposition': ['OPP', 'INS', 'REB', 'SEP', 'CRM'],\n",
    "    'Business': ['BUS', 'AGR', 'DEV', 'LAB'],\n",
    "    'Benevolent': ['EDU', 'MED', 'HRI', 'HLH', 'ENV'],\n",
    "}\n",
    "\n",
    "def generalize_actor_type(actor_type):\n",
    "    for k, v in actor_types.items():\n",
    "        if actor_type in v:\n",
    "            return k\n",
    "    return 'Other'"
   ],
   "id": "65ec04396f55544d",
   "outputs": [],
   "execution_count": 12
  },
  {
   "metadata": {
    "ExecuteTime": {
     "end_time": "2024-12-12T19:40:24.568176Z",
     "start_time": "2024-12-12T19:40:09.731343Z"
    }
   },
   "cell_type": "code",
   "source": [
    "gdelt['Actor1TypeGeneral'] = gdelt['Actor1Type'].apply(generalize_actor_type)\n",
    "gdelt['Actor2TypeGeneral'] = gdelt['Actor2Type'].apply(generalize_actor_type)"
   ],
   "id": "67a05d8b077628cd",
   "outputs": [],
   "execution_count": 13
  },
  {
   "metadata": {
    "ExecuteTime": {
     "end_time": "2024-12-12T19:40:24.991816Z",
     "start_time": "2024-12-12T19:40:24.602608Z"
    }
   },
   "cell_type": "code",
   "source": "gdelt['Actor1TypeGeneral'].value_counts()",
   "id": "7624fc94625ab1ba",
   "outputs": [
    {
     "data": {
      "text/plain": [
       "Actor1TypeGeneral\n",
       "Other         2832782\n",
       "GOV           1582931\n",
       "Benevolent     338947\n",
       "Business       291860\n",
       "Opposition     125044\n",
       "Name: count, dtype: int64"
      ]
     },
     "execution_count": 14,
     "metadata": {},
     "output_type": "execute_result"
    }
   ],
   "execution_count": 14
  },
  {
   "metadata": {
    "ExecuteTime": {
     "end_time": "2024-12-12T19:40:25.562972Z",
     "start_time": "2024-12-12T19:40:25.078470Z"
    }
   },
   "cell_type": "code",
   "source": "gdelt['Actor2TypeGeneral'].value_counts()",
   "id": "2dd8db26489bfa",
   "outputs": [
    {
     "data": {
      "text/plain": [
       "Actor2TypeGeneral\n",
       "Other         3635366\n",
       "GOV            972947\n",
       "Benevolent     258098\n",
       "Business       205176\n",
       "Opposition      99977\n",
       "Name: count, dtype: int64"
      ]
     },
     "execution_count": 15,
     "metadata": {},
     "output_type": "execute_result"
    }
   ],
   "execution_count": 15
  },
  {
   "metadata": {
    "ExecuteTime": {
     "end_time": "2024-12-12T19:40:25.728898Z",
     "start_time": "2024-12-12T19:40:25.677210Z"
    }
   },
   "cell_type": "code",
   "source": [
    "# we can see that GoldsteinScale has 23 NaN values\n",
    "# this is a very small number, so we can drop them\n",
    "gdelt[gdelt['GoldsteinScale'].isna()].__len__()"
   ],
   "id": "fdaf4826180bb939",
   "outputs": [
    {
     "data": {
      "text/plain": [
       "23"
      ]
     },
     "execution_count": 16,
     "metadata": {},
     "output_type": "execute_result"
    }
   ],
   "execution_count": 16
  },
  {
   "metadata": {
    "ExecuteTime": {
     "end_time": "2024-12-12T19:40:30.499352Z",
     "start_time": "2024-12-12T19:40:26.024909Z"
    }
   },
   "cell_type": "code",
   "source": "gdelt.dropna(subset=['GoldsteinScale'], inplace=True)",
   "id": "bafcebe8a526cfb6",
   "outputs": [],
   "execution_count": 17
  },
  {
   "metadata": {
    "ExecuteTime": {
     "end_time": "2024-12-12T19:40:30.601068Z",
     "start_time": "2024-12-12T19:40:30.590007Z"
    }
   },
   "cell_type": "code",
   "source": [
    "# # replace countries not in the top 20 with 'Other'\n",
    "# top_countries = gdelt['Actor1Country'].value_counts().head(20).index\n",
    "# gdelt['Actor1Country'] = gdelt['Actor1Country'].apply(lambda x: x if x in top_countries else 'Other')\n",
    "# gdelt['Actor2Country'] = gdelt['Actor2Country'].apply(lambda x: x if x in top_countries else 'Other')"
   ],
   "id": "25f56fbc71679ee6",
   "outputs": [],
   "execution_count": 18
  },
  {
   "metadata": {
    "ExecuteTime": {
     "end_time": "2024-12-12T19:40:30.643331Z",
     "start_time": "2024-12-12T19:40:30.639734Z"
    }
   },
   "cell_type": "code",
   "source": [
    "# # replace geo countries not in the top 20 with 'Other'\n",
    "# top_geo_countries = gdelt['Actor1GeoCountry'].value_counts().head(20).index\n",
    "# gdelt['Actor1GeoCountry'] = gdelt['Actor1GeoCountry'].apply(lambda x: x if x in top_geo_countries else 'Other')\n",
    "# gdelt['Actor2GeoCountry'] = gdelt['Actor2GeoCountry'].apply(lambda x: x if x in top_geo_countries else 'Other')"
   ],
   "id": "412df04e998cf631",
   "outputs": [],
   "execution_count": 19
  },
  {
   "metadata": {
    "ExecuteTime": {
     "end_time": "2024-12-12T19:40:30.727086Z",
     "start_time": "2024-12-12T19:40:30.722014Z"
    }
   },
   "cell_type": "code",
   "source": [
    "# # replace action countries not in the top 20 with 'Other'\n",
    "# top_action_countries = gdelt['ActionCountry'].value_counts().head(20).index\n",
    "# gdelt['ActionCountry'] = gdelt['ActionCountry'].apply(lambda x: x if x in top_action_countries else 'Other')"
   ],
   "id": "d089f57cfffb9c4d",
   "outputs": [],
   "execution_count": 20
  },
  {
   "metadata": {
    "ExecuteTime": {
     "end_time": "2024-12-12T19:40:30.827141Z",
     "start_time": "2024-12-12T19:40:30.770725Z"
    }
   },
   "cell_type": "code",
   "source": "gdelt[gdelt.NumArticles > 500].shape[0]",
   "id": "5bec2ca774e77b79",
   "outputs": [
    {
     "data": {
      "text/plain": [
       "99"
      ]
     },
     "execution_count": 21,
     "metadata": {},
     "output_type": "execute_result"
    }
   ],
   "execution_count": 21
  },
  {
   "metadata": {},
   "cell_type": "markdown",
   "source": "There are only 99 events with more than 500 articles, so we can cap the number of articles at 500 to avoid outliers.",
   "id": "de2566569f2cb11"
  },
  {
   "metadata": {
    "ExecuteTime": {
     "end_time": "2024-12-12T19:40:30.973269Z",
     "start_time": "2024-12-12T19:40:30.908507Z"
    }
   },
   "cell_type": "code",
   "source": [
    "# cap number of articles at 500\n",
    "gdelt['NumArticles'] = gdelt['NumArticles'].clip(upper=500)"
   ],
   "id": "b6956516fcc8f391",
   "outputs": [],
   "execution_count": 22
  },
  {
   "metadata": {
    "ExecuteTime": {
     "end_time": "2024-12-12T19:40:34.097149Z",
     "start_time": "2024-12-12T19:40:30.990528Z"
    }
   },
   "cell_type": "code",
   "source": [
    "# reorder columns\n",
    "gdelt = gdelt[['Date', 'Timestamp',  # Date\n",
    "    'Actor1Country', 'Actor1GeoCountry', 'Actor1Type', 'Actor1TypeGeneral',  # Actor1\n",
    "    'Actor2Country', 'Actor2GeoCountry', 'Actor2Type', 'Actor2TypeGeneral',  # Actor2\n",
    "    'ActionCountry', 'EventType', 'QuadClass', 'GoldsteinScale',  # Event\n",
    "    'NumSources', 'NumArticles', 'AvgTone', 'Source']]  # Reaction"
   ],
   "id": "30d8a6160d0cf50",
   "outputs": [],
   "execution_count": 23
  },
  {
   "metadata": {
    "ExecuteTime": {
     "end_time": "2024-12-12T19:41:07.352019Z",
     "start_time": "2024-12-12T19:40:34.225429Z"
    }
   },
   "cell_type": "code",
   "source": [
    "from funcs.advanced_describe import advanced_describe\n",
    "\n",
    "advanced_describe(gdelt, drop_cols=['Date', 'Timestamp', 'Source'])"
   ],
   "id": "ecd18f7853fd5aeb",
   "outputs": [
    {
     "data": {
      "text/plain": [
       "                       count unique         top     freq       mean  \\\n",
       "Actor1Country        2321230    218         USA   497531        NaN   \n",
       "Actor1GeoCountry     4303791    247          US   863494        NaN   \n",
       "Actor1Type           2703561     32         GOV   851770        NaN   \n",
       "Actor1TypeGeneral    5171541      5       Other  2832769        NaN   \n",
       "Actor2Country        1693312    218         USA   321260        NaN   \n",
       "Actor2GeoCountry     3040951    247          US   593587        NaN   \n",
       "Actor2Type           1829951     32         GOV   525056        NaN   \n",
       "Actor2TypeGeneral    5171541      5       Other  3635346        NaN   \n",
       "ActionCountry        4861692    249          US   971085        NaN   \n",
       "EventType            5171541     20     Consult  1267084        NaN   \n",
       "QuadClass            5171541      4  VerbalCoop  3122557        NaN   \n",
       "GoldsteinScale     5171541.0    NaN         NaN      NaN   0.502059   \n",
       "NumSources         5171541.0    NaN         NaN      NaN   2.297014   \n",
       "NumArticles        5171541.0    NaN         NaN      NaN  21.512995   \n",
       "AvgTone            5171541.0    NaN         NaN      NaN   -2.15403   \n",
       "\n",
       "                         min       25%       50%       75%        max  \\\n",
       "Actor1Country            NaN       NaN       NaN       NaN        NaN   \n",
       "Actor1GeoCountry         NaN       NaN       NaN       NaN        NaN   \n",
       "Actor1Type               NaN       NaN       NaN       NaN        NaN   \n",
       "Actor1TypeGeneral        NaN       NaN       NaN       NaN        NaN   \n",
       "Actor2Country            NaN       NaN       NaN       NaN        NaN   \n",
       "Actor2GeoCountry         NaN       NaN       NaN       NaN        NaN   \n",
       "Actor2Type               NaN       NaN       NaN       NaN        NaN   \n",
       "Actor2TypeGeneral        NaN       NaN       NaN       NaN        NaN   \n",
       "ActionCountry            NaN       NaN       NaN       NaN        NaN   \n",
       "EventType                NaN       NaN       NaN       NaN        NaN   \n",
       "QuadClass                NaN       NaN       NaN       NaN        NaN   \n",
       "GoldsteinScale         -10.0      -2.0       1.0       3.4       10.0   \n",
       "NumSources               1.0       1.0       2.0       2.0       58.0   \n",
       "NumArticles             11.0      16.0      20.0      20.0      500.0   \n",
       "AvgTone           -38.709677 -4.485332 -1.948052  0.371747  26.315789   \n",
       "\n",
       "                         std present   share    dtype      sample  \n",
       "Actor1Country            NaN     44%   9.62%   object        None  \n",
       "Actor1GeoCountry         NaN     83%  16.70%   object          US  \n",
       "Actor1Type               NaN     52%  16.47%   object         LEG  \n",
       "Actor1TypeGeneral        NaN    100%  54.78%   object         GOV  \n",
       "Actor2Country            NaN     32%   6.21%   object        None  \n",
       "Actor2GeoCountry         NaN     58%  11.48%   object        None  \n",
       "Actor2Type               NaN     35%  10.15%   object        None  \n",
       "Actor2TypeGeneral        NaN    100%  70.30%   object       Other  \n",
       "ActionCountry            NaN     94%  18.78%   object          US  \n",
       "EventType                NaN    100%  24.50%   object   Statement  \n",
       "QuadClass                NaN    100%  60.38%   object  VerbalCoop  \n",
       "GoldsteinScale      4.784051    100%    None  float64         0.0  \n",
       "NumSources          1.915128    100%    None    int64           1  \n",
       "NumArticles        14.212713    100%    None    int64          12  \n",
       "AvgTone             3.872414    100%    None  float64   -0.447427  "
      ],
      "text/html": [
       "<div>\n",
       "<style scoped>\n",
       "    .dataframe tbody tr th:only-of-type {\n",
       "        vertical-align: middle;\n",
       "    }\n",
       "\n",
       "    .dataframe tbody tr th {\n",
       "        vertical-align: top;\n",
       "    }\n",
       "\n",
       "    .dataframe thead th {\n",
       "        text-align: right;\n",
       "    }\n",
       "</style>\n",
       "<table border=\"1\" class=\"dataframe\">\n",
       "  <thead>\n",
       "    <tr style=\"text-align: right;\">\n",
       "      <th></th>\n",
       "      <th>count</th>\n",
       "      <th>unique</th>\n",
       "      <th>top</th>\n",
       "      <th>freq</th>\n",
       "      <th>mean</th>\n",
       "      <th>min</th>\n",
       "      <th>25%</th>\n",
       "      <th>50%</th>\n",
       "      <th>75%</th>\n",
       "      <th>max</th>\n",
       "      <th>std</th>\n",
       "      <th>present</th>\n",
       "      <th>share</th>\n",
       "      <th>dtype</th>\n",
       "      <th>sample</th>\n",
       "    </tr>\n",
       "  </thead>\n",
       "  <tbody>\n",
       "    <tr>\n",
       "      <th>Actor1Country</th>\n",
       "      <td>2321230</td>\n",
       "      <td>218</td>\n",
       "      <td>USA</td>\n",
       "      <td>497531</td>\n",
       "      <td>NaN</td>\n",
       "      <td>NaN</td>\n",
       "      <td>NaN</td>\n",
       "      <td>NaN</td>\n",
       "      <td>NaN</td>\n",
       "      <td>NaN</td>\n",
       "      <td>NaN</td>\n",
       "      <td>44%</td>\n",
       "      <td>9.62%</td>\n",
       "      <td>object</td>\n",
       "      <td>None</td>\n",
       "    </tr>\n",
       "    <tr>\n",
       "      <th>Actor1GeoCountry</th>\n",
       "      <td>4303791</td>\n",
       "      <td>247</td>\n",
       "      <td>US</td>\n",
       "      <td>863494</td>\n",
       "      <td>NaN</td>\n",
       "      <td>NaN</td>\n",
       "      <td>NaN</td>\n",
       "      <td>NaN</td>\n",
       "      <td>NaN</td>\n",
       "      <td>NaN</td>\n",
       "      <td>NaN</td>\n",
       "      <td>83%</td>\n",
       "      <td>16.70%</td>\n",
       "      <td>object</td>\n",
       "      <td>US</td>\n",
       "    </tr>\n",
       "    <tr>\n",
       "      <th>Actor1Type</th>\n",
       "      <td>2703561</td>\n",
       "      <td>32</td>\n",
       "      <td>GOV</td>\n",
       "      <td>851770</td>\n",
       "      <td>NaN</td>\n",
       "      <td>NaN</td>\n",
       "      <td>NaN</td>\n",
       "      <td>NaN</td>\n",
       "      <td>NaN</td>\n",
       "      <td>NaN</td>\n",
       "      <td>NaN</td>\n",
       "      <td>52%</td>\n",
       "      <td>16.47%</td>\n",
       "      <td>object</td>\n",
       "      <td>LEG</td>\n",
       "    </tr>\n",
       "    <tr>\n",
       "      <th>Actor1TypeGeneral</th>\n",
       "      <td>5171541</td>\n",
       "      <td>5</td>\n",
       "      <td>Other</td>\n",
       "      <td>2832769</td>\n",
       "      <td>NaN</td>\n",
       "      <td>NaN</td>\n",
       "      <td>NaN</td>\n",
       "      <td>NaN</td>\n",
       "      <td>NaN</td>\n",
       "      <td>NaN</td>\n",
       "      <td>NaN</td>\n",
       "      <td>100%</td>\n",
       "      <td>54.78%</td>\n",
       "      <td>object</td>\n",
       "      <td>GOV</td>\n",
       "    </tr>\n",
       "    <tr>\n",
       "      <th>Actor2Country</th>\n",
       "      <td>1693312</td>\n",
       "      <td>218</td>\n",
       "      <td>USA</td>\n",
       "      <td>321260</td>\n",
       "      <td>NaN</td>\n",
       "      <td>NaN</td>\n",
       "      <td>NaN</td>\n",
       "      <td>NaN</td>\n",
       "      <td>NaN</td>\n",
       "      <td>NaN</td>\n",
       "      <td>NaN</td>\n",
       "      <td>32%</td>\n",
       "      <td>6.21%</td>\n",
       "      <td>object</td>\n",
       "      <td>None</td>\n",
       "    </tr>\n",
       "    <tr>\n",
       "      <th>Actor2GeoCountry</th>\n",
       "      <td>3040951</td>\n",
       "      <td>247</td>\n",
       "      <td>US</td>\n",
       "      <td>593587</td>\n",
       "      <td>NaN</td>\n",
       "      <td>NaN</td>\n",
       "      <td>NaN</td>\n",
       "      <td>NaN</td>\n",
       "      <td>NaN</td>\n",
       "      <td>NaN</td>\n",
       "      <td>NaN</td>\n",
       "      <td>58%</td>\n",
       "      <td>11.48%</td>\n",
       "      <td>object</td>\n",
       "      <td>None</td>\n",
       "    </tr>\n",
       "    <tr>\n",
       "      <th>Actor2Type</th>\n",
       "      <td>1829951</td>\n",
       "      <td>32</td>\n",
       "      <td>GOV</td>\n",
       "      <td>525056</td>\n",
       "      <td>NaN</td>\n",
       "      <td>NaN</td>\n",
       "      <td>NaN</td>\n",
       "      <td>NaN</td>\n",
       "      <td>NaN</td>\n",
       "      <td>NaN</td>\n",
       "      <td>NaN</td>\n",
       "      <td>35%</td>\n",
       "      <td>10.15%</td>\n",
       "      <td>object</td>\n",
       "      <td>None</td>\n",
       "    </tr>\n",
       "    <tr>\n",
       "      <th>Actor2TypeGeneral</th>\n",
       "      <td>5171541</td>\n",
       "      <td>5</td>\n",
       "      <td>Other</td>\n",
       "      <td>3635346</td>\n",
       "      <td>NaN</td>\n",
       "      <td>NaN</td>\n",
       "      <td>NaN</td>\n",
       "      <td>NaN</td>\n",
       "      <td>NaN</td>\n",
       "      <td>NaN</td>\n",
       "      <td>NaN</td>\n",
       "      <td>100%</td>\n",
       "      <td>70.30%</td>\n",
       "      <td>object</td>\n",
       "      <td>Other</td>\n",
       "    </tr>\n",
       "    <tr>\n",
       "      <th>ActionCountry</th>\n",
       "      <td>4861692</td>\n",
       "      <td>249</td>\n",
       "      <td>US</td>\n",
       "      <td>971085</td>\n",
       "      <td>NaN</td>\n",
       "      <td>NaN</td>\n",
       "      <td>NaN</td>\n",
       "      <td>NaN</td>\n",
       "      <td>NaN</td>\n",
       "      <td>NaN</td>\n",
       "      <td>NaN</td>\n",
       "      <td>94%</td>\n",
       "      <td>18.78%</td>\n",
       "      <td>object</td>\n",
       "      <td>US</td>\n",
       "    </tr>\n",
       "    <tr>\n",
       "      <th>EventType</th>\n",
       "      <td>5171541</td>\n",
       "      <td>20</td>\n",
       "      <td>Consult</td>\n",
       "      <td>1267084</td>\n",
       "      <td>NaN</td>\n",
       "      <td>NaN</td>\n",
       "      <td>NaN</td>\n",
       "      <td>NaN</td>\n",
       "      <td>NaN</td>\n",
       "      <td>NaN</td>\n",
       "      <td>NaN</td>\n",
       "      <td>100%</td>\n",
       "      <td>24.50%</td>\n",
       "      <td>object</td>\n",
       "      <td>Statement</td>\n",
       "    </tr>\n",
       "    <tr>\n",
       "      <th>QuadClass</th>\n",
       "      <td>5171541</td>\n",
       "      <td>4</td>\n",
       "      <td>VerbalCoop</td>\n",
       "      <td>3122557</td>\n",
       "      <td>NaN</td>\n",
       "      <td>NaN</td>\n",
       "      <td>NaN</td>\n",
       "      <td>NaN</td>\n",
       "      <td>NaN</td>\n",
       "      <td>NaN</td>\n",
       "      <td>NaN</td>\n",
       "      <td>100%</td>\n",
       "      <td>60.38%</td>\n",
       "      <td>object</td>\n",
       "      <td>VerbalCoop</td>\n",
       "    </tr>\n",
       "    <tr>\n",
       "      <th>GoldsteinScale</th>\n",
       "      <td>5171541.0</td>\n",
       "      <td>NaN</td>\n",
       "      <td>NaN</td>\n",
       "      <td>NaN</td>\n",
       "      <td>0.502059</td>\n",
       "      <td>-10.0</td>\n",
       "      <td>-2.0</td>\n",
       "      <td>1.0</td>\n",
       "      <td>3.4</td>\n",
       "      <td>10.0</td>\n",
       "      <td>4.784051</td>\n",
       "      <td>100%</td>\n",
       "      <td>None</td>\n",
       "      <td>float64</td>\n",
       "      <td>0.0</td>\n",
       "    </tr>\n",
       "    <tr>\n",
       "      <th>NumSources</th>\n",
       "      <td>5171541.0</td>\n",
       "      <td>NaN</td>\n",
       "      <td>NaN</td>\n",
       "      <td>NaN</td>\n",
       "      <td>2.297014</td>\n",
       "      <td>1.0</td>\n",
       "      <td>1.0</td>\n",
       "      <td>2.0</td>\n",
       "      <td>2.0</td>\n",
       "      <td>58.0</td>\n",
       "      <td>1.915128</td>\n",
       "      <td>100%</td>\n",
       "      <td>None</td>\n",
       "      <td>int64</td>\n",
       "      <td>1</td>\n",
       "    </tr>\n",
       "    <tr>\n",
       "      <th>NumArticles</th>\n",
       "      <td>5171541.0</td>\n",
       "      <td>NaN</td>\n",
       "      <td>NaN</td>\n",
       "      <td>NaN</td>\n",
       "      <td>21.512995</td>\n",
       "      <td>11.0</td>\n",
       "      <td>16.0</td>\n",
       "      <td>20.0</td>\n",
       "      <td>20.0</td>\n",
       "      <td>500.0</td>\n",
       "      <td>14.212713</td>\n",
       "      <td>100%</td>\n",
       "      <td>None</td>\n",
       "      <td>int64</td>\n",
       "      <td>12</td>\n",
       "    </tr>\n",
       "    <tr>\n",
       "      <th>AvgTone</th>\n",
       "      <td>5171541.0</td>\n",
       "      <td>NaN</td>\n",
       "      <td>NaN</td>\n",
       "      <td>NaN</td>\n",
       "      <td>-2.15403</td>\n",
       "      <td>-38.709677</td>\n",
       "      <td>-4.485332</td>\n",
       "      <td>-1.948052</td>\n",
       "      <td>0.371747</td>\n",
       "      <td>26.315789</td>\n",
       "      <td>3.872414</td>\n",
       "      <td>100%</td>\n",
       "      <td>None</td>\n",
       "      <td>float64</td>\n",
       "      <td>-0.447427</td>\n",
       "    </tr>\n",
       "  </tbody>\n",
       "</table>\n",
       "</div>"
      ]
     },
     "execution_count": 24,
     "metadata": {},
     "output_type": "execute_result"
    }
   ],
   "execution_count": 24
  },
  {
   "metadata": {
    "ExecuteTime": {
     "end_time": "2024-12-12T19:41:07.927369Z",
     "start_time": "2024-12-12T19:41:07.892227Z"
    }
   },
   "cell_type": "code",
   "source": "gdelt.head()",
   "id": "dfa9e9087c97bec8",
   "outputs": [
    {
     "data": {
      "text/plain": [
       "        Date   Timestamp Actor1Country Actor1GeoCountry Actor1Type  \\\n",
       "0 2019-01-01  1546300800          None             None        CVL   \n",
       "1 2019-01-01  1546300800           MDV               US       None   \n",
       "2 2019-01-01  1546300800          None               US        GOV   \n",
       "3 2019-01-01  1546300800           RUS               RS       None   \n",
       "4 2019-01-01  1546300800           USA               US       None   \n",
       "\n",
       "  Actor1TypeGeneral Actor2Country Actor2GeoCountry Actor2Type  \\\n",
       "0             Other          None             None       None   \n",
       "1             Other           USA               US       None   \n",
       "2               GOV          None               US        GOV   \n",
       "3             Other          None               RS        GOV   \n",
       "4             Other          None             None       None   \n",
       "\n",
       "  Actor2TypeGeneral ActionCountry      EventType     QuadClass  \\\n",
       "0             Other          None    Diplom Coop    VerbalCoop   \n",
       "1             Other            US          Fight  MaterialConf   \n",
       "2               GOV            US         Appeal    VerbalCoop   \n",
       "3               GOV            RS  Material Coop  MaterialCoop   \n",
       "4             Other            US         Appeal    VerbalCoop   \n",
       "\n",
       "   GoldsteinScale  NumSources  NumArticles   AvgTone  \\\n",
       "0             3.4           4           50  2.354384   \n",
       "1           -10.0           2           12 -4.195804   \n",
       "2             3.2          10           20  1.734061   \n",
       "3             6.0           3           30 -0.427182   \n",
       "4             3.0           8           23 -1.376241   \n",
       "\n",
       "                                              Source  \n",
       "0  https://telegrafi.com/ne-shenj-proteste-labino...  \n",
       "1  http://www.wgow.com/news/manhunt-on-in-texas-f...  \n",
       "2  https://hanfordsentinel.com/news/national/govt...  \n",
       "3  http://www.gp.se/nyheter/v%C3%A4rlden/sju-d%C3...  \n",
       "4  http://www.790wpic.com/news/a-familys-whirlpoo...  "
      ],
      "text/html": [
       "<div>\n",
       "<style scoped>\n",
       "    .dataframe tbody tr th:only-of-type {\n",
       "        vertical-align: middle;\n",
       "    }\n",
       "\n",
       "    .dataframe tbody tr th {\n",
       "        vertical-align: top;\n",
       "    }\n",
       "\n",
       "    .dataframe thead th {\n",
       "        text-align: right;\n",
       "    }\n",
       "</style>\n",
       "<table border=\"1\" class=\"dataframe\">\n",
       "  <thead>\n",
       "    <tr style=\"text-align: right;\">\n",
       "      <th></th>\n",
       "      <th>Date</th>\n",
       "      <th>Timestamp</th>\n",
       "      <th>Actor1Country</th>\n",
       "      <th>Actor1GeoCountry</th>\n",
       "      <th>Actor1Type</th>\n",
       "      <th>Actor1TypeGeneral</th>\n",
       "      <th>Actor2Country</th>\n",
       "      <th>Actor2GeoCountry</th>\n",
       "      <th>Actor2Type</th>\n",
       "      <th>Actor2TypeGeneral</th>\n",
       "      <th>ActionCountry</th>\n",
       "      <th>EventType</th>\n",
       "      <th>QuadClass</th>\n",
       "      <th>GoldsteinScale</th>\n",
       "      <th>NumSources</th>\n",
       "      <th>NumArticles</th>\n",
       "      <th>AvgTone</th>\n",
       "      <th>Source</th>\n",
       "    </tr>\n",
       "  </thead>\n",
       "  <tbody>\n",
       "    <tr>\n",
       "      <th>0</th>\n",
       "      <td>2019-01-01</td>\n",
       "      <td>1546300800</td>\n",
       "      <td>None</td>\n",
       "      <td>None</td>\n",
       "      <td>CVL</td>\n",
       "      <td>Other</td>\n",
       "      <td>None</td>\n",
       "      <td>None</td>\n",
       "      <td>None</td>\n",
       "      <td>Other</td>\n",
       "      <td>None</td>\n",
       "      <td>Diplom Coop</td>\n",
       "      <td>VerbalCoop</td>\n",
       "      <td>3.4</td>\n",
       "      <td>4</td>\n",
       "      <td>50</td>\n",
       "      <td>2.354384</td>\n",
       "      <td>https://telegrafi.com/ne-shenj-proteste-labino...</td>\n",
       "    </tr>\n",
       "    <tr>\n",
       "      <th>1</th>\n",
       "      <td>2019-01-01</td>\n",
       "      <td>1546300800</td>\n",
       "      <td>MDV</td>\n",
       "      <td>US</td>\n",
       "      <td>None</td>\n",
       "      <td>Other</td>\n",
       "      <td>USA</td>\n",
       "      <td>US</td>\n",
       "      <td>None</td>\n",
       "      <td>Other</td>\n",
       "      <td>US</td>\n",
       "      <td>Fight</td>\n",
       "      <td>MaterialConf</td>\n",
       "      <td>-10.0</td>\n",
       "      <td>2</td>\n",
       "      <td>12</td>\n",
       "      <td>-4.195804</td>\n",
       "      <td>http://www.wgow.com/news/manhunt-on-in-texas-f...</td>\n",
       "    </tr>\n",
       "    <tr>\n",
       "      <th>2</th>\n",
       "      <td>2019-01-01</td>\n",
       "      <td>1546300800</td>\n",
       "      <td>None</td>\n",
       "      <td>US</td>\n",
       "      <td>GOV</td>\n",
       "      <td>GOV</td>\n",
       "      <td>None</td>\n",
       "      <td>US</td>\n",
       "      <td>GOV</td>\n",
       "      <td>GOV</td>\n",
       "      <td>US</td>\n",
       "      <td>Appeal</td>\n",
       "      <td>VerbalCoop</td>\n",
       "      <td>3.2</td>\n",
       "      <td>10</td>\n",
       "      <td>20</td>\n",
       "      <td>1.734061</td>\n",
       "      <td>https://hanfordsentinel.com/news/national/govt...</td>\n",
       "    </tr>\n",
       "    <tr>\n",
       "      <th>3</th>\n",
       "      <td>2019-01-01</td>\n",
       "      <td>1546300800</td>\n",
       "      <td>RUS</td>\n",
       "      <td>RS</td>\n",
       "      <td>None</td>\n",
       "      <td>Other</td>\n",
       "      <td>None</td>\n",
       "      <td>RS</td>\n",
       "      <td>GOV</td>\n",
       "      <td>GOV</td>\n",
       "      <td>RS</td>\n",
       "      <td>Material Coop</td>\n",
       "      <td>MaterialCoop</td>\n",
       "      <td>6.0</td>\n",
       "      <td>3</td>\n",
       "      <td>30</td>\n",
       "      <td>-0.427182</td>\n",
       "      <td>http://www.gp.se/nyheter/v%C3%A4rlden/sju-d%C3...</td>\n",
       "    </tr>\n",
       "    <tr>\n",
       "      <th>4</th>\n",
       "      <td>2019-01-01</td>\n",
       "      <td>1546300800</td>\n",
       "      <td>USA</td>\n",
       "      <td>US</td>\n",
       "      <td>None</td>\n",
       "      <td>Other</td>\n",
       "      <td>None</td>\n",
       "      <td>None</td>\n",
       "      <td>None</td>\n",
       "      <td>Other</td>\n",
       "      <td>US</td>\n",
       "      <td>Appeal</td>\n",
       "      <td>VerbalCoop</td>\n",
       "      <td>3.0</td>\n",
       "      <td>8</td>\n",
       "      <td>23</td>\n",
       "      <td>-1.376241</td>\n",
       "      <td>http://www.790wpic.com/news/a-familys-whirlpoo...</td>\n",
       "    </tr>\n",
       "  </tbody>\n",
       "</table>\n",
       "</div>"
      ]
     },
     "execution_count": 25,
     "metadata": {},
     "output_type": "execute_result"
    }
   ],
   "execution_count": 25
  },
  {
   "metadata": {},
   "cell_type": "markdown",
   "source": "After analyzing impact of different features on btc price, we can drop some columns and remove some less frequent values.",
   "id": "f8b4ed1871ea9f6"
  },
  {
   "metadata": {
    "ExecuteTime": {
     "end_time": "2024-12-12T19:41:08.142406Z",
     "start_time": "2024-12-12T19:41:08.132876Z"
    }
   },
   "cell_type": "code",
   "source": "gdelt.columns",
   "id": "e48934c92484e5a4",
   "outputs": [
    {
     "data": {
      "text/plain": [
       "Index(['Date', 'Timestamp', 'Actor1Country', 'Actor1GeoCountry', 'Actor1Type',\n",
       "       'Actor1TypeGeneral', 'Actor2Country', 'Actor2GeoCountry', 'Actor2Type',\n",
       "       'Actor2TypeGeneral', 'ActionCountry', 'EventType', 'QuadClass',\n",
       "       'GoldsteinScale', 'NumSources', 'NumArticles', 'AvgTone', 'Source'],\n",
       "      dtype='object')"
      ]
     },
     "execution_count": 26,
     "metadata": {},
     "output_type": "execute_result"
    }
   ],
   "execution_count": 26
  },
  {
   "metadata": {
    "ExecuteTime": {
     "end_time": "2024-12-12T19:41:11.875486Z",
     "start_time": "2024-12-12T19:41:08.827908Z"
    }
   },
   "cell_type": "code",
   "source": "gdelt = gdelt.drop(columns=['Source', 'Actor1TypeGeneral', 'Actor2TypeGeneral', 'QuadClass'])",
   "id": "f9e7d9d5a20575a5",
   "outputs": [],
   "execution_count": 27
  },
  {
   "metadata": {
    "ExecuteTime": {
     "end_time": "2024-12-12T19:41:12.316272Z",
     "start_time": "2024-12-12T19:41:12.292978Z"
    }
   },
   "cell_type": "code",
   "source": "gdelt.head()",
   "id": "62e4ff5b8dd82773",
   "outputs": [
    {
     "data": {
      "text/plain": [
       "        Date   Timestamp Actor1Country Actor1GeoCountry Actor1Type  \\\n",
       "0 2019-01-01  1546300800          None             None        CVL   \n",
       "1 2019-01-01  1546300800           MDV               US       None   \n",
       "2 2019-01-01  1546300800          None               US        GOV   \n",
       "3 2019-01-01  1546300800           RUS               RS       None   \n",
       "4 2019-01-01  1546300800           USA               US       None   \n",
       "\n",
       "  Actor2Country Actor2GeoCountry Actor2Type ActionCountry      EventType  \\\n",
       "0          None             None       None          None    Diplom Coop   \n",
       "1           USA               US       None            US          Fight   \n",
       "2          None               US        GOV            US         Appeal   \n",
       "3          None               RS        GOV            RS  Material Coop   \n",
       "4          None             None       None            US         Appeal   \n",
       "\n",
       "   GoldsteinScale  NumSources  NumArticles   AvgTone  \n",
       "0             3.4           4           50  2.354384  \n",
       "1           -10.0           2           12 -4.195804  \n",
       "2             3.2          10           20  1.734061  \n",
       "3             6.0           3           30 -0.427182  \n",
       "4             3.0           8           23 -1.376241  "
      ],
      "text/html": [
       "<div>\n",
       "<style scoped>\n",
       "    .dataframe tbody tr th:only-of-type {\n",
       "        vertical-align: middle;\n",
       "    }\n",
       "\n",
       "    .dataframe tbody tr th {\n",
       "        vertical-align: top;\n",
       "    }\n",
       "\n",
       "    .dataframe thead th {\n",
       "        text-align: right;\n",
       "    }\n",
       "</style>\n",
       "<table border=\"1\" class=\"dataframe\">\n",
       "  <thead>\n",
       "    <tr style=\"text-align: right;\">\n",
       "      <th></th>\n",
       "      <th>Date</th>\n",
       "      <th>Timestamp</th>\n",
       "      <th>Actor1Country</th>\n",
       "      <th>Actor1GeoCountry</th>\n",
       "      <th>Actor1Type</th>\n",
       "      <th>Actor2Country</th>\n",
       "      <th>Actor2GeoCountry</th>\n",
       "      <th>Actor2Type</th>\n",
       "      <th>ActionCountry</th>\n",
       "      <th>EventType</th>\n",
       "      <th>GoldsteinScale</th>\n",
       "      <th>NumSources</th>\n",
       "      <th>NumArticles</th>\n",
       "      <th>AvgTone</th>\n",
       "    </tr>\n",
       "  </thead>\n",
       "  <tbody>\n",
       "    <tr>\n",
       "      <th>0</th>\n",
       "      <td>2019-01-01</td>\n",
       "      <td>1546300800</td>\n",
       "      <td>None</td>\n",
       "      <td>None</td>\n",
       "      <td>CVL</td>\n",
       "      <td>None</td>\n",
       "      <td>None</td>\n",
       "      <td>None</td>\n",
       "      <td>None</td>\n",
       "      <td>Diplom Coop</td>\n",
       "      <td>3.4</td>\n",
       "      <td>4</td>\n",
       "      <td>50</td>\n",
       "      <td>2.354384</td>\n",
       "    </tr>\n",
       "    <tr>\n",
       "      <th>1</th>\n",
       "      <td>2019-01-01</td>\n",
       "      <td>1546300800</td>\n",
       "      <td>MDV</td>\n",
       "      <td>US</td>\n",
       "      <td>None</td>\n",
       "      <td>USA</td>\n",
       "      <td>US</td>\n",
       "      <td>None</td>\n",
       "      <td>US</td>\n",
       "      <td>Fight</td>\n",
       "      <td>-10.0</td>\n",
       "      <td>2</td>\n",
       "      <td>12</td>\n",
       "      <td>-4.195804</td>\n",
       "    </tr>\n",
       "    <tr>\n",
       "      <th>2</th>\n",
       "      <td>2019-01-01</td>\n",
       "      <td>1546300800</td>\n",
       "      <td>None</td>\n",
       "      <td>US</td>\n",
       "      <td>GOV</td>\n",
       "      <td>None</td>\n",
       "      <td>US</td>\n",
       "      <td>GOV</td>\n",
       "      <td>US</td>\n",
       "      <td>Appeal</td>\n",
       "      <td>3.2</td>\n",
       "      <td>10</td>\n",
       "      <td>20</td>\n",
       "      <td>1.734061</td>\n",
       "    </tr>\n",
       "    <tr>\n",
       "      <th>3</th>\n",
       "      <td>2019-01-01</td>\n",
       "      <td>1546300800</td>\n",
       "      <td>RUS</td>\n",
       "      <td>RS</td>\n",
       "      <td>None</td>\n",
       "      <td>None</td>\n",
       "      <td>RS</td>\n",
       "      <td>GOV</td>\n",
       "      <td>RS</td>\n",
       "      <td>Material Coop</td>\n",
       "      <td>6.0</td>\n",
       "      <td>3</td>\n",
       "      <td>30</td>\n",
       "      <td>-0.427182</td>\n",
       "    </tr>\n",
       "    <tr>\n",
       "      <th>4</th>\n",
       "      <td>2019-01-01</td>\n",
       "      <td>1546300800</td>\n",
       "      <td>USA</td>\n",
       "      <td>US</td>\n",
       "      <td>None</td>\n",
       "      <td>None</td>\n",
       "      <td>None</td>\n",
       "      <td>None</td>\n",
       "      <td>US</td>\n",
       "      <td>Appeal</td>\n",
       "      <td>3.0</td>\n",
       "      <td>8</td>\n",
       "      <td>23</td>\n",
       "      <td>-1.376241</td>\n",
       "    </tr>\n",
       "  </tbody>\n",
       "</table>\n",
       "</div>"
      ]
     },
     "execution_count": 28,
     "metadata": {},
     "output_type": "execute_result"
    }
   ],
   "execution_count": 28
  },
  {
   "metadata": {
    "ExecuteTime": {
     "end_time": "2024-12-12T19:41:23.874720Z",
     "start_time": "2024-12-12T19:41:12.775411Z"
    }
   },
   "cell_type": "code",
   "source": [
    "# save cleaned gdelt\n",
    "gdelt.to_parquet('../cache/gdelt_cleaned.parquet')"
   ],
   "id": "106714198236f2ad",
   "outputs": [],
   "execution_count": 29
  }
 ],
 "metadata": {
  "kernelspec": {
   "display_name": "Python 3",
   "language": "python",
   "name": "python3"
  },
  "language_info": {
   "codemirror_mode": {
    "name": "ipython",
    "version": 2
   },
   "file_extension": ".py",
   "mimetype": "text/x-python",
   "name": "python",
   "nbconvert_exporter": "python",
   "pygments_lexer": "ipython2",
   "version": "2.7.6"
  }
 },
 "nbformat": 4,
 "nbformat_minor": 5
}
