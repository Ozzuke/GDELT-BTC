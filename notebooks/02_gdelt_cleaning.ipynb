{
 "cells": [
  {
   "metadata": {
    "ExecuteTime": {
     "end_time": "2024-12-04T08:01:12.005709Z",
     "start_time": "2024-12-04T08:01:11.966649Z"
    }
   },
   "cell_type": "code",
   "source": "import pandas as pd",
   "id": "81e5560f1137a0cc",
   "outputs": [],
   "execution_count": 24
  },
  {
   "cell_type": "code",
   "id": "initial_id",
   "metadata": {
    "collapsed": true,
    "ExecuteTime": {
     "end_time": "2024-12-04T08:01:15.124798Z",
     "start_time": "2024-12-04T08:01:12.081339Z"
    }
   },
   "source": "gdelt = pd.read_parquet('../cache/gdelt.parquet')",
   "outputs": [],
   "execution_count": 25
  },
  {
   "metadata": {
    "ExecuteTime": {
     "end_time": "2024-12-04T08:01:15.160016Z",
     "start_time": "2024-12-04T08:01:15.152100Z"
    }
   },
   "cell_type": "code",
   "source": "gdelt.head()",
   "id": "5fdbd6ca310c27a9",
   "outputs": [
    {
     "data": {
      "text/plain": [
       "        Date Actor1Country Actor1GeoCountry Actor1Type Actor2Country  \\\n",
       "0 2019-01-01          None             None        CVL          None   \n",
       "1 2019-01-01           MDV               US       None           USA   \n",
       "2 2019-01-01          None               US        GOV          None   \n",
       "3 2019-01-01           RUS               RS       None          None   \n",
       "4 2019-01-01           USA               US       None          None   \n",
       "\n",
       "  Actor2GeoCountry Actor2Type ActionCountry EventRootCode  QuadClass  \\\n",
       "0             None       None          None            05          1   \n",
       "1               US       None            US            19          4   \n",
       "2               US        GOV            US            02          1   \n",
       "3               RS        GOV            RS            06          2   \n",
       "4             None       None            US            02          1   \n",
       "\n",
       "   GoldsteinScale  NumSources  NumArticles   AvgTone  \\\n",
       "0             3.4           4           50  2.354384   \n",
       "1           -10.0           2           12 -4.195804   \n",
       "2             3.2          10           20  1.734061   \n",
       "3             6.0           3           30 -0.427182   \n",
       "4             3.0           8           23 -1.376241   \n",
       "\n",
       "                                              Source  \n",
       "0  https://telegrafi.com/ne-shenj-proteste-labino...  \n",
       "1  http://www.wgow.com/news/manhunt-on-in-texas-f...  \n",
       "2  https://hanfordsentinel.com/news/national/govt...  \n",
       "3  http://www.gp.se/nyheter/v%C3%A4rlden/sju-d%C3...  \n",
       "4  http://www.790wpic.com/news/a-familys-whirlpoo...  "
      ],
      "text/html": [
       "<div>\n",
       "<style scoped>\n",
       "    .dataframe tbody tr th:only-of-type {\n",
       "        vertical-align: middle;\n",
       "    }\n",
       "\n",
       "    .dataframe tbody tr th {\n",
       "        vertical-align: top;\n",
       "    }\n",
       "\n",
       "    .dataframe thead th {\n",
       "        text-align: right;\n",
       "    }\n",
       "</style>\n",
       "<table border=\"1\" class=\"dataframe\">\n",
       "  <thead>\n",
       "    <tr style=\"text-align: right;\">\n",
       "      <th></th>\n",
       "      <th>Date</th>\n",
       "      <th>Actor1Country</th>\n",
       "      <th>Actor1GeoCountry</th>\n",
       "      <th>Actor1Type</th>\n",
       "      <th>Actor2Country</th>\n",
       "      <th>Actor2GeoCountry</th>\n",
       "      <th>Actor2Type</th>\n",
       "      <th>ActionCountry</th>\n",
       "      <th>EventRootCode</th>\n",
       "      <th>QuadClass</th>\n",
       "      <th>GoldsteinScale</th>\n",
       "      <th>NumSources</th>\n",
       "      <th>NumArticles</th>\n",
       "      <th>AvgTone</th>\n",
       "      <th>Source</th>\n",
       "    </tr>\n",
       "  </thead>\n",
       "  <tbody>\n",
       "    <tr>\n",
       "      <th>0</th>\n",
       "      <td>2019-01-01</td>\n",
       "      <td>None</td>\n",
       "      <td>None</td>\n",
       "      <td>CVL</td>\n",
       "      <td>None</td>\n",
       "      <td>None</td>\n",
       "      <td>None</td>\n",
       "      <td>None</td>\n",
       "      <td>05</td>\n",
       "      <td>1</td>\n",
       "      <td>3.4</td>\n",
       "      <td>4</td>\n",
       "      <td>50</td>\n",
       "      <td>2.354384</td>\n",
       "      <td>https://telegrafi.com/ne-shenj-proteste-labino...</td>\n",
       "    </tr>\n",
       "    <tr>\n",
       "      <th>1</th>\n",
       "      <td>2019-01-01</td>\n",
       "      <td>MDV</td>\n",
       "      <td>US</td>\n",
       "      <td>None</td>\n",
       "      <td>USA</td>\n",
       "      <td>US</td>\n",
       "      <td>None</td>\n",
       "      <td>US</td>\n",
       "      <td>19</td>\n",
       "      <td>4</td>\n",
       "      <td>-10.0</td>\n",
       "      <td>2</td>\n",
       "      <td>12</td>\n",
       "      <td>-4.195804</td>\n",
       "      <td>http://www.wgow.com/news/manhunt-on-in-texas-f...</td>\n",
       "    </tr>\n",
       "    <tr>\n",
       "      <th>2</th>\n",
       "      <td>2019-01-01</td>\n",
       "      <td>None</td>\n",
       "      <td>US</td>\n",
       "      <td>GOV</td>\n",
       "      <td>None</td>\n",
       "      <td>US</td>\n",
       "      <td>GOV</td>\n",
       "      <td>US</td>\n",
       "      <td>02</td>\n",
       "      <td>1</td>\n",
       "      <td>3.2</td>\n",
       "      <td>10</td>\n",
       "      <td>20</td>\n",
       "      <td>1.734061</td>\n",
       "      <td>https://hanfordsentinel.com/news/national/govt...</td>\n",
       "    </tr>\n",
       "    <tr>\n",
       "      <th>3</th>\n",
       "      <td>2019-01-01</td>\n",
       "      <td>RUS</td>\n",
       "      <td>RS</td>\n",
       "      <td>None</td>\n",
       "      <td>None</td>\n",
       "      <td>RS</td>\n",
       "      <td>GOV</td>\n",
       "      <td>RS</td>\n",
       "      <td>06</td>\n",
       "      <td>2</td>\n",
       "      <td>6.0</td>\n",
       "      <td>3</td>\n",
       "      <td>30</td>\n",
       "      <td>-0.427182</td>\n",
       "      <td>http://www.gp.se/nyheter/v%C3%A4rlden/sju-d%C3...</td>\n",
       "    </tr>\n",
       "    <tr>\n",
       "      <th>4</th>\n",
       "      <td>2019-01-01</td>\n",
       "      <td>USA</td>\n",
       "      <td>US</td>\n",
       "      <td>None</td>\n",
       "      <td>None</td>\n",
       "      <td>None</td>\n",
       "      <td>None</td>\n",
       "      <td>US</td>\n",
       "      <td>02</td>\n",
       "      <td>1</td>\n",
       "      <td>3.0</td>\n",
       "      <td>8</td>\n",
       "      <td>23</td>\n",
       "      <td>-1.376241</td>\n",
       "      <td>http://www.790wpic.com/news/a-familys-whirlpoo...</td>\n",
       "    </tr>\n",
       "  </tbody>\n",
       "</table>\n",
       "</div>"
      ]
     },
     "execution_count": 26,
     "metadata": {},
     "output_type": "execute_result"
    }
   ],
   "execution_count": 26
  },
  {
   "metadata": {
    "ExecuteTime": {
     "end_time": "2024-12-04T08:01:15.228154Z",
     "start_time": "2024-12-04T08:01:15.222419Z"
    }
   },
   "cell_type": "code",
   "source": "gdelt.columns",
   "id": "5f0832c36f198e39",
   "outputs": [
    {
     "data": {
      "text/plain": [
       "Index(['Date', 'Actor1Country', 'Actor1GeoCountry', 'Actor1Type',\n",
       "       'Actor2Country', 'Actor2GeoCountry', 'Actor2Type', 'ActionCountry',\n",
       "       'EventRootCode', 'QuadClass', 'GoldsteinScale', 'NumSources',\n",
       "       'NumArticles', 'AvgTone', 'Source'],\n",
       "      dtype='object')"
      ]
     },
     "execution_count": 27,
     "metadata": {},
     "output_type": "execute_result"
    }
   ],
   "execution_count": 27
  },
  {
   "metadata": {
    "ExecuteTime": {
     "end_time": "2024-12-04T08:01:16.579354Z",
     "start_time": "2024-12-04T08:01:15.294137Z"
    }
   },
   "cell_type": "code",
   "source": [
    "# convert categorical columns to category type\n",
    "gdelt.Actor1Country = gdelt.Actor1Country.astype('category')\n",
    "gdelt.Actor1GeoCountry = gdelt.Actor1GeoCountry.astype('category')\n",
    "gdelt.Actor1Type = gdelt.Actor1Type.astype('category')\n",
    "gdelt.Actor2Country = gdelt.Actor2Country.astype('category')\n",
    "gdelt.Actor2GeoCountry = gdelt.Actor2GeoCountry.astype('category')\n",
    "gdelt.Actor2Type = gdelt.Actor2Type.astype('category')\n",
    "gdelt.ActionCountry = gdelt.ActionCountry.astype('category')\n",
    "gdelt.EventRootCode = gdelt.EventRootCode.astype('category')\n",
    "gdelt.QuadClass = gdelt.QuadClass.astype('category')"
   ],
   "id": "cece144ee5e03fb9",
   "outputs": [],
   "execution_count": 28
  },
  {
   "metadata": {
    "ExecuteTime": {
     "end_time": "2024-12-04T08:01:16.622953Z",
     "start_time": "2024-12-04T08:01:16.586267Z"
    }
   },
   "cell_type": "code",
   "source": [
    "# datetime to unix timestamp\n",
    "gdelt['Date'] = gdelt.Date.astype('int64') // 10**9"
   ],
   "id": "1a3f295ad6ed73b0",
   "outputs": [],
   "execution_count": 29
  },
  {
   "metadata": {
    "ExecuteTime": {
     "end_time": "2024-12-04T08:01:16.642148Z",
     "start_time": "2024-12-04T08:01:16.636146Z"
    }
   },
   "cell_type": "code",
   "source": "gdelt.dtypes",
   "id": "d038471d6b6812fe",
   "outputs": [
    {
     "data": {
      "text/plain": [
       "Date                   int64\n",
       "Actor1Country       category\n",
       "Actor1GeoCountry    category\n",
       "Actor1Type          category\n",
       "Actor2Country       category\n",
       "Actor2GeoCountry    category\n",
       "Actor2Type          category\n",
       "ActionCountry       category\n",
       "EventRootCode       category\n",
       "QuadClass           category\n",
       "GoldsteinScale       float64\n",
       "NumSources             int64\n",
       "NumArticles            int64\n",
       "AvgTone              float64\n",
       "Source                object\n",
       "dtype: object"
      ]
     },
     "execution_count": 30,
     "metadata": {},
     "output_type": "execute_result"
    }
   ],
   "execution_count": 30
  },
  {
   "metadata": {
    "ExecuteTime": {
     "end_time": "2024-12-04T08:01:16.682611Z",
     "start_time": "2024-12-04T08:01:16.676076Z"
    }
   },
   "cell_type": "code",
   "source": [
    "# replace quadclass nums with meaningful names\n",
    "gdelt['QuadClass'] = gdelt['QuadClass'].map({\n",
    "    1: 'VerbalCoop', \n",
    "    2: 'MaterialCoop', \n",
    "    3: 'VerbalConf', \n",
    "    4: 'MaterialConf'\n",
    "})"
   ],
   "id": "31ef236f5d77bdb1",
   "outputs": [],
   "execution_count": 31
  },
  {
   "metadata": {
    "ExecuteTime": {
     "end_time": "2024-12-04T08:01:18.495699Z",
     "start_time": "2024-12-04T08:01:16.726679Z"
    }
   },
   "cell_type": "code",
   "source": [
    "# replace event root code nums with meaningful names and rename to EventType\n",
    "\n",
    "# first convert to numeric\n",
    "gdelt['EventRootCode'] = pd.to_numeric(gdelt['EventRootCode'], errors='coerce')\n",
    "gdelt['EventRootCode'] = gdelt['EventRootCode'].map({\n",
    "    1: 'Statement',\n",
    "    2: 'Appeal',\n",
    "    3: 'Intent to Coop',\n",
    "    4: 'Consult',\n",
    "    5: 'Diplom Coop',\n",
    "    6: 'Material Coop',\n",
    "    7: 'Aid',\n",
    "    8: 'Yield',\n",
    "    9: 'Investigate',\n",
    "    10: 'Demand',\n",
    "    11: 'Disapprove',\n",
    "    12: 'Reject',\n",
    "    13: 'Threaten',\n",
    "    14: 'Protest',\n",
    "    15: 'Demonstrate Force',\n",
    "    16: 'Reduce Relations',\n",
    "    17: 'Coerce',\n",
    "    18: 'Assault',\n",
    "    19: 'Fight',\n",
    "    20: 'Mass Violence'\n",
    "})\n",
    "gdelt.rename(columns={'EventRootCode': 'EventType'}, inplace=True)\n",
    "\n",
    "# convert back to category\n",
    "gdelt.EventType = gdelt.EventType.astype('category')"
   ],
   "id": "24ad8be02b6fa0d7",
   "outputs": [],
   "execution_count": 32
  },
  {
   "metadata": {
    "ExecuteTime": {
     "end_time": "2024-12-04T08:01:18.540651Z",
     "start_time": "2024-12-04T08:01:18.512602Z"
    }
   },
   "cell_type": "code",
   "source": [
    "# there are 3 NaN values in EventType, so we can drop them\n",
    "gdelt['EventType'].value_counts(dropna=False)[::-1]"
   ],
   "id": "7ae890fe00216f9d",
   "outputs": [
    {
     "data": {
      "text/plain": [
       "EventType\n",
       "NaN                        3\n",
       "Mass Violence           1609\n",
       "Demonstrate Force      20461\n",
       "Protest                59635\n",
       "Reduce Relations       60881\n",
       "Demand                 69028\n",
       "Threaten               80823\n",
       "Assault                81196\n",
       "Material Coop         106830\n",
       "Investigate           136693\n",
       "Reject                146954\n",
       "Aid                   174983\n",
       "Yield                 202861\n",
       "Coerce                255777\n",
       "Disapprove            305588\n",
       "Fight                 345688\n",
       "Intent to Coop        368722\n",
       "Appeal                418795\n",
       "Diplom Coop           419667\n",
       "Statement             648289\n",
       "Consult              1267084\n",
       "Name: count, dtype: int64"
      ]
     },
     "execution_count": 33,
     "metadata": {},
     "output_type": "execute_result"
    }
   ],
   "execution_count": 33
  },
  {
   "metadata": {
    "ExecuteTime": {
     "end_time": "2024-12-04T08:01:19.102618Z",
     "start_time": "2024-12-04T08:01:18.575010Z"
    }
   },
   "cell_type": "code",
   "source": "gdelt.dropna(subset=['EventType'], inplace=True)",
   "id": "28a8a213ff370110",
   "outputs": [],
   "execution_count": 34
  },
  {
   "metadata": {
    "ExecuteTime": {
     "end_time": "2024-12-04T08:01:19.123656Z",
     "start_time": "2024-12-04T08:01:19.119896Z"
    }
   },
   "cell_type": "code",
   "source": [
    "# generalize actor types\n",
    "actor_types = {\n",
    "    'GOV': ['GOV', 'COP', 'MIL', 'JUD', 'SPY', 'ELI', 'LEG'],\n",
    "    'Opposition': ['OPP', 'INS', 'REB', 'SEP', 'CRM'],\n",
    "    'Business': ['BUS', 'AGR', 'DEV', 'LAB'],\n",
    "    'Benevolent': ['EDU', 'MED', 'HRI', 'HLH', 'ENV'],\n",
    "}\n",
    "\n",
    "def generalize_actor_type(actor_type):\n",
    "    for k, v in actor_types.items():\n",
    "        if actor_type in v:\n",
    "            return k\n",
    "    return 'Other'"
   ],
   "id": "65ec04396f55544d",
   "outputs": [],
   "execution_count": 35
  },
  {
   "metadata": {
    "ExecuteTime": {
     "end_time": "2024-12-04T08:01:19.450887Z",
     "start_time": "2024-12-04T08:01:19.134210Z"
    }
   },
   "cell_type": "code",
   "source": [
    "gdelt['Actor1TypeGeneral'] = gdelt['Actor1Type'].apply(generalize_actor_type)\n",
    "gdelt['Actor2TypeGeneral'] = gdelt['Actor2Type'].apply(generalize_actor_type)"
   ],
   "id": "67a05d8b077628cd",
   "outputs": [],
   "execution_count": 36
  },
  {
   "metadata": {
    "ExecuteTime": {
     "end_time": "2024-12-04T08:01:19.581363Z",
     "start_time": "2024-12-04T08:01:19.461324Z"
    }
   },
   "cell_type": "code",
   "source": "gdelt['Actor1TypeGeneral'].value_counts()",
   "id": "7624fc94625ab1ba",
   "outputs": [
    {
     "data": {
      "text/plain": [
       "Actor1TypeGeneral\n",
       "GOV           1582931\n",
       "Other          364790\n",
       "Benevolent     338947\n",
       "Business       291860\n",
       "Opposition     125044\n",
       "Name: count, dtype: int64"
      ]
     },
     "execution_count": 37,
     "metadata": {},
     "output_type": "execute_result"
    }
   ],
   "execution_count": 37
  },
  {
   "metadata": {
    "ExecuteTime": {
     "end_time": "2024-12-04T08:01:19.791613Z",
     "start_time": "2024-12-04T08:01:19.632104Z"
    }
   },
   "cell_type": "code",
   "source": "gdelt['Actor2TypeGeneral'].value_counts()",
   "id": "2dd8db26489bfa",
   "outputs": [
    {
     "data": {
      "text/plain": [
       "Actor2TypeGeneral\n",
       "GOV           972947\n",
       "Other         293756\n",
       "Benevolent    258098\n",
       "Business      205176\n",
       "Opposition     99977\n",
       "Name: count, dtype: int64"
      ]
     },
     "execution_count": 38,
     "metadata": {},
     "output_type": "execute_result"
    }
   ],
   "execution_count": 38
  },
  {
   "metadata": {
    "ExecuteTime": {
     "end_time": "2024-12-04T08:01:19.854205Z",
     "start_time": "2024-12-04T08:01:19.842056Z"
    }
   },
   "cell_type": "code",
   "source": [
    "# we can see that GoldsteinScale has 23 NaN values\n",
    "# this is a very small number, so we can drop them\n",
    "gdelt[gdelt['GoldsteinScale'].isna()].__len__()"
   ],
   "id": "fdaf4826180bb939",
   "outputs": [
    {
     "data": {
      "text/plain": [
       "23"
      ]
     },
     "execution_count": 39,
     "metadata": {},
     "output_type": "execute_result"
    }
   ],
   "execution_count": 39
  },
  {
   "metadata": {
    "ExecuteTime": {
     "end_time": "2024-12-04T08:01:20.750338Z",
     "start_time": "2024-12-04T08:01:19.913913Z"
    }
   },
   "cell_type": "code",
   "source": "gdelt.dropna(subset=['GoldsteinScale'], inplace=True)",
   "id": "bafcebe8a526cfb6",
   "outputs": [],
   "execution_count": 40
  },
  {
   "metadata": {
    "ExecuteTime": {
     "end_time": "2024-12-04T08:01:20.780170Z",
     "start_time": "2024-12-04T08:01:20.768391Z"
    }
   },
   "cell_type": "code",
   "source": "gdelt.head()",
   "id": "f2e4bd7f578b6ce",
   "outputs": [
    {
     "data": {
      "text/plain": [
       "         Date Actor1Country Actor1GeoCountry Actor1Type Actor2Country  \\\n",
       "0  1546300800           NaN              NaN        CVL           NaN   \n",
       "1  1546300800           MDV               US        NaN           USA   \n",
       "2  1546300800           NaN               US        GOV           NaN   \n",
       "3  1546300800           RUS               RS        NaN           NaN   \n",
       "4  1546300800           USA               US        NaN           NaN   \n",
       "\n",
       "  Actor2GeoCountry Actor2Type ActionCountry      EventType     QuadClass  \\\n",
       "0              NaN        NaN           NaN    Diplom Coop    VerbalCoop   \n",
       "1               US        NaN            US          Fight  MaterialConf   \n",
       "2               US        GOV            US         Appeal    VerbalCoop   \n",
       "3               RS        GOV            RS  Material Coop  MaterialCoop   \n",
       "4              NaN        NaN            US         Appeal    VerbalCoop   \n",
       "\n",
       "   GoldsteinScale  NumSources  NumArticles   AvgTone  \\\n",
       "0             3.4           4           50  2.354384   \n",
       "1           -10.0           2           12 -4.195804   \n",
       "2             3.2          10           20  1.734061   \n",
       "3             6.0           3           30 -0.427182   \n",
       "4             3.0           8           23 -1.376241   \n",
       "\n",
       "                                              Source Actor1TypeGeneral  \\\n",
       "0  https://telegrafi.com/ne-shenj-proteste-labino...             Other   \n",
       "1  http://www.wgow.com/news/manhunt-on-in-texas-f...               NaN   \n",
       "2  https://hanfordsentinel.com/news/national/govt...               GOV   \n",
       "3  http://www.gp.se/nyheter/v%C3%A4rlden/sju-d%C3...               NaN   \n",
       "4  http://www.790wpic.com/news/a-familys-whirlpoo...               NaN   \n",
       "\n",
       "  Actor2TypeGeneral  \n",
       "0               NaN  \n",
       "1               NaN  \n",
       "2               GOV  \n",
       "3               GOV  \n",
       "4               NaN  "
      ],
      "text/html": [
       "<div>\n",
       "<style scoped>\n",
       "    .dataframe tbody tr th:only-of-type {\n",
       "        vertical-align: middle;\n",
       "    }\n",
       "\n",
       "    .dataframe tbody tr th {\n",
       "        vertical-align: top;\n",
       "    }\n",
       "\n",
       "    .dataframe thead th {\n",
       "        text-align: right;\n",
       "    }\n",
       "</style>\n",
       "<table border=\"1\" class=\"dataframe\">\n",
       "  <thead>\n",
       "    <tr style=\"text-align: right;\">\n",
       "      <th></th>\n",
       "      <th>Date</th>\n",
       "      <th>Actor1Country</th>\n",
       "      <th>Actor1GeoCountry</th>\n",
       "      <th>Actor1Type</th>\n",
       "      <th>Actor2Country</th>\n",
       "      <th>Actor2GeoCountry</th>\n",
       "      <th>Actor2Type</th>\n",
       "      <th>ActionCountry</th>\n",
       "      <th>EventType</th>\n",
       "      <th>QuadClass</th>\n",
       "      <th>GoldsteinScale</th>\n",
       "      <th>NumSources</th>\n",
       "      <th>NumArticles</th>\n",
       "      <th>AvgTone</th>\n",
       "      <th>Source</th>\n",
       "      <th>Actor1TypeGeneral</th>\n",
       "      <th>Actor2TypeGeneral</th>\n",
       "    </tr>\n",
       "  </thead>\n",
       "  <tbody>\n",
       "    <tr>\n",
       "      <th>0</th>\n",
       "      <td>1546300800</td>\n",
       "      <td>NaN</td>\n",
       "      <td>NaN</td>\n",
       "      <td>CVL</td>\n",
       "      <td>NaN</td>\n",
       "      <td>NaN</td>\n",
       "      <td>NaN</td>\n",
       "      <td>NaN</td>\n",
       "      <td>Diplom Coop</td>\n",
       "      <td>VerbalCoop</td>\n",
       "      <td>3.4</td>\n",
       "      <td>4</td>\n",
       "      <td>50</td>\n",
       "      <td>2.354384</td>\n",
       "      <td>https://telegrafi.com/ne-shenj-proteste-labino...</td>\n",
       "      <td>Other</td>\n",
       "      <td>NaN</td>\n",
       "    </tr>\n",
       "    <tr>\n",
       "      <th>1</th>\n",
       "      <td>1546300800</td>\n",
       "      <td>MDV</td>\n",
       "      <td>US</td>\n",
       "      <td>NaN</td>\n",
       "      <td>USA</td>\n",
       "      <td>US</td>\n",
       "      <td>NaN</td>\n",
       "      <td>US</td>\n",
       "      <td>Fight</td>\n",
       "      <td>MaterialConf</td>\n",
       "      <td>-10.0</td>\n",
       "      <td>2</td>\n",
       "      <td>12</td>\n",
       "      <td>-4.195804</td>\n",
       "      <td>http://www.wgow.com/news/manhunt-on-in-texas-f...</td>\n",
       "      <td>NaN</td>\n",
       "      <td>NaN</td>\n",
       "    </tr>\n",
       "    <tr>\n",
       "      <th>2</th>\n",
       "      <td>1546300800</td>\n",
       "      <td>NaN</td>\n",
       "      <td>US</td>\n",
       "      <td>GOV</td>\n",
       "      <td>NaN</td>\n",
       "      <td>US</td>\n",
       "      <td>GOV</td>\n",
       "      <td>US</td>\n",
       "      <td>Appeal</td>\n",
       "      <td>VerbalCoop</td>\n",
       "      <td>3.2</td>\n",
       "      <td>10</td>\n",
       "      <td>20</td>\n",
       "      <td>1.734061</td>\n",
       "      <td>https://hanfordsentinel.com/news/national/govt...</td>\n",
       "      <td>GOV</td>\n",
       "      <td>GOV</td>\n",
       "    </tr>\n",
       "    <tr>\n",
       "      <th>3</th>\n",
       "      <td>1546300800</td>\n",
       "      <td>RUS</td>\n",
       "      <td>RS</td>\n",
       "      <td>NaN</td>\n",
       "      <td>NaN</td>\n",
       "      <td>RS</td>\n",
       "      <td>GOV</td>\n",
       "      <td>RS</td>\n",
       "      <td>Material Coop</td>\n",
       "      <td>MaterialCoop</td>\n",
       "      <td>6.0</td>\n",
       "      <td>3</td>\n",
       "      <td>30</td>\n",
       "      <td>-0.427182</td>\n",
       "      <td>http://www.gp.se/nyheter/v%C3%A4rlden/sju-d%C3...</td>\n",
       "      <td>NaN</td>\n",
       "      <td>GOV</td>\n",
       "    </tr>\n",
       "    <tr>\n",
       "      <th>4</th>\n",
       "      <td>1546300800</td>\n",
       "      <td>USA</td>\n",
       "      <td>US</td>\n",
       "      <td>NaN</td>\n",
       "      <td>NaN</td>\n",
       "      <td>NaN</td>\n",
       "      <td>NaN</td>\n",
       "      <td>US</td>\n",
       "      <td>Appeal</td>\n",
       "      <td>VerbalCoop</td>\n",
       "      <td>3.0</td>\n",
       "      <td>8</td>\n",
       "      <td>23</td>\n",
       "      <td>-1.376241</td>\n",
       "      <td>http://www.790wpic.com/news/a-familys-whirlpoo...</td>\n",
       "      <td>NaN</td>\n",
       "      <td>NaN</td>\n",
       "    </tr>\n",
       "  </tbody>\n",
       "</table>\n",
       "</div>"
      ]
     },
     "execution_count": 41,
     "metadata": {},
     "output_type": "execute_result"
    }
   ],
   "execution_count": 41
  },
  {
   "metadata": {
    "ExecuteTime": {
     "end_time": "2024-12-04T08:01:25.046797Z",
     "start_time": "2024-12-04T08:01:20.814989Z"
    }
   },
   "cell_type": "code",
   "source": [
    "from funcs.advanced_describe import advanced_describe\n",
    "\n",
    "advanced_describe(gdelt, drop_cols='Date')"
   ],
   "id": "ecd18f7853fd5aeb",
   "outputs": [
    {
     "data": {
      "text/plain": [
       "                  present   unique  \\\n",
       "Actor1Country         44%      218   \n",
       "Actor1GeoCountry      83%      247   \n",
       "Actor1Type            52%       32   \n",
       "Actor2Country         32%      218   \n",
       "Actor2GeoCountry      58%      247   \n",
       "Actor2Type            35%       32   \n",
       "ActionCountry         94%      249   \n",
       "EventType            100%       20   \n",
       "QuadClass            100%        4   \n",
       "GoldsteinScale       100%      NaN   \n",
       "NumSources           100%      NaN   \n",
       "NumArticles          100%      NaN   \n",
       "AvgTone              100%      NaN   \n",
       "Source               100%  3225243   \n",
       "Actor1TypeGeneral     52%        5   \n",
       "Actor2TypeGeneral     35%        5   \n",
       "\n",
       "                                                                 top   share  \\\n",
       "Actor1Country                                                    USA   9.62%   \n",
       "Actor1GeoCountry                                                  US  16.70%   \n",
       "Actor1Type                                                       GOV  16.47%   \n",
       "Actor2Country                                                    USA   6.21%   \n",
       "Actor2GeoCountry                                                  US  11.48%   \n",
       "Actor2Type                                                       GOV  10.15%   \n",
       "ActionCountry                                                     US  18.78%   \n",
       "EventType                                                    Consult  24.50%   \n",
       "QuadClass                                                 VerbalCoop  60.38%   \n",
       "GoldsteinScale                                                   NaN    None   \n",
       "NumSources                                                       NaN    None   \n",
       "NumArticles                                                      NaN    None   \n",
       "AvgTone                                                          NaN    None   \n",
       "Source             https://www.winnipegfreepress.com/world/2023/0...   0.00%   \n",
       "Actor1TypeGeneral                                                GOV  30.61%   \n",
       "Actor2TypeGeneral                                                GOV  18.81%   \n",
       "\n",
       "                        mean        min       50%        max  \n",
       "Actor1Country            NaN        NaN       NaN        NaN  \n",
       "Actor1GeoCountry         NaN        NaN       NaN        NaN  \n",
       "Actor1Type               NaN        NaN       NaN        NaN  \n",
       "Actor2Country            NaN        NaN       NaN        NaN  \n",
       "Actor2GeoCountry         NaN        NaN       NaN        NaN  \n",
       "Actor2Type               NaN        NaN       NaN        NaN  \n",
       "ActionCountry            NaN        NaN       NaN        NaN  \n",
       "EventType                NaN        NaN       NaN        NaN  \n",
       "QuadClass                NaN        NaN       NaN        NaN  \n",
       "GoldsteinScale      0.502059      -10.0       1.0       10.0  \n",
       "NumSources          2.297014        1.0       2.0       58.0  \n",
       "NumArticles        21.517894       11.0      20.0     2040.0  \n",
       "AvgTone             -2.15403 -38.709677 -1.948052  26.315789  \n",
       "Source                   NaN        NaN       NaN        NaN  \n",
       "Actor1TypeGeneral        NaN        NaN       NaN        NaN  \n",
       "Actor2TypeGeneral        NaN        NaN       NaN        NaN  "
      ],
      "text/html": [
       "<div>\n",
       "<style scoped>\n",
       "    .dataframe tbody tr th:only-of-type {\n",
       "        vertical-align: middle;\n",
       "    }\n",
       "\n",
       "    .dataframe tbody tr th {\n",
       "        vertical-align: top;\n",
       "    }\n",
       "\n",
       "    .dataframe thead th {\n",
       "        text-align: right;\n",
       "    }\n",
       "</style>\n",
       "<table border=\"1\" class=\"dataframe\">\n",
       "  <thead>\n",
       "    <tr style=\"text-align: right;\">\n",
       "      <th></th>\n",
       "      <th>present</th>\n",
       "      <th>unique</th>\n",
       "      <th>top</th>\n",
       "      <th>share</th>\n",
       "      <th>mean</th>\n",
       "      <th>min</th>\n",
       "      <th>50%</th>\n",
       "      <th>max</th>\n",
       "    </tr>\n",
       "  </thead>\n",
       "  <tbody>\n",
       "    <tr>\n",
       "      <th>Actor1Country</th>\n",
       "      <td>44%</td>\n",
       "      <td>218</td>\n",
       "      <td>USA</td>\n",
       "      <td>9.62%</td>\n",
       "      <td>NaN</td>\n",
       "      <td>NaN</td>\n",
       "      <td>NaN</td>\n",
       "      <td>NaN</td>\n",
       "    </tr>\n",
       "    <tr>\n",
       "      <th>Actor1GeoCountry</th>\n",
       "      <td>83%</td>\n",
       "      <td>247</td>\n",
       "      <td>US</td>\n",
       "      <td>16.70%</td>\n",
       "      <td>NaN</td>\n",
       "      <td>NaN</td>\n",
       "      <td>NaN</td>\n",
       "      <td>NaN</td>\n",
       "    </tr>\n",
       "    <tr>\n",
       "      <th>Actor1Type</th>\n",
       "      <td>52%</td>\n",
       "      <td>32</td>\n",
       "      <td>GOV</td>\n",
       "      <td>16.47%</td>\n",
       "      <td>NaN</td>\n",
       "      <td>NaN</td>\n",
       "      <td>NaN</td>\n",
       "      <td>NaN</td>\n",
       "    </tr>\n",
       "    <tr>\n",
       "      <th>Actor2Country</th>\n",
       "      <td>32%</td>\n",
       "      <td>218</td>\n",
       "      <td>USA</td>\n",
       "      <td>6.21%</td>\n",
       "      <td>NaN</td>\n",
       "      <td>NaN</td>\n",
       "      <td>NaN</td>\n",
       "      <td>NaN</td>\n",
       "    </tr>\n",
       "    <tr>\n",
       "      <th>Actor2GeoCountry</th>\n",
       "      <td>58%</td>\n",
       "      <td>247</td>\n",
       "      <td>US</td>\n",
       "      <td>11.48%</td>\n",
       "      <td>NaN</td>\n",
       "      <td>NaN</td>\n",
       "      <td>NaN</td>\n",
       "      <td>NaN</td>\n",
       "    </tr>\n",
       "    <tr>\n",
       "      <th>Actor2Type</th>\n",
       "      <td>35%</td>\n",
       "      <td>32</td>\n",
       "      <td>GOV</td>\n",
       "      <td>10.15%</td>\n",
       "      <td>NaN</td>\n",
       "      <td>NaN</td>\n",
       "      <td>NaN</td>\n",
       "      <td>NaN</td>\n",
       "    </tr>\n",
       "    <tr>\n",
       "      <th>ActionCountry</th>\n",
       "      <td>94%</td>\n",
       "      <td>249</td>\n",
       "      <td>US</td>\n",
       "      <td>18.78%</td>\n",
       "      <td>NaN</td>\n",
       "      <td>NaN</td>\n",
       "      <td>NaN</td>\n",
       "      <td>NaN</td>\n",
       "    </tr>\n",
       "    <tr>\n",
       "      <th>EventType</th>\n",
       "      <td>100%</td>\n",
       "      <td>20</td>\n",
       "      <td>Consult</td>\n",
       "      <td>24.50%</td>\n",
       "      <td>NaN</td>\n",
       "      <td>NaN</td>\n",
       "      <td>NaN</td>\n",
       "      <td>NaN</td>\n",
       "    </tr>\n",
       "    <tr>\n",
       "      <th>QuadClass</th>\n",
       "      <td>100%</td>\n",
       "      <td>4</td>\n",
       "      <td>VerbalCoop</td>\n",
       "      <td>60.38%</td>\n",
       "      <td>NaN</td>\n",
       "      <td>NaN</td>\n",
       "      <td>NaN</td>\n",
       "      <td>NaN</td>\n",
       "    </tr>\n",
       "    <tr>\n",
       "      <th>GoldsteinScale</th>\n",
       "      <td>100%</td>\n",
       "      <td>NaN</td>\n",
       "      <td>NaN</td>\n",
       "      <td>None</td>\n",
       "      <td>0.502059</td>\n",
       "      <td>-10.0</td>\n",
       "      <td>1.0</td>\n",
       "      <td>10.0</td>\n",
       "    </tr>\n",
       "    <tr>\n",
       "      <th>NumSources</th>\n",
       "      <td>100%</td>\n",
       "      <td>NaN</td>\n",
       "      <td>NaN</td>\n",
       "      <td>None</td>\n",
       "      <td>2.297014</td>\n",
       "      <td>1.0</td>\n",
       "      <td>2.0</td>\n",
       "      <td>58.0</td>\n",
       "    </tr>\n",
       "    <tr>\n",
       "      <th>NumArticles</th>\n",
       "      <td>100%</td>\n",
       "      <td>NaN</td>\n",
       "      <td>NaN</td>\n",
       "      <td>None</td>\n",
       "      <td>21.517894</td>\n",
       "      <td>11.0</td>\n",
       "      <td>20.0</td>\n",
       "      <td>2040.0</td>\n",
       "    </tr>\n",
       "    <tr>\n",
       "      <th>AvgTone</th>\n",
       "      <td>100%</td>\n",
       "      <td>NaN</td>\n",
       "      <td>NaN</td>\n",
       "      <td>None</td>\n",
       "      <td>-2.15403</td>\n",
       "      <td>-38.709677</td>\n",
       "      <td>-1.948052</td>\n",
       "      <td>26.315789</td>\n",
       "    </tr>\n",
       "    <tr>\n",
       "      <th>Source</th>\n",
       "      <td>100%</td>\n",
       "      <td>3225243</td>\n",
       "      <td>https://www.winnipegfreepress.com/world/2023/0...</td>\n",
       "      <td>0.00%</td>\n",
       "      <td>NaN</td>\n",
       "      <td>NaN</td>\n",
       "      <td>NaN</td>\n",
       "      <td>NaN</td>\n",
       "    </tr>\n",
       "    <tr>\n",
       "      <th>Actor1TypeGeneral</th>\n",
       "      <td>52%</td>\n",
       "      <td>5</td>\n",
       "      <td>GOV</td>\n",
       "      <td>30.61%</td>\n",
       "      <td>NaN</td>\n",
       "      <td>NaN</td>\n",
       "      <td>NaN</td>\n",
       "      <td>NaN</td>\n",
       "    </tr>\n",
       "    <tr>\n",
       "      <th>Actor2TypeGeneral</th>\n",
       "      <td>35%</td>\n",
       "      <td>5</td>\n",
       "      <td>GOV</td>\n",
       "      <td>18.81%</td>\n",
       "      <td>NaN</td>\n",
       "      <td>NaN</td>\n",
       "      <td>NaN</td>\n",
       "      <td>NaN</td>\n",
       "    </tr>\n",
       "  </tbody>\n",
       "</table>\n",
       "</div>"
      ]
     },
     "execution_count": 42,
     "metadata": {},
     "output_type": "execute_result"
    }
   ],
   "execution_count": 42
  },
  {
   "metadata": {
    "ExecuteTime": {
     "end_time": "2024-12-04T08:01:25.400335Z",
     "start_time": "2024-12-04T08:01:25.102109Z"
    }
   },
   "cell_type": "code",
   "source": [
    "# replace countries not in the top 20 with 'Other'\n",
    "top_countries = gdelt['Actor1Country'].value_counts().head(20).index\n",
    "gdelt['Actor1Country'] = gdelt['Actor1Country'].apply(lambda x: x if x in top_countries else 'Other')\n",
    "gdelt['Actor2Country'] = gdelt['Actor2Country'].apply(lambda x: x if x in top_countries else 'Other')"
   ],
   "id": "25f56fbc71679ee6",
   "outputs": [],
   "execution_count": 43
  },
  {
   "metadata": {
    "ExecuteTime": {
     "end_time": "2024-12-04T08:01:25.797810Z",
     "start_time": "2024-12-04T08:01:25.494354Z"
    }
   },
   "cell_type": "code",
   "source": [
    "# replace geo countries not in the top 20 with 'Other'\n",
    "top_geo_countries = gdelt['Actor1GeoCountry'].value_counts().head(20).index\n",
    "gdelt['Actor1GeoCountry'] = gdelt['Actor1GeoCountry'].apply(lambda x: x if x in top_geo_countries else 'Other')\n",
    "gdelt['Actor2GeoCountry'] = gdelt['Actor2GeoCountry'].apply(lambda x: x if x in top_geo_countries else 'Other')"
   ],
   "id": "412df04e998cf631",
   "outputs": [],
   "execution_count": 44
  },
  {
   "metadata": {
    "ExecuteTime": {
     "end_time": "2024-12-04T08:01:25.949801Z",
     "start_time": "2024-12-04T08:01:25.805586Z"
    }
   },
   "cell_type": "code",
   "source": [
    "# replace action countries not in the top 20 with 'Other'\n",
    "top_action_countries = gdelt['ActionCountry'].value_counts().head(20).index\n",
    "gdelt['ActionCountry'] = gdelt['ActionCountry'].apply(lambda x: x if x in top_action_countries else 'Other')"
   ],
   "id": "d089f57cfffb9c4d",
   "outputs": [],
   "execution_count": 45
  },
  {
   "metadata": {
    "ExecuteTime": {
     "end_time": "2024-12-04T08:01:30.515731Z",
     "start_time": "2024-12-04T08:01:25.958561Z"
    }
   },
   "cell_type": "code",
   "source": [
    "# save cleaned gdelt\n",
    "gdelt.to_parquet('../cache/gdelt_cleaned.parquet')"
   ],
   "id": "106714198236f2ad",
   "outputs": [],
   "execution_count": 46
  }
 ],
 "metadata": {
  "kernelspec": {
   "display_name": "Python 3",
   "language": "python",
   "name": "python3"
  },
  "language_info": {
   "codemirror_mode": {
    "name": "ipython",
    "version": 2
   },
   "file_extension": ".py",
   "mimetype": "text/x-python",
   "name": "python",
   "nbconvert_exporter": "python",
   "pygments_lexer": "ipython2",
   "version": "2.7.6"
  }
 },
 "nbformat": 4,
 "nbformat_minor": 5
}
