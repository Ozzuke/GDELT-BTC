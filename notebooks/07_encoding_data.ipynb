{
 "cells": [
  {
   "cell_type": "code",
   "id": "initial_id",
   "metadata": {
    "collapsed": true,
    "ExecuteTime": {
     "end_time": "2024-12-12T20:03:19.954201Z",
     "start_time": "2024-12-12T20:03:16.012108Z"
    }
   },
   "source": [
    "import pandas as pd\n",
    "\n",
    "merged_0q = pd.read_parquet('../cache/merged_0q.parquet')\n",
    "merged_50q = pd.read_parquet('../cache/merged_50q.parquet')\n",
    "merged_90q = pd.read_parquet('../cache/merged_90q.parquet')\n",
    "merged_99q = pd.read_parquet('../cache/merged_99q.parquet')"
   ],
   "outputs": [],
   "execution_count": 1
  },
  {
   "metadata": {
    "ExecuteTime": {
     "end_time": "2024-12-12T20:03:20.001098Z",
     "start_time": "2024-12-12T20:03:19.987254Z"
    }
   },
   "cell_type": "code",
   "source": "merged_0q.dtypes",
   "id": "d510812689e5032",
   "outputs": [
    {
     "data": {
      "text/plain": [
       "Date                datetime64[ns]\n",
       "Timestamp                    int64\n",
       "Actor1Country               object\n",
       "Actor1GeoCountry            object\n",
       "Actor1Type                  object\n",
       "Actor2Country               object\n",
       "Actor2GeoCountry            object\n",
       "Actor2Type                  object\n",
       "ActionCountry               object\n",
       "EventType                 category\n",
       "GoldsteinScale             float64\n",
       "NumSources                   int64\n",
       "NumArticles                  int64\n",
       "AvgTone                    float64\n",
       "Magnitude                  float64\n",
       "Impact                     float64\n",
       "Impact_bin                  object\n",
       "pct_change_15min           float64\n",
       "pct_change_30min           float64\n",
       "pct_change_24h             float64\n",
       "AbsChange                  float64\n",
       "dtype: object"
      ]
     },
     "execution_count": 2,
     "metadata": {},
     "output_type": "execute_result"
    }
   ],
   "execution_count": 2
  },
  {
   "metadata": {
    "ExecuteTime": {
     "end_time": "2024-12-12T20:03:20.142017Z",
     "start_time": "2024-12-12T20:03:20.136866Z"
    }
   },
   "cell_type": "code",
   "source": "merged_0q.columns",
   "id": "fc2811ffb41578dd",
   "outputs": [
    {
     "data": {
      "text/plain": [
       "Index(['Date', 'Timestamp', 'Actor1Country', 'Actor1GeoCountry', 'Actor1Type',\n",
       "       'Actor2Country', 'Actor2GeoCountry', 'Actor2Type', 'ActionCountry',\n",
       "       'EventType', 'GoldsteinScale', 'NumSources', 'NumArticles', 'AvgTone',\n",
       "       'Magnitude', 'Impact', 'Impact_bin', 'pct_change_15min',\n",
       "       'pct_change_30min', 'pct_change_24h', 'AbsChange'],\n",
       "      dtype='object')"
      ]
     },
     "execution_count": 3,
     "metadata": {},
     "output_type": "execute_result"
    }
   ],
   "execution_count": 3
  },
  {
   "metadata": {
    "ExecuteTime": {
     "end_time": "2024-12-12T20:03:21.194879Z",
     "start_time": "2024-12-12T20:03:20.213150Z"
    }
   },
   "cell_type": "code",
   "source": [
    "numerical_columns = merged_0q.select_dtypes(include=['int64', 'float64']).columns.tolist()\n",
    "for col in numerical_columns:\n",
    "    print(col, merged_0q[col].nunique())"
   ],
   "id": "1b086980d2aeb583",
   "outputs": [
    {
     "name": "stdout",
     "output_type": "stream",
     "text": [
      "Timestamp 171801\n",
      "GoldsteinScale 42\n",
      "NumSources 50\n",
      "NumArticles 354\n",
      "AvgTone 2354698\n",
      "Magnitude 2951\n",
      "Impact 4441\n",
      "pct_change_15min 169341\n",
      "pct_change_30min 169919\n",
      "pct_change_24h 171440\n",
      "AbsChange 168911\n"
     ]
    }
   ],
   "execution_count": 4
  },
  {
   "metadata": {
    "ExecuteTime": {
     "end_time": "2024-12-12T20:03:22.885345Z",
     "start_time": "2024-12-12T20:03:21.205856Z"
    }
   },
   "cell_type": "code",
   "source": [
    "categorical_columns = merged_0q.select_dtypes(include=['object', 'category']).columns.tolist()\n",
    "for col in categorical_columns:\n",
    "    print(col, merged_0q[col].nunique())"
   ],
   "id": "8a866f4a359db203",
   "outputs": [
    {
     "name": "stdout",
     "output_type": "stream",
     "text": [
      "Actor1Country 9\n",
      "Actor1GeoCountry 9\n",
      "Actor1Type 9\n",
      "Actor2Country 9\n",
      "Actor2GeoCountry 9\n",
      "Actor2Type 9\n",
      "ActionCountry 9\n",
      "EventType 9\n",
      "Impact_bin 7\n"
     ]
    }
   ],
   "execution_count": 5
  },
  {
   "metadata": {
    "ExecuteTime": {
     "end_time": "2024-12-12T20:03:41.134733Z",
     "start_time": "2024-12-12T20:03:22.900251Z"
    }
   },
   "cell_type": "code",
   "source": [
    "# label encode the categorical columns\n",
    "from sklearn.preprocessing import LabelEncoder\n",
    "\n",
    "columns_to_encode =['Actor1Country', 'Actor1GeoCountry', 'Actor1Type', 'Actor2Country', 'Actor2GeoCountry', 'Actor2Type', 'ActionCountry', 'EventType']\n",
    "merged_0q_encoded = merged_0q.copy()\n",
    "merged_50q_encoded = merged_50q.copy()\n",
    "merged_90q_encoded = merged_90q.copy()\n",
    "merged_99q_encoded = merged_99q.copy()\n",
    "le = LabelEncoder()\n",
    "\n",
    "# Combine all data for fitting the LabelEncoder\n",
    "combined_data = pd.concat([merged_0q, merged_50q, merged_90q, merged_99q])\n",
    "\n",
    "for col in columns_to_encode:\n",
    "    le.fit(combined_data[col])\n",
    "    merged_0q_encoded[col] = le.transform(merged_0q[col])\n",
    "    merged_50q_encoded[col] = le.transform(merged_50q[col])\n",
    "    merged_90q_encoded[col] = le.transform(merged_90q[col])\n",
    "    merged_99q_encoded[col] = le.transform(merged_99q[col])\n",
    "    "
   ],
   "id": "e899c72828bc5e1d",
   "outputs": [],
   "execution_count": 6
  },
  {
   "metadata": {
    "ExecuteTime": {
     "end_time": "2024-12-12T20:03:41.223016Z",
     "start_time": "2024-12-12T20:03:41.210643Z"
    }
   },
   "cell_type": "code",
   "source": "merged_0q_encoded.head()",
   "id": "19fd4bdf54c514ac",
   "outputs": [
    {
     "data": {
      "text/plain": [
       "        Date   Timestamp  Actor1Country  Actor1GeoCountry  Actor1Type  \\\n",
       "0 2019-01-01  1546300800              9                13           9   \n",
       "1 2019-01-01  1546300800              9                13           9   \n",
       "2 2019-01-01  1546300800              9                20           9   \n",
       "3 2019-01-01  1546300800              9                20           9   \n",
       "4 2019-01-01  1546300800              9                20           9   \n",
       "\n",
       "   Actor2Country  Actor2GeoCountry  Actor2Type  ActionCountry  EventType  ...  \\\n",
       "0             13                11           9             11         10  ...   \n",
       "1             13                11           9             11         10  ...   \n",
       "2             13                11           9             20          1  ...   \n",
       "3             13                11           9             20         10  ...   \n",
       "4             13                11           9             20         10  ...   \n",
       "\n",
       "   NumSources  NumArticles   AvgTone  Magnitude  Impact         Impact_bin  \\\n",
       "0           4           50  2.354384       6.85    2.33           Positive   \n",
       "1           3           30 -0.339542       3.34    1.34  Slightly Positive   \n",
       "2          10           40  1.734061       8.73    2.79           Positive   \n",
       "3           3           21 -4.170072       6.72   -1.34  Slightly Negative   \n",
       "4           6           18  1.415701       5.32    1.01  Slightly Positive   \n",
       "\n",
       "  pct_change_15min  pct_change_30min  pct_change_24h  AbsChange  \n",
       "0        -0.033061         -0.226363       -2.433464   0.226363  \n",
       "1        -0.033061         -0.226363       -2.433464   0.226363  \n",
       "2        -0.033061         -0.226363       -2.433464   0.226363  \n",
       "3        -0.033061         -0.226363       -2.433464   0.226363  \n",
       "4        -0.033061         -0.226363       -2.433464   0.226363  \n",
       "\n",
       "[5 rows x 21 columns]"
      ],
      "text/html": [
       "<div>\n",
       "<style scoped>\n",
       "    .dataframe tbody tr th:only-of-type {\n",
       "        vertical-align: middle;\n",
       "    }\n",
       "\n",
       "    .dataframe tbody tr th {\n",
       "        vertical-align: top;\n",
       "    }\n",
       "\n",
       "    .dataframe thead th {\n",
       "        text-align: right;\n",
       "    }\n",
       "</style>\n",
       "<table border=\"1\" class=\"dataframe\">\n",
       "  <thead>\n",
       "    <tr style=\"text-align: right;\">\n",
       "      <th></th>\n",
       "      <th>Date</th>\n",
       "      <th>Timestamp</th>\n",
       "      <th>Actor1Country</th>\n",
       "      <th>Actor1GeoCountry</th>\n",
       "      <th>Actor1Type</th>\n",
       "      <th>Actor2Country</th>\n",
       "      <th>Actor2GeoCountry</th>\n",
       "      <th>Actor2Type</th>\n",
       "      <th>ActionCountry</th>\n",
       "      <th>EventType</th>\n",
       "      <th>...</th>\n",
       "      <th>NumSources</th>\n",
       "      <th>NumArticles</th>\n",
       "      <th>AvgTone</th>\n",
       "      <th>Magnitude</th>\n",
       "      <th>Impact</th>\n",
       "      <th>Impact_bin</th>\n",
       "      <th>pct_change_15min</th>\n",
       "      <th>pct_change_30min</th>\n",
       "      <th>pct_change_24h</th>\n",
       "      <th>AbsChange</th>\n",
       "    </tr>\n",
       "  </thead>\n",
       "  <tbody>\n",
       "    <tr>\n",
       "      <th>0</th>\n",
       "      <td>2019-01-01</td>\n",
       "      <td>1546300800</td>\n",
       "      <td>9</td>\n",
       "      <td>13</td>\n",
       "      <td>9</td>\n",
       "      <td>13</td>\n",
       "      <td>11</td>\n",
       "      <td>9</td>\n",
       "      <td>11</td>\n",
       "      <td>10</td>\n",
       "      <td>...</td>\n",
       "      <td>4</td>\n",
       "      <td>50</td>\n",
       "      <td>2.354384</td>\n",
       "      <td>6.85</td>\n",
       "      <td>2.33</td>\n",
       "      <td>Positive</td>\n",
       "      <td>-0.033061</td>\n",
       "      <td>-0.226363</td>\n",
       "      <td>-2.433464</td>\n",
       "      <td>0.226363</td>\n",
       "    </tr>\n",
       "    <tr>\n",
       "      <th>1</th>\n",
       "      <td>2019-01-01</td>\n",
       "      <td>1546300800</td>\n",
       "      <td>9</td>\n",
       "      <td>13</td>\n",
       "      <td>9</td>\n",
       "      <td>13</td>\n",
       "      <td>11</td>\n",
       "      <td>9</td>\n",
       "      <td>11</td>\n",
       "      <td>10</td>\n",
       "      <td>...</td>\n",
       "      <td>3</td>\n",
       "      <td>30</td>\n",
       "      <td>-0.339542</td>\n",
       "      <td>3.34</td>\n",
       "      <td>1.34</td>\n",
       "      <td>Slightly Positive</td>\n",
       "      <td>-0.033061</td>\n",
       "      <td>-0.226363</td>\n",
       "      <td>-2.433464</td>\n",
       "      <td>0.226363</td>\n",
       "    </tr>\n",
       "    <tr>\n",
       "      <th>2</th>\n",
       "      <td>2019-01-01</td>\n",
       "      <td>1546300800</td>\n",
       "      <td>9</td>\n",
       "      <td>20</td>\n",
       "      <td>9</td>\n",
       "      <td>13</td>\n",
       "      <td>11</td>\n",
       "      <td>9</td>\n",
       "      <td>20</td>\n",
       "      <td>1</td>\n",
       "      <td>...</td>\n",
       "      <td>10</td>\n",
       "      <td>40</td>\n",
       "      <td>1.734061</td>\n",
       "      <td>8.73</td>\n",
       "      <td>2.79</td>\n",
       "      <td>Positive</td>\n",
       "      <td>-0.033061</td>\n",
       "      <td>-0.226363</td>\n",
       "      <td>-2.433464</td>\n",
       "      <td>0.226363</td>\n",
       "    </tr>\n",
       "    <tr>\n",
       "      <th>3</th>\n",
       "      <td>2019-01-01</td>\n",
       "      <td>1546300800</td>\n",
       "      <td>9</td>\n",
       "      <td>20</td>\n",
       "      <td>9</td>\n",
       "      <td>13</td>\n",
       "      <td>11</td>\n",
       "      <td>9</td>\n",
       "      <td>20</td>\n",
       "      <td>10</td>\n",
       "      <td>...</td>\n",
       "      <td>3</td>\n",
       "      <td>21</td>\n",
       "      <td>-4.170072</td>\n",
       "      <td>6.72</td>\n",
       "      <td>-1.34</td>\n",
       "      <td>Slightly Negative</td>\n",
       "      <td>-0.033061</td>\n",
       "      <td>-0.226363</td>\n",
       "      <td>-2.433464</td>\n",
       "      <td>0.226363</td>\n",
       "    </tr>\n",
       "    <tr>\n",
       "      <th>4</th>\n",
       "      <td>2019-01-01</td>\n",
       "      <td>1546300800</td>\n",
       "      <td>9</td>\n",
       "      <td>20</td>\n",
       "      <td>9</td>\n",
       "      <td>13</td>\n",
       "      <td>11</td>\n",
       "      <td>9</td>\n",
       "      <td>20</td>\n",
       "      <td>10</td>\n",
       "      <td>...</td>\n",
       "      <td>6</td>\n",
       "      <td>18</td>\n",
       "      <td>1.415701</td>\n",
       "      <td>5.32</td>\n",
       "      <td>1.01</td>\n",
       "      <td>Slightly Positive</td>\n",
       "      <td>-0.033061</td>\n",
       "      <td>-0.226363</td>\n",
       "      <td>-2.433464</td>\n",
       "      <td>0.226363</td>\n",
       "    </tr>\n",
       "  </tbody>\n",
       "</table>\n",
       "<p>5 rows × 21 columns</p>\n",
       "</div>"
      ]
     },
     "execution_count": 7,
     "metadata": {},
     "output_type": "execute_result"
    }
   ],
   "execution_count": 7
  },
  {
   "metadata": {
    "ExecuteTime": {
     "end_time": "2024-12-12T20:03:41.264918Z",
     "start_time": "2024-12-12T20:03:41.255026Z"
    }
   },
   "cell_type": "code",
   "source": [
    "# change the index to datetime\n",
    "merged_0q_encoded.set_index('Date', inplace=True)\n",
    "merged_50q_encoded.set_index('Date', inplace=True)\n",
    "merged_90q_encoded.set_index('Date', inplace=True)\n",
    "merged_99q_encoded.set_index('Date', inplace=True)\n",
    "merged_0q_encoded.head()"
   ],
   "id": "66dc865754be5661",
   "outputs": [
    {
     "data": {
      "text/plain": [
       "             Timestamp  Actor1Country  Actor1GeoCountry  Actor1Type  \\\n",
       "Date                                                                  \n",
       "2019-01-01  1546300800              9                13           9   \n",
       "2019-01-01  1546300800              9                13           9   \n",
       "2019-01-01  1546300800              9                20           9   \n",
       "2019-01-01  1546300800              9                20           9   \n",
       "2019-01-01  1546300800              9                20           9   \n",
       "\n",
       "            Actor2Country  Actor2GeoCountry  Actor2Type  ActionCountry  \\\n",
       "Date                                                                     \n",
       "2019-01-01             13                11           9             11   \n",
       "2019-01-01             13                11           9             11   \n",
       "2019-01-01             13                11           9             20   \n",
       "2019-01-01             13                11           9             20   \n",
       "2019-01-01             13                11           9             20   \n",
       "\n",
       "            EventType  GoldsteinScale  NumSources  NumArticles   AvgTone  \\\n",
       "Date                                                                       \n",
       "2019-01-01         10             3.4           4           50  2.354384   \n",
       "2019-01-01         10             4.0           3           30 -0.339542   \n",
       "2019-01-01          1             3.2          10           40  1.734061   \n",
       "2019-01-01         10            -2.0           3           21 -4.170072   \n",
       "2019-01-01         10             1.9           6           18  1.415701   \n",
       "\n",
       "            Magnitude  Impact         Impact_bin  pct_change_15min  \\\n",
       "Date                                                                 \n",
       "2019-01-01       6.85    2.33           Positive         -0.033061   \n",
       "2019-01-01       3.34    1.34  Slightly Positive         -0.033061   \n",
       "2019-01-01       8.73    2.79           Positive         -0.033061   \n",
       "2019-01-01       6.72   -1.34  Slightly Negative         -0.033061   \n",
       "2019-01-01       5.32    1.01  Slightly Positive         -0.033061   \n",
       "\n",
       "            pct_change_30min  pct_change_24h  AbsChange  \n",
       "Date                                                     \n",
       "2019-01-01         -0.226363       -2.433464   0.226363  \n",
       "2019-01-01         -0.226363       -2.433464   0.226363  \n",
       "2019-01-01         -0.226363       -2.433464   0.226363  \n",
       "2019-01-01         -0.226363       -2.433464   0.226363  \n",
       "2019-01-01         -0.226363       -2.433464   0.226363  "
      ],
      "text/html": [
       "<div>\n",
       "<style scoped>\n",
       "    .dataframe tbody tr th:only-of-type {\n",
       "        vertical-align: middle;\n",
       "    }\n",
       "\n",
       "    .dataframe tbody tr th {\n",
       "        vertical-align: top;\n",
       "    }\n",
       "\n",
       "    .dataframe thead th {\n",
       "        text-align: right;\n",
       "    }\n",
       "</style>\n",
       "<table border=\"1\" class=\"dataframe\">\n",
       "  <thead>\n",
       "    <tr style=\"text-align: right;\">\n",
       "      <th></th>\n",
       "      <th>Timestamp</th>\n",
       "      <th>Actor1Country</th>\n",
       "      <th>Actor1GeoCountry</th>\n",
       "      <th>Actor1Type</th>\n",
       "      <th>Actor2Country</th>\n",
       "      <th>Actor2GeoCountry</th>\n",
       "      <th>Actor2Type</th>\n",
       "      <th>ActionCountry</th>\n",
       "      <th>EventType</th>\n",
       "      <th>GoldsteinScale</th>\n",
       "      <th>NumSources</th>\n",
       "      <th>NumArticles</th>\n",
       "      <th>AvgTone</th>\n",
       "      <th>Magnitude</th>\n",
       "      <th>Impact</th>\n",
       "      <th>Impact_bin</th>\n",
       "      <th>pct_change_15min</th>\n",
       "      <th>pct_change_30min</th>\n",
       "      <th>pct_change_24h</th>\n",
       "      <th>AbsChange</th>\n",
       "    </tr>\n",
       "    <tr>\n",
       "      <th>Date</th>\n",
       "      <th></th>\n",
       "      <th></th>\n",
       "      <th></th>\n",
       "      <th></th>\n",
       "      <th></th>\n",
       "      <th></th>\n",
       "      <th></th>\n",
       "      <th></th>\n",
       "      <th></th>\n",
       "      <th></th>\n",
       "      <th></th>\n",
       "      <th></th>\n",
       "      <th></th>\n",
       "      <th></th>\n",
       "      <th></th>\n",
       "      <th></th>\n",
       "      <th></th>\n",
       "      <th></th>\n",
       "      <th></th>\n",
       "      <th></th>\n",
       "    </tr>\n",
       "  </thead>\n",
       "  <tbody>\n",
       "    <tr>\n",
       "      <th>2019-01-01</th>\n",
       "      <td>1546300800</td>\n",
       "      <td>9</td>\n",
       "      <td>13</td>\n",
       "      <td>9</td>\n",
       "      <td>13</td>\n",
       "      <td>11</td>\n",
       "      <td>9</td>\n",
       "      <td>11</td>\n",
       "      <td>10</td>\n",
       "      <td>3.4</td>\n",
       "      <td>4</td>\n",
       "      <td>50</td>\n",
       "      <td>2.354384</td>\n",
       "      <td>6.85</td>\n",
       "      <td>2.33</td>\n",
       "      <td>Positive</td>\n",
       "      <td>-0.033061</td>\n",
       "      <td>-0.226363</td>\n",
       "      <td>-2.433464</td>\n",
       "      <td>0.226363</td>\n",
       "    </tr>\n",
       "    <tr>\n",
       "      <th>2019-01-01</th>\n",
       "      <td>1546300800</td>\n",
       "      <td>9</td>\n",
       "      <td>13</td>\n",
       "      <td>9</td>\n",
       "      <td>13</td>\n",
       "      <td>11</td>\n",
       "      <td>9</td>\n",
       "      <td>11</td>\n",
       "      <td>10</td>\n",
       "      <td>4.0</td>\n",
       "      <td>3</td>\n",
       "      <td>30</td>\n",
       "      <td>-0.339542</td>\n",
       "      <td>3.34</td>\n",
       "      <td>1.34</td>\n",
       "      <td>Slightly Positive</td>\n",
       "      <td>-0.033061</td>\n",
       "      <td>-0.226363</td>\n",
       "      <td>-2.433464</td>\n",
       "      <td>0.226363</td>\n",
       "    </tr>\n",
       "    <tr>\n",
       "      <th>2019-01-01</th>\n",
       "      <td>1546300800</td>\n",
       "      <td>9</td>\n",
       "      <td>20</td>\n",
       "      <td>9</td>\n",
       "      <td>13</td>\n",
       "      <td>11</td>\n",
       "      <td>9</td>\n",
       "      <td>20</td>\n",
       "      <td>1</td>\n",
       "      <td>3.2</td>\n",
       "      <td>10</td>\n",
       "      <td>40</td>\n",
       "      <td>1.734061</td>\n",
       "      <td>8.73</td>\n",
       "      <td>2.79</td>\n",
       "      <td>Positive</td>\n",
       "      <td>-0.033061</td>\n",
       "      <td>-0.226363</td>\n",
       "      <td>-2.433464</td>\n",
       "      <td>0.226363</td>\n",
       "    </tr>\n",
       "    <tr>\n",
       "      <th>2019-01-01</th>\n",
       "      <td>1546300800</td>\n",
       "      <td>9</td>\n",
       "      <td>20</td>\n",
       "      <td>9</td>\n",
       "      <td>13</td>\n",
       "      <td>11</td>\n",
       "      <td>9</td>\n",
       "      <td>20</td>\n",
       "      <td>10</td>\n",
       "      <td>-2.0</td>\n",
       "      <td>3</td>\n",
       "      <td>21</td>\n",
       "      <td>-4.170072</td>\n",
       "      <td>6.72</td>\n",
       "      <td>-1.34</td>\n",
       "      <td>Slightly Negative</td>\n",
       "      <td>-0.033061</td>\n",
       "      <td>-0.226363</td>\n",
       "      <td>-2.433464</td>\n",
       "      <td>0.226363</td>\n",
       "    </tr>\n",
       "    <tr>\n",
       "      <th>2019-01-01</th>\n",
       "      <td>1546300800</td>\n",
       "      <td>9</td>\n",
       "      <td>20</td>\n",
       "      <td>9</td>\n",
       "      <td>13</td>\n",
       "      <td>11</td>\n",
       "      <td>9</td>\n",
       "      <td>20</td>\n",
       "      <td>10</td>\n",
       "      <td>1.9</td>\n",
       "      <td>6</td>\n",
       "      <td>18</td>\n",
       "      <td>1.415701</td>\n",
       "      <td>5.32</td>\n",
       "      <td>1.01</td>\n",
       "      <td>Slightly Positive</td>\n",
       "      <td>-0.033061</td>\n",
       "      <td>-0.226363</td>\n",
       "      <td>-2.433464</td>\n",
       "      <td>0.226363</td>\n",
       "    </tr>\n",
       "  </tbody>\n",
       "</table>\n",
       "</div>"
      ]
     },
     "execution_count": 8,
     "metadata": {},
     "output_type": "execute_result"
    }
   ],
   "execution_count": 8
  },
  {
   "metadata": {
    "ExecuteTime": {
     "end_time": "2024-12-12T20:03:41.392385Z",
     "start_time": "2024-12-12T20:03:41.387783Z"
    }
   },
   "cell_type": "code",
   "source": "merged_0q_encoded.dtypes",
   "id": "30d1eb70b73c8310",
   "outputs": [
    {
     "data": {
      "text/plain": [
       "Timestamp             int64\n",
       "Actor1Country         int64\n",
       "Actor1GeoCountry      int64\n",
       "Actor1Type            int64\n",
       "Actor2Country         int64\n",
       "Actor2GeoCountry      int64\n",
       "Actor2Type            int64\n",
       "ActionCountry         int64\n",
       "EventType             int64\n",
       "GoldsteinScale      float64\n",
       "NumSources            int64\n",
       "NumArticles           int64\n",
       "AvgTone             float64\n",
       "Magnitude           float64\n",
       "Impact              float64\n",
       "Impact_bin           object\n",
       "pct_change_15min    float64\n",
       "pct_change_30min    float64\n",
       "pct_change_24h      float64\n",
       "AbsChange           float64\n",
       "dtype: object"
      ]
     },
     "execution_count": 9,
     "metadata": {},
     "output_type": "execute_result"
    }
   ],
   "execution_count": 9
  },
  {
   "metadata": {
    "ExecuteTime": {
     "end_time": "2024-12-12T20:03:41.487322Z",
     "start_time": "2024-12-12T20:03:41.483695Z"
    }
   },
   "cell_type": "code",
   "source": [
    "# convert bool columns to int (currently not needed)\n",
    "# bool_columns = merged_encoded.select_dtypes(include='bool').columns\n",
    "# merged_encoded[bool_columns] = merged_encoded[bool_columns].astype(int)"
   ],
   "id": "c133112497982a8a",
   "outputs": [],
   "execution_count": 10
  },
  {
   "metadata": {
    "ExecuteTime": {
     "end_time": "2024-12-12T20:03:50.398960Z",
     "start_time": "2024-12-12T20:03:41.571735Z"
    }
   },
   "cell_type": "code",
   "source": [
    "merged_0q_encoded.to_parquet(\"../cache/encoded_0q.parquet\")\n",
    "merged_50q_encoded.to_parquet(\"../cache/encoded_50q.parquet\")\n",
    "merged_90q_encoded.to_parquet(\"../cache/encoded_90q.parquet\")\n",
    "merged_99q_encoded.to_parquet(\"../cache/encoded_99q.parquet\")"
   ],
   "id": "71630446ad6072cc",
   "outputs": [],
   "execution_count": 11
  },
  {
   "metadata": {
    "ExecuteTime": {
     "end_time": "2024-12-12T20:03:55.330329Z",
     "start_time": "2024-12-12T20:03:50.413227Z"
    }
   },
   "cell_type": "code",
   "source": [
    "# now use standard scaling to scale the numerical columns\n",
    "from sklearn.preprocessing import StandardScaler\n",
    "\n",
    "# Exclude the pct_change columns\n",
    "columns_to_exclude = ['pct_change_15min', 'pct_change_30min', 'pct_change_24h']\n",
    "numerical_columns_to_scale = [col for col in numerical_columns if col not in columns_to_exclude]\n",
    "\n",
    "# Fit the scaler on the combined data\n",
    "scaler = StandardScaler()\n",
    "scaler.fit(combined_data[numerical_columns_to_scale])\n",
    "\n",
    "merged_0q_encoded[numerical_columns_to_scale] = scaler.transform(merged_0q_encoded[numerical_columns_to_scale])\n",
    "merged_50q_encoded[numerical_columns_to_scale] = scaler.transform(merged_50q_encoded[numerical_columns_to_scale])\n",
    "merged_90q_encoded[numerical_columns_to_scale] = scaler.transform(merged_90q_encoded[numerical_columns_to_scale])\n",
    "merged_99q_encoded[numerical_columns_to_scale] = scaler.transform(merged_99q_encoded[numerical_columns_to_scale])"
   ],
   "id": "9ec56e09d190346",
   "outputs": [],
   "execution_count": 12
  },
  {
   "metadata": {
    "ExecuteTime": {
     "end_time": "2024-12-12T20:04:03.925777Z",
     "start_time": "2024-12-12T20:03:55.470775Z"
    }
   },
   "cell_type": "code",
   "source": [
    "merged_0q_encoded.to_parquet(\"../cache/encoded_0q_scaled.parquet\")\n",
    "merged_50q_encoded.to_parquet(\"../cache/encoded_50q_scaled.parquet\")\n",
    "merged_90q_encoded.to_parquet(\"../cache/encoded_90q_scaled.parquet\")\n",
    "merged_99q_encoded.to_parquet(\"../cache/encoded_99q_scaled.parquet\")"
   ],
   "id": "17121d96bed5428",
   "outputs": [],
   "execution_count": 14
  }
 ],
 "metadata": {
  "kernelspec": {
   "display_name": "Python 3",
   "language": "python",
   "name": "python3"
  },
  "language_info": {
   "codemirror_mode": {
    "name": "ipython",
    "version": 2
   },
   "file_extension": ".py",
   "mimetype": "text/x-python",
   "name": "python",
   "nbconvert_exporter": "python",
   "pygments_lexer": "ipython2",
   "version": "2.7.6"
  }
 },
 "nbformat": 4,
 "nbformat_minor": 5
}
