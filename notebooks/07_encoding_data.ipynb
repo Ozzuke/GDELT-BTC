{
 "cells": [
  {
   "cell_type": "code",
   "id": "initial_id",
   "metadata": {
    "collapsed": true,
    "ExecuteTime": {
     "end_time": "2024-12-13T10:16:14.739926Z",
     "start_time": "2024-12-13T10:16:14.521625Z"
    }
   },
   "source": [
    "import pandas as pd\n",
    "\n",
    "merged_0q = pd.read_parquet('../cache/merged_0q.parquet')\n",
    "merged_50q = pd.read_parquet('../cache/merged_50q.parquet')\n",
    "merged_90q = pd.read_parquet('../cache/merged_90q.parquet')\n",
    "merged_99q = pd.read_parquet('../cache/merged_99q.parquet')"
   ],
   "outputs": [],
   "execution_count": 47
  },
  {
   "metadata": {
    "ExecuteTime": {
     "end_time": "2024-12-13T10:16:14.752560Z",
     "start_time": "2024-12-13T10:16:14.747863Z"
    }
   },
   "cell_type": "code",
   "source": "merged_0q.dtypes",
   "id": "d510812689e5032",
   "outputs": [
    {
     "data": {
      "text/plain": [
       "Date                datetime64[ns]\n",
       "Timestamp                    int64\n",
       "Actor1Country               object\n",
       "Actor1GeoCountry            object\n",
       "Actor1Type                  object\n",
       "Actor2Country               object\n",
       "Actor2GeoCountry            object\n",
       "Actor2Type                  object\n",
       "ActionCountry               object\n",
       "EventType                 category\n",
       "GoldsteinScale             float64\n",
       "NumSources                   int64\n",
       "NumArticles                  int64\n",
       "AvgTone                    float64\n",
       "Magnitude                  float64\n",
       "Impact                     float64\n",
       "Impact_bin                  object\n",
       "pct_change_15min           float64\n",
       "pct_change_30min           float64\n",
       "pct_change_24h             float64\n",
       "AbsChange                  float64\n",
       "dtype: object"
      ]
     },
     "execution_count": 48,
     "metadata": {},
     "output_type": "execute_result"
    }
   ],
   "execution_count": 48
  },
  {
   "metadata": {
    "ExecuteTime": {
     "end_time": "2024-12-13T10:16:14.852831Z",
     "start_time": "2024-12-13T10:16:14.845531Z"
    }
   },
   "cell_type": "code",
   "source": "merged_0q.columns",
   "id": "fc2811ffb41578dd",
   "outputs": [
    {
     "data": {
      "text/plain": [
       "Index(['Date', 'Timestamp', 'Actor1Country', 'Actor1GeoCountry', 'Actor1Type',\n",
       "       'Actor2Country', 'Actor2GeoCountry', 'Actor2Type', 'ActionCountry',\n",
       "       'EventType', 'GoldsteinScale', 'NumSources', 'NumArticles', 'AvgTone',\n",
       "       'Magnitude', 'Impact', 'Impact_bin', 'pct_change_15min',\n",
       "       'pct_change_30min', 'pct_change_24h', 'AbsChange'],\n",
       "      dtype='object')"
      ]
     },
     "execution_count": 49,
     "metadata": {},
     "output_type": "execute_result"
    }
   ],
   "execution_count": 49
  },
  {
   "metadata": {
    "ExecuteTime": {
     "end_time": "2024-12-13T10:16:15.005261Z",
     "start_time": "2024-12-13T10:16:14.928718Z"
    }
   },
   "cell_type": "code",
   "source": [
    "numerical_columns = merged_0q.select_dtypes(include=['int64', 'float64']).columns.tolist()\n",
    "for col in numerical_columns:\n",
    "    print(col, merged_0q[col].nunique())"
   ],
   "id": "1b086980d2aeb583",
   "outputs": [
    {
     "name": "stdout",
     "output_type": "stream",
     "text": [
      "Timestamp 171801\n",
      "GoldsteinScale 42\n",
      "NumSources 30\n",
      "NumArticles 203\n",
      "AvgTone 136291\n",
      "Magnitude 2265\n",
      "Impact 3408\n",
      "pct_change_15min 169341\n",
      "pct_change_30min 169919\n",
      "pct_change_24h 171440\n",
      "AbsChange 168911\n"
     ]
    }
   ],
   "execution_count": 50
  },
  {
   "metadata": {
    "ExecuteTime": {
     "end_time": "2024-12-13T10:16:15.245914Z",
     "start_time": "2024-12-13T10:16:15.169494Z"
    }
   },
   "cell_type": "code",
   "source": [
    "categorical_columns = merged_0q.select_dtypes(include=['object', 'category']).columns.tolist()\n",
    "for col in categorical_columns:\n",
    "    print(col, merged_0q[col].nunique())"
   ],
   "id": "8a866f4a359db203",
   "outputs": [
    {
     "name": "stdout",
     "output_type": "stream",
     "text": [
      "Actor1Country 9\n",
      "Actor1GeoCountry 9\n",
      "Actor1Type 8\n",
      "Actor2Country 9\n",
      "Actor2GeoCountry 9\n",
      "Actor2Type 8\n",
      "ActionCountry 9\n",
      "EventType 9\n",
      "Impact_bin 7\n"
     ]
    }
   ],
   "execution_count": 51
  },
  {
   "metadata": {
    "ExecuteTime": {
     "end_time": "2024-12-13T10:16:15.279069Z",
     "start_time": "2024-12-13T10:16:15.261612Z"
    }
   },
   "cell_type": "code",
   "source": [
    "from sklearn.preprocessing import LabelEncoder, StandardScaler\n",
    "def prep_data(df,\n",
    "              catg_cols=('Actor1Country', 'Actor1GeoCountry', 'Actor1Type', 'Actor2Country', 'Actor2GeoCountry', 'Actor2Type', 'ActionCountry', 'EventType'),\n",
    "              num_cols=('AvgTone', 'GoldsteinScale', 'NumSources', 'NumArticles')):\n",
    "    encoders = {}\n",
    "    for catg_col in catg_cols:\n",
    "        encoders[catg_col] = LabelEncoder()\n",
    "        df[f'{catg_col}_enc'] = encoders[catg_col].fit_transform(df[catg_col])\n",
    "    \n",
    "    num_cols = list(num_cols) + [f'{feature}_enc' for feature in catg_cols]\n",
    "    scaler = StandardScaler()\n",
    "    df[num_cols] = scaler.fit_transform(df[num_cols])\n",
    "    \n",
    "    return df, encoders, scaler, num_cols"
   ],
   "id": "7c423fd3a7dd0096",
   "outputs": [],
   "execution_count": 52
  },
  {
   "metadata": {
    "ExecuteTime": {
     "end_time": "2024-12-13T10:16:15.890234Z",
     "start_time": "2024-12-13T10:16:15.342314Z"
    }
   },
   "cell_type": "code",
   "source": [
    "df_0q_encoded, encoders_0q, scaler_0q, num_cols_0q = prep_data(merged_0q)\n",
    "df_50q_encoded, encoders_50q, scaler_50q, num_cols_50q = prep_data(merged_50q)\n",
    "df_90q_encoded, encoders_90q, scaler_90q, num_cols_90q = prep_data(merged_90q)\n",
    "df_99q_encoded, encoders_99q, scaler_99q, num_cols_99q = prep_data(merged_99q)"
   ],
   "id": "e899c72828bc5e1d",
   "outputs": [],
   "execution_count": 53
  },
  {
   "metadata": {
    "ExecuteTime": {
     "end_time": "2024-12-13T10:16:15.954223Z",
     "start_time": "2024-12-13T10:16:15.939765Z"
    }
   },
   "cell_type": "code",
   "source": "df_0q_encoded.head()",
   "id": "19fd4bdf54c514ac",
   "outputs": [
    {
     "data": {
      "text/plain": [
       "                 Date   Timestamp Actor1Country Actor1GeoCountry Actor1Type  \\\n",
       "0 2019-01-01 00:00:00  1546300800         Other               AS        MIL   \n",
       "1 2019-01-01 00:15:00  1546301700         Other               US      Other   \n",
       "2 2019-01-01 00:30:00  1546302600         Other               US      Other   \n",
       "3 2019-01-01 00:45:00  1546303500         Other               AJ      Other   \n",
       "4 2019-01-01 01:00:00  1546304400         Other               PE        UAF   \n",
       "\n",
       "  Actor2Country Actor2GeoCountry Actor2Type ActionCountry EventType  ...  \\\n",
       "0         Other               AS      Other            AS     Other  ...   \n",
       "1         Other            Other      Other            US     Fight  ...   \n",
       "2         Other            Other      Other            US     Fight  ...   \n",
       "3         Other            Other      Other            AJ     Other  ...   \n",
       "4         Other               PE      Other            PE     Fight  ...   \n",
       "\n",
       "   pct_change_24h  AbsChange  Actor1Country_enc  Actor1GeoCountry_enc  \\\n",
       "0       -2.433464   0.226363           0.127864             -1.434100   \n",
       "1       -1.891779   2.578560           0.127864              0.969019   \n",
       "2       -1.775994   1.509301           0.127864              0.969019   \n",
       "3        0.895776   0.781614           0.127864             -1.834620   \n",
       "4        0.356518   0.291943           0.127864             -0.232540   \n",
       "\n",
       "   Actor1Type_enc  Actor2Country_enc Actor2GeoCountry_enc  Actor2Type_enc  \\\n",
       "0       -1.578934           0.164392            -1.784813        0.190843   \n",
       "1        0.218327           0.164392             0.209139        0.190843   \n",
       "2        0.218327           0.164392             0.209139        0.190843   \n",
       "3        0.218327           0.164392             0.209139        0.190843   \n",
       "4        2.914218           0.164392             0.873790        0.190843   \n",
       "\n",
       "   ActionCountry_enc  EventType_enc  \n",
       "0          -1.409427       0.795094  \n",
       "1           0.956949      -0.027327  \n",
       "2           0.956949      -0.027327  \n",
       "3          -1.803824       0.795094  \n",
       "4          -0.226239      -0.027327  \n",
       "\n",
       "[5 rows x 29 columns]"
      ],
      "text/html": [
       "<div>\n",
       "<style scoped>\n",
       "    .dataframe tbody tr th:only-of-type {\n",
       "        vertical-align: middle;\n",
       "    }\n",
       "\n",
       "    .dataframe tbody tr th {\n",
       "        vertical-align: top;\n",
       "    }\n",
       "\n",
       "    .dataframe thead th {\n",
       "        text-align: right;\n",
       "    }\n",
       "</style>\n",
       "<table border=\"1\" class=\"dataframe\">\n",
       "  <thead>\n",
       "    <tr style=\"text-align: right;\">\n",
       "      <th></th>\n",
       "      <th>Date</th>\n",
       "      <th>Timestamp</th>\n",
       "      <th>Actor1Country</th>\n",
       "      <th>Actor1GeoCountry</th>\n",
       "      <th>Actor1Type</th>\n",
       "      <th>Actor2Country</th>\n",
       "      <th>Actor2GeoCountry</th>\n",
       "      <th>Actor2Type</th>\n",
       "      <th>ActionCountry</th>\n",
       "      <th>EventType</th>\n",
       "      <th>...</th>\n",
       "      <th>pct_change_24h</th>\n",
       "      <th>AbsChange</th>\n",
       "      <th>Actor1Country_enc</th>\n",
       "      <th>Actor1GeoCountry_enc</th>\n",
       "      <th>Actor1Type_enc</th>\n",
       "      <th>Actor2Country_enc</th>\n",
       "      <th>Actor2GeoCountry_enc</th>\n",
       "      <th>Actor2Type_enc</th>\n",
       "      <th>ActionCountry_enc</th>\n",
       "      <th>EventType_enc</th>\n",
       "    </tr>\n",
       "  </thead>\n",
       "  <tbody>\n",
       "    <tr>\n",
       "      <th>0</th>\n",
       "      <td>2019-01-01 00:00:00</td>\n",
       "      <td>1546300800</td>\n",
       "      <td>Other</td>\n",
       "      <td>AS</td>\n",
       "      <td>MIL</td>\n",
       "      <td>Other</td>\n",
       "      <td>AS</td>\n",
       "      <td>Other</td>\n",
       "      <td>AS</td>\n",
       "      <td>Other</td>\n",
       "      <td>...</td>\n",
       "      <td>-2.433464</td>\n",
       "      <td>0.226363</td>\n",
       "      <td>0.127864</td>\n",
       "      <td>-1.434100</td>\n",
       "      <td>-1.578934</td>\n",
       "      <td>0.164392</td>\n",
       "      <td>-1.784813</td>\n",
       "      <td>0.190843</td>\n",
       "      <td>-1.409427</td>\n",
       "      <td>0.795094</td>\n",
       "    </tr>\n",
       "    <tr>\n",
       "      <th>1</th>\n",
       "      <td>2019-01-01 00:15:00</td>\n",
       "      <td>1546301700</td>\n",
       "      <td>Other</td>\n",
       "      <td>US</td>\n",
       "      <td>Other</td>\n",
       "      <td>Other</td>\n",
       "      <td>Other</td>\n",
       "      <td>Other</td>\n",
       "      <td>US</td>\n",
       "      <td>Fight</td>\n",
       "      <td>...</td>\n",
       "      <td>-1.891779</td>\n",
       "      <td>2.578560</td>\n",
       "      <td>0.127864</td>\n",
       "      <td>0.969019</td>\n",
       "      <td>0.218327</td>\n",
       "      <td>0.164392</td>\n",
       "      <td>0.209139</td>\n",
       "      <td>0.190843</td>\n",
       "      <td>0.956949</td>\n",
       "      <td>-0.027327</td>\n",
       "    </tr>\n",
       "    <tr>\n",
       "      <th>2</th>\n",
       "      <td>2019-01-01 00:30:00</td>\n",
       "      <td>1546302600</td>\n",
       "      <td>Other</td>\n",
       "      <td>US</td>\n",
       "      <td>Other</td>\n",
       "      <td>Other</td>\n",
       "      <td>Other</td>\n",
       "      <td>Other</td>\n",
       "      <td>US</td>\n",
       "      <td>Fight</td>\n",
       "      <td>...</td>\n",
       "      <td>-1.775994</td>\n",
       "      <td>1.509301</td>\n",
       "      <td>0.127864</td>\n",
       "      <td>0.969019</td>\n",
       "      <td>0.218327</td>\n",
       "      <td>0.164392</td>\n",
       "      <td>0.209139</td>\n",
       "      <td>0.190843</td>\n",
       "      <td>0.956949</td>\n",
       "      <td>-0.027327</td>\n",
       "    </tr>\n",
       "    <tr>\n",
       "      <th>3</th>\n",
       "      <td>2019-01-01 00:45:00</td>\n",
       "      <td>1546303500</td>\n",
       "      <td>Other</td>\n",
       "      <td>AJ</td>\n",
       "      <td>Other</td>\n",
       "      <td>Other</td>\n",
       "      <td>Other</td>\n",
       "      <td>Other</td>\n",
       "      <td>AJ</td>\n",
       "      <td>Other</td>\n",
       "      <td>...</td>\n",
       "      <td>0.895776</td>\n",
       "      <td>0.781614</td>\n",
       "      <td>0.127864</td>\n",
       "      <td>-1.834620</td>\n",
       "      <td>0.218327</td>\n",
       "      <td>0.164392</td>\n",
       "      <td>0.209139</td>\n",
       "      <td>0.190843</td>\n",
       "      <td>-1.803824</td>\n",
       "      <td>0.795094</td>\n",
       "    </tr>\n",
       "    <tr>\n",
       "      <th>4</th>\n",
       "      <td>2019-01-01 01:00:00</td>\n",
       "      <td>1546304400</td>\n",
       "      <td>Other</td>\n",
       "      <td>PE</td>\n",
       "      <td>UAF</td>\n",
       "      <td>Other</td>\n",
       "      <td>PE</td>\n",
       "      <td>Other</td>\n",
       "      <td>PE</td>\n",
       "      <td>Fight</td>\n",
       "      <td>...</td>\n",
       "      <td>0.356518</td>\n",
       "      <td>0.291943</td>\n",
       "      <td>0.127864</td>\n",
       "      <td>-0.232540</td>\n",
       "      <td>2.914218</td>\n",
       "      <td>0.164392</td>\n",
       "      <td>0.873790</td>\n",
       "      <td>0.190843</td>\n",
       "      <td>-0.226239</td>\n",
       "      <td>-0.027327</td>\n",
       "    </tr>\n",
       "  </tbody>\n",
       "</table>\n",
       "<p>5 rows × 29 columns</p>\n",
       "</div>"
      ]
     },
     "execution_count": 54,
     "metadata": {},
     "output_type": "execute_result"
    }
   ],
   "execution_count": 54
  },
  {
   "metadata": {
    "ExecuteTime": {
     "end_time": "2024-12-13T10:16:16.052843Z",
     "start_time": "2024-12-13T10:16:16.023213Z"
    }
   },
   "cell_type": "code",
   "source": [
    "dfs = [df_0q_encoded, df_50q_encoded, df_90q_encoded, df_99q_encoded]\n",
    "num_cols = [num_cols_0q, num_cols_50q, num_cols_90q, num_cols_99q]\n",
    "for i, df in enumerate(dfs):\n",
    "    df.set_index('Date', inplace=True)\n",
    "    # keep only numerical + btc price columns\n",
    "    df = df[num_cols[i] + ['pct_change_30min']]\n",
    "    dfs[i] = df\n",
    "df_0q, df_50q, df_90q, df_99q = dfs"
   ],
   "id": "66dc865754be5661",
   "outputs": [],
   "execution_count": 55
  },
  {
   "metadata": {
    "ExecuteTime": {
     "end_time": "2024-12-13T10:16:16.137381Z",
     "start_time": "2024-12-13T10:16:16.121816Z"
    }
   },
   "cell_type": "code",
   "source": "df_0q.head()",
   "id": "30d1eb70b73c8310",
   "outputs": [
    {
     "data": {
      "text/plain": [
       "                      AvgTone  GoldsteinScale  NumSources  NumArticles  \\\n",
       "Date                                                                     \n",
       "2019-01-01 00:00:00 -1.152286       -0.771788   -0.184615    -0.113108   \n",
       "2019-01-01 00:15:00  0.716626       -1.277835    3.176668     3.491856   \n",
       "2019-01-01 00:30:00 -0.275271       -1.277835    4.297096     2.290202   \n",
       "2019-01-01 00:45:00  3.460546        0.982507   -0.744829    -0.353439   \n",
       "2019-01-01 01:00:00  0.350195       -1.277835   -0.184615    -0.113108   \n",
       "\n",
       "                     Actor1Country_enc  Actor1GeoCountry_enc  Actor1Type_enc  \\\n",
       "Date                                                                           \n",
       "2019-01-01 00:00:00           0.127864             -1.434100       -1.578934   \n",
       "2019-01-01 00:15:00           0.127864              0.969019        0.218327   \n",
       "2019-01-01 00:30:00           0.127864              0.969019        0.218327   \n",
       "2019-01-01 00:45:00           0.127864             -1.834620        0.218327   \n",
       "2019-01-01 01:00:00           0.127864             -0.232540        2.914218   \n",
       "\n",
       "                     Actor2Country_enc  Actor2GeoCountry_enc  Actor2Type_enc  \\\n",
       "Date                                                                           \n",
       "2019-01-01 00:00:00           0.164392             -1.784813        0.190843   \n",
       "2019-01-01 00:15:00           0.164392              0.209139        0.190843   \n",
       "2019-01-01 00:30:00           0.164392              0.209139        0.190843   \n",
       "2019-01-01 00:45:00           0.164392              0.209139        0.190843   \n",
       "2019-01-01 01:00:00           0.164392              0.873790        0.190843   \n",
       "\n",
       "                     ActionCountry_enc  EventType_enc  pct_change_30min  \n",
       "Date                                                                     \n",
       "2019-01-01 00:00:00          -1.409427       0.795094         -0.226363  \n",
       "2019-01-01 00:15:00           0.956949      -0.027327         -2.578560  \n",
       "2019-01-01 00:30:00           0.956949      -0.027327         -1.509301  \n",
       "2019-01-01 00:45:00          -1.803824       0.795094          0.781614  \n",
       "2019-01-01 01:00:00          -0.226239      -0.027327         -0.291943  "
      ],
      "text/html": [
       "<div>\n",
       "<style scoped>\n",
       "    .dataframe tbody tr th:only-of-type {\n",
       "        vertical-align: middle;\n",
       "    }\n",
       "\n",
       "    .dataframe tbody tr th {\n",
       "        vertical-align: top;\n",
       "    }\n",
       "\n",
       "    .dataframe thead th {\n",
       "        text-align: right;\n",
       "    }\n",
       "</style>\n",
       "<table border=\"1\" class=\"dataframe\">\n",
       "  <thead>\n",
       "    <tr style=\"text-align: right;\">\n",
       "      <th></th>\n",
       "      <th>AvgTone</th>\n",
       "      <th>GoldsteinScale</th>\n",
       "      <th>NumSources</th>\n",
       "      <th>NumArticles</th>\n",
       "      <th>Actor1Country_enc</th>\n",
       "      <th>Actor1GeoCountry_enc</th>\n",
       "      <th>Actor1Type_enc</th>\n",
       "      <th>Actor2Country_enc</th>\n",
       "      <th>Actor2GeoCountry_enc</th>\n",
       "      <th>Actor2Type_enc</th>\n",
       "      <th>ActionCountry_enc</th>\n",
       "      <th>EventType_enc</th>\n",
       "      <th>pct_change_30min</th>\n",
       "    </tr>\n",
       "    <tr>\n",
       "      <th>Date</th>\n",
       "      <th></th>\n",
       "      <th></th>\n",
       "      <th></th>\n",
       "      <th></th>\n",
       "      <th></th>\n",
       "      <th></th>\n",
       "      <th></th>\n",
       "      <th></th>\n",
       "      <th></th>\n",
       "      <th></th>\n",
       "      <th></th>\n",
       "      <th></th>\n",
       "      <th></th>\n",
       "    </tr>\n",
       "  </thead>\n",
       "  <tbody>\n",
       "    <tr>\n",
       "      <th>2019-01-01 00:00:00</th>\n",
       "      <td>-1.152286</td>\n",
       "      <td>-0.771788</td>\n",
       "      <td>-0.184615</td>\n",
       "      <td>-0.113108</td>\n",
       "      <td>0.127864</td>\n",
       "      <td>-1.434100</td>\n",
       "      <td>-1.578934</td>\n",
       "      <td>0.164392</td>\n",
       "      <td>-1.784813</td>\n",
       "      <td>0.190843</td>\n",
       "      <td>-1.409427</td>\n",
       "      <td>0.795094</td>\n",
       "      <td>-0.226363</td>\n",
       "    </tr>\n",
       "    <tr>\n",
       "      <th>2019-01-01 00:15:00</th>\n",
       "      <td>0.716626</td>\n",
       "      <td>-1.277835</td>\n",
       "      <td>3.176668</td>\n",
       "      <td>3.491856</td>\n",
       "      <td>0.127864</td>\n",
       "      <td>0.969019</td>\n",
       "      <td>0.218327</td>\n",
       "      <td>0.164392</td>\n",
       "      <td>0.209139</td>\n",
       "      <td>0.190843</td>\n",
       "      <td>0.956949</td>\n",
       "      <td>-0.027327</td>\n",
       "      <td>-2.578560</td>\n",
       "    </tr>\n",
       "    <tr>\n",
       "      <th>2019-01-01 00:30:00</th>\n",
       "      <td>-0.275271</td>\n",
       "      <td>-1.277835</td>\n",
       "      <td>4.297096</td>\n",
       "      <td>2.290202</td>\n",
       "      <td>0.127864</td>\n",
       "      <td>0.969019</td>\n",
       "      <td>0.218327</td>\n",
       "      <td>0.164392</td>\n",
       "      <td>0.209139</td>\n",
       "      <td>0.190843</td>\n",
       "      <td>0.956949</td>\n",
       "      <td>-0.027327</td>\n",
       "      <td>-1.509301</td>\n",
       "    </tr>\n",
       "    <tr>\n",
       "      <th>2019-01-01 00:45:00</th>\n",
       "      <td>3.460546</td>\n",
       "      <td>0.982507</td>\n",
       "      <td>-0.744829</td>\n",
       "      <td>-0.353439</td>\n",
       "      <td>0.127864</td>\n",
       "      <td>-1.834620</td>\n",
       "      <td>0.218327</td>\n",
       "      <td>0.164392</td>\n",
       "      <td>0.209139</td>\n",
       "      <td>0.190843</td>\n",
       "      <td>-1.803824</td>\n",
       "      <td>0.795094</td>\n",
       "      <td>0.781614</td>\n",
       "    </tr>\n",
       "    <tr>\n",
       "      <th>2019-01-01 01:00:00</th>\n",
       "      <td>0.350195</td>\n",
       "      <td>-1.277835</td>\n",
       "      <td>-0.184615</td>\n",
       "      <td>-0.113108</td>\n",
       "      <td>0.127864</td>\n",
       "      <td>-0.232540</td>\n",
       "      <td>2.914218</td>\n",
       "      <td>0.164392</td>\n",
       "      <td>0.873790</td>\n",
       "      <td>0.190843</td>\n",
       "      <td>-0.226239</td>\n",
       "      <td>-0.027327</td>\n",
       "      <td>-0.291943</td>\n",
       "    </tr>\n",
       "  </tbody>\n",
       "</table>\n",
       "</div>"
      ]
     },
     "execution_count": 56,
     "metadata": {},
     "output_type": "execute_result"
    }
   ],
   "execution_count": 56
  },
  {
   "metadata": {
    "ExecuteTime": {
     "end_time": "2024-12-13T10:16:16.185926Z",
     "start_time": "2024-12-13T10:16:16.182181Z"
    }
   },
   "cell_type": "code",
   "source": [
    "# convert bool columns to int (currently not needed)\n",
    "# bool_columns = merged_encoded.select_dtypes(include='bool').columns\n",
    "# merged_encoded[bool_columns] = merged_encoded[bool_columns].astype(int)"
   ],
   "id": "c133112497982a8a",
   "outputs": [],
   "execution_count": 57
  },
  {
   "metadata": {
    "ExecuteTime": {
     "end_time": "2024-12-13T10:16:16.677721Z",
     "start_time": "2024-12-13T10:16:16.238175Z"
    }
   },
   "cell_type": "code",
   "source": [
    "df_0q.to_parquet('../cache/prepd_0q.parquet')\n",
    "df_50q.to_parquet('../cache/prepd_50q.parquet')\n",
    "df_90q.to_parquet('../cache/prepd_90q.parquet')\n",
    "df_99q.to_parquet('../cache/prepd_99q.parquet')"
   ],
   "id": "71630446ad6072cc",
   "outputs": [],
   "execution_count": 58
  }
 ],
 "metadata": {
  "kernelspec": {
   "display_name": "Python 3",
   "language": "python",
   "name": "python3"
  },
  "language_info": {
   "codemirror_mode": {
    "name": "ipython",
    "version": 2
   },
   "file_extension": ".py",
   "mimetype": "text/x-python",
   "name": "python",
   "nbconvert_exporter": "python",
   "pygments_lexer": "ipython2",
   "version": "2.7.6"
  }
 },
 "nbformat": 4,
 "nbformat_minor": 5
}
