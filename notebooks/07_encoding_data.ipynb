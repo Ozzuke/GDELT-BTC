{
 "cells": [
  {
   "cell_type": "code",
   "id": "initial_id",
   "metadata": {
    "collapsed": true
   },
   "source": [
    "import pandas as pd\n",
    "\n",
    "merged = pd.read_parquet('../cache/merged.parquet')"
   ],
   "outputs": [],
   "execution_count": null
  },
  {
   "metadata": {},
   "cell_type": "code",
   "source": "merged.dtypes",
   "id": "d510812689e5032",
   "outputs": [],
   "execution_count": null
  },
  {
   "metadata": {},
   "cell_type": "code",
   "source": "merged.columns",
   "id": "fc2811ffb41578dd",
   "outputs": [],
   "execution_count": null
  },
  {
   "metadata": {},
   "cell_type": "code",
   "source": [
    "numerical_columns = merged.select_dtypes(include=['int64', 'float64']).columns.tolist()\n",
    "for col in numerical_columns:\n",
    "    print(col, merged[col].nunique())"
   ],
   "id": "1b086980d2aeb583",
   "outputs": [],
   "execution_count": null
  },
  {
   "metadata": {},
   "cell_type": "code",
   "source": [
    "categorical_columns = merged.select_dtypes(include=['object', 'category']).columns.tolist()\n",
    "for col in categorical_columns:\n",
    "    print(col, merged[col].nunique())"
   ],
   "id": "8a866f4a359db203",
   "outputs": [],
   "execution_count": null
  },
  {
   "metadata": {},
   "cell_type": "code",
   "source": [
    "# one hot encode the categorical columns\n",
    "merged_encoded = pd.get_dummies(merged, columns=['QuadClass'])"
   ],
   "id": "1df57784890d98dd",
   "outputs": [],
   "execution_count": null
  },
  {
   "metadata": {},
   "cell_type": "code",
   "source": [
    "# label encode the categorical columns\n",
    "from sklearn.preprocessing import LabelEncoder\n",
    "\n",
    "columns_to_encode =['Actor1Country', 'Actor1GeoCountry', 'Actor1Type', 'Actor1TypeGeneral', 'Actor2Country', 'Actor2GeoCountry', 'Actor2Type','Actor2TypeGeneral', 'ActionCountry', 'EventType']\n",
    "\n",
    "le = LabelEncoder()\n",
    "for col in columns_to_encode:\n",
    "    merged_encoded[col] = le.fit_transform(merged_encoded[col])"
   ],
   "id": "e899c72828bc5e1d",
   "outputs": [],
   "execution_count": null
  },
  {
   "metadata": {},
   "cell_type": "code",
   "source": "merged_encoded.head()",
   "id": "19fd4bdf54c514ac",
   "outputs": [],
   "execution_count": null
  },
  {
   "metadata": {},
   "cell_type": "code",
   "source": "merged_encoded.dtypes",
   "id": "30d1eb70b73c8310",
   "outputs": [],
   "execution_count": null
  },
  {
   "metadata": {},
   "cell_type": "code",
   "source": "merged_encoded.to_parquet(\"../cache/encoded.parquet\")",
   "id": "71630446ad6072cc",
   "outputs": [],
   "execution_count": null
  }
 ],
 "metadata": {
  "kernelspec": {
   "display_name": "Python 3",
   "language": "python",
   "name": "python3"
  },
  "language_info": {
   "codemirror_mode": {
    "name": "ipython",
    "version": 2
   },
   "file_extension": ".py",
   "mimetype": "text/x-python",
   "name": "python",
   "nbconvert_exporter": "python",
   "pygments_lexer": "ipython2",
   "version": "2.7.6"
  }
 },
 "nbformat": 4,
 "nbformat_minor": 5
}
