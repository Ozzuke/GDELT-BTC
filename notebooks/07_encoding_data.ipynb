{
 "cells": [
  {
   "cell_type": "code",
   "id": "initial_id",
   "metadata": {
    "collapsed": true,
    "ExecuteTime": {
     "end_time": "2024-12-06T11:31:34.622709Z",
     "start_time": "2024-12-06T11:31:31.719821Z"
    }
   },
   "source": [
    "import pandas as pd\n",
    "\n",
    "merged = pd.read_parquet('../cache/merged.parquet')"
   ],
   "outputs": [],
   "execution_count": 1
  },
  {
   "metadata": {
    "ExecuteTime": {
     "end_time": "2024-12-06T11:31:34.652365Z",
     "start_time": "2024-12-06T11:31:34.636570Z"
    }
   },
   "cell_type": "code",
   "source": "merged.dtypes",
   "id": "d510812689e5032",
   "outputs": [
    {
     "data": {
      "text/plain": [
       "Date                 datetime64[ns]\n",
       "Timestamp                     int64\n",
       "Actor1Country                object\n",
       "Actor1GeoCountry             object\n",
       "Actor1Type                 category\n",
       "Actor1TypeGeneral            object\n",
       "Actor2Country                object\n",
       "Actor2GeoCountry             object\n",
       "Actor2Type                 category\n",
       "Actor2TypeGeneral            object\n",
       "ActionCountry                object\n",
       "EventType                  category\n",
       "QuadClass                  category\n",
       "GoldsteinScale              float64\n",
       "NumSources                    int64\n",
       "NumArticles                   int64\n",
       "AvgTone                     float64\n",
       "Source                       object\n",
       "pct_change_15min            float64\n",
       "pct_change_30min            float64\n",
       "pct_change_24h              float64\n",
       "dtype: object"
      ]
     },
     "execution_count": 2,
     "metadata": {},
     "output_type": "execute_result"
    }
   ],
   "execution_count": 2
  },
  {
   "metadata": {
    "ExecuteTime": {
     "end_time": "2024-12-06T11:31:34.783505Z",
     "start_time": "2024-12-06T11:31:34.779176Z"
    }
   },
   "cell_type": "code",
   "source": "merged.columns",
   "id": "fc2811ffb41578dd",
   "outputs": [
    {
     "data": {
      "text/plain": [
       "Index(['Date', 'Timestamp', 'Actor1Country', 'Actor1GeoCountry', 'Actor1Type',\n",
       "       'Actor1TypeGeneral', 'Actor2Country', 'Actor2GeoCountry', 'Actor2Type',\n",
       "       'Actor2TypeGeneral', 'ActionCountry', 'EventType', 'QuadClass',\n",
       "       'GoldsteinScale', 'NumSources', 'NumArticles', 'AvgTone', 'Source',\n",
       "       'pct_change_15min', 'pct_change_30min', 'pct_change_24h'],\n",
       "      dtype='object')"
      ]
     },
     "execution_count": 3,
     "metadata": {},
     "output_type": "execute_result"
    }
   ],
   "execution_count": 3
  },
  {
   "metadata": {
    "ExecuteTime": {
     "end_time": "2024-12-06T11:31:35.697333Z",
     "start_time": "2024-12-06T11:31:34.800896Z"
    }
   },
   "cell_type": "code",
   "source": [
    "numerical_columns = merged.select_dtypes(include=['int64', 'float64']).columns.tolist()\n",
    "for col in numerical_columns:\n",
    "    print(col, merged[col].nunique())"
   ],
   "id": "1b086980d2aeb583",
   "outputs": [
    {
     "name": "stdout",
     "output_type": "stream",
     "text": [
      "Timestamp 171801\n",
      "GoldsteinScale 42\n",
      "NumSources 50\n",
      "NumArticles 415\n",
      "AvgTone 2354698\n",
      "pct_change_15min 169341\n",
      "pct_change_30min 169919\n",
      "pct_change_24h 171440\n"
     ]
    }
   ],
   "execution_count": 4
  },
  {
   "metadata": {
    "ExecuteTime": {
     "end_time": "2024-12-06T11:31:39.592347Z",
     "start_time": "2024-12-06T11:31:35.770738Z"
    }
   },
   "cell_type": "code",
   "source": [
    "categorical_columns = merged.select_dtypes(include=['object', 'category']).columns.tolist()\n",
    "for col in categorical_columns:\n",
    "    print(col, merged[col].nunique())"
   ],
   "id": "8a866f4a359db203",
   "outputs": [
    {
     "name": "stdout",
     "output_type": "stream",
     "text": [
      "Actor1Country 21\n",
      "Actor1GeoCountry 21\n",
      "Actor1Type 32\n",
      "Actor1TypeGeneral 5\n",
      "Actor2Country 21\n",
      "Actor2GeoCountry 21\n",
      "Actor2Type 32\n",
      "Actor2TypeGeneral 5\n",
      "ActionCountry 21\n",
      "EventType 20\n",
      "QuadClass 4\n",
      "Source 3225243\n"
     ]
    }
   ],
   "execution_count": 5
  },
  {
   "metadata": {
    "ExecuteTime": {
     "end_time": "2024-12-06T11:31:40.686208Z",
     "start_time": "2024-12-06T11:31:39.600293Z"
    }
   },
   "cell_type": "code",
   "source": [
    "# one hot encode the categorical columns\n",
    "merged_encoded = pd.get_dummies(merged, columns=['QuadClass'])"
   ],
   "id": "1df57784890d98dd",
   "outputs": [],
   "execution_count": 6
  },
  {
   "metadata": {
    "ExecuteTime": {
     "end_time": "2024-12-06T11:31:40.803137Z",
     "start_time": "2024-12-06T11:31:40.712260Z"
    }
   },
   "cell_type": "code",
   "source": [
    "# convert bool columns to int\n",
    "bool_columns = merged_encoded.select_dtypes(include='bool').columns\n",
    "merged_encoded[bool_columns] = merged_encoded[bool_columns].astype(int)"
   ],
   "id": "ff7fe2bb109175e9",
   "outputs": [],
   "execution_count": 7
  },
  {
   "metadata": {
    "ExecuteTime": {
     "end_time": "2024-12-06T11:31:49.151055Z",
     "start_time": "2024-12-06T11:31:40.826521Z"
    }
   },
   "cell_type": "code",
   "source": [
    "# label encode the categorical columns\n",
    "from sklearn.preprocessing import LabelEncoder\n",
    "\n",
    "columns_to_encode =['Actor1Country', 'Actor1GeoCountry', 'Actor1Type', 'Actor1TypeGeneral', 'Actor2Country', 'Actor2GeoCountry', 'Actor2Type','Actor2TypeGeneral', 'ActionCountry', 'EventType']\n",
    "\n",
    "le = LabelEncoder()\n",
    "for col in columns_to_encode:\n",
    "    merged_encoded[col] = le.fit_transform(merged_encoded[col])"
   ],
   "id": "e899c72828bc5e1d",
   "outputs": [],
   "execution_count": 8
  },
  {
   "metadata": {
    "ExecuteTime": {
     "end_time": "2024-12-06T11:31:49.193228Z",
     "start_time": "2024-12-06T11:31:49.176159Z"
    }
   },
   "cell_type": "code",
   "source": "merged_encoded.head()",
   "id": "19fd4bdf54c514ac",
   "outputs": [
    {
     "data": {
      "text/plain": [
       "        Date   Timestamp  Actor1Country  Actor1GeoCountry  Actor1Type  \\\n",
       "0 2019-01-01  1546300800             21                21           4   \n",
       "1 2019-01-01  1546300800             16                 1          32   \n",
       "2 2019-01-01  1546300800             21                20           9   \n",
       "3 2019-01-01  1546300800             20                20          32   \n",
       "4 2019-01-01  1546300800             20                20           6   \n",
       "\n",
       "   Actor1TypeGeneral  Actor2Country  Actor2GeoCountry  Actor2Type  \\\n",
       "0                  4             21                21          32   \n",
       "1                  5             21                21          32   \n",
       "2                  2             21                20           9   \n",
       "3                  5             21                21          32   \n",
       "4                  0             21                21          32   \n",
       "\n",
       "   Actor2TypeGeneral  ...  NumArticles   AvgTone  \\\n",
       "0                  5  ...           50  2.354384   \n",
       "1                  5  ...           30 -0.339542   \n",
       "2                  2  ...           40  1.734061   \n",
       "3                  5  ...           21 -4.170072   \n",
       "4                  5  ...           18  1.415701   \n",
       "\n",
       "                                              Source  pct_change_15min  \\\n",
       "0  https://telegrafi.com/ne-shenj-proteste-labino...         -0.033061   \n",
       "1  http://www.jornaldeluzilandia.com.br/txt.php?i...         -0.033061   \n",
       "2  https://hanfordsentinel.com/news/national/govt...         -0.033061   \n",
       "3  http://midutahradio.com/news/national-news/lou...         -0.033061   \n",
       "4  http://www.q106dot5.com/news/blind-baker-launc...         -0.033061   \n",
       "\n",
       "   pct_change_30min  pct_change_24h QuadClass_VerbalCoop  \\\n",
       "0         -0.226363       -2.433464                    1   \n",
       "1         -0.226363       -2.433464                    1   \n",
       "2         -0.226363       -2.433464                    1   \n",
       "3         -0.226363       -2.433464                    0   \n",
       "4         -0.226363       -2.433464                    1   \n",
       "\n",
       "   QuadClass_MaterialCoop  QuadClass_VerbalConf  QuadClass_MaterialConf  \n",
       "0                       0                     0                       0  \n",
       "1                       0                     0                       0  \n",
       "2                       0                     0                       0  \n",
       "3                       0                     1                       0  \n",
       "4                       0                     0                       0  \n",
       "\n",
       "[5 rows x 24 columns]"
      ],
      "text/html": [
       "<div>\n",
       "<style scoped>\n",
       "    .dataframe tbody tr th:only-of-type {\n",
       "        vertical-align: middle;\n",
       "    }\n",
       "\n",
       "    .dataframe tbody tr th {\n",
       "        vertical-align: top;\n",
       "    }\n",
       "\n",
       "    .dataframe thead th {\n",
       "        text-align: right;\n",
       "    }\n",
       "</style>\n",
       "<table border=\"1\" class=\"dataframe\">\n",
       "  <thead>\n",
       "    <tr style=\"text-align: right;\">\n",
       "      <th></th>\n",
       "      <th>Date</th>\n",
       "      <th>Timestamp</th>\n",
       "      <th>Actor1Country</th>\n",
       "      <th>Actor1GeoCountry</th>\n",
       "      <th>Actor1Type</th>\n",
       "      <th>Actor1TypeGeneral</th>\n",
       "      <th>Actor2Country</th>\n",
       "      <th>Actor2GeoCountry</th>\n",
       "      <th>Actor2Type</th>\n",
       "      <th>Actor2TypeGeneral</th>\n",
       "      <th>...</th>\n",
       "      <th>NumArticles</th>\n",
       "      <th>AvgTone</th>\n",
       "      <th>Source</th>\n",
       "      <th>pct_change_15min</th>\n",
       "      <th>pct_change_30min</th>\n",
       "      <th>pct_change_24h</th>\n",
       "      <th>QuadClass_VerbalCoop</th>\n",
       "      <th>QuadClass_MaterialCoop</th>\n",
       "      <th>QuadClass_VerbalConf</th>\n",
       "      <th>QuadClass_MaterialConf</th>\n",
       "    </tr>\n",
       "  </thead>\n",
       "  <tbody>\n",
       "    <tr>\n",
       "      <th>0</th>\n",
       "      <td>2019-01-01</td>\n",
       "      <td>1546300800</td>\n",
       "      <td>21</td>\n",
       "      <td>21</td>\n",
       "      <td>4</td>\n",
       "      <td>4</td>\n",
       "      <td>21</td>\n",
       "      <td>21</td>\n",
       "      <td>32</td>\n",
       "      <td>5</td>\n",
       "      <td>...</td>\n",
       "      <td>50</td>\n",
       "      <td>2.354384</td>\n",
       "      <td>https://telegrafi.com/ne-shenj-proteste-labino...</td>\n",
       "      <td>-0.033061</td>\n",
       "      <td>-0.226363</td>\n",
       "      <td>-2.433464</td>\n",
       "      <td>1</td>\n",
       "      <td>0</td>\n",
       "      <td>0</td>\n",
       "      <td>0</td>\n",
       "    </tr>\n",
       "    <tr>\n",
       "      <th>1</th>\n",
       "      <td>2019-01-01</td>\n",
       "      <td>1546300800</td>\n",
       "      <td>16</td>\n",
       "      <td>1</td>\n",
       "      <td>32</td>\n",
       "      <td>5</td>\n",
       "      <td>21</td>\n",
       "      <td>21</td>\n",
       "      <td>32</td>\n",
       "      <td>5</td>\n",
       "      <td>...</td>\n",
       "      <td>30</td>\n",
       "      <td>-0.339542</td>\n",
       "      <td>http://www.jornaldeluzilandia.com.br/txt.php?i...</td>\n",
       "      <td>-0.033061</td>\n",
       "      <td>-0.226363</td>\n",
       "      <td>-2.433464</td>\n",
       "      <td>1</td>\n",
       "      <td>0</td>\n",
       "      <td>0</td>\n",
       "      <td>0</td>\n",
       "    </tr>\n",
       "    <tr>\n",
       "      <th>2</th>\n",
       "      <td>2019-01-01</td>\n",
       "      <td>1546300800</td>\n",
       "      <td>21</td>\n",
       "      <td>20</td>\n",
       "      <td>9</td>\n",
       "      <td>2</td>\n",
       "      <td>21</td>\n",
       "      <td>20</td>\n",
       "      <td>9</td>\n",
       "      <td>2</td>\n",
       "      <td>...</td>\n",
       "      <td>40</td>\n",
       "      <td>1.734061</td>\n",
       "      <td>https://hanfordsentinel.com/news/national/govt...</td>\n",
       "      <td>-0.033061</td>\n",
       "      <td>-0.226363</td>\n",
       "      <td>-2.433464</td>\n",
       "      <td>1</td>\n",
       "      <td>0</td>\n",
       "      <td>0</td>\n",
       "      <td>0</td>\n",
       "    </tr>\n",
       "    <tr>\n",
       "      <th>3</th>\n",
       "      <td>2019-01-01</td>\n",
       "      <td>1546300800</td>\n",
       "      <td>20</td>\n",
       "      <td>20</td>\n",
       "      <td>32</td>\n",
       "      <td>5</td>\n",
       "      <td>21</td>\n",
       "      <td>21</td>\n",
       "      <td>32</td>\n",
       "      <td>5</td>\n",
       "      <td>...</td>\n",
       "      <td>21</td>\n",
       "      <td>-4.170072</td>\n",
       "      <td>http://midutahradio.com/news/national-news/lou...</td>\n",
       "      <td>-0.033061</td>\n",
       "      <td>-0.226363</td>\n",
       "      <td>-2.433464</td>\n",
       "      <td>0</td>\n",
       "      <td>0</td>\n",
       "      <td>1</td>\n",
       "      <td>0</td>\n",
       "    </tr>\n",
       "    <tr>\n",
       "      <th>4</th>\n",
       "      <td>2019-01-01</td>\n",
       "      <td>1546300800</td>\n",
       "      <td>20</td>\n",
       "      <td>20</td>\n",
       "      <td>6</td>\n",
       "      <td>0</td>\n",
       "      <td>21</td>\n",
       "      <td>21</td>\n",
       "      <td>32</td>\n",
       "      <td>5</td>\n",
       "      <td>...</td>\n",
       "      <td>18</td>\n",
       "      <td>1.415701</td>\n",
       "      <td>http://www.q106dot5.com/news/blind-baker-launc...</td>\n",
       "      <td>-0.033061</td>\n",
       "      <td>-0.226363</td>\n",
       "      <td>-2.433464</td>\n",
       "      <td>1</td>\n",
       "      <td>0</td>\n",
       "      <td>0</td>\n",
       "      <td>0</td>\n",
       "    </tr>\n",
       "  </tbody>\n",
       "</table>\n",
       "<p>5 rows × 24 columns</p>\n",
       "</div>"
      ]
     },
     "execution_count": 9,
     "metadata": {},
     "output_type": "execute_result"
    }
   ],
   "execution_count": 9
  },
  {
   "metadata": {
    "ExecuteTime": {
     "end_time": "2024-12-06T11:31:49.270833Z",
     "start_time": "2024-12-06T11:31:49.264278Z"
    }
   },
   "cell_type": "code",
   "source": "merged_encoded.dtypes",
   "id": "30d1eb70b73c8310",
   "outputs": [
    {
     "data": {
      "text/plain": [
       "Date                      datetime64[ns]\n",
       "Timestamp                          int64\n",
       "Actor1Country                      int64\n",
       "Actor1GeoCountry                   int64\n",
       "Actor1Type                         int64\n",
       "Actor1TypeGeneral                  int64\n",
       "Actor2Country                      int64\n",
       "Actor2GeoCountry                   int64\n",
       "Actor2Type                         int64\n",
       "Actor2TypeGeneral                  int64\n",
       "ActionCountry                      int64\n",
       "EventType                          int64\n",
       "GoldsteinScale                   float64\n",
       "NumSources                         int64\n",
       "NumArticles                        int64\n",
       "AvgTone                          float64\n",
       "Source                            object\n",
       "pct_change_15min                 float64\n",
       "pct_change_30min                 float64\n",
       "pct_change_24h                   float64\n",
       "QuadClass_VerbalCoop               int64\n",
       "QuadClass_MaterialCoop             int64\n",
       "QuadClass_VerbalConf               int64\n",
       "QuadClass_MaterialConf             int64\n",
       "dtype: object"
      ]
     },
     "execution_count": 10,
     "metadata": {},
     "output_type": "execute_result"
    }
   ],
   "execution_count": 10
  },
  {
   "metadata": {
    "ExecuteTime": {
     "end_time": "2024-12-06T11:31:59.290443Z",
     "start_time": "2024-12-06T11:31:49.312458Z"
    }
   },
   "cell_type": "code",
   "source": "merged_encoded.to_parquet(\"../cache/encoded.parquet\")",
   "id": "71630446ad6072cc",
   "outputs": [],
   "execution_count": 11
  }
 ],
 "metadata": {
  "kernelspec": {
   "display_name": "Python 3",
   "language": "python",
   "name": "python3"
  },
  "language_info": {
   "codemirror_mode": {
    "name": "ipython",
    "version": 2
   },
   "file_extension": ".py",
   "mimetype": "text/x-python",
   "name": "python",
   "nbconvert_exporter": "python",
   "pygments_lexer": "ipython2",
   "version": "2.7.6"
  }
 },
 "nbformat": 4,
 "nbformat_minor": 5
}
