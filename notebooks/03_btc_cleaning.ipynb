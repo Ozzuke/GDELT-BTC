{
 "cells": [
  {
   "metadata": {
    "ExecuteTime": {
     "end_time": "2024-12-04T12:19:56.430075Z",
     "start_time": "2024-12-04T12:19:55.682278Z"
    }
   },
   "cell_type": "code",
   "source": [
    "import pandas as pd\n",
    "\n",
    "data = pd.read_parquet('../cache/btc.parquet')\n",
    "data.head()"
   ],
   "id": "286a4a7b11086882",
   "outputs": [
    {
     "data": {
      "text/plain": [
       "      Timestamp  Open  High   Low  Close  Volume\n",
       "0  1.325412e+09  4.58  4.58  4.58   4.58     0.0\n",
       "1  1.325412e+09  4.58  4.58  4.58   4.58     0.0\n",
       "2  1.325412e+09  4.58  4.58  4.58   4.58     0.0\n",
       "3  1.325412e+09  4.58  4.58  4.58   4.58     0.0\n",
       "4  1.325412e+09  4.58  4.58  4.58   4.58     0.0"
      ],
      "text/html": [
       "<div>\n",
       "<style scoped>\n",
       "    .dataframe tbody tr th:only-of-type {\n",
       "        vertical-align: middle;\n",
       "    }\n",
       "\n",
       "    .dataframe tbody tr th {\n",
       "        vertical-align: top;\n",
       "    }\n",
       "\n",
       "    .dataframe thead th {\n",
       "        text-align: right;\n",
       "    }\n",
       "</style>\n",
       "<table border=\"1\" class=\"dataframe\">\n",
       "  <thead>\n",
       "    <tr style=\"text-align: right;\">\n",
       "      <th></th>\n",
       "      <th>Timestamp</th>\n",
       "      <th>Open</th>\n",
       "      <th>High</th>\n",
       "      <th>Low</th>\n",
       "      <th>Close</th>\n",
       "      <th>Volume</th>\n",
       "    </tr>\n",
       "  </thead>\n",
       "  <tbody>\n",
       "    <tr>\n",
       "      <th>0</th>\n",
       "      <td>1.325412e+09</td>\n",
       "      <td>4.58</td>\n",
       "      <td>4.58</td>\n",
       "      <td>4.58</td>\n",
       "      <td>4.58</td>\n",
       "      <td>0.0</td>\n",
       "    </tr>\n",
       "    <tr>\n",
       "      <th>1</th>\n",
       "      <td>1.325412e+09</td>\n",
       "      <td>4.58</td>\n",
       "      <td>4.58</td>\n",
       "      <td>4.58</td>\n",
       "      <td>4.58</td>\n",
       "      <td>0.0</td>\n",
       "    </tr>\n",
       "    <tr>\n",
       "      <th>2</th>\n",
       "      <td>1.325412e+09</td>\n",
       "      <td>4.58</td>\n",
       "      <td>4.58</td>\n",
       "      <td>4.58</td>\n",
       "      <td>4.58</td>\n",
       "      <td>0.0</td>\n",
       "    </tr>\n",
       "    <tr>\n",
       "      <th>3</th>\n",
       "      <td>1.325412e+09</td>\n",
       "      <td>4.58</td>\n",
       "      <td>4.58</td>\n",
       "      <td>4.58</td>\n",
       "      <td>4.58</td>\n",
       "      <td>0.0</td>\n",
       "    </tr>\n",
       "    <tr>\n",
       "      <th>4</th>\n",
       "      <td>1.325412e+09</td>\n",
       "      <td>4.58</td>\n",
       "      <td>4.58</td>\n",
       "      <td>4.58</td>\n",
       "      <td>4.58</td>\n",
       "      <td>0.0</td>\n",
       "    </tr>\n",
       "  </tbody>\n",
       "</table>\n",
       "</div>"
      ]
     },
     "execution_count": 1,
     "metadata": {},
     "output_type": "execute_result"
    }
   ],
   "execution_count": 1
  },
  {
   "metadata": {
    "ExecuteTime": {
     "end_time": "2024-12-04T12:19:56.541820Z",
     "start_time": "2024-12-04T12:19:56.455549Z"
    }
   },
   "cell_type": "code",
   "source": [
    "# show all columns with nan values\n",
    "data.isna().sum()"
   ],
   "id": "107bad7e78548628",
   "outputs": [
    {
     "data": {
      "text/plain": [
       "Timestamp    1\n",
       "Open         0\n",
       "High         0\n",
       "Low          0\n",
       "Close        0\n",
       "Volume       0\n",
       "dtype: int64"
      ]
     },
     "execution_count": 2,
     "metadata": {},
     "output_type": "execute_result"
    }
   ],
   "execution_count": 2
  },
  {
   "metadata": {
    "ExecuteTime": {
     "end_time": "2024-12-04T12:19:56.614651Z",
     "start_time": "2024-12-04T12:19:56.572898Z"
    }
   },
   "cell_type": "code",
   "source": [
    "# drop columns that are not needed\n",
    "data = data.drop(columns=['Volume', 'High', 'Low', 'Close'])"
   ],
   "id": "ce56d1eade4c7285",
   "outputs": [],
   "execution_count": 3
  },
  {
   "metadata": {
    "ExecuteTime": {
     "end_time": "2024-12-04T12:19:58.975305Z",
     "start_time": "2024-12-04T12:19:56.623416Z"
    }
   },
   "cell_type": "code",
   "source": [
    "# set index to Datetime and sample every 15min interval\n",
    "data['Datetime'] = pd.to_datetime(data['Timestamp'], unit='s')\n",
    "data.set_index('Datetime', inplace=True)\n",
    "\n",
    "# have a small buffer of 30 min at the end for change % calculation\n",
    "date_range = pd.date_range(start='2019-01-01 00:00:00', end='2024-01-02 00:00:00', freq='15min')\n",
    "\n",
    "data = data.reindex(date_range)\n",
    "data.head()"
   ],
   "id": "23b24f552b23b3f3",
   "outputs": [
    {
     "data": {
      "text/plain": [
       "                        Timestamp     Open\n",
       "2019-01-01 00:00:00  1.546301e+09  3750.62\n",
       "2019-01-01 00:15:00  1.546302e+09  3749.38\n",
       "2019-01-01 00:30:00  1.546303e+09  3742.13\n",
       "2019-01-01 00:45:00  1.546304e+09  3652.70\n",
       "2019-01-01 01:00:00  1.546304e+09  3685.65"
      ],
      "text/html": [
       "<div>\n",
       "<style scoped>\n",
       "    .dataframe tbody tr th:only-of-type {\n",
       "        vertical-align: middle;\n",
       "    }\n",
       "\n",
       "    .dataframe tbody tr th {\n",
       "        vertical-align: top;\n",
       "    }\n",
       "\n",
       "    .dataframe thead th {\n",
       "        text-align: right;\n",
       "    }\n",
       "</style>\n",
       "<table border=\"1\" class=\"dataframe\">\n",
       "  <thead>\n",
       "    <tr style=\"text-align: right;\">\n",
       "      <th></th>\n",
       "      <th>Timestamp</th>\n",
       "      <th>Open</th>\n",
       "    </tr>\n",
       "  </thead>\n",
       "  <tbody>\n",
       "    <tr>\n",
       "      <th>2019-01-01 00:00:00</th>\n",
       "      <td>1.546301e+09</td>\n",
       "      <td>3750.62</td>\n",
       "    </tr>\n",
       "    <tr>\n",
       "      <th>2019-01-01 00:15:00</th>\n",
       "      <td>1.546302e+09</td>\n",
       "      <td>3749.38</td>\n",
       "    </tr>\n",
       "    <tr>\n",
       "      <th>2019-01-01 00:30:00</th>\n",
       "      <td>1.546303e+09</td>\n",
       "      <td>3742.13</td>\n",
       "    </tr>\n",
       "    <tr>\n",
       "      <th>2019-01-01 00:45:00</th>\n",
       "      <td>1.546304e+09</td>\n",
       "      <td>3652.70</td>\n",
       "    </tr>\n",
       "    <tr>\n",
       "      <th>2019-01-01 01:00:00</th>\n",
       "      <td>1.546304e+09</td>\n",
       "      <td>3685.65</td>\n",
       "    </tr>\n",
       "  </tbody>\n",
       "</table>\n",
       "</div>"
      ]
     },
     "execution_count": 4,
     "metadata": {},
     "output_type": "execute_result"
    }
   ],
   "execution_count": 4
  },
  {
   "metadata": {
    "ExecuteTime": {
     "end_time": "2024-12-04T12:19:58.993101Z",
     "start_time": "2024-12-04T12:19:58.989903Z"
    }
   },
   "cell_type": "code",
   "source": [
    "# correct all timestamps with the help of Datetime and convert timestamp to int64\n",
    "data['Timestamp'] = data.index.astype('int64') // 10**9"
   ],
   "id": "15f75a5b0fb23b40",
   "outputs": [],
   "execution_count": 5
  },
  {
   "metadata": {
    "ExecuteTime": {
     "end_time": "2024-12-04T12:19:59.062817Z",
     "start_time": "2024-12-04T12:19:59.054198Z"
    }
   },
   "cell_type": "code",
   "source": [
    "# fill NaN values with interpolation\n",
    "data = data.interpolate()"
   ],
   "id": "4b17b09db5cd4da5",
   "outputs": [],
   "execution_count": 6
  },
  {
   "metadata": {
    "ExecuteTime": {
     "end_time": "2024-12-04T12:19:59.097202Z",
     "start_time": "2024-12-04T12:19:59.093474Z"
    }
   },
   "cell_type": "code",
   "source": [
    "# show all columns with nan values\n",
    "data.isna().sum()"
   ],
   "id": "fa970ae0f504b630",
   "outputs": [
    {
     "data": {
      "text/plain": [
       "Timestamp    0\n",
       "Open         0\n",
       "dtype: int64"
      ]
     },
     "execution_count": 7,
     "metadata": {},
     "output_type": "execute_result"
    }
   ],
   "execution_count": 7
  },
  {
   "metadata": {
    "ExecuteTime": {
     "end_time": "2024-12-04T12:19:59.132448Z",
     "start_time": "2024-12-04T12:19:59.126143Z"
    }
   },
   "cell_type": "code",
   "source": [
    "# Calculate the percentage change for 15 min intervals\n",
    "data['Open_shifted'] = data['Open'].shift(-1)\n",
    "data['pct_change_15min'] = ((data['Open_shifted'] - data['Open']) / data['Open']) * 100\n",
    "data.head()"
   ],
   "id": "123dd048ca0ec704",
   "outputs": [
    {
     "data": {
      "text/plain": [
       "                      Timestamp     Open  Open_shifted  pct_change_15min\n",
       "2019-01-01 00:00:00  1546300800  3750.62       3749.38         -0.033061\n",
       "2019-01-01 00:15:00  1546301700  3749.38       3742.13         -0.193365\n",
       "2019-01-01 00:30:00  1546302600  3742.13       3652.70         -2.389815\n",
       "2019-01-01 00:45:00  1546303500  3652.70       3685.65          0.902072\n",
       "2019-01-01 01:00:00  1546304400  3685.65       3681.25         -0.119382"
      ],
      "text/html": [
       "<div>\n",
       "<style scoped>\n",
       "    .dataframe tbody tr th:only-of-type {\n",
       "        vertical-align: middle;\n",
       "    }\n",
       "\n",
       "    .dataframe tbody tr th {\n",
       "        vertical-align: top;\n",
       "    }\n",
       "\n",
       "    .dataframe thead th {\n",
       "        text-align: right;\n",
       "    }\n",
       "</style>\n",
       "<table border=\"1\" class=\"dataframe\">\n",
       "  <thead>\n",
       "    <tr style=\"text-align: right;\">\n",
       "      <th></th>\n",
       "      <th>Timestamp</th>\n",
       "      <th>Open</th>\n",
       "      <th>Open_shifted</th>\n",
       "      <th>pct_change_15min</th>\n",
       "    </tr>\n",
       "  </thead>\n",
       "  <tbody>\n",
       "    <tr>\n",
       "      <th>2019-01-01 00:00:00</th>\n",
       "      <td>1546300800</td>\n",
       "      <td>3750.62</td>\n",
       "      <td>3749.38</td>\n",
       "      <td>-0.033061</td>\n",
       "    </tr>\n",
       "    <tr>\n",
       "      <th>2019-01-01 00:15:00</th>\n",
       "      <td>1546301700</td>\n",
       "      <td>3749.38</td>\n",
       "      <td>3742.13</td>\n",
       "      <td>-0.193365</td>\n",
       "    </tr>\n",
       "    <tr>\n",
       "      <th>2019-01-01 00:30:00</th>\n",
       "      <td>1546302600</td>\n",
       "      <td>3742.13</td>\n",
       "      <td>3652.70</td>\n",
       "      <td>-2.389815</td>\n",
       "    </tr>\n",
       "    <tr>\n",
       "      <th>2019-01-01 00:45:00</th>\n",
       "      <td>1546303500</td>\n",
       "      <td>3652.70</td>\n",
       "      <td>3685.65</td>\n",
       "      <td>0.902072</td>\n",
       "    </tr>\n",
       "    <tr>\n",
       "      <th>2019-01-01 01:00:00</th>\n",
       "      <td>1546304400</td>\n",
       "      <td>3685.65</td>\n",
       "      <td>3681.25</td>\n",
       "      <td>-0.119382</td>\n",
       "    </tr>\n",
       "  </tbody>\n",
       "</table>\n",
       "</div>"
      ]
     },
     "execution_count": 8,
     "metadata": {},
     "output_type": "execute_result"
    }
   ],
   "execution_count": 8
  },
  {
   "metadata": {
    "ExecuteTime": {
     "end_time": "2024-12-04T12:19:59.174998Z",
     "start_time": "2024-12-04T12:19:59.168552Z"
    }
   },
   "cell_type": "code",
   "source": [
    "data['Open_shifted'] = data['Open'].shift(-2)\n",
    "\n",
    "# Calculate the percentage change for 30 min intervals\n",
    "data['pct_change_30min'] = ((data['Open_shifted'] - data['Open']) / data['Open']) * 100\n",
    "data.head()"
   ],
   "id": "bb6ce5a77a6ba5f5",
   "outputs": [
    {
     "data": {
      "text/plain": [
       "                      Timestamp     Open  Open_shifted  pct_change_15min  \\\n",
       "2019-01-01 00:00:00  1546300800  3750.62       3742.13         -0.033061   \n",
       "2019-01-01 00:15:00  1546301700  3749.38       3652.70         -0.193365   \n",
       "2019-01-01 00:30:00  1546302600  3742.13       3685.65         -2.389815   \n",
       "2019-01-01 00:45:00  1546303500  3652.70       3681.25          0.902072   \n",
       "2019-01-01 01:00:00  1546304400  3685.65       3674.89         -0.119382   \n",
       "\n",
       "                     pct_change_30min  \n",
       "2019-01-01 00:00:00         -0.226363  \n",
       "2019-01-01 00:15:00         -2.578560  \n",
       "2019-01-01 00:30:00         -1.509301  \n",
       "2019-01-01 00:45:00          0.781614  \n",
       "2019-01-01 01:00:00         -0.291943  "
      ],
      "text/html": [
       "<div>\n",
       "<style scoped>\n",
       "    .dataframe tbody tr th:only-of-type {\n",
       "        vertical-align: middle;\n",
       "    }\n",
       "\n",
       "    .dataframe tbody tr th {\n",
       "        vertical-align: top;\n",
       "    }\n",
       "\n",
       "    .dataframe thead th {\n",
       "        text-align: right;\n",
       "    }\n",
       "</style>\n",
       "<table border=\"1\" class=\"dataframe\">\n",
       "  <thead>\n",
       "    <tr style=\"text-align: right;\">\n",
       "      <th></th>\n",
       "      <th>Timestamp</th>\n",
       "      <th>Open</th>\n",
       "      <th>Open_shifted</th>\n",
       "      <th>pct_change_15min</th>\n",
       "      <th>pct_change_30min</th>\n",
       "    </tr>\n",
       "  </thead>\n",
       "  <tbody>\n",
       "    <tr>\n",
       "      <th>2019-01-01 00:00:00</th>\n",
       "      <td>1546300800</td>\n",
       "      <td>3750.62</td>\n",
       "      <td>3742.13</td>\n",
       "      <td>-0.033061</td>\n",
       "      <td>-0.226363</td>\n",
       "    </tr>\n",
       "    <tr>\n",
       "      <th>2019-01-01 00:15:00</th>\n",
       "      <td>1546301700</td>\n",
       "      <td>3749.38</td>\n",
       "      <td>3652.70</td>\n",
       "      <td>-0.193365</td>\n",
       "      <td>-2.578560</td>\n",
       "    </tr>\n",
       "    <tr>\n",
       "      <th>2019-01-01 00:30:00</th>\n",
       "      <td>1546302600</td>\n",
       "      <td>3742.13</td>\n",
       "      <td>3685.65</td>\n",
       "      <td>-2.389815</td>\n",
       "      <td>-1.509301</td>\n",
       "    </tr>\n",
       "    <tr>\n",
       "      <th>2019-01-01 00:45:00</th>\n",
       "      <td>1546303500</td>\n",
       "      <td>3652.70</td>\n",
       "      <td>3681.25</td>\n",
       "      <td>0.902072</td>\n",
       "      <td>0.781614</td>\n",
       "    </tr>\n",
       "    <tr>\n",
       "      <th>2019-01-01 01:00:00</th>\n",
       "      <td>1546304400</td>\n",
       "      <td>3685.65</td>\n",
       "      <td>3674.89</td>\n",
       "      <td>-0.119382</td>\n",
       "      <td>-0.291943</td>\n",
       "    </tr>\n",
       "  </tbody>\n",
       "</table>\n",
       "</div>"
      ]
     },
     "execution_count": 9,
     "metadata": {},
     "output_type": "execute_result"
    }
   ],
   "execution_count": 9
  },
  {
   "metadata": {
    "ExecuteTime": {
     "end_time": "2024-12-04T12:19:59.259524Z",
     "start_time": "2024-12-04T12:19:59.251347Z"
    }
   },
   "cell_type": "code",
   "source": [
    "# calculate the percentage change for 24 hours intervals\n",
    "data['Open_shifted'] = data['Open'].shift(-96)\n",
    "data['pct_change_24h'] = ((data['Open_shifted'] - data['Open']) / data['Open']) * 100\n",
    "data.head()"
   ],
   "id": "bd74aa36cd4e0985",
   "outputs": [
    {
     "data": {
      "text/plain": [
       "                      Timestamp     Open  Open_shifted  pct_change_15min  \\\n",
       "2019-01-01 00:00:00  1546300800  3750.62       3659.35         -0.033061   \n",
       "2019-01-01 00:15:00  1546301700  3749.38       3678.45         -0.193365   \n",
       "2019-01-01 00:30:00  1546302600  3742.13       3675.67         -2.389815   \n",
       "2019-01-01 00:45:00  1546303500  3652.70       3685.42          0.902072   \n",
       "2019-01-01 01:00:00  1546304400  3685.65       3698.79         -0.119382   \n",
       "\n",
       "                     pct_change_30min  pct_change_24h  \n",
       "2019-01-01 00:00:00         -0.226363       -2.433464  \n",
       "2019-01-01 00:15:00         -2.578560       -1.891779  \n",
       "2019-01-01 00:30:00         -1.509301       -1.775994  \n",
       "2019-01-01 00:45:00          0.781614        0.895776  \n",
       "2019-01-01 01:00:00         -0.291943        0.356518  "
      ],
      "text/html": [
       "<div>\n",
       "<style scoped>\n",
       "    .dataframe tbody tr th:only-of-type {\n",
       "        vertical-align: middle;\n",
       "    }\n",
       "\n",
       "    .dataframe tbody tr th {\n",
       "        vertical-align: top;\n",
       "    }\n",
       "\n",
       "    .dataframe thead th {\n",
       "        text-align: right;\n",
       "    }\n",
       "</style>\n",
       "<table border=\"1\" class=\"dataframe\">\n",
       "  <thead>\n",
       "    <tr style=\"text-align: right;\">\n",
       "      <th></th>\n",
       "      <th>Timestamp</th>\n",
       "      <th>Open</th>\n",
       "      <th>Open_shifted</th>\n",
       "      <th>pct_change_15min</th>\n",
       "      <th>pct_change_30min</th>\n",
       "      <th>pct_change_24h</th>\n",
       "    </tr>\n",
       "  </thead>\n",
       "  <tbody>\n",
       "    <tr>\n",
       "      <th>2019-01-01 00:00:00</th>\n",
       "      <td>1546300800</td>\n",
       "      <td>3750.62</td>\n",
       "      <td>3659.35</td>\n",
       "      <td>-0.033061</td>\n",
       "      <td>-0.226363</td>\n",
       "      <td>-2.433464</td>\n",
       "    </tr>\n",
       "    <tr>\n",
       "      <th>2019-01-01 00:15:00</th>\n",
       "      <td>1546301700</td>\n",
       "      <td>3749.38</td>\n",
       "      <td>3678.45</td>\n",
       "      <td>-0.193365</td>\n",
       "      <td>-2.578560</td>\n",
       "      <td>-1.891779</td>\n",
       "    </tr>\n",
       "    <tr>\n",
       "      <th>2019-01-01 00:30:00</th>\n",
       "      <td>1546302600</td>\n",
       "      <td>3742.13</td>\n",
       "      <td>3675.67</td>\n",
       "      <td>-2.389815</td>\n",
       "      <td>-1.509301</td>\n",
       "      <td>-1.775994</td>\n",
       "    </tr>\n",
       "    <tr>\n",
       "      <th>2019-01-01 00:45:00</th>\n",
       "      <td>1546303500</td>\n",
       "      <td>3652.70</td>\n",
       "      <td>3685.42</td>\n",
       "      <td>0.902072</td>\n",
       "      <td>0.781614</td>\n",
       "      <td>0.895776</td>\n",
       "    </tr>\n",
       "    <tr>\n",
       "      <th>2019-01-01 01:00:00</th>\n",
       "      <td>1546304400</td>\n",
       "      <td>3685.65</td>\n",
       "      <td>3698.79</td>\n",
       "      <td>-0.119382</td>\n",
       "      <td>-0.291943</td>\n",
       "      <td>0.356518</td>\n",
       "    </tr>\n",
       "  </tbody>\n",
       "</table>\n",
       "</div>"
      ]
     },
     "execution_count": 10,
     "metadata": {},
     "output_type": "execute_result"
    }
   ],
   "execution_count": 10
  },
  {
   "metadata": {
    "ExecuteTime": {
     "end_time": "2024-12-04T12:19:59.358752Z",
     "start_time": "2024-12-04T12:19:59.344221Z"
    }
   },
   "cell_type": "code",
   "source": [
    "data = data.drop(columns=['Open', 'Open_shifted'])\n",
    "\n",
    "# remove the last 2 rows as they have NaN values\n",
    "date_range = pd.date_range(start='2019-01-01 00:00:00', end='2023-12-31 23:45:00', freq='15min')\n",
    "data = data.reindex(date_range)\n",
    "data = data.asfreq('15min')\n",
    "\n",
    "data.tail()"
   ],
   "id": "5ac7474abc296430",
   "outputs": [
    {
     "data": {
      "text/plain": [
       "                      Timestamp  pct_change_15min  pct_change_30min  \\\n",
       "2023-12-31 22:45:00  1704062700          0.195193          0.103476   \n",
       "2023-12-31 23:00:00  1704063600         -0.091539          0.044596   \n",
       "2023-12-31 23:15:00  1704064500          0.136259          0.267819   \n",
       "2023-12-31 23:30:00  1704065400          0.131381          0.065691   \n",
       "2023-12-31 23:45:00  1704066300         -0.065604         -0.131209   \n",
       "\n",
       "                     pct_change_24h  \n",
       "2023-12-31 22:45:00        0.500917  \n",
       "2023-12-31 23:00:00        0.539843  \n",
       "2023-12-31 23:15:00        1.296810  \n",
       "2023-12-31 23:30:00        1.029936  \n",
       "2023-12-31 23:45:00        1.126992  "
      ],
      "text/html": [
       "<div>\n",
       "<style scoped>\n",
       "    .dataframe tbody tr th:only-of-type {\n",
       "        vertical-align: middle;\n",
       "    }\n",
       "\n",
       "    .dataframe tbody tr th {\n",
       "        vertical-align: top;\n",
       "    }\n",
       "\n",
       "    .dataframe thead th {\n",
       "        text-align: right;\n",
       "    }\n",
       "</style>\n",
       "<table border=\"1\" class=\"dataframe\">\n",
       "  <thead>\n",
       "    <tr style=\"text-align: right;\">\n",
       "      <th></th>\n",
       "      <th>Timestamp</th>\n",
       "      <th>pct_change_15min</th>\n",
       "      <th>pct_change_30min</th>\n",
       "      <th>pct_change_24h</th>\n",
       "    </tr>\n",
       "  </thead>\n",
       "  <tbody>\n",
       "    <tr>\n",
       "      <th>2023-12-31 22:45:00</th>\n",
       "      <td>1704062700</td>\n",
       "      <td>0.195193</td>\n",
       "      <td>0.103476</td>\n",
       "      <td>0.500917</td>\n",
       "    </tr>\n",
       "    <tr>\n",
       "      <th>2023-12-31 23:00:00</th>\n",
       "      <td>1704063600</td>\n",
       "      <td>-0.091539</td>\n",
       "      <td>0.044596</td>\n",
       "      <td>0.539843</td>\n",
       "    </tr>\n",
       "    <tr>\n",
       "      <th>2023-12-31 23:15:00</th>\n",
       "      <td>1704064500</td>\n",
       "      <td>0.136259</td>\n",
       "      <td>0.267819</td>\n",
       "      <td>1.296810</td>\n",
       "    </tr>\n",
       "    <tr>\n",
       "      <th>2023-12-31 23:30:00</th>\n",
       "      <td>1704065400</td>\n",
       "      <td>0.131381</td>\n",
       "      <td>0.065691</td>\n",
       "      <td>1.029936</td>\n",
       "    </tr>\n",
       "    <tr>\n",
       "      <th>2023-12-31 23:45:00</th>\n",
       "      <td>1704066300</td>\n",
       "      <td>-0.065604</td>\n",
       "      <td>-0.131209</td>\n",
       "      <td>1.126992</td>\n",
       "    </tr>\n",
       "  </tbody>\n",
       "</table>\n",
       "</div>"
      ]
     },
     "execution_count": 11,
     "metadata": {},
     "output_type": "execute_result"
    }
   ],
   "execution_count": 11
  },
  {
   "metadata": {
    "ExecuteTime": {
     "end_time": "2024-12-04T12:19:59.449122Z",
     "start_time": "2024-12-04T12:19:59.446328Z"
    }
   },
   "cell_type": "code",
   "source": [
    "from datetime import datetime, timezone\n",
    "\n",
    "date_time = datetime.fromtimestamp(data['Timestamp'].iloc[0], tz=timezone.utc)\n",
    "print(\"Start date: \", date_time)\n",
    "date_time = datetime.fromtimestamp(data['Timestamp'].iloc[1], tz=timezone.utc)\n",
    "print(\"Second date: \", date_time)\n",
    "date_time = datetime.fromtimestamp(data['Timestamp'].max(), tz=timezone.utc)\n",
    "print(\"End date: \", date_time)"
   ],
   "id": "4add4b40604d031",
   "outputs": [
    {
     "name": "stdout",
     "output_type": "stream",
     "text": [
      "Start date:  2019-01-01 00:00:00+00:00\n",
      "Second date:  2019-01-01 00:15:00+00:00\n",
      "End date:  2023-12-31 23:45:00+00:00\n"
     ]
    }
   ],
   "execution_count": 12
  },
  {
   "metadata": {
    "ExecuteTime": {
     "end_time": "2024-12-04T12:19:59.677975Z",
     "start_time": "2024-12-04T12:19:59.602565Z"
    }
   },
   "cell_type": "code",
   "source": "data.to_parquet(\"../cache/btc_cleaned.parquet\")",
   "id": "dc720668f566ee97",
   "outputs": [],
   "execution_count": 13
  }
 ],
 "metadata": {
  "kernelspec": {
   "display_name": "Python 3",
   "language": "python",
   "name": "python3"
  },
  "language_info": {
   "codemirror_mode": {
    "name": "ipython",
    "version": 2
   },
   "file_extension": ".py",
   "mimetype": "text/x-python",
   "name": "python",
   "nbconvert_exporter": "python",
   "pygments_lexer": "ipython2",
   "version": "2.7.6"
  }
 },
 "nbformat": 4,
 "nbformat_minor": 5
}
