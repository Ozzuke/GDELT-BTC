{
 "cells": [
  {
   "metadata": {},
   "cell_type": "code",
   "source": [
    "import pandas as pd\n",
    "\n",
    "data = pd.read_parquet('../cache/btc.parquet')\n",
    "data.head()"
   ],
   "id": "286a4a7b11086882",
   "outputs": [],
   "execution_count": null
  },
  {
   "metadata": {},
   "cell_type": "code",
   "source": [
    "# show all columns with nan values\n",
    "data.isna().sum()"
   ],
   "id": "107bad7e78548628",
   "outputs": [],
   "execution_count": null
  },
  {
   "metadata": {},
   "cell_type": "code",
   "source": [
    "# drop columns that are not needed\n",
    "data = data.drop(columns=['Volume', 'High', 'Low', 'Close'])"
   ],
   "id": "ce56d1eade4c7285",
   "outputs": [],
   "execution_count": null
  },
  {
   "metadata": {},
   "cell_type": "code",
   "source": [
    "# set index to Datetime and sample every 15min interval\n",
    "data['Datetime'] = pd.to_datetime(data['Timestamp'], unit='s')\n",
    "data.set_index('Datetime', inplace=True)\n",
    "\n",
    "# have a small buffer of 30 min at the end for change % calculation\n",
    "date_range = pd.date_range(start='2019-01-01 00:00:00', end='2024-01-02 00:00:00', freq='15min')\n",
    "\n",
    "data = data.reindex(date_range)\n",
    "data.head()"
   ],
   "id": "23b24f552b23b3f3",
   "outputs": [],
   "execution_count": null
  },
  {
   "metadata": {},
   "cell_type": "code",
   "source": [
    "# correct all timestamps with the help of Datetime and convert timestamp to int64\n",
    "data['Timestamp'] = data.index.astype('int64') // 10**9"
   ],
   "id": "15f75a5b0fb23b40",
   "outputs": [],
   "execution_count": null
  },
  {
   "metadata": {},
   "cell_type": "code",
   "source": [
    "# fill NaN values with interpolation\n",
    "data = data.interpolate()"
   ],
   "id": "4b17b09db5cd4da5",
   "outputs": [],
   "execution_count": null
  },
  {
   "metadata": {},
   "cell_type": "code",
   "source": [
    "# show all columns with nan values\n",
    "data.isna().sum()"
   ],
   "id": "fa970ae0f504b630",
   "outputs": [],
   "execution_count": null
  },
  {
   "metadata": {},
   "cell_type": "code",
   "source": [
    "# Calculate the percentage change for 15 min intervals\n",
    "data['Open_shifted'] = data['Open'].shift(-1)\n",
    "data['pct_change_15min'] = ((data['Open_shifted'] - data['Open']) / data['Open']) * 100\n",
    "data.head()"
   ],
   "id": "123dd048ca0ec704",
   "outputs": [],
   "execution_count": null
  },
  {
   "metadata": {},
   "cell_type": "code",
   "source": [
    "data['Open_shifted'] = data['Open'].shift(-2)\n",
    "\n",
    "# Calculate the percentage change for 30 min intervals\n",
    "data['pct_change_30min'] = ((data['Open_shifted'] - data['Open']) / data['Open']) * 100\n",
    "data.head()"
   ],
   "id": "bb6ce5a77a6ba5f5",
   "outputs": [],
   "execution_count": null
  },
  {
   "metadata": {},
   "cell_type": "code",
   "source": [
    "# calculate the percentage change for 24 hours intervals\n",
    "data['Open_shifted'] = data['Open'].shift(-96)\n",
    "data['pct_change_24h'] = ((data['Open_shifted'] - data['Open']) / data['Open']) * 100\n",
    "data.head()"
   ],
   "id": "bd74aa36cd4e0985",
   "outputs": [],
   "execution_count": null
  },
  {
   "metadata": {},
   "cell_type": "code",
   "source": [
    "data = data.drop(columns=['Open', 'Open_shifted'])\n",
    "\n",
    "# remove the last 2 rows as they have NaN values\n",
    "date_range = pd.date_range(start='2019-01-01 00:00:00', end='2023-12-31 23:45:00', freq='15min')\n",
    "data = data.reindex(date_range)\n",
    "data = data.asfreq('15min')\n",
    "\n",
    "data.tail()"
   ],
   "id": "5ac7474abc296430",
   "outputs": [],
   "execution_count": null
  },
  {
   "metadata": {},
   "cell_type": "code",
   "source": [
    "from datetime import datetime, timezone\n",
    "\n",
    "date_time = datetime.fromtimestamp(data['Timestamp'].iloc[0], tz=timezone.utc)\n",
    "print(\"Start date: \", date_time)\n",
    "date_time = datetime.fromtimestamp(data['Timestamp'].iloc[1], tz=timezone.utc)\n",
    "print(\"Second date: \", date_time)\n",
    "date_time = datetime.fromtimestamp(data['Timestamp'].max(), tz=timezone.utc)\n",
    "print(\"End date: \", date_time)"
   ],
   "id": "4add4b40604d031",
   "outputs": [],
   "execution_count": null
  },
  {
   "metadata": {},
   "cell_type": "code",
   "source": "print(data.index.freq)",
   "id": "3cb57fd2c0c4393c",
   "outputs": [],
   "execution_count": null
  },
  {
   "metadata": {},
   "cell_type": "code",
   "source": "data.to_parquet(\"../cache/btc_cleaned.parquet\")",
   "id": "dc720668f566ee97",
   "outputs": [],
   "execution_count": null
  }
 ],
 "metadata": {
  "kernelspec": {
   "display_name": "Python 3",
   "language": "python",
   "name": "python3"
  },
  "language_info": {
   "codemirror_mode": {
    "name": "ipython",
    "version": 2
   },
   "file_extension": ".py",
   "mimetype": "text/x-python",
   "name": "python",
   "nbconvert_exporter": "python",
   "pygments_lexer": "ipython2",
   "version": "2.7.6"
  }
 },
 "nbformat": 4,
 "nbformat_minor": 5
}
