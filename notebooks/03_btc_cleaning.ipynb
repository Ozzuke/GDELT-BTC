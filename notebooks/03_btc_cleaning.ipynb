{
 "cells": [
  {
   "metadata": {
    "ExecuteTime": {
     "end_time": "2024-12-04T08:58:49.769438Z",
     "start_time": "2024-12-04T08:58:49.073103Z"
    }
   },
   "cell_type": "code",
   "source": [
    "import pandas as pd\n",
    "\n",
    "data = pd.read_parquet('../cache/btc.parquet')\n",
    "data.head()"
   ],
   "id": "286a4a7b11086882",
   "outputs": [
    {
     "data": {
      "text/plain": [
       "      Timestamp  Open  High   Low  Close  Volume\n",
       "0  1.325412e+09  4.58  4.58  4.58   4.58     0.0\n",
       "1  1.325412e+09  4.58  4.58  4.58   4.58     0.0\n",
       "2  1.325412e+09  4.58  4.58  4.58   4.58     0.0\n",
       "3  1.325412e+09  4.58  4.58  4.58   4.58     0.0\n",
       "4  1.325412e+09  4.58  4.58  4.58   4.58     0.0"
      ],
      "text/html": [
       "<div>\n",
       "<style scoped>\n",
       "    .dataframe tbody tr th:only-of-type {\n",
       "        vertical-align: middle;\n",
       "    }\n",
       "\n",
       "    .dataframe tbody tr th {\n",
       "        vertical-align: top;\n",
       "    }\n",
       "\n",
       "    .dataframe thead th {\n",
       "        text-align: right;\n",
       "    }\n",
       "</style>\n",
       "<table border=\"1\" class=\"dataframe\">\n",
       "  <thead>\n",
       "    <tr style=\"text-align: right;\">\n",
       "      <th></th>\n",
       "      <th>Timestamp</th>\n",
       "      <th>Open</th>\n",
       "      <th>High</th>\n",
       "      <th>Low</th>\n",
       "      <th>Close</th>\n",
       "      <th>Volume</th>\n",
       "    </tr>\n",
       "  </thead>\n",
       "  <tbody>\n",
       "    <tr>\n",
       "      <th>0</th>\n",
       "      <td>1.325412e+09</td>\n",
       "      <td>4.58</td>\n",
       "      <td>4.58</td>\n",
       "      <td>4.58</td>\n",
       "      <td>4.58</td>\n",
       "      <td>0.0</td>\n",
       "    </tr>\n",
       "    <tr>\n",
       "      <th>1</th>\n",
       "      <td>1.325412e+09</td>\n",
       "      <td>4.58</td>\n",
       "      <td>4.58</td>\n",
       "      <td>4.58</td>\n",
       "      <td>4.58</td>\n",
       "      <td>0.0</td>\n",
       "    </tr>\n",
       "    <tr>\n",
       "      <th>2</th>\n",
       "      <td>1.325412e+09</td>\n",
       "      <td>4.58</td>\n",
       "      <td>4.58</td>\n",
       "      <td>4.58</td>\n",
       "      <td>4.58</td>\n",
       "      <td>0.0</td>\n",
       "    </tr>\n",
       "    <tr>\n",
       "      <th>3</th>\n",
       "      <td>1.325412e+09</td>\n",
       "      <td>4.58</td>\n",
       "      <td>4.58</td>\n",
       "      <td>4.58</td>\n",
       "      <td>4.58</td>\n",
       "      <td>0.0</td>\n",
       "    </tr>\n",
       "    <tr>\n",
       "      <th>4</th>\n",
       "      <td>1.325412e+09</td>\n",
       "      <td>4.58</td>\n",
       "      <td>4.58</td>\n",
       "      <td>4.58</td>\n",
       "      <td>4.58</td>\n",
       "      <td>0.0</td>\n",
       "    </tr>\n",
       "  </tbody>\n",
       "</table>\n",
       "</div>"
      ]
     },
     "execution_count": 1,
     "metadata": {},
     "output_type": "execute_result"
    }
   ],
   "execution_count": 1
  },
  {
   "metadata": {
    "ExecuteTime": {
     "end_time": "2024-12-04T08:58:49.817974Z",
     "start_time": "2024-12-04T08:58:49.813414Z"
    }
   },
   "cell_type": "code",
   "source": "data.columns",
   "id": "b9af2ef3e2b7a0b7",
   "outputs": [
    {
     "data": {
      "text/plain": [
       "Index(['Timestamp', 'Open', 'High', 'Low', 'Close', 'Volume'], dtype='object')"
      ]
     },
     "execution_count": 2,
     "metadata": {},
     "output_type": "execute_result"
    }
   ],
   "execution_count": 2
  },
  {
   "metadata": {
    "ExecuteTime": {
     "end_time": "2024-12-04T08:58:50.063958Z",
     "start_time": "2024-12-04T08:58:49.858535Z"
    }
   },
   "cell_type": "code",
   "source": [
    "# drop NaN values\n",
    "data.dropna(inplace=True)"
   ],
   "id": "fa8cd84c90963b40",
   "outputs": [],
   "execution_count": 3
  },
  {
   "metadata": {
    "ExecuteTime": {
     "end_time": "2024-12-04T08:58:50.219898Z",
     "start_time": "2024-12-04T08:58:50.099466Z"
    }
   },
   "cell_type": "code",
   "source": [
    "data['Timestamp'] = data['Timestamp'].astype('int64')\n",
    "\n",
    "# get data from ranges 2019-01-01 to 2023-12-31\n",
    "timeStamp1 = pd.Timestamp('2018-12-31').value // 10**9\n",
    "timeStamp2 = pd.Timestamp('2024-01-02').value // 10**9\n",
    "\n",
    "data= data[(data['Timestamp'] >= timeStamp1) & (data['Timestamp'] <= timeStamp2)]"
   ],
   "id": "38353df43cf0e698",
   "outputs": [],
   "execution_count": 4
  },
  {
   "metadata": {
    "ExecuteTime": {
     "end_time": "2024-12-04T08:58:50.249996Z",
     "start_time": "2024-12-04T08:58:50.239565Z"
    }
   },
   "cell_type": "code",
   "source": [
    "# sample every 15th row\n",
    "data = data.iloc[::15]\n",
    "data.head()"
   ],
   "id": "23b24f552b23b3f3",
   "outputs": [
    {
     "data": {
      "text/plain": [
       "          Timestamp     Open     High      Low    Close     Volume\n",
       "3679619  1546214400  3811.45  3813.76  3808.00  3811.61  28.416599\n",
       "3679634  1546215300  3819.92  3819.92  3819.92  3819.92   0.000000\n",
       "3679649  1546216200  3816.89  3816.89  3816.89  3816.89   0.416601\n",
       "3679664  1546217100  3827.30  3827.30  3823.50  3824.20   7.574298\n",
       "3679679  1546218000  3808.66  3808.66  3805.97  3805.97   0.283735"
      ],
      "text/html": [
       "<div>\n",
       "<style scoped>\n",
       "    .dataframe tbody tr th:only-of-type {\n",
       "        vertical-align: middle;\n",
       "    }\n",
       "\n",
       "    .dataframe tbody tr th {\n",
       "        vertical-align: top;\n",
       "    }\n",
       "\n",
       "    .dataframe thead th {\n",
       "        text-align: right;\n",
       "    }\n",
       "</style>\n",
       "<table border=\"1\" class=\"dataframe\">\n",
       "  <thead>\n",
       "    <tr style=\"text-align: right;\">\n",
       "      <th></th>\n",
       "      <th>Timestamp</th>\n",
       "      <th>Open</th>\n",
       "      <th>High</th>\n",
       "      <th>Low</th>\n",
       "      <th>Close</th>\n",
       "      <th>Volume</th>\n",
       "    </tr>\n",
       "  </thead>\n",
       "  <tbody>\n",
       "    <tr>\n",
       "      <th>3679619</th>\n",
       "      <td>1546214400</td>\n",
       "      <td>3811.45</td>\n",
       "      <td>3813.76</td>\n",
       "      <td>3808.00</td>\n",
       "      <td>3811.61</td>\n",
       "      <td>28.416599</td>\n",
       "    </tr>\n",
       "    <tr>\n",
       "      <th>3679634</th>\n",
       "      <td>1546215300</td>\n",
       "      <td>3819.92</td>\n",
       "      <td>3819.92</td>\n",
       "      <td>3819.92</td>\n",
       "      <td>3819.92</td>\n",
       "      <td>0.000000</td>\n",
       "    </tr>\n",
       "    <tr>\n",
       "      <th>3679649</th>\n",
       "      <td>1546216200</td>\n",
       "      <td>3816.89</td>\n",
       "      <td>3816.89</td>\n",
       "      <td>3816.89</td>\n",
       "      <td>3816.89</td>\n",
       "      <td>0.416601</td>\n",
       "    </tr>\n",
       "    <tr>\n",
       "      <th>3679664</th>\n",
       "      <td>1546217100</td>\n",
       "      <td>3827.30</td>\n",
       "      <td>3827.30</td>\n",
       "      <td>3823.50</td>\n",
       "      <td>3824.20</td>\n",
       "      <td>7.574298</td>\n",
       "    </tr>\n",
       "    <tr>\n",
       "      <th>3679679</th>\n",
       "      <td>1546218000</td>\n",
       "      <td>3808.66</td>\n",
       "      <td>3808.66</td>\n",
       "      <td>3805.97</td>\n",
       "      <td>3805.97</td>\n",
       "      <td>0.283735</td>\n",
       "    </tr>\n",
       "  </tbody>\n",
       "</table>\n",
       "</div>"
      ]
     },
     "execution_count": 5,
     "metadata": {},
     "output_type": "execute_result"
    }
   ],
   "execution_count": 5
  },
  {
   "metadata": {
    "ExecuteTime": {
     "end_time": "2024-12-04T08:58:50.356031Z",
     "start_time": "2024-12-04T08:58:50.350435Z"
    }
   },
   "cell_type": "code",
   "source": "data = data.drop(columns=['Volume', 'High', 'Low', 'Close'])",
   "id": "ae283fc111cd436d",
   "outputs": [],
   "execution_count": 6
  },
  {
   "metadata": {
    "ExecuteTime": {
     "end_time": "2024-12-04T08:58:50.383586Z",
     "start_time": "2024-12-04T08:58:50.370204Z"
    }
   },
   "cell_type": "code",
   "source": [
    "data['Open_shifted'] = data['Open'].shift(-2)\n",
    "\n",
    "# Calculate the percentage change\n",
    "data['Open_pct_change'] = ((data['Open_shifted'] - data['Open']) / data['Open']) * 100\n",
    "\n",
    "data.head()"
   ],
   "id": "bb6ce5a77a6ba5f5",
   "outputs": [
    {
     "data": {
      "text/plain": [
       "          Timestamp     Open  Open_shifted  Open_pct_change\n",
       "3679619  1546214400  3811.45       3816.89         0.142728\n",
       "3679634  1546215300  3819.92       3827.30         0.193198\n",
       "3679649  1546216200  3816.89       3808.66        -0.215621\n",
       "3679664  1546217100  3827.30       3809.77        -0.458025\n",
       "3679679  1546218000  3808.66       3815.83         0.188255"
      ],
      "text/html": [
       "<div>\n",
       "<style scoped>\n",
       "    .dataframe tbody tr th:only-of-type {\n",
       "        vertical-align: middle;\n",
       "    }\n",
       "\n",
       "    .dataframe tbody tr th {\n",
       "        vertical-align: top;\n",
       "    }\n",
       "\n",
       "    .dataframe thead th {\n",
       "        text-align: right;\n",
       "    }\n",
       "</style>\n",
       "<table border=\"1\" class=\"dataframe\">\n",
       "  <thead>\n",
       "    <tr style=\"text-align: right;\">\n",
       "      <th></th>\n",
       "      <th>Timestamp</th>\n",
       "      <th>Open</th>\n",
       "      <th>Open_shifted</th>\n",
       "      <th>Open_pct_change</th>\n",
       "    </tr>\n",
       "  </thead>\n",
       "  <tbody>\n",
       "    <tr>\n",
       "      <th>3679619</th>\n",
       "      <td>1546214400</td>\n",
       "      <td>3811.45</td>\n",
       "      <td>3816.89</td>\n",
       "      <td>0.142728</td>\n",
       "    </tr>\n",
       "    <tr>\n",
       "      <th>3679634</th>\n",
       "      <td>1546215300</td>\n",
       "      <td>3819.92</td>\n",
       "      <td>3827.30</td>\n",
       "      <td>0.193198</td>\n",
       "    </tr>\n",
       "    <tr>\n",
       "      <th>3679649</th>\n",
       "      <td>1546216200</td>\n",
       "      <td>3816.89</td>\n",
       "      <td>3808.66</td>\n",
       "      <td>-0.215621</td>\n",
       "    </tr>\n",
       "    <tr>\n",
       "      <th>3679664</th>\n",
       "      <td>1546217100</td>\n",
       "      <td>3827.30</td>\n",
       "      <td>3809.77</td>\n",
       "      <td>-0.458025</td>\n",
       "    </tr>\n",
       "    <tr>\n",
       "      <th>3679679</th>\n",
       "      <td>1546218000</td>\n",
       "      <td>3808.66</td>\n",
       "      <td>3815.83</td>\n",
       "      <td>0.188255</td>\n",
       "    </tr>\n",
       "  </tbody>\n",
       "</table>\n",
       "</div>"
      ]
     },
     "execution_count": 7,
     "metadata": {},
     "output_type": "execute_result"
    }
   ],
   "execution_count": 7
  },
  {
   "metadata": {
    "ExecuteTime": {
     "end_time": "2024-12-04T08:58:50.485627Z",
     "start_time": "2024-12-04T08:58:50.469868Z"
    }
   },
   "cell_type": "code",
   "source": [
    "data = data.drop(columns=['Open', 'Open_shifted'])\n",
    "\n",
    "timeStamp1 = pd.Timestamp('2019-01-01').value // 10**9\n",
    "timeStamp2 = pd.Timestamp('2024-01-01 00:00:00').value // 10**9\n",
    "\n",
    "data = data[(data['Timestamp'] >= timeStamp1) & (data['Timestamp'] < timeStamp2)]\n",
    "data.reset_index(drop=True, inplace=True)\n",
    "data.head()"
   ],
   "id": "5ac7474abc296430",
   "outputs": [
    {
     "data": {
      "text/plain": [
       "    Timestamp  Open_pct_change\n",
       "0  1546300800        -0.226363\n",
       "1  1546301700        -2.578560\n",
       "2  1546302600        -1.509301\n",
       "3  1546303500         0.781614\n",
       "4  1546304400        -0.291943"
      ],
      "text/html": [
       "<div>\n",
       "<style scoped>\n",
       "    .dataframe tbody tr th:only-of-type {\n",
       "        vertical-align: middle;\n",
       "    }\n",
       "\n",
       "    .dataframe tbody tr th {\n",
       "        vertical-align: top;\n",
       "    }\n",
       "\n",
       "    .dataframe thead th {\n",
       "        text-align: right;\n",
       "    }\n",
       "</style>\n",
       "<table border=\"1\" class=\"dataframe\">\n",
       "  <thead>\n",
       "    <tr style=\"text-align: right;\">\n",
       "      <th></th>\n",
       "      <th>Timestamp</th>\n",
       "      <th>Open_pct_change</th>\n",
       "    </tr>\n",
       "  </thead>\n",
       "  <tbody>\n",
       "    <tr>\n",
       "      <th>0</th>\n",
       "      <td>1546300800</td>\n",
       "      <td>-0.226363</td>\n",
       "    </tr>\n",
       "    <tr>\n",
       "      <th>1</th>\n",
       "      <td>1546301700</td>\n",
       "      <td>-2.578560</td>\n",
       "    </tr>\n",
       "    <tr>\n",
       "      <th>2</th>\n",
       "      <td>1546302600</td>\n",
       "      <td>-1.509301</td>\n",
       "    </tr>\n",
       "    <tr>\n",
       "      <th>3</th>\n",
       "      <td>1546303500</td>\n",
       "      <td>0.781614</td>\n",
       "    </tr>\n",
       "    <tr>\n",
       "      <th>4</th>\n",
       "      <td>1546304400</td>\n",
       "      <td>-0.291943</td>\n",
       "    </tr>\n",
       "  </tbody>\n",
       "</table>\n",
       "</div>"
      ]
     },
     "execution_count": 8,
     "metadata": {},
     "output_type": "execute_result"
    }
   ],
   "execution_count": 8
  },
  {
   "metadata": {
    "ExecuteTime": {
     "end_time": "2024-12-04T08:58:50.742144Z",
     "start_time": "2024-12-04T08:58:50.737126Z"
    }
   },
   "cell_type": "code",
   "source": [
    "import datetime\n",
    "\n",
    "date_time = datetime.datetime.utcfromtimestamp(data['Timestamp'].iloc[0])\n",
    "print(f\"first: {date_time}\")\n",
    "date_time = datetime.datetime.utcfromtimestamp(data['Timestamp'].iloc[1])\n",
    "print(f\"second: {date_time}\")\n",
    "date_time = datetime.datetime.utcfromtimestamp(data['Timestamp'].max())\n",
    "print(f\"last: {date_time}\")"
   ],
   "id": "4add4b40604d031",
   "outputs": [
    {
     "name": "stdout",
     "output_type": "stream",
     "text": [
      "first: 2019-01-01 00:00:00\n",
      "second: 2019-01-01 00:15:00\n",
      "last: 2023-12-31 23:45:00\n"
     ]
    },
    {
     "name": "stderr",
     "output_type": "stream",
     "text": [
      "/tmp/ipykernel_1779/2418492704.py:3: DeprecationWarning: datetime.datetime.utcfromtimestamp() is deprecated and scheduled for removal in a future version. Use timezone-aware objects to represent datetimes in UTC: datetime.datetime.fromtimestamp(timestamp, datetime.UTC).\n",
      "  date_time = datetime.datetime.utcfromtimestamp(data['Timestamp'].iloc[0])\n",
      "/tmp/ipykernel_1779/2418492704.py:5: DeprecationWarning: datetime.datetime.utcfromtimestamp() is deprecated and scheduled for removal in a future version. Use timezone-aware objects to represent datetimes in UTC: datetime.datetime.fromtimestamp(timestamp, datetime.UTC).\n",
      "  date_time = datetime.datetime.utcfromtimestamp(data['Timestamp'].iloc[1])\n",
      "/tmp/ipykernel_1779/2418492704.py:7: DeprecationWarning: datetime.datetime.utcfromtimestamp() is deprecated and scheduled for removal in a future version. Use timezone-aware objects to represent datetimes in UTC: datetime.datetime.fromtimestamp(timestamp, datetime.UTC).\n",
      "  date_time = datetime.datetime.utcfromtimestamp(data['Timestamp'].max())\n"
     ]
    }
   ],
   "execution_count": 9
  },
  {
   "metadata": {
    "ExecuteTime": {
     "end_time": "2024-12-04T08:58:50.951250Z",
     "start_time": "2024-12-04T08:58:50.891653Z"
    }
   },
   "cell_type": "code",
   "source": "data.to_parquet(\"../cache/btc_cleaned.parquet\")",
   "id": "dc720668f566ee97",
   "outputs": [],
   "execution_count": 10
  }
 ],
 "metadata": {
  "kernelspec": {
   "display_name": "Python 3",
   "language": "python",
   "name": "python3"
  },
  "language_info": {
   "codemirror_mode": {
    "name": "ipython",
    "version": 2
   },
   "file_extension": ".py",
   "mimetype": "text/x-python",
   "name": "python",
   "nbconvert_exporter": "python",
   "pygments_lexer": "ipython2",
   "version": "2.7.6"
  }
 },
 "nbformat": 4,
 "nbformat_minor": 5
}
