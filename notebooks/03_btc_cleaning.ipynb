{
 "cells": [
  {
   "metadata": {
    "ExecuteTime": {
     "end_time": "2024-12-04T10:12:08.848855Z",
     "start_time": "2024-12-04T10:12:08.519766Z"
    }
   },
   "cell_type": "code",
   "source": [
    "import pandas as pd\n",
    "\n",
    "data = pd.read_parquet('../cache/btc.parquet')\n",
    "data.head()"
   ],
   "id": "286a4a7b11086882",
   "outputs": [
    {
     "data": {
      "text/plain": [
       "      Timestamp  Open  High   Low  Close  Volume\n",
       "0  1.325412e+09  4.58  4.58  4.58   4.58     0.0\n",
       "1  1.325412e+09  4.58  4.58  4.58   4.58     0.0\n",
       "2  1.325412e+09  4.58  4.58  4.58   4.58     0.0\n",
       "3  1.325412e+09  4.58  4.58  4.58   4.58     0.0\n",
       "4  1.325412e+09  4.58  4.58  4.58   4.58     0.0"
      ],
      "text/html": [
       "<div>\n",
       "<style scoped>\n",
       "    .dataframe tbody tr th:only-of-type {\n",
       "        vertical-align: middle;\n",
       "    }\n",
       "\n",
       "    .dataframe tbody tr th {\n",
       "        vertical-align: top;\n",
       "    }\n",
       "\n",
       "    .dataframe thead th {\n",
       "        text-align: right;\n",
       "    }\n",
       "</style>\n",
       "<table border=\"1\" class=\"dataframe\">\n",
       "  <thead>\n",
       "    <tr style=\"text-align: right;\">\n",
       "      <th></th>\n",
       "      <th>Timestamp</th>\n",
       "      <th>Open</th>\n",
       "      <th>High</th>\n",
       "      <th>Low</th>\n",
       "      <th>Close</th>\n",
       "      <th>Volume</th>\n",
       "    </tr>\n",
       "  </thead>\n",
       "  <tbody>\n",
       "    <tr>\n",
       "      <th>0</th>\n",
       "      <td>1.325412e+09</td>\n",
       "      <td>4.58</td>\n",
       "      <td>4.58</td>\n",
       "      <td>4.58</td>\n",
       "      <td>4.58</td>\n",
       "      <td>0.0</td>\n",
       "    </tr>\n",
       "    <tr>\n",
       "      <th>1</th>\n",
       "      <td>1.325412e+09</td>\n",
       "      <td>4.58</td>\n",
       "      <td>4.58</td>\n",
       "      <td>4.58</td>\n",
       "      <td>4.58</td>\n",
       "      <td>0.0</td>\n",
       "    </tr>\n",
       "    <tr>\n",
       "      <th>2</th>\n",
       "      <td>1.325412e+09</td>\n",
       "      <td>4.58</td>\n",
       "      <td>4.58</td>\n",
       "      <td>4.58</td>\n",
       "      <td>4.58</td>\n",
       "      <td>0.0</td>\n",
       "    </tr>\n",
       "    <tr>\n",
       "      <th>3</th>\n",
       "      <td>1.325412e+09</td>\n",
       "      <td>4.58</td>\n",
       "      <td>4.58</td>\n",
       "      <td>4.58</td>\n",
       "      <td>4.58</td>\n",
       "      <td>0.0</td>\n",
       "    </tr>\n",
       "    <tr>\n",
       "      <th>4</th>\n",
       "      <td>1.325412e+09</td>\n",
       "      <td>4.58</td>\n",
       "      <td>4.58</td>\n",
       "      <td>4.58</td>\n",
       "      <td>4.58</td>\n",
       "      <td>0.0</td>\n",
       "    </tr>\n",
       "  </tbody>\n",
       "</table>\n",
       "</div>"
      ]
     },
     "execution_count": 1,
     "metadata": {},
     "output_type": "execute_result"
    }
   ],
   "execution_count": 1
  },
  {
   "metadata": {
    "ExecuteTime": {
     "end_time": "2024-12-04T10:12:08.888957Z",
     "start_time": "2024-12-04T10:12:08.885201Z"
    }
   },
   "cell_type": "code",
   "source": "data.columns",
   "id": "b9af2ef3e2b7a0b7",
   "outputs": [
    {
     "data": {
      "text/plain": [
       "Index(['Timestamp', 'Open', 'High', 'Low', 'Close', 'Volume'], dtype='object')"
      ]
     },
     "execution_count": 2,
     "metadata": {},
     "output_type": "execute_result"
    }
   ],
   "execution_count": 2
  },
  {
   "metadata": {
    "ExecuteTime": {
     "end_time": "2024-12-04T10:12:09.193532Z",
     "start_time": "2024-12-04T10:12:08.990290Z"
    }
   },
   "cell_type": "code",
   "source": [
    "# drop NaN values\n",
    "data.dropna(inplace=True)"
   ],
   "id": "fa8cd84c90963b40",
   "outputs": [],
   "execution_count": 3
  },
  {
   "metadata": {
    "ExecuteTime": {
     "end_time": "2024-12-04T10:12:09.348447Z",
     "start_time": "2024-12-04T10:12:09.227643Z"
    }
   },
   "cell_type": "code",
   "source": [
    "data['Timestamp'] = data['Timestamp'].astype('int64')\n",
    "\n",
    "# get data from ranges 2019-01-01 to 2023-12-31\n",
    "timeStamp1 = pd.Timestamp('2018-12-31').value // 10**9\n",
    "timeStamp2 = pd.Timestamp('2024-01-02').value // 10**9\n",
    "\n",
    "data= data[(data['Timestamp'] >= timeStamp1) & (data['Timestamp'] <= timeStamp2)]"
   ],
   "id": "38353df43cf0e698",
   "outputs": [],
   "execution_count": 4
  },
  {
   "metadata": {
    "ExecuteTime": {
     "end_time": "2024-12-04T10:12:09.442893Z",
     "start_time": "2024-12-04T10:12:09.433287Z"
    }
   },
   "cell_type": "code",
   "source": [
    "# sample every 15th row\n",
    "data = data.iloc[::15]\n",
    "data.head()"
   ],
   "id": "23b24f552b23b3f3",
   "outputs": [
    {
     "data": {
      "text/plain": [
       "          Timestamp     Open     High      Low    Close     Volume\n",
       "3679619  1546214400  3811.45  3813.76  3808.00  3811.61  28.416599\n",
       "3679634  1546215300  3819.92  3819.92  3819.92  3819.92   0.000000\n",
       "3679649  1546216200  3816.89  3816.89  3816.89  3816.89   0.416601\n",
       "3679664  1546217100  3827.30  3827.30  3823.50  3824.20   7.574298\n",
       "3679679  1546218000  3808.66  3808.66  3805.97  3805.97   0.283735"
      ],
      "text/html": [
       "<div>\n",
       "<style scoped>\n",
       "    .dataframe tbody tr th:only-of-type {\n",
       "        vertical-align: middle;\n",
       "    }\n",
       "\n",
       "    .dataframe tbody tr th {\n",
       "        vertical-align: top;\n",
       "    }\n",
       "\n",
       "    .dataframe thead th {\n",
       "        text-align: right;\n",
       "    }\n",
       "</style>\n",
       "<table border=\"1\" class=\"dataframe\">\n",
       "  <thead>\n",
       "    <tr style=\"text-align: right;\">\n",
       "      <th></th>\n",
       "      <th>Timestamp</th>\n",
       "      <th>Open</th>\n",
       "      <th>High</th>\n",
       "      <th>Low</th>\n",
       "      <th>Close</th>\n",
       "      <th>Volume</th>\n",
       "    </tr>\n",
       "  </thead>\n",
       "  <tbody>\n",
       "    <tr>\n",
       "      <th>3679619</th>\n",
       "      <td>1546214400</td>\n",
       "      <td>3811.45</td>\n",
       "      <td>3813.76</td>\n",
       "      <td>3808.00</td>\n",
       "      <td>3811.61</td>\n",
       "      <td>28.416599</td>\n",
       "    </tr>\n",
       "    <tr>\n",
       "      <th>3679634</th>\n",
       "      <td>1546215300</td>\n",
       "      <td>3819.92</td>\n",
       "      <td>3819.92</td>\n",
       "      <td>3819.92</td>\n",
       "      <td>3819.92</td>\n",
       "      <td>0.000000</td>\n",
       "    </tr>\n",
       "    <tr>\n",
       "      <th>3679649</th>\n",
       "      <td>1546216200</td>\n",
       "      <td>3816.89</td>\n",
       "      <td>3816.89</td>\n",
       "      <td>3816.89</td>\n",
       "      <td>3816.89</td>\n",
       "      <td>0.416601</td>\n",
       "    </tr>\n",
       "    <tr>\n",
       "      <th>3679664</th>\n",
       "      <td>1546217100</td>\n",
       "      <td>3827.30</td>\n",
       "      <td>3827.30</td>\n",
       "      <td>3823.50</td>\n",
       "      <td>3824.20</td>\n",
       "      <td>7.574298</td>\n",
       "    </tr>\n",
       "    <tr>\n",
       "      <th>3679679</th>\n",
       "      <td>1546218000</td>\n",
       "      <td>3808.66</td>\n",
       "      <td>3808.66</td>\n",
       "      <td>3805.97</td>\n",
       "      <td>3805.97</td>\n",
       "      <td>0.283735</td>\n",
       "    </tr>\n",
       "  </tbody>\n",
       "</table>\n",
       "</div>"
      ]
     },
     "execution_count": 5,
     "metadata": {},
     "output_type": "execute_result"
    }
   ],
   "execution_count": 5
  },
  {
   "metadata": {
    "ExecuteTime": {
     "end_time": "2024-12-04T10:12:09.499399Z",
     "start_time": "2024-12-04T10:12:09.491924Z"
    }
   },
   "cell_type": "code",
   "source": "data = data.drop(columns=['Volume', 'High', 'Low', 'Close'])",
   "id": "ae283fc111cd436d",
   "outputs": [],
   "execution_count": 6
  },
  {
   "metadata": {
    "ExecuteTime": {
     "end_time": "2024-12-04T10:12:09.559222Z",
     "start_time": "2024-12-04T10:12:09.544966Z"
    }
   },
   "cell_type": "code",
   "source": [
    "data['Open_shifted'] = data['Open'].shift(-2)\n",
    "\n",
    "# Calculate the percentage change\n",
    "data['Open_pct_change'] = ((data['Open_shifted'] - data['Open']) / data['Open']) * 100\n",
    "data.head()"
   ],
   "id": "bb6ce5a77a6ba5f5",
   "outputs": [
    {
     "data": {
      "text/plain": [
       "          Timestamp     Open  Open_shifted  Open_pct_change\n",
       "3679619  1546214400  3811.45       3816.89         0.142728\n",
       "3679634  1546215300  3819.92       3827.30         0.193198\n",
       "3679649  1546216200  3816.89       3808.66        -0.215621\n",
       "3679664  1546217100  3827.30       3809.77        -0.458025\n",
       "3679679  1546218000  3808.66       3815.83         0.188255"
      ],
      "text/html": [
       "<div>\n",
       "<style scoped>\n",
       "    .dataframe tbody tr th:only-of-type {\n",
       "        vertical-align: middle;\n",
       "    }\n",
       "\n",
       "    .dataframe tbody tr th {\n",
       "        vertical-align: top;\n",
       "    }\n",
       "\n",
       "    .dataframe thead th {\n",
       "        text-align: right;\n",
       "    }\n",
       "</style>\n",
       "<table border=\"1\" class=\"dataframe\">\n",
       "  <thead>\n",
       "    <tr style=\"text-align: right;\">\n",
       "      <th></th>\n",
       "      <th>Timestamp</th>\n",
       "      <th>Open</th>\n",
       "      <th>Open_shifted</th>\n",
       "      <th>Open_pct_change</th>\n",
       "    </tr>\n",
       "  </thead>\n",
       "  <tbody>\n",
       "    <tr>\n",
       "      <th>3679619</th>\n",
       "      <td>1546214400</td>\n",
       "      <td>3811.45</td>\n",
       "      <td>3816.89</td>\n",
       "      <td>0.142728</td>\n",
       "    </tr>\n",
       "    <tr>\n",
       "      <th>3679634</th>\n",
       "      <td>1546215300</td>\n",
       "      <td>3819.92</td>\n",
       "      <td>3827.30</td>\n",
       "      <td>0.193198</td>\n",
       "    </tr>\n",
       "    <tr>\n",
       "      <th>3679649</th>\n",
       "      <td>1546216200</td>\n",
       "      <td>3816.89</td>\n",
       "      <td>3808.66</td>\n",
       "      <td>-0.215621</td>\n",
       "    </tr>\n",
       "    <tr>\n",
       "      <th>3679664</th>\n",
       "      <td>1546217100</td>\n",
       "      <td>3827.30</td>\n",
       "      <td>3809.77</td>\n",
       "      <td>-0.458025</td>\n",
       "    </tr>\n",
       "    <tr>\n",
       "      <th>3679679</th>\n",
       "      <td>1546218000</td>\n",
       "      <td>3808.66</td>\n",
       "      <td>3815.83</td>\n",
       "      <td>0.188255</td>\n",
       "    </tr>\n",
       "  </tbody>\n",
       "</table>\n",
       "</div>"
      ]
     },
     "execution_count": 7,
     "metadata": {},
     "output_type": "execute_result"
    }
   ],
   "execution_count": 7
  },
  {
   "metadata": {
    "ExecuteTime": {
     "end_time": "2024-12-04T10:12:09.629706Z",
     "start_time": "2024-12-04T10:12:09.615521Z"
    }
   },
   "cell_type": "code",
   "source": [
    "data = data.drop(columns=['Open', 'Open_shifted'])\n",
    "\n",
    "timeStamp1 = pd.Timestamp('2019-01-01').value // 10**9\n",
    "timeStamp2 = pd.Timestamp('2024-01-01 00:00:00').value // 10**9\n",
    "\n",
    "data = data[(data['Timestamp'] >= timeStamp1) & (data['Timestamp'] < timeStamp2)]\n",
    "data.head()"
   ],
   "id": "5ac7474abc296430",
   "outputs": [
    {
     "data": {
      "text/plain": [
       "          Timestamp  Open_pct_change\n",
       "3681059  1546300800        -0.226363\n",
       "3681074  1546301700        -2.578560\n",
       "3681089  1546302600        -1.509301\n",
       "3681104  1546303500         0.781614\n",
       "3681119  1546304400        -0.291943"
      ],
      "text/html": [
       "<div>\n",
       "<style scoped>\n",
       "    .dataframe tbody tr th:only-of-type {\n",
       "        vertical-align: middle;\n",
       "    }\n",
       "\n",
       "    .dataframe tbody tr th {\n",
       "        vertical-align: top;\n",
       "    }\n",
       "\n",
       "    .dataframe thead th {\n",
       "        text-align: right;\n",
       "    }\n",
       "</style>\n",
       "<table border=\"1\" class=\"dataframe\">\n",
       "  <thead>\n",
       "    <tr style=\"text-align: right;\">\n",
       "      <th></th>\n",
       "      <th>Timestamp</th>\n",
       "      <th>Open_pct_change</th>\n",
       "    </tr>\n",
       "  </thead>\n",
       "  <tbody>\n",
       "    <tr>\n",
       "      <th>3681059</th>\n",
       "      <td>1546300800</td>\n",
       "      <td>-0.226363</td>\n",
       "    </tr>\n",
       "    <tr>\n",
       "      <th>3681074</th>\n",
       "      <td>1546301700</td>\n",
       "      <td>-2.578560</td>\n",
       "    </tr>\n",
       "    <tr>\n",
       "      <th>3681089</th>\n",
       "      <td>1546302600</td>\n",
       "      <td>-1.509301</td>\n",
       "    </tr>\n",
       "    <tr>\n",
       "      <th>3681104</th>\n",
       "      <td>1546303500</td>\n",
       "      <td>0.781614</td>\n",
       "    </tr>\n",
       "    <tr>\n",
       "      <th>3681119</th>\n",
       "      <td>1546304400</td>\n",
       "      <td>-0.291943</td>\n",
       "    </tr>\n",
       "  </tbody>\n",
       "</table>\n",
       "</div>"
      ]
     },
     "execution_count": 8,
     "metadata": {},
     "output_type": "execute_result"
    }
   ],
   "execution_count": 8
  },
  {
   "metadata": {
    "ExecuteTime": {
     "end_time": "2024-12-04T10:12:09.950230Z",
     "start_time": "2024-12-04T10:12:09.913250Z"
    }
   },
   "cell_type": "code",
   "source": [
    "data['Datetime'] = pd.to_datetime(data['Timestamp'], unit='s')\n",
    "data.set_index('Datetime', inplace=True)\n",
    "data = data.asfreq('15min')\n",
    "data.head()"
   ],
   "id": "c5e4674e5986b7a3",
   "outputs": [
    {
     "data": {
      "text/plain": [
       "                        Timestamp  Open_pct_change\n",
       "Datetime                                          \n",
       "2019-01-01 00:00:00  1.546301e+09        -0.226363\n",
       "2019-01-01 00:15:00  1.546302e+09        -2.578560\n",
       "2019-01-01 00:30:00  1.546303e+09        -1.509301\n",
       "2019-01-01 00:45:00  1.546304e+09         0.781614\n",
       "2019-01-01 01:00:00  1.546304e+09        -0.291943"
      ],
      "text/html": [
       "<div>\n",
       "<style scoped>\n",
       "    .dataframe tbody tr th:only-of-type {\n",
       "        vertical-align: middle;\n",
       "    }\n",
       "\n",
       "    .dataframe tbody tr th {\n",
       "        vertical-align: top;\n",
       "    }\n",
       "\n",
       "    .dataframe thead th {\n",
       "        text-align: right;\n",
       "    }\n",
       "</style>\n",
       "<table border=\"1\" class=\"dataframe\">\n",
       "  <thead>\n",
       "    <tr style=\"text-align: right;\">\n",
       "      <th></th>\n",
       "      <th>Timestamp</th>\n",
       "      <th>Open_pct_change</th>\n",
       "    </tr>\n",
       "    <tr>\n",
       "      <th>Datetime</th>\n",
       "      <th></th>\n",
       "      <th></th>\n",
       "    </tr>\n",
       "  </thead>\n",
       "  <tbody>\n",
       "    <tr>\n",
       "      <th>2019-01-01 00:00:00</th>\n",
       "      <td>1.546301e+09</td>\n",
       "      <td>-0.226363</td>\n",
       "    </tr>\n",
       "    <tr>\n",
       "      <th>2019-01-01 00:15:00</th>\n",
       "      <td>1.546302e+09</td>\n",
       "      <td>-2.578560</td>\n",
       "    </tr>\n",
       "    <tr>\n",
       "      <th>2019-01-01 00:30:00</th>\n",
       "      <td>1.546303e+09</td>\n",
       "      <td>-1.509301</td>\n",
       "    </tr>\n",
       "    <tr>\n",
       "      <th>2019-01-01 00:45:00</th>\n",
       "      <td>1.546304e+09</td>\n",
       "      <td>0.781614</td>\n",
       "    </tr>\n",
       "    <tr>\n",
       "      <th>2019-01-01 01:00:00</th>\n",
       "      <td>1.546304e+09</td>\n",
       "      <td>-0.291943</td>\n",
       "    </tr>\n",
       "  </tbody>\n",
       "</table>\n",
       "</div>"
      ]
     },
     "execution_count": 9,
     "metadata": {},
     "output_type": "execute_result"
    }
   ],
   "execution_count": 9
  },
  {
   "metadata": {
    "ExecuteTime": {
     "end_time": "2024-12-04T10:12:10.083852Z",
     "start_time": "2024-12-04T10:12:10.074619Z"
    }
   },
   "cell_type": "code",
   "source": [
    "# drop all rows that have nan and convert timestamp back to int64\n",
    "data.dropna(inplace=True)\n",
    "data['Timestamp'] = data['Timestamp'].astype('int64')"
   ],
   "id": "7be881ad64535729",
   "outputs": [],
   "execution_count": 10
  },
  {
   "metadata": {
    "ExecuteTime": {
     "end_time": "2024-12-04T10:12:10.259762Z",
     "start_time": "2024-12-04T10:12:10.255735Z"
    }
   },
   "cell_type": "code",
   "source": [
    "from datetime import datetime, timezone\n",
    "\n",
    "date_time = datetime.fromtimestamp(data['Timestamp'].iloc[0], tz=timezone.utc)\n",
    "date_time = datetime.fromtimestamp(data['Timestamp'].iloc[1], tz=timezone.utc)\n",
    "date_time = datetime.fromtimestamp(data['Timestamp'].max(), tz=timezone.utc)\n"
   ],
   "id": "4add4b40604d031",
   "outputs": [],
   "execution_count": 11
  },
  {
   "metadata": {
    "ExecuteTime": {
     "end_time": "2024-12-04T10:12:10.477671Z",
     "start_time": "2024-12-04T10:12:10.399031Z"
    }
   },
   "cell_type": "code",
   "source": "data.to_parquet(\"../cache/btc_cleaned.parquet\")",
   "id": "dc720668f566ee97",
   "outputs": [],
   "execution_count": 12
  }
 ],
 "metadata": {
  "kernelspec": {
   "display_name": "Python 3",
   "language": "python",
   "name": "python3"
  },
  "language_info": {
   "codemirror_mode": {
    "name": "ipython",
    "version": 2
   },
   "file_extension": ".py",
   "mimetype": "text/x-python",
   "name": "python",
   "nbconvert_exporter": "python",
   "pygments_lexer": "ipython2",
   "version": "2.7.6"
  }
 },
 "nbformat": 4,
 "nbformat_minor": 5
}
