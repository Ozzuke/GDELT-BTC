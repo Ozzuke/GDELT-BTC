{
 "cells": [
  {
   "metadata": {
    "ExecuteTime": {
     "end_time": "2024-12-03T20:58:10.075655Z",
     "start_time": "2024-12-03T20:58:09.354694Z"
    }
   },
   "cell_type": "code",
   "source": [
    "import pandas as pd\n",
    "\n",
    "data = pd.read_parquet('../cache/btc.parquet')\n",
    "data.head()"
   ],
   "id": "286a4a7b11086882",
   "outputs": [
    {
     "data": {
      "text/plain": [
       "      Timestamp  Open  High   Low  Close  Volume\n",
       "0  1.325412e+09  4.58  4.58  4.58   4.58     0.0\n",
       "1  1.325412e+09  4.58  4.58  4.58   4.58     0.0\n",
       "2  1.325412e+09  4.58  4.58  4.58   4.58     0.0\n",
       "3  1.325412e+09  4.58  4.58  4.58   4.58     0.0\n",
       "4  1.325412e+09  4.58  4.58  4.58   4.58     0.0"
      ],
      "text/html": [
       "<div>\n",
       "<style scoped>\n",
       "    .dataframe tbody tr th:only-of-type {\n",
       "        vertical-align: middle;\n",
       "    }\n",
       "\n",
       "    .dataframe tbody tr th {\n",
       "        vertical-align: top;\n",
       "    }\n",
       "\n",
       "    .dataframe thead th {\n",
       "        text-align: right;\n",
       "    }\n",
       "</style>\n",
       "<table border=\"1\" class=\"dataframe\">\n",
       "  <thead>\n",
       "    <tr style=\"text-align: right;\">\n",
       "      <th></th>\n",
       "      <th>Timestamp</th>\n",
       "      <th>Open</th>\n",
       "      <th>High</th>\n",
       "      <th>Low</th>\n",
       "      <th>Close</th>\n",
       "      <th>Volume</th>\n",
       "    </tr>\n",
       "  </thead>\n",
       "  <tbody>\n",
       "    <tr>\n",
       "      <th>0</th>\n",
       "      <td>1.325412e+09</td>\n",
       "      <td>4.58</td>\n",
       "      <td>4.58</td>\n",
       "      <td>4.58</td>\n",
       "      <td>4.58</td>\n",
       "      <td>0.0</td>\n",
       "    </tr>\n",
       "    <tr>\n",
       "      <th>1</th>\n",
       "      <td>1.325412e+09</td>\n",
       "      <td>4.58</td>\n",
       "      <td>4.58</td>\n",
       "      <td>4.58</td>\n",
       "      <td>4.58</td>\n",
       "      <td>0.0</td>\n",
       "    </tr>\n",
       "    <tr>\n",
       "      <th>2</th>\n",
       "      <td>1.325412e+09</td>\n",
       "      <td>4.58</td>\n",
       "      <td>4.58</td>\n",
       "      <td>4.58</td>\n",
       "      <td>4.58</td>\n",
       "      <td>0.0</td>\n",
       "    </tr>\n",
       "    <tr>\n",
       "      <th>3</th>\n",
       "      <td>1.325412e+09</td>\n",
       "      <td>4.58</td>\n",
       "      <td>4.58</td>\n",
       "      <td>4.58</td>\n",
       "      <td>4.58</td>\n",
       "      <td>0.0</td>\n",
       "    </tr>\n",
       "    <tr>\n",
       "      <th>4</th>\n",
       "      <td>1.325412e+09</td>\n",
       "      <td>4.58</td>\n",
       "      <td>4.58</td>\n",
       "      <td>4.58</td>\n",
       "      <td>4.58</td>\n",
       "      <td>0.0</td>\n",
       "    </tr>\n",
       "  </tbody>\n",
       "</table>\n",
       "</div>"
      ]
     },
     "execution_count": 1,
     "metadata": {},
     "output_type": "execute_result"
    }
   ],
   "execution_count": 1
  },
  {
   "metadata": {
    "ExecuteTime": {
     "end_time": "2024-12-03T20:58:10.124588Z",
     "start_time": "2024-12-03T20:58:10.120500Z"
    }
   },
   "cell_type": "code",
   "source": "data.columns",
   "id": "b9af2ef3e2b7a0b7",
   "outputs": [
    {
     "data": {
      "text/plain": [
       "Index(['Timestamp', 'Open', 'High', 'Low', 'Close', 'Volume'], dtype='object')"
      ]
     },
     "execution_count": 2,
     "metadata": {},
     "output_type": "execute_result"
    }
   ],
   "execution_count": 2
  },
  {
   "metadata": {
    "ExecuteTime": {
     "end_time": "2024-12-03T20:58:10.366753Z",
     "start_time": "2024-12-03T20:58:10.167628Z"
    }
   },
   "cell_type": "code",
   "source": [
    "# drop NaN values\n",
    "data.dropna(inplace=True)"
   ],
   "id": "fa8cd84c90963b40",
   "outputs": [],
   "execution_count": 3
  },
  {
   "metadata": {
    "ExecuteTime": {
     "end_time": "2024-12-03T20:58:10.565364Z",
     "start_time": "2024-12-03T20:58:10.401241Z"
    }
   },
   "cell_type": "code",
   "source": [
    "from datetime import datetime\n",
    "\n",
    "data['timestamp'] = data['Timestamp'].astype('int64') // 10**9\n",
    "\n",
    "# get data from ranges 2019-01-01 to 2023-12-31\n",
    "timeStamp1 = pd.Timestamp('2019-01-01').value // 10**9\n",
    "timeStamp2 = pd.Timestamp('2024-01-01').value // 10**9\n",
    "\n",
    "data_ranged = data[(data['Timestamp'] >= timeStamp1) & (data['Timestamp'] <= timeStamp2)]\n",
    "data_ranged.head()"
   ],
   "id": "38353df43cf0e698",
   "outputs": [
    {
     "data": {
      "text/plain": [
       "            Timestamp     Open     High      Low    Close    Volume  timestamp\n",
       "3681059  1.546301e+09  3750.62  3752.01  3750.62  3752.01  1.243647          1\n",
       "3681060  1.546301e+09  3752.01  3752.01  3752.01  3752.01  0.000000          1\n",
       "3681061  1.546301e+09  3752.01  3752.01  3752.01  3752.01  0.000000          1\n",
       "3681062  1.546301e+09  3752.01  3752.01  3752.01  3752.01  0.000000          1\n",
       "3681063  1.546301e+09  3750.31  3750.31  3750.31  3750.31  0.359107          1"
      ],
      "text/html": [
       "<div>\n",
       "<style scoped>\n",
       "    .dataframe tbody tr th:only-of-type {\n",
       "        vertical-align: middle;\n",
       "    }\n",
       "\n",
       "    .dataframe tbody tr th {\n",
       "        vertical-align: top;\n",
       "    }\n",
       "\n",
       "    .dataframe thead th {\n",
       "        text-align: right;\n",
       "    }\n",
       "</style>\n",
       "<table border=\"1\" class=\"dataframe\">\n",
       "  <thead>\n",
       "    <tr style=\"text-align: right;\">\n",
       "      <th></th>\n",
       "      <th>Timestamp</th>\n",
       "      <th>Open</th>\n",
       "      <th>High</th>\n",
       "      <th>Low</th>\n",
       "      <th>Close</th>\n",
       "      <th>Volume</th>\n",
       "      <th>timestamp</th>\n",
       "    </tr>\n",
       "  </thead>\n",
       "  <tbody>\n",
       "    <tr>\n",
       "      <th>3681059</th>\n",
       "      <td>1.546301e+09</td>\n",
       "      <td>3750.62</td>\n",
       "      <td>3752.01</td>\n",
       "      <td>3750.62</td>\n",
       "      <td>3752.01</td>\n",
       "      <td>1.243647</td>\n",
       "      <td>1</td>\n",
       "    </tr>\n",
       "    <tr>\n",
       "      <th>3681060</th>\n",
       "      <td>1.546301e+09</td>\n",
       "      <td>3752.01</td>\n",
       "      <td>3752.01</td>\n",
       "      <td>3752.01</td>\n",
       "      <td>3752.01</td>\n",
       "      <td>0.000000</td>\n",
       "      <td>1</td>\n",
       "    </tr>\n",
       "    <tr>\n",
       "      <th>3681061</th>\n",
       "      <td>1.546301e+09</td>\n",
       "      <td>3752.01</td>\n",
       "      <td>3752.01</td>\n",
       "      <td>3752.01</td>\n",
       "      <td>3752.01</td>\n",
       "      <td>0.000000</td>\n",
       "      <td>1</td>\n",
       "    </tr>\n",
       "    <tr>\n",
       "      <th>3681062</th>\n",
       "      <td>1.546301e+09</td>\n",
       "      <td>3752.01</td>\n",
       "      <td>3752.01</td>\n",
       "      <td>3752.01</td>\n",
       "      <td>3752.01</td>\n",
       "      <td>0.000000</td>\n",
       "      <td>1</td>\n",
       "    </tr>\n",
       "    <tr>\n",
       "      <th>3681063</th>\n",
       "      <td>1.546301e+09</td>\n",
       "      <td>3750.31</td>\n",
       "      <td>3750.31</td>\n",
       "      <td>3750.31</td>\n",
       "      <td>3750.31</td>\n",
       "      <td>0.359107</td>\n",
       "      <td>1</td>\n",
       "    </tr>\n",
       "  </tbody>\n",
       "</table>\n",
       "</div>"
      ]
     },
     "execution_count": 4,
     "metadata": {},
     "output_type": "execute_result"
    }
   ],
   "execution_count": 4
  }
 ],
 "metadata": {
  "kernelspec": {
   "display_name": "Python 3",
   "language": "python",
   "name": "python3"
  },
  "language_info": {
   "codemirror_mode": {
    "name": "ipython",
    "version": 2
   },
   "file_extension": ".py",
   "mimetype": "text/x-python",
   "name": "python",
   "nbconvert_exporter": "python",
   "pygments_lexer": "ipython2",
   "version": "2.7.6"
  }
 },
 "nbformat": 4,
 "nbformat_minor": 5
}
