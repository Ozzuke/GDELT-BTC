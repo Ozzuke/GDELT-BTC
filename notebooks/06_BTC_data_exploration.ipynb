{
 "cells": [
  {
   "cell_type": "code",
   "id": "initial_id",
   "metadata": {
    "collapsed": true
   },
   "source": [
    "import pandas as pd\n",
    "import matplotlib.pyplot as plt\n",
    "import seaborn as sns\n",
    "\n",
    "btc = pd.read_parquet('../cache/btc.parquet')\n",
    "btc_cleaned = pd.read_parquet('../cache/btc_cleaned.parquet')\n",
    "btc_cleaned.head()"
   ],
   "outputs": [],
   "execution_count": null
  },
  {
   "metadata": {},
   "cell_type": "code",
   "source": "btc_cleaned.head()",
   "id": "d8f2fb5f8a4937b9",
   "outputs": [],
   "execution_count": null
  },
  {
   "metadata": {},
   "cell_type": "code",
   "source": [
    "plt.figure(figsize=(10, 6))\n",
    "sns.lineplot(x = btc_cleaned.index, y='pct_change_30min', data=btc_cleaned)\n",
    "plt.title('BTC price percentage change over time')\n",
    "plt.tight_layout()\n",
    "plt.xlabel('Datetime')\n",
    "plt.ylabel('Price Percentage Change')\n",
    "plt.show()\n"
   ],
   "id": "9f15e4cd00d0a167",
   "outputs": [],
   "execution_count": null
  },
  {
   "metadata": {},
   "cell_type": "code",
   "source": [
    "# plot the histogram of the percentage change\n",
    "plt.figure(figsize=(10, 6))\n",
    "sns.histplot(btc_cleaned['pct_change_24h'], kde=True)\n",
    "plt.title('BTC price change frequency over 24 hours')\n",
    "plt.tight_layout()\n",
    "plt.xlabel('Price Percentage Change')\n",
    "plt.ylabel(None)\n",
    "\n",
    "plt.xlim(-15, 15)\n",
    "plt.show()\n"
   ],
   "id": "f4dc095f5e2fd785",
   "outputs": [],
   "execution_count": null
  },
  {
   "metadata": {},
   "cell_type": "code",
   "source": [
    "from statsmodels.tsa.seasonal import seasonal_decompose\n",
    "period = 15\n",
    "\n",
    "decomposition = seasonal_decompose(btc_cleaned['pct_change_15min'], model='additive', period=period)\n",
    "decomposition.plot()\n",
    "plt.show()\n"
   ],
   "id": "d7a826b4080173a6",
   "outputs": [],
   "execution_count": null
  }
 ],
 "metadata": {
  "kernelspec": {
   "display_name": "Python 3",
   "language": "python",
   "name": "python3"
  },
  "language_info": {
   "codemirror_mode": {
    "name": "ipython",
    "version": 2
   },
   "file_extension": ".py",
   "mimetype": "text/x-python",
   "name": "python",
   "nbconvert_exporter": "python",
   "pygments_lexer": "ipython2",
   "version": "2.7.6"
  }
 },
 "nbformat": 4,
 "nbformat_minor": 5
}
